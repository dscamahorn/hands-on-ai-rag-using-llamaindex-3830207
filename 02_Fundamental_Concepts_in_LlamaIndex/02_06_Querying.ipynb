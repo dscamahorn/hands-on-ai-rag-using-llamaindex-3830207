{
 "cells": [
  {
   "cell_type": "code",
   "execution_count": 48,
   "metadata": {},
   "outputs": [],
   "source": [
    "%%capture\n",
    "%pip install llama-index cohere llama-index-llms-cohere qdrant-client llama-index-vector-stores-qdrant llama-index-embeddings-cohere llama-embeddings-cohere "
   ]
  },
  {
   "cell_type": "code",
   "execution_count": 49,
   "metadata": {},
   "outputs": [
    {
     "data": {
      "text/plain": [
       "True"
      ]
     },
     "execution_count": 49,
     "metadata": {},
     "output_type": "execute_result"
    }
   ],
   "source": [
    "import os\n",
    "\n",
    "from getpass import getpass\n",
    "import nest_asyncio\n",
    "\n",
    "from dotenv import load_dotenv\n",
    "\n",
    "nest_asyncio.apply()\n",
    "\n",
    "load_dotenv()"
   ]
  },
  {
   "cell_type": "code",
   "execution_count": 50,
   "metadata": {},
   "outputs": [],
   "source": [
    "CO_API_KEY = os.environ['CO_API_KEY'] or getpass(\"Enter your Cohere API key: \")"
   ]
  },
  {
   "cell_type": "code",
   "execution_count": 3,
   "metadata": {},
   "outputs": [],
   "source": [
    "OPENAI_API_KEY = os.environ['OPENAI_API_KEY'] or getpass(\"Enter your OpenAI API key: \")"
   ]
  },
  {
   "cell_type": "code",
   "execution_count": 51,
   "metadata": {},
   "outputs": [],
   "source": [
    "QDRANT_URL = os.environ['QDRANT_URL'] or getpass(\"Enter your Qdrant URL:\")"
   ]
  },
  {
   "cell_type": "code",
   "execution_count": 52,
   "metadata": {},
   "outputs": [],
   "source": [
    "QDRANT_API_KEY = os.environ['QDRANT_API_KEY'] or  getpass(\"Enter your Qdrant API Key:\")"
   ]
  },
  {
   "cell_type": "markdown",
   "metadata": {},
   "source": [
    "# Querying\n",
    "\n",
    "- 📊 Now that you've loaded your data and built an index, it's time to focus on the core of an LLM application: querying.\n",
    "\n",
    "- 🤖 Querying at its simplest involves making a prompt call to an LLM - this could be asking a question, requesting a summary, or giving more complex instructions.\n",
    "\n",
    "- 🔗 For more advanced uses, querying can include repeated or chained prompt calls to an LLM, or even a reasoning loop across multiple components.\n",
    "\n",
    "Let's first instantiate the `qdrant` vector store."
   ]
  },
  {
   "cell_type": "code",
   "execution_count": 53,
   "metadata": {},
   "outputs": [],
   "source": [
    "import qdrant_client\n",
    "from llama_index.embeddings.cohere import CohereEmbedding\n",
    "from llama_index.core import VectorStoreIndex\n",
    "from llama_index.vector_stores.qdrant import QdrantVectorStore\n",
    "from llama_index.core import StorageContext\n",
    "\n",
    "embed_model = CohereEmbedding(model_name=\"embed-english-v3.0\", api_key=CO_API_KEY)\n",
    "\n",
    "# initialize qdrant client\n",
    "client = qdrant_client.QdrantClient(\n",
    "    url=QDRANT_URL, \n",
    "    api_key=QDRANT_API_KEY,\n",
    ")\n",
    "\n",
    "vector_store = QdrantVectorStore(\n",
    "    client=client, \n",
    "    collection_name=\"it_can_be_done\",\n",
    "    embed_model=embed_model,\n",
    ")\n",
    "\n",
    "# assign qdrant vector store to storage context\n",
    "storage_context = StorageContext.from_defaults(\n",
    "    vector_store=vector_store,\n",
    "    )\n",
    "\n",
    "# load your index from stored vectors\n",
    "index = VectorStoreIndex.from_vector_store(\n",
    "    vector_store=vector_store, \n",
    "    embed_model=embed_model,\n",
    "    storage_context=storage_context\n",
    ")"
   ]
  },
  {
   "cell_type": "markdown",
   "metadata": {},
   "source": [
    "# 🧐 The `QueryEngine`\n",
    "\n",
    "A Query Engine is a higher-level construct that uses an `Index` (and by extension, a `Retriever`) to answer queries. \n",
    "\n",
    "It not only retrieves the relevant data but also processes it to generate a response to the query. A `Query Engine` uses the `Retriever` to fetch data and then applies additional logic to generate a response.\n",
    "\n",
    "Here's what happens under the hood:\n",
    "\n",
    "- 📚 **Retrieval**: Find and return the most relevant documents from the `Index` using strategies like \"top-k\" semantic retrieval.\n",
    "\n",
    "- 🔧 **Postprocessing**: Optionally rerank, transform, or filter retrieved Nodes, often based on specific metadata like keywords.\n",
    "\n",
    "- 🔄 **Response Synthesis**: Combine the query, relevant data, and prompt to generate a response from your LLM.\n",
    "\n",
    "Note, there are [a wide variety of Query Engines](https://github.com/run-llama/llama_index/tree/main/llama-index-core/llama_index/core/query_engine) available in LlamaIndex. We won't touch on all of them in this course, but I encourage you to explore what's available and think of how you may be able to use them.\n"
   ]
  },
  {
   "cell_type": "code",
   "execution_count": 54,
   "metadata": {},
   "outputs": [
    {
     "name": "stdout",
     "output_type": "stream",
     "text": [
      "Sorry, I can't find any information about what the Sikh Stoics believe. Can I help you with anything else?"
     ]
    }
   ],
   "source": [
    "from llama_index.llms.cohere import Cohere\n",
    "\n",
    "llm = Cohere(model=\"command-r-plus\")\n",
    "\n",
    "query_engine = index.as_query_engine(llm=llm, streaming=True)\n",
    "\n",
    "response = query_engine.query(\n",
    "    \"What do the Sikh Stoics believe?\"\n",
    ")\n",
    "\n",
    "response.print_response_stream()"
   ]
  },
  {
   "cell_type": "code",
   "execution_count": 55,
   "metadata": {},
   "outputs": [
    {
     "data": {
      "text/plain": [
       "[NodeWithScore(node=TextNode(id_='ca7baae7-a5e2-4224-9652-70952aa50420', embedding=None, metadata={'file_path': 'data/pg10763.txt', 'file_name': 'pg10763.txt', 'file_type': 'text/plain', 'file_size': 405245, 'creation_date': '2025-02-02', 'last_modified_date': '2024-11-05'}, excluded_embed_metadata_keys=['file_name', 'file_type', 'file_size', 'creation_date', 'last_modified_date', 'last_accessed_date'], excluded_llm_metadata_keys=['file_name', 'file_type', 'file_size', 'creation_date', 'last_modified_date', 'last_accessed_date'], relationships={<NodeRelationship.SOURCE: '1'>: RelatedNodeInfo(node_id='data/pg10763.txt', node_type=<ObjectType.DOCUMENT: '4'>, metadata={'file_path': 'data/pg10763.txt', 'file_name': 'pg10763.txt', 'file_type': 'text/plain', 'file_size': 405245, 'creation_date': '2025-02-02', 'last_modified_date': '2024-11-05'}, hash='93e80932f07110c8fe40fd1a3374e81875340ac883d5571fa0d5c944e5ecb362'), <NodeRelationship.PREVIOUS: '2'>: RelatedNodeInfo(node_id='d9de82da-847f-47e1-b23c-53eab8db5db0', node_type=<ObjectType.TEXT: '1'>, metadata={'file_path': 'data/pg10763.txt', 'file_name': 'pg10763.txt', 'file_type': 'text/plain', 'file_size': 405245, 'creation_date': '2025-02-02', 'last_modified_date': '2024-11-05'}, hash='6b3e87ce93e75c36a6cb44ebfba1229cffa6b6a9c1ac63d9814df8fb6960e74f'), <NodeRelationship.NEXT: '3'>: RelatedNodeInfo(node_id='551caa05-4275-4d0b-a6ea-ac3cd0139609', node_type=<ObjectType.TEXT: '1'>, metadata={}, hash='858b98a2515d54c2ed846be07b8db2f750aad5a87956f97ee376926875550d58')}, text='We should not\\r\\ncondemn men in ignorance. As old as Aesop is the fable of the rebellion\\r\\nof the other members of the body against the idle unproductiveness of\\r\\nthe belly. In this passage the fable is used as an answer to the\\r\\nplebeians of Rome who have complained that the patricians are merely an\\r\\nencumbrance.\\r\\n\\r\\n\\r\\n  There was a time when all the body\\'s members\\r\\n  Rebelled against the belly; thus accused it:\\r\\n  That only like a gulf it did remain\\r\\n  I\\' the midst o\\' the body, idle and unactive,\\r\\n  Still cupboarding the viand, never bearing\\r\\n  Like labor with the rest, where the other instruments\\r\\n  Did see and hear, devise, instruct, walk, feel,\\r\\n  And, mutually participant, did minister\\r\\n  Unto the appetite and affection common\\r\\n  Of the whole body. Note me this, good friend;\\r\\n  Your most grave belly was deliberate,\\r\\n  Not rash like his accusers, and thus answered:\\r\\n  \"True is it, my incorporate friends,\" quoth he,\\r\\n  \"That I receive the general food at first,\\r\\n  Which you do live upon; and fit it is;\\r\\n  Because I am the store-house and the shop\\r\\n  Of the whole body: but, if you do remember,\\r\\n  I send it through the rivers of your blood,\\r\\n  Even to the court, the heart, to the seat o\\' the brain:\\r\\n  And, through the cranks and offices of man,\\r\\n  The strongest nerves and small inferior veins\\r\\n  From me receive that natural competency\\r\\n  Whereby they live. Though all at once cannot\\r\\n  See what I do deliver out to each,\\r\\n  Yet I can make my audit up, that all\\r\\n  From me do back receive the flour of all,\\r\\n  And leave me but the bran.\" What say you to \\'t?\\r\\n\\r\\n\\r\\n_William Shakespeare._\\r\\n\\r\\n\\r\\n\\r\\n\\r\\nTHE CELESTIAL SURGEON\\r\\n\\r\\n\\r\\nWe may acquire the resolution to be happy by resting on a bed of roses.\\r\\nIf that fails us, we should try a bed of nettles.\\r\\n\\r\\n\\r\\n  If I have faltered more or less\\r\\n  In my great task of happiness;\\r\\n  If I have moved among my race\\r\\n  And shown no glorious morning face;\\r\\n  If beams from happy human eyes\\r\\n  Have moved me not; if morning skies,\\r\\n  Books, and my food, and summer rain\\r\\n  Knocked on my sullen heart in vain:--\\r\\n  Lord, thy most pointed pleasure take\\r\\n  And stab my spirit broad awake;\\r\\n  Or, Lord, if too obdurate I,\\r\\n  Choose thou, before that spirit die,\\r\\n  A piercing pain, a killing sin,\\r\\n  And to my dead heart run them in!\\r\\n\\r\\n\\r\\n_Robert Louis Stevenson._\\r\\n\\r\\n\\r\\n\\r\\n\\r\\nMAN, BIRD, AND GOD\\r\\n\\r\\n\\r\\nRobert Bruce, despairing of his country\\'s cause, was aroused to new hope\\r\\nand purpose by the sight of a spider casting its lines until at last it\\r\\nhad one that held. In the following passage the poet, uncertain as to\\r\\nhis own future, yet trusts the providence which guides the birds in\\r\\ntheir long and uncharted migrations.\\r\\n\\r\\n\\r\\n  I go to prove my soul!\\r\\n  I see my way as birds their trackless way.\\r\\n  I shall arrive! what time, what circuit first,\\r\\n  I ask not: but unless God send his hail\\r\\n  Or blinding fireballs, sleet or stifling snow,\\r\\n  In some time, his good time, I shall arrive:\\r\\n  He guides me and the bird. In his good time!\\r\\n\\r\\n\\r\\n_Robert Browning._\\r\\n\\r\\n\\r\\n\\r\\n\\r\\nHIS ALLY\\r\\n\\r\\n\\r\\nThe thought of this poem is that a man\\'s best helper may be that which\\r\\ngives him no direct aid at all--a sense of humor.\\r\\n\\r\\n\\r\\n  He fought for his soul, and the stubborn fighting\\r\\n    Tried hard his strength.\\r\\n  \"One needs seven souls for this long requiting,\"\\r\\n    He said at length.\\r\\n\\r\\n  \"Six times have I come where my first hope jeered me\\r\\n    And laughed me to scorn;\\r\\n  But now I fear as I never feared me\\r\\n    To fall forsworn.\\r\\n\\r\\n  \"God! when they fight upright and at me\\r\\n    I give them back\\r\\n  Even such blows as theirs that combat me;\\r\\n    But now, alack!\\r\\n\\r\\n  \"They fight with the wiles of fiends escaping\\r\\n    And underhand.\\r\\n  Six times, O God, and my wounds are gaping!\\r\\n    I--reel to stand.\\r\\n\\r\\n  \"Six battles\\' span! By this gasping breath\\r\\n    No pantomime.\\r\\n  Tis all that I can. I am sick unto death.\\r\\n    And--a seventh time?\\r\\n\\r\\n  \"This is beyond all battles\\' soreness!\"', mimetype='text/plain', start_char_idx=230669, end_char_idx=234590, text_template='{metadata_str}\\n\\n{content}', metadata_template='{key}: {value}', metadata_seperator='\\n'), score=0.33858532),\n",
       " NodeWithScore(node=TextNode(id_='f1f2f028-df54-4d72-afb4-74551b0ad19f', embedding=None, metadata={'file_path': 'data/pg10763.txt', 'file_name': 'pg10763.txt', 'file_type': 'text/plain', 'file_size': 405245, 'creation_date': '2025-02-02', 'last_modified_date': '2024-11-05'}, excluded_embed_metadata_keys=['file_name', 'file_type', 'file_size', 'creation_date', 'last_modified_date', 'last_accessed_date'], excluded_llm_metadata_keys=['file_name', 'file_type', 'file_size', 'creation_date', 'last_modified_date', 'last_accessed_date'], relationships={<NodeRelationship.SOURCE: '1'>: RelatedNodeInfo(node_id='data/pg10763.txt', node_type=<ObjectType.DOCUMENT: '4'>, metadata={'file_path': 'data/pg10763.txt', 'file_name': 'pg10763.txt', 'file_type': 'text/plain', 'file_size': 405245, 'creation_date': '2025-02-02', 'last_modified_date': '2024-11-05'}, hash='93e80932f07110c8fe40fd1a3374e81875340ac883d5571fa0d5c944e5ecb362'), <NodeRelationship.PREVIOUS: '2'>: RelatedNodeInfo(node_id='c8f8be26-7a61-430b-9fcc-26b966aa0a53', node_type=<ObjectType.TEXT: '1'>, metadata={'file_path': 'data/pg10763.txt', 'file_name': 'pg10763.txt', 'file_type': 'text/plain', 'file_size': 405245, 'creation_date': '2025-02-02', 'last_modified_date': '2024-11-05'}, hash='d0f0848597da3786a6d66a2ee8eef7821cfaa90767f6c3337bd9cac4321fb18c'), <NodeRelationship.NEXT: '3'>: RelatedNodeInfo(node_id='8b1f82b1-ba83-4e1e-a635-16dc53b9bc87', node_type=<ObjectType.TEXT: '1'>, metadata={}, hash='90d9293669e481b35fabbf9ff59887193bbc773534532753744626ebed71b2b7')}, text='_St. Clair Adams._\\r\\n\\r\\n\\r\\n\\r\\n\\r\\nPHILOSOPHY FOR CROAKERS\\r\\n\\r\\n\\r\\nMany people seem to get pleasure in seeing all the bad there is, and in\\r\\nmaking everything about them gloomy. They are like the old woman who on\\r\\nbeing asked how her health was, replied: \"Thank the Lord, I\\'m poorly.\"\\r\\n\\r\\n\\r\\n  Some folks git a heap o\\' pleasure\\r\\n    Out o\\' lookin\\' glum;\\r\\n  Hoard their cares like it was treasure--\\r\\n    Fear they won\\'t have some.\\r\\n  Wear black border on their spirit;\\r\\n    Hang their hopes with crape;\\r\\n  Future\\'s gloomy and they fear it,\\r\\n    Sure there\\'s no escape.\\r\\n\\r\\n        Now there ain\\'t no use of whining\\r\\n          Weightin\\' joy with lead;\\r\\n        There is silver in the linin\\'\\r\\n          Somewhere on ahead.\\r\\n\\r\\n  Can\\'t enjoy the sun to-day--\\r\\n    It may rain to-morrow;\\r\\n  When a pain won\\'t come their way,\\r\\n    Future pains they borrow.\\r\\n  If there\\'s good news to be heard,\\r\\n    Ears are stuffed with cotton;\\r\\n  Evils dire are oft inferred;\\r\\n    Good is all forgotten.\\r\\n\\r\\n        When upon a peel I stand,\\r\\n          Slippin\\' like a goner,\\r\\n        Luck, I trust, will shake my hand\\r\\n          Just around the corner.\\r\\n\\r\\n  Keep a scarecrow in the yard,\\r\\n    Fierce old bulldog near \\'em;\\r\\n  Chase off joy that\\'s tryin\\' hard\\r\\n    To come in an\\' cheer \\'em.\\r\\n  Wear their blinders big and strong,\\r\\n    Dodge each happy sight;\\r\\n  Like to keep their faces long;\\r\\n    Think the day is night.\\r\\n\\r\\n        Now I\\'ve had my share of trouble;\\r\\n          Back been bent with ill;\\r\\n        Big load makes the joy seem double\\r\\n          When I mount the hill.\\r\\n\\r\\n  Got the toothache in their soul;\\r\\n    Corns upon their feelin\\'s;\\r\\n  Get their share but want the whole,\\r\\n    Say it\\'s crooked dealings.\\r\\n  Natures steeped in indigo;\\r\\n    Got their joy-wires crossed;\\r\\n  Swear it\\'s only weeds that grow;\\r\\n    Flowers always lost.\\r\\n\\r\\n        Now it\\'s best to sing a song\\r\\n          \\'Stead o\\' sit and mourn;\\r\\n        Rose you\\'ll find grows right along\\r\\n          Bigger than the thorn.\\r\\n\\r\\n  Beat the frogs the way they croak;\\r\\n    See with goggles blue--\\r\\n  Universe is cracked or broke,\\r\\n    \\'Bout to split in two.\\r\\n  Think the world is full of sin,\\r\\n    Soon go up the spout;\\r\\n  Badness always movin\\' in,\\r\\n    Goodness movin\\' out.\\r\\n\\r\\n        But I\\'ve found folks good and kind,\\r\\n          \\'Cause I thought they would be;\\r\\n        Most men try, at least I find,\\r\\n          To be what they should be.\\r\\n\\r\\n\\r\\n_Joseph Morris._\\r\\n\\r\\n\\r\\n\\r\\n\\r\\nTHE FIGHTING FAILURE\\r\\n\\r\\n\\r\\n\"I\\'m not a rabid, preachy, pollyanna optimist. Neither am I a gloomy\\r\\ngrouch. I believe in a loving Divine Providence Who expects you to play\\r\\nthe Game to the limit, Who wants you to hold tight to His hand, and Who\\r\\ncompensates you for the material losses by giving you the ability to\\r\\nretain your sense of values, and keep your spiritual sand out of the\\r\\nbearings of your physical machine, if you\\'ll trust and--\\'Keep Sweet,\\r\\nKeep Cheerful, or else--Keep Still\\'\"--_Everard Jack Appleton_.\\r\\n\\r\\n\\r\\nHe has come the way of the fighting men, and fought by the rules of the\\r\\n          Game,\\r\\nAnd out of Life he has gathered--What? A living,--and little fame,\\r\\nEver and ever the Goal looms near,--seeming each time worth while;\\r\\nBut ever it proves a mirage fair--ever the grim gods smile.\\r\\nAnd so, with lips hard set and white, he buries the hope that is gone,--\\r\\nHis fight is lost--and he knows it is lost--and yet he is fighting on.\\r\\n\\r\\nOut of the smoke of the battle-line watching men win their way,\\r\\nAnd, cheering with those who cheer success, he enters again the fray,\\r\\nLicking the blood and the dust from his lips, wiping the sweat from his\\r\\n          eyes,\\r\\nHe does the work he is set to do--and \"therein honor lies.\"\\r\\nBrave they were, these men he cheered,--theirs is the winners\\' thrill;\\r\\n_His_ fight is lost--and he knows it is lost--and yet he is fighting still.\\r\\n\\r\\nAnd those who won have rest and peace; and those who died have more;\\r\\nBut, weary and spent, he can not stop seeking the ultimate score;\\r\\nCourage was theirs for a little time,--but what of the man who sees\\r\\nThat he must lose, yet will not beg mercy upon his knees?', mimetype='text/plain', start_char_idx=80378, end_char_idx=84444, text_template='{metadata_str}\\n\\n{content}', metadata_template='{key}: {value}', metadata_seperator='\\n'), score=0.33463597)]"
      ]
     },
     "execution_count": 55,
     "metadata": {},
     "output_type": "execute_result"
    }
   ],
   "source": [
    "response.source_nodes"
   ]
  },
  {
   "cell_type": "code",
   "execution_count": 56,
   "metadata": {},
   "outputs": [
    {
     "data": {
      "text/plain": [
       "'We should not\\r\\ncondemn men in ignorance. As old as Aesop is the fable of the rebellion\\r\\nof the other members of the body against the idle unproductiveness of\\r\\nthe belly. In this passage the fable is used as an answer to the\\r\\nplebeians of Rome who have complained that the patricians are merely an\\r\\nencumbrance.\\r\\n\\r\\n\\r\\n  There was a time when all the body\\'s members\\r\\n  Rebelled against the belly; thus accused it:\\r\\n  That only like a gulf it did remain\\r\\n  I\\' the midst o\\' the body, idle and unactive,\\r\\n  Still cupboarding the viand, never bearing\\r\\n  Like labor with the rest, where the other instruments\\r\\n  Did see and hear, devise, instruct, walk, feel,\\r\\n  And, mutually participant, did minister\\r\\n  Unto the appetite and affection common\\r\\n  Of the whole body. Note me this, good friend;\\r\\n  Your most grave belly was deliberate,\\r\\n  Not rash like his accusers, and thus answered:\\r\\n  \"True is it, my incorporate friends,\" quoth he,\\r\\n  \"That I receive the general food at first,\\r\\n  Which you do live upon; and fit it is;\\r\\n  Because I am the store-house and the shop\\r\\n  Of the whole body: but, if you do remember,\\r\\n  I send it through the rivers of your blood,\\r\\n  Even to the court, the heart, to the seat o\\' the brain:\\r\\n  And, through the cranks and offices of man,\\r\\n  The strongest nerves and small inferior veins\\r\\n  From me receive that natural competency\\r\\n  Whereby they live. Though all at once cannot\\r\\n  See what I do deliver out to each,\\r\\n  Yet I can make my audit up, that all\\r\\n  From me do back receive the flour of all,\\r\\n  And leave me but the bran.\" What say you to \\'t?\\r\\n\\r\\n\\r\\n_William Shakespeare._\\r\\n\\r\\n\\r\\n\\r\\n\\r\\nTHE CELESTIAL SURGEON\\r\\n\\r\\n\\r\\nWe may acquire the resolution to be happy by resting on a bed of roses.\\r\\nIf that fails us, we should try a bed of nettles.\\r\\n\\r\\n\\r\\n  If I have faltered more or less\\r\\n  In my great task of happiness;\\r\\n  If I have moved among my race\\r\\n  And shown no glorious morning face;\\r\\n  If beams from happy human eyes\\r\\n  Have moved me not; if morning skies,\\r\\n  Books, and my food, and summer rain\\r\\n  Knocked on my sullen heart in vain:--\\r\\n  Lord, thy most pointed pleasure take\\r\\n  And stab my spirit broad awake;\\r\\n  Or, Lord, if too obdurate I,\\r\\n  Choose thou, before that spirit die,\\r\\n  A piercing pain, a killing sin,\\r\\n  And to my dead heart run them in!\\r\\n\\r\\n\\r\\n_Robert Louis Stevenson._\\r\\n\\r\\n\\r\\n\\r\\n\\r\\nMAN, BIRD, AND GOD\\r\\n\\r\\n\\r\\nRobert Bruce, despairing of his country\\'s cause, was aroused to new hope\\r\\nand purpose by the sight of a spider casting its lines until at last it\\r\\nhad one that held. In the following passage the poet, uncertain as to\\r\\nhis own future, yet trusts the providence which guides the birds in\\r\\ntheir long and uncharted migrations.\\r\\n\\r\\n\\r\\n  I go to prove my soul!\\r\\n  I see my way as birds their trackless way.\\r\\n  I shall arrive! what time, what circuit first,\\r\\n  I ask not: but unless God send his hail\\r\\n  Or blinding fireballs, sleet or stifling snow,\\r\\n  In some time, his good time, I shall arrive:\\r\\n  He guides me and the bird. In his good time!\\r\\n\\r\\n\\r\\n_Robert Browning._\\r\\n\\r\\n\\r\\n\\r\\n\\r\\nHIS ALLY\\r\\n\\r\\n\\r\\nThe thought of this poem is that a man\\'s best helper may be that which\\r\\ngives him no direct aid at all--a sense of humor.\\r\\n\\r\\n\\r\\n  He fought for his soul, and the stubborn fighting\\r\\n    Tried hard his strength.\\r\\n  \"One needs seven souls for this long requiting,\"\\r\\n    He said at length.\\r\\n\\r\\n  \"Six times have I come where my first hope jeered me\\r\\n    And laughed me to scorn;\\r\\n  But now I fear as I never feared me\\r\\n    To fall forsworn.\\r\\n\\r\\n  \"God! when they fight upright and at me\\r\\n    I give them back\\r\\n  Even such blows as theirs that combat me;\\r\\n    But now, alack!\\r\\n\\r\\n  \"They fight with the wiles of fiends escaping\\r\\n    And underhand.\\r\\n  Six times, O God, and my wounds are gaping!\\r\\n    I--reel to stand.\\r\\n\\r\\n  \"Six battles\\' span! By this gasping breath\\r\\n    No pantomime.\\r\\n  Tis all that I can. I am sick unto death.\\r\\n    And--a seventh time?\\r\\n\\r\\n  \"This is beyond all battles\\' soreness!\"'"
      ]
     },
     "execution_count": 56,
     "metadata": {},
     "output_type": "execute_result"
    }
   ],
   "source": [
    "response.source_nodes[0].get_text()"
   ]
  },
  {
   "cell_type": "code",
   "execution_count": 57,
   "metadata": {},
   "outputs": [
    {
     "data": {
      "text/plain": [
       "'_St. Clair Adams._\\r\\n\\r\\n\\r\\n\\r\\n\\r\\nPHILOSOPHY FOR CROAKERS\\r\\n\\r\\n\\r\\nMany people seem to get pleasure in seeing all the bad there is, and in\\r\\nmaking everything about them gloomy. They are like the old woman who on\\r\\nbeing asked how her health was, replied: \"Thank the Lord, I\\'m poorly.\"\\r\\n\\r\\n\\r\\n  Some folks git a heap o\\' pleasure\\r\\n    Out o\\' lookin\\' glum;\\r\\n  Hoard their cares like it was treasure--\\r\\n    Fear they won\\'t have some.\\r\\n  Wear black border on their spirit;\\r\\n    Hang their hopes with crape;\\r\\n  Future\\'s gloomy and they fear it,\\r\\n    Sure there\\'s no escape.\\r\\n\\r\\n        Now there ain\\'t no use of whining\\r\\n          Weightin\\' joy with lead;\\r\\n        There is silver in the linin\\'\\r\\n          Somewhere on ahead.\\r\\n\\r\\n  Can\\'t enjoy the sun to-day--\\r\\n    It may rain to-morrow;\\r\\n  When a pain won\\'t come their way,\\r\\n    Future pains they borrow.\\r\\n  If there\\'s good news to be heard,\\r\\n    Ears are stuffed with cotton;\\r\\n  Evils dire are oft inferred;\\r\\n    Good is all forgotten.\\r\\n\\r\\n        When upon a peel I stand,\\r\\n          Slippin\\' like a goner,\\r\\n        Luck, I trust, will shake my hand\\r\\n          Just around the corner.\\r\\n\\r\\n  Keep a scarecrow in the yard,\\r\\n    Fierce old bulldog near \\'em;\\r\\n  Chase off joy that\\'s tryin\\' hard\\r\\n    To come in an\\' cheer \\'em.\\r\\n  Wear their blinders big and strong,\\r\\n    Dodge each happy sight;\\r\\n  Like to keep their faces long;\\r\\n    Think the day is night.\\r\\n\\r\\n        Now I\\'ve had my share of trouble;\\r\\n          Back been bent with ill;\\r\\n        Big load makes the joy seem double\\r\\n          When I mount the hill.\\r\\n\\r\\n  Got the toothache in their soul;\\r\\n    Corns upon their feelin\\'s;\\r\\n  Get their share but want the whole,\\r\\n    Say it\\'s crooked dealings.\\r\\n  Natures steeped in indigo;\\r\\n    Got their joy-wires crossed;\\r\\n  Swear it\\'s only weeds that grow;\\r\\n    Flowers always lost.\\r\\n\\r\\n        Now it\\'s best to sing a song\\r\\n          \\'Stead o\\' sit and mourn;\\r\\n        Rose you\\'ll find grows right along\\r\\n          Bigger than the thorn.\\r\\n\\r\\n  Beat the frogs the way they croak;\\r\\n    See with goggles blue--\\r\\n  Universe is cracked or broke,\\r\\n    \\'Bout to split in two.\\r\\n  Think the world is full of sin,\\r\\n    Soon go up the spout;\\r\\n  Badness always movin\\' in,\\r\\n    Goodness movin\\' out.\\r\\n\\r\\n        But I\\'ve found folks good and kind,\\r\\n          \\'Cause I thought they would be;\\r\\n        Most men try, at least I find,\\r\\n          To be what they should be.\\r\\n\\r\\n\\r\\n_Joseph Morris._\\r\\n\\r\\n\\r\\n\\r\\n\\r\\nTHE FIGHTING FAILURE\\r\\n\\r\\n\\r\\n\"I\\'m not a rabid, preachy, pollyanna optimist. Neither am I a gloomy\\r\\ngrouch. I believe in a loving Divine Providence Who expects you to play\\r\\nthe Game to the limit, Who wants you to hold tight to His hand, and Who\\r\\ncompensates you for the material losses by giving you the ability to\\r\\nretain your sense of values, and keep your spiritual sand out of the\\r\\nbearings of your physical machine, if you\\'ll trust and--\\'Keep Sweet,\\r\\nKeep Cheerful, or else--Keep Still\\'\"--_Everard Jack Appleton_.\\r\\n\\r\\n\\r\\nHe has come the way of the fighting men, and fought by the rules of the\\r\\n          Game,\\r\\nAnd out of Life he has gathered--What? A living,--and little fame,\\r\\nEver and ever the Goal looms near,--seeming each time worth while;\\r\\nBut ever it proves a mirage fair--ever the grim gods smile.\\r\\nAnd so, with lips hard set and white, he buries the hope that is gone,--\\r\\nHis fight is lost--and he knows it is lost--and yet he is fighting on.\\r\\n\\r\\nOut of the smoke of the battle-line watching men win their way,\\r\\nAnd, cheering with those who cheer success, he enters again the fray,\\r\\nLicking the blood and the dust from his lips, wiping the sweat from his\\r\\n          eyes,\\r\\nHe does the work he is set to do--and \"therein honor lies.\"\\r\\nBrave they were, these men he cheered,--theirs is the winners\\' thrill;\\r\\n_His_ fight is lost--and he knows it is lost--and yet he is fighting still.\\r\\n\\r\\nAnd those who won have rest and peace; and those who died have more;\\r\\nBut, weary and spent, he can not stop seeking the ultimate score;\\r\\nCourage was theirs for a little time,--but what of the man who sees\\r\\nThat he must lose, yet will not beg mercy upon his knees?'"
      ]
     },
     "execution_count": 57,
     "metadata": {},
     "output_type": "execute_result"
    }
   ],
   "source": [
    "response.source_nodes[1].get_text()"
   ]
  },
  {
   "cell_type": "markdown",
   "metadata": {},
   "source": [
    "### Streaming response"
   ]
  },
  {
   "cell_type": "code",
   "execution_count": 58,
   "metadata": {},
   "outputs": [
    {
     "name": "stdout",
     "output_type": "stream",
     "text": [
      "The book contains the following poems by Rudyard Kipling:\n",
      "- Departmental Ditties\n",
      "- Plain Tales from the Hills\n",
      "- Under the Deodars\n",
      "- Phantom' Rickshaw\n",
      "- Wee Willie Winkle\n",
      "- Life's Handicap\n",
      "- The Light That Failed\n",
      "- Barrack-Room Ballads\n",
      "- The Jungle Book\n",
      "- The Second Jungle Book\n",
      "- The Seven Seas\n",
      "- Captains Courageous\n",
      "- The Day's Work\n",
      "- Kim\n",
      "- Just So Stories\n",
      "- Puck of Pook's Hill\n",
      "- Actions and Reactions\n",
      "- Rewards and Fairies\n",
      "- Fringes of the Fleet\n",
      "- Sea Warfare"
     ]
    }
   ],
   "source": [
    "response = query_engine.query(\n",
    "    \"What poems by Rudyard Kipling are in this book?\"\n",
    ")\n",
    "\n",
    "response.print_response_stream()"
   ]
  },
  {
   "cell_type": "markdown",
   "metadata": {},
   "source": [
    "### 💬 Chat Engine"
   ]
  },
  {
   "cell_type": "code",
   "execution_count": 59,
   "metadata": {},
   "outputs": [
    {
     "name": "stdout",
     "output_type": "stream",
     "text": [
      "===== Entering Chat REPL =====\n",
      "Type \"exit\" to exit.\n",
      "\n"
     ]
    }
   ],
   "source": [
    "chat_engine = index.as_chat_engine(llm=llm)\n",
    "\n",
    "chat_engine.streaming_chat_repl()"
   ]
  },
  {
   "cell_type": "markdown",
   "metadata": {},
   "source": [
    "### Chat modes\n",
    "\n",
    "#### Simple\n",
    "\n",
    "Chat with LLM, without making use of a knowledge base. To use this mode set `chat_mode=\"simple\"`.\n",
    "\n",
    "Corresponds to [`SimpleChatEngine`](https://github.com/run-llama/llama_index/blob/main/llama-index-core/llama_index/core/chat_engine/simple.py). \n",
    "\n",
    "#### Condense question\n",
    "\n",
    "Generate a standalone question from the conversation context and the last message. Then, ask the query engine for a response. To use this mode set `chat_mode=\"condense_question\"`.\n",
    "\n",
    "Corresponds to [`CondenseQuestionChatEngine`](https://github.com/run-llama/llama_index/blob/main/llama-index-core/llama_index/core/chat_engine/condense_question.py).\n",
    "\n",
    "#### Context \n",
    "\n",
    "Retrieve text from the index based on the user's message. Utilize this context to formulate a response. To use this mode set `chat_mode=\"context\"`.\n",
    "\n",
    "Corresponds to [`ContextChatEngine`](https://github.com/run-llama/llama_index/blob/main/llama-index-core/llama_index/core/chat_engine/context.py).\n",
    "\n",
    "#### Condense plus context\n",
    "\n",
    "Condense a conversation and latest user message to a standalone question. Then build a context for the standalone question from a retriever. Finally, pass the context along with prompt and user message to LLM to generate a response. To use this mode set `chat_mode=\"condense_plus_context\"`.\n",
    "\n",
    "Corresponds to [`CondensePlusContextChatEngine`](https://github.com/run-llama/llama_index/blob/main/llama-index-core/llama_index/core/chat_engine/condense_plus_context.py).\n",
    "\n",
    "#### ReACT\n",
    "Corresponds to [`ReActAgent`](https://github.com/run-llama/llama_index/blob/37c95965426bddae82cec1ad49d3aa82e8bfe819/llama-index-core/llama_index/core/agent/react/base.py#L36).\n",
    "\n",
    "Use a ReAct agent loop with query engine tools. To use this mode set `chat_mode=\"react\"`.\n",
    "\n",
    "#### Best\n",
    "\n",
    "Select the best chat engine based on the current LLM. To use this mode set `chat_mode=\"best\"`.\n",
    "\n",
    "Corresponds to `OpenAIAgent` if using an OpenAI model that supports function calling API, otherwise, corresponds to `ReActAgent`."
   ]
  },
  {
   "cell_type": "code",
   "execution_count": 35,
   "metadata": {},
   "outputs": [
    {
     "name": "stdout",
     "output_type": "stream",
     "text": [
      "===== Entering Chat REPL =====\n",
      "Type \"exit\" to exit.\n",
      "\n",
      "Assistant: Hi there! How can I help?\n",
      "\n"
     ]
    }
   ],
   "source": [
    "from llama_index.core.memory import ChatMemoryBuffer\n",
    "\n",
    "memory = ChatMemoryBuffer.from_defaults(token_limit=1500)\n",
    "\n",
    "chat_engine = index.as_chat_engine(\n",
    "    llm=llm,\n",
    "    chat_mode=\"context\",\n",
    "    #memory=memory,\n",
    "    system_prompt=(\n",
    "        \"You are a chatbot, able to have normal interactions, as well as talk\"\n",
    "        \" about a book of poems called 'It Can Be Done'.\"\n",
    "    ),\n",
    ")\n",
    "\n",
    "chat_engine.streaming_chat_repl()"
   ]
  },
  {
   "cell_type": "markdown",
   "metadata": {},
   "source": [
    "# Customizing Querying\n",
    "\n",
    "- 🔧 **Customizing Retrieval**: Use LlamaIndex's low-level composition API to adjust `top_k` value for more granular control over query results.\n",
    "\n",
    "- 📈 **Adding Post-Processing**: Implement a step to ensure only nodes meeting a minimum similarity score are included, balancing between data richness and relevance.\n",
    "\n",
    "- 🎚️ **SimilarityPostprocessor**: Set a similarity score threshold, compatible only with embedding-based retrievers, to ensure high relevance."
   ]
  },
  {
   "cell_type": "code",
   "execution_count": 75,
   "metadata": {},
   "outputs": [],
   "source": [
    "from llama_index.core import get_response_synthesizer\n",
    "from llama_index.core.retrievers import VectorIndexRetriever\n",
    "from llama_index.core.query_engine import RetrieverQueryEngine\n",
    "from llama_index.core.postprocessor import SimilarityPostprocessor\n",
    "\n",
    "# configure a retriever\n",
    "retriever = VectorIndexRetriever(\n",
    "    index=index,\n",
    "    similarity_top_k=10,\n",
    ")\n",
    "\n",
    "# configure a post processor\n",
    "similarity_processor = SimilarityPostprocessor(similarity_cutoff=0.52)\n",
    "\n",
    "# configure a response sythesizer\n",
    "response_synthsizer = get_response_synthesizer(llm=llm)\n",
    "\n",
    "# create a query engine\n",
    "query_engine = RetrieverQueryEngine(\n",
    "    retriever=retriever,\n",
    "    response_synthesizer=response_synthsizer,\n",
    "    node_postprocessors=[similarity_processor],\n",
    ")"
   ]
  },
  {
   "cell_type": "code",
   "execution_count": 76,
   "metadata": {},
   "outputs": [
    {
     "data": {
      "text/plain": [
       "Response(response=\"The book contains the poems *If* and *When Earth's Last Picture Is Painted* by Rudyard Kipling.\", source_nodes=[NodeWithScore(node=TextNode(id_='5cc2444a-cfe3-44f6-a79e-aea3c4feacc0', embedding=None, metadata={'file_path': 'data/pg10763.txt', 'file_name': 'pg10763.txt', 'file_type': 'text/plain', 'file_size': 405245, 'creation_date': '2025-02-02', 'last_modified_date': '2024-11-05'}, excluded_embed_metadata_keys=['file_name', 'file_type', 'file_size', 'creation_date', 'last_modified_date', 'last_accessed_date'], excluded_llm_metadata_keys=['file_name', 'file_type', 'file_size', 'creation_date', 'last_modified_date', 'last_accessed_date'], relationships={<NodeRelationship.SOURCE: '1'>: RelatedNodeInfo(node_id='data/pg10763.txt', node_type=<ObjectType.DOCUMENT: '4'>, metadata={'file_path': 'data/pg10763.txt', 'file_name': 'pg10763.txt', 'file_type': 'text/plain', 'file_size': 405245, 'creation_date': '2025-02-02', 'last_modified_date': '2024-11-05'}, hash='93e80932f07110c8fe40fd1a3374e81875340ac883d5571fa0d5c944e5ecb362'), <NodeRelationship.PREVIOUS: '2'>: RelatedNodeInfo(node_id='c4d53c04-f7cb-4204-8dba-e6c64126b549', node_type=<ObjectType.TEXT: '1'>, metadata={'file_path': 'data/pg10763.txt', 'file_name': 'pg10763.txt', 'file_type': 'text/plain', 'file_size': 405245, 'creation_date': '2025-02-02', 'last_modified_date': '2024-11-05'}, hash='f7af146fcd98b3a7ccb4d7c801f153f29229edb657913ba9c674a53338e23f5f'), <NodeRelationship.NEXT: '3'>: RelatedNodeInfo(node_id='2c5c5ee4-4b99-444f-a91b-797dab780bef', node_type=<ObjectType.TEXT: '1'>, metadata={}, hash='1ef1a46bfa4ea03e8946cd5bc9b57dbf3be205bfa152673aeca5fc1dbd280e88')}, text='Received the Noble Prize for Literature 1907;\\r\\n  honorary degrees from McGill University, Durham, Oxford, and\\r\\n  Cambridge. Among his books are \"Departmental Ditties,\" \"Plain Tales\\r\\n  from the Hills,\" \"Under the Deodars,\" \"Phantom\\' Rickshaw,\" \"Wee Willie\\r\\n  Winkle,\" \"Life\\'s Handicap,\" \"The Light That Failed,\" \"Barrack-Room\\r\\n  Ballads,\" \"The Jungle Book,\" \"The Second Jungle Book,\" \"The Seven\\r\\n  Seas,\" \"Captains Courageous,\" \"The Day\\'s Work,\" \"Kim,\" \"Just So\\r\\n  Stories,\" \"Puck of Pook\\'s Hill,\" \"Actions and Reactions,\" \"Rewards and\\r\\n  Fairies,\" \"Fringes of the Fleet,\" and \"Sea Warfare.\" _If_, 4; _When\\r\\n  Earth\\'s Last Picture Is Painted_, 230.\\r\\n\\r\\nKISER, SAMUEL ELLSWORTH. Born at Shippenville, Pa. Educated in Pennsylvania\\r\\n  and Ohio. Began newspaper work in Cleveland, and from 1900 until 1914\\r\\n  was editorial and special writer for the Chicago _Record-Herald_.\\r\\n  Noted for his humorous sketches, which have been widely syndicated.\\r\\n  His poem \"Unsubdued\" is, like Henley\\'s \"Invictus,\" a splendid\\r\\n  portrayal of undaunted courage in the face of defeat. Among his books\\r\\n  are \"Georgie,\" \"Charles the Chauffeur,\" \"Love Sonnets of an Office\\r\\n  Boy,\" \"Ballads of the Busy Days,\" \"Sonnets of a Chorus Girl,\" \"The\\r\\n  Whole Glad Year,\" and \"The Land of Little Care.\" _A Little Prayer;\\r\\n  December 31; Faith; It May Be; My Creed; The Fighter; Unsubdued_.\\r\\n\\r\\nKNOX, J. MASON. _Co-operation_.\\r\\n\\r\\n\\r\\n\\r\\nL\\r\\n\\r\\nLONGFELLOW, HENRY WADSWORTH. Born at Portland, Me., Feb. 27, 1807; died\\r\\n  at Cambridge, Mass., Mar. 24, 1882. Graduated from Bowdoin College\\r\\n  1825; traveled in Europe 1826-9; professor of modern languages at\\r\\n  Bowdoin 1829-34; again visited Europe 1835-6; professor of modern\\r\\n  languages and belles lettres at Harvard College 1836-54; European\\r\\n  travel 1868-9. Some of his best-known poems are \"A Psalm of Life,\"\\r\\n  \"The Village Blacksmith,\" \"The Wreck of the Hesperus,\" \"The Skeleton\\r\\n  in Armor,\" \"The Bridge,\" \"Evangeline,\" \"The Building of the Ship,\"\\r\\n  \"Hiawatha,\" \"The Courtship of Miles Standish,\" and \"Tales of a Wayside\\r\\n  Inn\"; author of two novels, \"Hyperion\" and \"Kavanagh\"; translator of\\r\\n  Dante\\'s \"Divine Comedy.\" _A Psalm of Life; The Arrow and the Song_.\\r\\n\\r\\nLOVELACE, RICHARD. Born in Kent, 1618; died at London, 1658. Educated\\r\\n  at Oxford; imprisoned for support of the royalist cause 1642 and 1648;\\r\\n  released from prison after the execution of King Charles I, but his\\r\\n  estate had been ruined and he died in poverty. _To Althea from\\r\\n  Prison_.\\r\\n\\r\\n\\r\\n\\r\\nM\\r\\n\\r\\nMACKAY, CHARLES. Born at Perth, Eng., Mar. 27, 1814; died at London,\\r\\n  Dec. 24, 1889. Editor of the Glasgow _Argus_ 1844-47 and of the\\r\\n  _Illustrated London News_ 1852-59; New York correspondent of the\\r\\n  London _Times_ during the Civil War. _Clear the Way; Cleon and I_.\\r\\n\\r\\nM\\'LEAN, JANE. _Slogan_.\\r\\n\\r\\nMALLOCH, DOUGLAS. Born at Muskegon, Mich., May 5, 1877. Common school\\r\\n  education; reporter on the Muskegon _Daily Chronicle_ 1886-1903;\\r\\n  member of the editorial staff of the _American Lumberman_ from 1903;\\r\\n  associate editor from 1910; contributes verse relating to the forest\\r\\n  and lumber camps to various magazines; is called \"The Poet of the\\r\\n  Woods,\" He is author of \"In Forest Land,\" \"Resawed Fables,\" \"The\\r\\n  Woods,\" \"The Enchanted Garden,\" and \"Tote-Road and Trail.\" _Be the\\r\\n  Best of Whatever You Are; To-Day_.', mimetype='text/plain', start_char_idx=360398, end_char_idx=363718, text_template='{metadata_str}\\n\\n{content}', metadata_template='{key}: {value}', metadata_seperator='\\n'), score=0.5438982)], metadata={'5cc2444a-cfe3-44f6-a79e-aea3c4feacc0': {'file_path': 'data/pg10763.txt', 'file_name': 'pg10763.txt', 'file_type': 'text/plain', 'file_size': 405245, 'creation_date': '2025-02-02', 'last_modified_date': '2024-11-05'}})"
      ]
     },
     "execution_count": 76,
     "metadata": {},
     "output_type": "execute_result"
    }
   ],
   "source": [
    "query_engine.query(\"What poems by Rudyard Kipling are in this book?\")"
   ]
  },
  {
   "cell_type": "code",
   "execution_count": 77,
   "metadata": {},
   "outputs": [],
   "source": [
    "client.close()"
   ]
  }
 ],
 "metadata": {
  "kernelspec": {
   "display_name": "llama",
   "language": "python",
   "name": "python3"
  },
  "language_info": {
   "codemirror_mode": {
    "name": "ipython",
    "version": 3
   },
   "file_extension": ".py",
   "mimetype": "text/x-python",
   "name": "python",
   "nbconvert_exporter": "python",
   "pygments_lexer": "ipython3",
   "version": "3.13.1"
  }
 },
 "nbformat": 4,
 "nbformat_minor": 2
}
