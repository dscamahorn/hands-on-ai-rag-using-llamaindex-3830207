{
 "cells": [
  {
   "cell_type": "code",
   "execution_count": 2,
   "metadata": {},
   "outputs": [],
   "source": [
    "%%capture\n",
    "%pip install llama-index llama-index-embeddings-cohere qdrant-client llama-index-vector-stores-qdrant llama-index-llms-cohere"
   ]
  },
  {
   "cell_type": "markdown",
   "metadata": {},
   "source": [
    "Note: you should install the following packages to your environment:\n",
    "\n",
    "`pip install datasets`\n",
    "\n",
    "`pip install llama-index-embeddings-fastembed`\n",
    "\n",
    "`pip install llama-index-llms-mistralai`"
   ]
  },
  {
   "cell_type": "code",
   "execution_count": 3,
   "metadata": {},
   "outputs": [],
   "source": [
    "import os\n",
    "import sys\n",
    "from dotenv import load_dotenv\n",
    "from getpass import getpass\n",
    "import nest_asyncio\n",
    "from IPython.display import Markdown, display\n",
    "\n",
    "nest_asyncio.apply()\n",
    "\n",
    "load_dotenv()\n",
    "\n",
    "sys.path.append('../helpers')\n",
    "\n"
   ]
  },
  {
   "cell_type": "code",
   "execution_count": 4,
   "metadata": {},
   "outputs": [],
   "source": [
    "CO_API_KEY = os.environ['CO_API_KEY'] or getpass(\"Enter your Cohere API key: \")"
   ]
  },
  {
   "cell_type": "code",
   "execution_count": null,
   "metadata": {},
   "outputs": [],
   "source": [
    "OPENAI_API_KEY = os.environ['OPENAI_API_KEY'] or getpass(\"Enter your OpenAI API key: \")"
   ]
  },
  {
   "cell_type": "code",
   "execution_count": 5,
   "metadata": {},
   "outputs": [],
   "source": [
    "QDRANT_URL = os.environ['QDRANT_URL'] or getpass(\"Enter your Qdrant URL:\")"
   ]
  },
  {
   "cell_type": "code",
   "execution_count": 6,
   "metadata": {},
   "outputs": [],
   "source": [
    "QDRANT_API_KEY = os.environ['QDRANT_API_KEY'] or  getpass(\"Enter your Qdrant API Key:\")"
   ]
  },
  {
   "cell_type": "code",
   "execution_count": 7,
   "metadata": {},
   "outputs": [
    {
     "name": "stderr",
     "output_type": "stream",
     "text": [
      "[nltk_data] Downloading package punkt_tab to\n",
      "[nltk_data]     /opt/conda/envs/llama/lib/python3.13/site-\n",
      "[nltk_data]     packages/llama_index/core/_static/nltk_cache...\n",
      "[nltk_data]   Package punkt_tab is already up-to-date!\n",
      "Both client and aclient are provided. If using `:memory:` mode, the data between clients is not synced.\n"
     ]
    }
   ],
   "source": [
    "from llama_index.core import StorageContext\n",
    "\n",
    "from utils import setup_llm, setup_embed_model, setup_vector_store, create_index\n",
    "\n",
    "#setup_llm(provider=\"cohere\", model=\"command-r-plus\", api_key=CO_API_KEY)\n",
    "\n",
    "#setup_embed_model(provider=\"cohere\", api_key=CO_API_KEY)\n",
    "\n",
    "COLLECTION_NAME = \"it_can_be_done\"\n",
    "\n",
    "vector_store = setup_vector_store(QDRANT_URL, QDRANT_API_KEY, COLLECTION_NAME)\n",
    "\n",
    "storage_context = StorageContext.from_defaults(vector_store=vector_store)\n",
    "\n",
    "index = create_index(from_where=\"vector_store\", vector_store=vector_store, storage_context=storage_context)"
   ]
  },
  {
   "cell_type": "markdown",
   "metadata": {},
   "source": [
    "# Default Prompt Templates"
   ]
  },
  {
   "cell_type": "code",
   "execution_count": 42,
   "metadata": {},
   "outputs": [],
   "source": [
    "from utils import display_prompt_dict, create_query_engine"
   ]
  },
  {
   "cell_type": "code",
   "execution_count": 91,
   "metadata": {},
   "outputs": [
    {
     "data": {
      "text/markdown": [
       " **Prompt Key**: response_synthesizer:text_qa_template\n",
       "**Text:**\n",
       "```\n",
       "Context information is below.\n",
       "---------------------\n",
       "{context_str}\n",
       "---------------------\n",
       "Given the context information and not prior knowledge, answer the query.\n",
       "Query: {query_str}\n",
       "Answer: \n",
       "```\n",
       "\n",
       "**Prompt Key**: response_synthesizer:refine_template\n",
       "**Text:**\n",
       "```\n",
       "The original query is as follows: {query_str}\n",
       "We have provided an existing answer: {existing_answer}\n",
       "We have the opportunity to refine the existing answer (only if needed) with some more context below.\n",
       "------------\n",
       "{context_msg}\n",
       "------------\n",
       "Given the new context, refine the original answer to better answer the query. If the context isn't useful, return the original answer.\n",
       "Refined Answer: \n",
       "```\n",
       "\n"
      ],
      "text/plain": [
       "<IPython.core.display.Markdown object>"
      ]
     },
     "metadata": {},
     "output_type": "display_data"
    }
   ],
   "source": [
    "query_engine = create_query_engine(\n",
    "    index=index,\n",
    "    similarity_top_k=3, \n",
    "    mode=\"query\",\n",
    "    return_sources=True\n",
    "    )\n",
    "\n",
    "display_prompt_dict(query_engine.get_prompts())"
   ]
  },
  {
   "cell_type": "code",
   "execution_count": 92,
   "metadata": {},
   "outputs": [],
   "source": [
    "from llama_index.core.prompts import PromptTemplate\n",
    "\n",
    "custom_prompt = \"\"\"You are an assistant for question-answering tasks related to \\\n",
    "motivational poetry. You must reponsd with an original Haiku style poem.\n",
    "\n",
    "Use the following pieces of retrieved context to answer the user's query:\n",
    "\n",
    "---------------------\\n\n",
    "{context_str}\\n\n",
    "---------------------\\n\n",
    "\n",
    "Query: {query_str}\n",
    "\"\"\"\n",
    "\n",
    "custom_prompt_template = PromptTemplate(custom_prompt)"
   ]
  },
  {
   "cell_type": "code",
   "execution_count": 93,
   "metadata": {},
   "outputs": [],
   "source": [
    "query_engine.update_prompts(\n",
    "    {\"response_synthesizer:text_qa_template\": custom_prompt_template}\n",
    ")"
   ]
  },
  {
   "cell_type": "code",
   "execution_count": 94,
   "metadata": {},
   "outputs": [
    {
     "data": {
      "text/markdown": [
       " **Prompt Key**: response_synthesizer:text_qa_template\n",
       "**Text:**\n",
       "```\n",
       "You are an assistant for question-answering tasks related to motivational poetry. You must reponsd with an original Haiku style poem.\n",
       "\n",
       "Use the following pieces of retrieved context to answer the user's query:\n",
       "\n",
       "---------------------\n",
       "\n",
       "{context_str}\n",
       "\n",
       "---------------------\n",
       "\n",
       "\n",
       "Query: {query_str}\n",
       "\n",
       "```\n",
       "\n",
       "**Prompt Key**: response_synthesizer:refine_template\n",
       "**Text:**\n",
       "```\n",
       "The original query is as follows: {query_str}\n",
       "We have provided an existing answer: {existing_answer}\n",
       "We have the opportunity to refine the existing answer (only if needed) with some more context below.\n",
       "------------\n",
       "{context_msg}\n",
       "------------\n",
       "Given the new context, refine the original answer to better answer the query. If the context isn't useful, return the original answer.\n",
       "Refined Answer: \n",
       "```\n",
       "\n"
      ],
      "text/plain": [
       "<IPython.core.display.Markdown object>"
      ]
     },
     "metadata": {},
     "output_type": "display_data"
    }
   ],
   "source": [
    "display_prompt_dict(query_engine.get_prompts())"
   ]
  },
  {
   "cell_type": "code",
   "execution_count": 101,
   "metadata": {},
   "outputs": [],
   "source": [
    "from utils import create_query_pipeline\n",
    "\n",
    "from llama_index.core.query_pipeline import InputComponent\n",
    "\n",
    "input_component = InputComponent()\n",
    "\n",
    "chain = [input_component, query_engine]\n",
    "\n",
    "query_pipeline = create_query_pipeline(chain)"
   ]
  },
  {
   "cell_type": "code",
   "execution_count": 102,
   "metadata": {},
   "outputs": [
    {
     "name": "stdout",
     "output_type": "stream",
     "text": [
      "\u001b[1;3;38;2;155;135;227m> Running module 3c2c3f68-faeb-4727-ac74-54d45b142bbc with input: \n",
      "input: If you keep your head when all around you are losing their cool and blaming it on you\n",
      "\n",
      "\u001b[0m"
     ]
    }
   ],
   "source": [
    "response = query_pipeline.run(input=\"If you keep your head when all around you are losing their cool and blaming it on you\")"
   ]
  },
  {
   "cell_type": "code",
   "execution_count": 103,
   "metadata": {},
   "outputs": [
    {
     "name": "stdout",
     "output_type": "stream",
     "text": [
      "\u001b[1;3;38;2;155;135;227m> Running module 3c2c3f68-faeb-4727-ac74-54d45b142bbc with input: \n",
      "input: If you keep your head when all around you are losing their cool and blaming it on you\n",
      "\n",
      "\u001b[0m"
     ]
    }
   ],
   "source": [
    "output, intermediates = query_pipeline.run_with_intermediates(input=\"If you keep your head when all around you are losing their cool and blaming it on you\")"
   ]
  },
  {
   "cell_type": "code",
   "execution_count": 104,
   "metadata": {},
   "outputs": [
    {
     "data": {
      "text/plain": [
       "{'response': \"Keep your head held high,\\nBlame and chaos surround you,\\nStay calm, it's your shield.\",\n",
       " 'source_nodes': [NodeWithScore(node=TextNode(id_='9ce1f065-6287-41d8-9179-13390b67bbdb', embedding=None, metadata={'file_path': '../02_Fundamental_Concepts_in_LlamaIndex/data/pg10763.txt', 'file_name': 'pg10763.txt', 'file_type': 'text/plain', 'file_size': 405245, 'creation_date': '2025-02-02', 'last_modified_date': '2024-11-05'}, excluded_embed_metadata_keys=['file_name', 'file_type', 'file_size', 'creation_date', 'last_modified_date', 'last_accessed_date'], excluded_llm_metadata_keys=['file_name', 'file_type', 'file_size', 'creation_date', 'last_modified_date', 'last_accessed_date'], relationships={<NodeRelationship.SOURCE: '1'>: RelatedNodeInfo(node_id='../02_Fundamental_Concepts_in_LlamaIndex/data/pg10763.txt', node_type=<ObjectType.DOCUMENT: '4'>, metadata={'file_path': '../02_Fundamental_Concepts_in_LlamaIndex/data/pg10763.txt', 'file_name': 'pg10763.txt', 'file_type': 'text/plain', 'file_size': 405245, 'creation_date': '2025-02-02', 'last_modified_date': '2024-11-05'}, hash='7ed8c6d21497c7614e40a55a120dca129c90f1a385c21a5c9e8c1c26e753f43d'), <NodeRelationship.PREVIOUS: '2'>: RelatedNodeInfo(node_id='16140cc9-46db-4858-85df-558489240d9b', node_type=<ObjectType.TEXT: '1'>, metadata={'file_path': '../02_Fundamental_Concepts_in_LlamaIndex/data/pg10763.txt', 'file_name': 'pg10763.txt', 'file_type': 'text/plain', 'file_size': 405245, 'creation_date': '2025-02-02', 'last_modified_date': '2024-11-05'}, hash='424094929ed52d224afcb5a59256cd5771041771128aa7a31368b18880faef8e'), <NodeRelationship.NEXT: '3'>: RelatedNodeInfo(node_id='ca1560b7-13e6-42a0-8fe5-a27ebfae5b28', node_type=<ObjectType.TEXT: '1'>, metadata={}, hash='8b0f57fd1cac1273d21ce4eb382158a0cbcf245e8507566e1670252c9cbb1974')}, text='kind\\r\\n    Should try to be a peacock;\\r\\n  And the peacocks were mad that one with their tail\\r\\n    Should belong to a common fowl flock.\\r\\n  So the chickens beset him most cruelly behind,\\r\\n    And yanked his whole tail out together;\\r\\n  The peacocks attacked him madly before,\\r\\n    And pulled out each chicken feather.\\r\\n  And when he stood stripped clean down to the skin,\\r\\n    A horrible thing to the rest,\\r\\n  He learned this sad lesson when it was too late--\\r\\n    As his own simple self he was best.\\r\\n\\r\\n\\r\\n_Joseph Morris._\\r\\n\\r\\n\\r\\n\\r\\n\\r\\nKEEP ON KEEPIN\\' ON\\r\\n\\r\\n\\r\\nThe author of these homely stanzas has caught perfectly the spirit which\\r\\nsucceeds in the rough-and-tumble of actual life.\\r\\n\\r\\n\\r\\n  If the day looks kinder gloomy\\r\\n  And your chances kinder slim,\\r\\n  If the situation\\'s puzzlin\\'\\r\\n  And the prospect\\'s awful grim,\\r\\n  If perplexities keep pressin\\'\\r\\n  Till hope is nearly gone,\\r\\n  Just bristle up and grit your teeth\\r\\n  And keep on keepin\\' on.\\r\\n\\r\\n  Frettin\\' never wins a fight\\r\\n  And fumin\\' never pays;\\r\\n  There ain\\'t no use in broodin\\'\\r\\n  In these pessimistic ways;\\r\\n  Smile just kinder cheerfully\\r\\n  Though hope is nearly gone,\\r\\n  And bristle up and grit your teeth\\r\\n  And keep on keepin\\' on.\\r\\n\\r\\n  There ain\\'t no use in growlin\\'\\r\\n  And grumblin\\' all the time,\\r\\n  When music\\'s ringin\\' everywhere\\r\\n  And everything\\'s a rhyme.\\r\\n  Just keep on smilin\\' cheerfully\\r\\n  If hope is nearly gone,\\r\\n  And bristle up and grit your teeth\\r\\n  And keep on keepin\\' on.\\r\\n\\r\\n\\r\\n_Anonymous._\\r\\n\\r\\n\\r\\n\\r\\n\\r\\nTHE DISAPPOINTED\\r\\n\\r\\n\\r\\nThose who have striven nobly and failed deserve sympathy. Sometimes they\\r\\ndeserve also praise unreserved, in that they have refused to do\\r\\nsomething ignoble which would have led to what the world calls success.\\r\\nThey have lived the idea which Macbeth merely proclaimed:\\r\\n\\r\\n  \"I dare do all that may become a man;\\r\\n  Who dares do more is none.\"\\r\\n\\r\\n\\r\\n  There are songs enough for the hero\\r\\n    Who dwells on the heights of fame;\\r\\n  I sing of the disappointed--\\r\\n    For those who have missed their aim.\\r\\n\\r\\n  I sing with a tearful cadence\\r\\n    For one who stands in the dark,\\r\\n  And knows that his last, best arrow\\r\\n    Has bounded back from the mark.\\r\\n\\r\\n  I sing for the breathless runner,\\r\\n    The eager, anxious soul,\\r\\n  Who falls with his strength exhausted.\\r\\n    Almost in sight of the goal;\\r\\n\\r\\n  For the hearts that break in silence,\\r\\n    With a sorrow all unknown,\\r\\n  For those who need companions,\\r\\n    Yet walk their ways alone.\\r\\n\\r\\n  There are songs enough for the lovers\\r\\n    Who share love\\'s tender pain,\\r\\n  I sing for the one whose passion\\r\\n    Is given all in vain.\\r\\n\\r\\n  For those whose spirit comrades\\r\\n    Have missed them on their way,\\r\\n  I sing, with a heart o\\'erflowing,\\r\\n    This minor strain to-day.\\r\\n\\r\\n  And I know the Solar system\\r\\n    Must somewhere keep in space\\r\\n  A prize for that spent runner\\r\\n    Who barely lost the race.\\r\\n\\r\\n  For the plan would be imperfect\\r\\n    Unless it held some sphere\\r\\n  That paid for the toil and talent\\r\\n    And love that are wasted here.\\r\\n\\r\\n\\r\\n_Ella Wheeler Wilcox._\\r\\n\\r\\nFrom \"Picked Poems.\"\\r\\n\\r\\n\\r\\n\\r\\n\\r\\nLET ME LIVE OUT MY YEARS\\r\\n\\r\\n\\r\\nWe speak of the comforts and ease of old age, but our noblest selves do\\r\\nnot really desire them. We want to do more than exist. We want to be\\r\\nalive to the very last.\\r\\n\\r\\n\\r\\n  Let me live out my years in heat of blood!\\r\\n  Let me die drunken with the dreamer\\'s wine!\\r\\n  Let me not see this soul-house built of mud\\r\\n  Go toppling to the dust--a vacant shrine!\\r\\n\\r\\n  Let me go quickly like a candle light\\r\\n  Snuffed out just at the heyday of its glow!\\r\\n  Give me high noon--and let it then be night!\\r\\n      Thus would I go.\\r\\n\\r\\n  And grant that when I face the grisly Thing,\\r\\n  My song may triumph down the gray Perhaps!\\r\\n  Let me be as a tuneswept fiddlestring\\r\\n  That feels the Master Melody--and snaps.\\r\\n\\r\\n\\r\\n_John G. Neihardt_\\r\\n\\r\\nFrom \"The Quest\" (collected', mimetype='text/plain', start_char_idx=194603, end_char_idx=198435, text_template='{metadata_str}\\n\\n{content}', metadata_template='{key}: {value}', metadata_seperator='\\n'), score=0.4120109),\n",
       "  NodeWithScore(node=TextNode(id_='a7ac26a8-e21e-428a-a3d4-5778dc6069a9', embedding=None, metadata={'file_path': '../02_Fundamental_Concepts_in_LlamaIndex/data/pg10763.txt', 'file_name': 'pg10763.txt', 'file_type': 'text/plain', 'file_size': 405245, 'creation_date': '2025-02-02', 'last_modified_date': '2024-11-05'}, excluded_embed_metadata_keys=['file_name', 'file_type', 'file_size', 'creation_date', 'last_modified_date', 'last_accessed_date'], excluded_llm_metadata_keys=['file_name', 'file_type', 'file_size', 'creation_date', 'last_modified_date', 'last_accessed_date'], relationships={<NodeRelationship.SOURCE: '1'>: RelatedNodeInfo(node_id='../02_Fundamental_Concepts_in_LlamaIndex/data/pg10763.txt', node_type=<ObjectType.DOCUMENT: '4'>, metadata={'file_path': '../02_Fundamental_Concepts_in_LlamaIndex/data/pg10763.txt', 'file_name': 'pg10763.txt', 'file_type': 'text/plain', 'file_size': 405245, 'creation_date': '2025-02-02', 'last_modified_date': '2024-11-05'}, hash='7ed8c6d21497c7614e40a55a120dca129c90f1a385c21a5c9e8c1c26e753f43d'), <NodeRelationship.PREVIOUS: '2'>: RelatedNodeInfo(node_id='43928aa2-058e-4293-a09d-36a207966e59', node_type=<ObjectType.TEXT: '1'>, metadata={'file_path': '../02_Fundamental_Concepts_in_LlamaIndex/data/pg10763.txt', 'file_name': 'pg10763.txt', 'file_type': 'text/plain', 'file_size': 405245, 'creation_date': '2025-02-02', 'last_modified_date': '2024-11-05'}, hash='daca0f61edffde103b6a4bd91e146c35062aa26732e927402c21e8f463f4a944'), <NodeRelationship.NEXT: '3'>: RelatedNodeInfo(node_id='f31a0dd1-76a2-4d96-a8bb-37f156be9e67', node_type=<ObjectType.TEXT: '1'>, metadata={}, hash='850fe129dac3fd915d48fc7a4367817f78d880911d81d45d89b9693292dd0065')}, text='with wine\\r\\n  Than my heart cool with mortifying groans.\\r\\n  Why should a man whose blood is warm within\\r\\n  Sit like his grandsire cut in alabaster?\\r\\n  Sleep when he wakes, and creep into a jaundice\\r\\n  By being peevish?   Fare ye well awhile:\\r\\n  I\\'ll end my exhortation after dinner.\\r\\n\\r\\n\\r\\n_William Shakespeare._\\r\\n\\r\\n\\r\\n\\r\\n\\r\\nAPPRECIATION\\r\\n\\r\\n\\r\\n  Life\\'s a bully good game with its kicks and cuffs--\\r\\n    Some smile, some laugh, some bluff;\\r\\n  Some carry a load too heavy to bear\\r\\n    While some push on with never a care,\\r\\n  But the load will seldom heavy be\\r\\n    When I appreciate you and you appreciate me.\\r\\n\\r\\n  He who lives by the side of the road\\r\\n    And helps to bear his brother\\'s load\\r\\n  May seem to travel lone and long\\r\\n    While the world goes by with a merry song,\\r\\n  But the heart grows warm and sorrows flee\\r\\n    When I appreciate you and you appreciate me.\\r\\n\\r\\n  When I appreciate you and you appreciate me,\\r\\n    The road seems short to victory;\\r\\n  It buoys one up and calls \"Come on,\"\\r\\n    And days grow brighter with the dawn;\\r\\n  There is no doubt or mystery\\r\\n    When I appreciate you and you appreciate me.\\r\\n\\r\\n  It\\'s the greatest thought in heaven or earth--\\r\\n    It helps us know our fellow\\'s worth;\\r\\n  There\\'d be no wars or bitterness,\\r\\n    No fear, no hate, no grasping; yes,\\r\\n  It makes work play, and the careworn free\\r\\n    When I appreciate you and you appreciate me.\\r\\n\\r\\n\\r\\n_William Judson Kibby,_\\r\\n\\r\\n\\r\\n\\r\\n\\r\\nKEEP SWEET\\r\\n\\r\\n\\r\\nEven the direst catastrophes may be softened by our attitude to them.\\r\\nCharles II said to those who had gathered about his deathbed: \"You\\'ll\\r\\npardon any little lapses, gentlemen. I\\'ve never done this thing before.\"\\r\\n\\r\\n\\r\\n  Don\\'t be foolish and get sour when things don\\'t just come your way--\\r\\n  Don\\'t you be a pampered baby and declare, \"Now I won\\'t play!\"\\r\\n      Just go grinning on and bear it;\\r\\n      Have you heartache? Millions share it,\\r\\n      If you earn a crown, you\\'ll wear it--\\r\\n                  Keep sweet.\\r\\n\\r\\n  Don\\'t go handing out your troubles to your busy fellow-men--\\r\\n  If you whine around they\\'ll try to keep from meeting you again;\\r\\n      Don\\'t declare the world\\'s \"agin\" you,\\r\\n      Don\\'t let pessimism win you,\\r\\n      Prove there\\'s lots of good stuff in you--\\r\\n                  Keep sweet.\\r\\n\\r\\n  If your dearest hopes seem blighted and despair looms into view,\\r\\n  Set your jaw and whisper grimly, \"Though they\\'re false, yet I\\'ll be true.\"\\r\\n      Never let your heart grow bitter;\\r\\n      With your lips to Hope\\'s transmitter,\\r\\n      Hear Love\\'s songbirds bravely twitter,\\r\\n                  \"Keep sweet.\"\\r\\n\\r\\n  Bless your heart, this world\\'s a good one, and will always help a man;\\r\\n  Hate, misanthropy, and malice have no place in Nature\\'s plan.\\r\\n      Help your brother there who\\'s sighing.\\r\\n      Keep his flag of courage flying;\\r\\n      Help him try--\\'twill keep you trying--\\r\\n                  Keep sweet.\\r\\n\\r\\n\\r\\n_Strickland W. Gillilan._\\r\\n\\r\\n\\r\\n\\r\\n\\r\\nMORALITY\\r\\n\\r\\n\\r\\nWe can\\'t always, even when accomplishing, have the ardor of\\r\\naccomplishment; we can only hold to the purpose formed in more inspired\\r\\nhours. After a work is finished, even though it be a good work which our\\r\\nfinal judgment will approve, we are likely to be oppressed for a time by\\r\\nthe anxieties we have passed through; the comfort of effort has left us,\\r\\nand we recall our dreams, our intentions, beside which our actual\\r\\nachievement seems small. In such moments we should remember that just\\r\\nafter the delivery of the Gettysburg Address Lincoln believed it an\\r\\nutter failure. Yet the address was a masterpiece of commemorative\\r\\noratory.\\r\\n\\r\\n\\r\\n  We cannot kindle when we will\\r\\n    The fire which in the heart resides;\\r\\n  The', mimetype='text/plain', start_char_idx=320968, end_char_idx=324613, text_template='{metadata_str}\\n\\n{content}', metadata_template='{key}: {value}', metadata_seperator='\\n'), score=0.39260787)],\n",
       " 'metadata': {'9ce1f065-6287-41d8-9179-13390b67bbdb': {'file_path': '../02_Fundamental_Concepts_in_LlamaIndex/data/pg10763.txt',\n",
       "   'file_name': 'pg10763.txt',\n",
       "   'file_type': 'text/plain',\n",
       "   'file_size': 405245,\n",
       "   'creation_date': '2025-02-02',\n",
       "   'last_modified_date': '2024-11-05'},\n",
       "  'a7ac26a8-e21e-428a-a3d4-5778dc6069a9': {'file_path': '../02_Fundamental_Concepts_in_LlamaIndex/data/pg10763.txt',\n",
       "   'file_name': 'pg10763.txt',\n",
       "   'file_type': 'text/plain',\n",
       "   'file_size': 405245,\n",
       "   'creation_date': '2025-02-02',\n",
       "   'last_modified_date': '2024-11-05'}},\n",
       " '__pydantic_initialised__': True}"
      ]
     },
     "execution_count": 104,
     "metadata": {},
     "output_type": "execute_result"
    }
   ],
   "source": [
    "output.__dict__"
   ]
  },
  {
   "cell_type": "code",
   "execution_count": 105,
   "metadata": {},
   "outputs": [
    {
     "data": {
      "text/plain": [
       "{'3c2c3f68-faeb-4727-ac74-54d45b142bbc': ComponentIntermediates(inputs={'input': 'If you keep your head when all around you are losing their cool and blaming it on you'}, outputs={'output': Response(response=\"Keep your head held high,\\nBlame and chaos surround you,\\nStay calm, it's your shield.\", source_nodes=[NodeWithScore(node=TextNode(id_='9ce1f065-6287-41d8-9179-13390b67bbdb', embedding=None, metadata={'file_path': '../02_Fundamental_Concepts_in_LlamaIndex/data/pg10763.txt', 'file_name': 'pg10763.txt', 'file_type': 'text/plain', 'file_size': 405245, 'creation_date': '2025-02-02', 'last_modified_date': '2024-11-05'}, excluded_embed_metadata_keys=['file_name', 'file_type', 'file_size', 'creation_date', 'last_modified_date', 'last_accessed_date'], excluded_llm_metadata_keys=['file_name', 'file_type', 'file_size', 'creation_date', 'last_modified_date', 'last_accessed_date'], relationships={<NodeRelationship.SOURCE: '1'>: RelatedNodeInfo(node_id='../02_Fundamental_Concepts_in_LlamaIndex/data/pg10763.txt', node_type=<ObjectType.DOCUMENT: '4'>, metadata={'file_path': '../02_Fundamental_Concepts_in_LlamaIndex/data/pg10763.txt', 'file_name': 'pg10763.txt', 'file_type': 'text/plain', 'file_size': 405245, 'creation_date': '2025-02-02', 'last_modified_date': '2024-11-05'}, hash='7ed8c6d21497c7614e40a55a120dca129c90f1a385c21a5c9e8c1c26e753f43d'), <NodeRelationship.PREVIOUS: '2'>: RelatedNodeInfo(node_id='16140cc9-46db-4858-85df-558489240d9b', node_type=<ObjectType.TEXT: '1'>, metadata={'file_path': '../02_Fundamental_Concepts_in_LlamaIndex/data/pg10763.txt', 'file_name': 'pg10763.txt', 'file_type': 'text/plain', 'file_size': 405245, 'creation_date': '2025-02-02', 'last_modified_date': '2024-11-05'}, hash='424094929ed52d224afcb5a59256cd5771041771128aa7a31368b18880faef8e'), <NodeRelationship.NEXT: '3'>: RelatedNodeInfo(node_id='ca1560b7-13e6-42a0-8fe5-a27ebfae5b28', node_type=<ObjectType.TEXT: '1'>, metadata={}, hash='8b0f57fd1cac1273d21ce4eb382158a0cbcf245e8507566e1670252c9cbb1974')}, text='kind\\r\\n    Should try to be a peacock;\\r\\n  And the peacocks were mad that one with their tail\\r\\n    Should belong to a common fowl flock.\\r\\n  So the chickens beset him most cruelly behind,\\r\\n    And yanked his whole tail out together;\\r\\n  The peacocks attacked him madly before,\\r\\n    And pulled out each chicken feather.\\r\\n  And when he stood stripped clean down to the skin,\\r\\n    A horrible thing to the rest,\\r\\n  He learned this sad lesson when it was too late--\\r\\n    As his own simple self he was best.\\r\\n\\r\\n\\r\\n_Joseph Morris._\\r\\n\\r\\n\\r\\n\\r\\n\\r\\nKEEP ON KEEPIN\\' ON\\r\\n\\r\\n\\r\\nThe author of these homely stanzas has caught perfectly the spirit which\\r\\nsucceeds in the rough-and-tumble of actual life.\\r\\n\\r\\n\\r\\n  If the day looks kinder gloomy\\r\\n  And your chances kinder slim,\\r\\n  If the situation\\'s puzzlin\\'\\r\\n  And the prospect\\'s awful grim,\\r\\n  If perplexities keep pressin\\'\\r\\n  Till hope is nearly gone,\\r\\n  Just bristle up and grit your teeth\\r\\n  And keep on keepin\\' on.\\r\\n\\r\\n  Frettin\\' never wins a fight\\r\\n  And fumin\\' never pays;\\r\\n  There ain\\'t no use in broodin\\'\\r\\n  In these pessimistic ways;\\r\\n  Smile just kinder cheerfully\\r\\n  Though hope is nearly gone,\\r\\n  And bristle up and grit your teeth\\r\\n  And keep on keepin\\' on.\\r\\n\\r\\n  There ain\\'t no use in growlin\\'\\r\\n  And grumblin\\' all the time,\\r\\n  When music\\'s ringin\\' everywhere\\r\\n  And everything\\'s a rhyme.\\r\\n  Just keep on smilin\\' cheerfully\\r\\n  If hope is nearly gone,\\r\\n  And bristle up and grit your teeth\\r\\n  And keep on keepin\\' on.\\r\\n\\r\\n\\r\\n_Anonymous._\\r\\n\\r\\n\\r\\n\\r\\n\\r\\nTHE DISAPPOINTED\\r\\n\\r\\n\\r\\nThose who have striven nobly and failed deserve sympathy. Sometimes they\\r\\ndeserve also praise unreserved, in that they have refused to do\\r\\nsomething ignoble which would have led to what the world calls success.\\r\\nThey have lived the idea which Macbeth merely proclaimed:\\r\\n\\r\\n  \"I dare do all that may become a man;\\r\\n  Who dares do more is none.\"\\r\\n\\r\\n\\r\\n  There are songs enough for the hero\\r\\n    Who dwells on the heights of fame;\\r\\n  I sing of the disappointed--\\r\\n    For those who have missed their aim.\\r\\n\\r\\n  I sing with a tearful cadence\\r\\n    For one who stands in the dark,\\r\\n  And knows that his last, best arrow\\r\\n    Has bounded back from the mark.\\r\\n\\r\\n  I sing for the breathless runner,\\r\\n    The eager, anxious soul,\\r\\n  Who falls with his strength exhausted.\\r\\n    Almost in sight of the goal;\\r\\n\\r\\n  For the hearts that break in silence,\\r\\n    With a sorrow all unknown,\\r\\n  For those who need companions,\\r\\n    Yet walk their ways alone.\\r\\n\\r\\n  There are songs enough for the lovers\\r\\n    Who share love\\'s tender pain,\\r\\n  I sing for the one whose passion\\r\\n    Is given all in vain.\\r\\n\\r\\n  For those whose spirit comrades\\r\\n    Have missed them on their way,\\r\\n  I sing, with a heart o\\'erflowing,\\r\\n    This minor strain to-day.\\r\\n\\r\\n  And I know the Solar system\\r\\n    Must somewhere keep in space\\r\\n  A prize for that spent runner\\r\\n    Who barely lost the race.\\r\\n\\r\\n  For the plan would be imperfect\\r\\n    Unless it held some sphere\\r\\n  That paid for the toil and talent\\r\\n    And love that are wasted here.\\r\\n\\r\\n\\r\\n_Ella Wheeler Wilcox._\\r\\n\\r\\nFrom \"Picked Poems.\"\\r\\n\\r\\n\\r\\n\\r\\n\\r\\nLET ME LIVE OUT MY YEARS\\r\\n\\r\\n\\r\\nWe speak of the comforts and ease of old age, but our noblest selves do\\r\\nnot really desire them. We want to do more than exist. We want to be\\r\\nalive to the very last.\\r\\n\\r\\n\\r\\n  Let me live out my years in heat of blood!\\r\\n  Let me die drunken with the dreamer\\'s wine!\\r\\n  Let me not see this soul-house built of mud\\r\\n  Go toppling to the dust--a vacant shrine!\\r\\n\\r\\n  Let me go quickly like a candle light\\r\\n  Snuffed out just at the heyday of its glow!\\r\\n  Give me high noon--and let it then be night!\\r\\n      Thus would I go.\\r\\n\\r\\n  And grant that when I face the grisly Thing,\\r\\n  My song may triumph down the gray Perhaps!\\r\\n  Let me be as a tuneswept fiddlestring\\r\\n  That feels the Master Melody--and snaps.\\r\\n\\r\\n\\r\\n_John G. Neihardt_\\r\\n\\r\\nFrom \"The Quest\" (collected', mimetype='text/plain', start_char_idx=194603, end_char_idx=198435, text_template='{metadata_str}\\n\\n{content}', metadata_template='{key}: {value}', metadata_seperator='\\n'), score=0.4120109), NodeWithScore(node=TextNode(id_='a7ac26a8-e21e-428a-a3d4-5778dc6069a9', embedding=None, metadata={'file_path': '../02_Fundamental_Concepts_in_LlamaIndex/data/pg10763.txt', 'file_name': 'pg10763.txt', 'file_type': 'text/plain', 'file_size': 405245, 'creation_date': '2025-02-02', 'last_modified_date': '2024-11-05'}, excluded_embed_metadata_keys=['file_name', 'file_type', 'file_size', 'creation_date', 'last_modified_date', 'last_accessed_date'], excluded_llm_metadata_keys=['file_name', 'file_type', 'file_size', 'creation_date', 'last_modified_date', 'last_accessed_date'], relationships={<NodeRelationship.SOURCE: '1'>: RelatedNodeInfo(node_id='../02_Fundamental_Concepts_in_LlamaIndex/data/pg10763.txt', node_type=<ObjectType.DOCUMENT: '4'>, metadata={'file_path': '../02_Fundamental_Concepts_in_LlamaIndex/data/pg10763.txt', 'file_name': 'pg10763.txt', 'file_type': 'text/plain', 'file_size': 405245, 'creation_date': '2025-02-02', 'last_modified_date': '2024-11-05'}, hash='7ed8c6d21497c7614e40a55a120dca129c90f1a385c21a5c9e8c1c26e753f43d'), <NodeRelationship.PREVIOUS: '2'>: RelatedNodeInfo(node_id='43928aa2-058e-4293-a09d-36a207966e59', node_type=<ObjectType.TEXT: '1'>, metadata={'file_path': '../02_Fundamental_Concepts_in_LlamaIndex/data/pg10763.txt', 'file_name': 'pg10763.txt', 'file_type': 'text/plain', 'file_size': 405245, 'creation_date': '2025-02-02', 'last_modified_date': '2024-11-05'}, hash='daca0f61edffde103b6a4bd91e146c35062aa26732e927402c21e8f463f4a944'), <NodeRelationship.NEXT: '3'>: RelatedNodeInfo(node_id='f31a0dd1-76a2-4d96-a8bb-37f156be9e67', node_type=<ObjectType.TEXT: '1'>, metadata={}, hash='850fe129dac3fd915d48fc7a4367817f78d880911d81d45d89b9693292dd0065')}, text='with wine\\r\\n  Than my heart cool with mortifying groans.\\r\\n  Why should a man whose blood is warm within\\r\\n  Sit like his grandsire cut in alabaster?\\r\\n  Sleep when he wakes, and creep into a jaundice\\r\\n  By being peevish?   Fare ye well awhile:\\r\\n  I\\'ll end my exhortation after dinner.\\r\\n\\r\\n\\r\\n_William Shakespeare._\\r\\n\\r\\n\\r\\n\\r\\n\\r\\nAPPRECIATION\\r\\n\\r\\n\\r\\n  Life\\'s a bully good game with its kicks and cuffs--\\r\\n    Some smile, some laugh, some bluff;\\r\\n  Some carry a load too heavy to bear\\r\\n    While some push on with never a care,\\r\\n  But the load will seldom heavy be\\r\\n    When I appreciate you and you appreciate me.\\r\\n\\r\\n  He who lives by the side of the road\\r\\n    And helps to bear his brother\\'s load\\r\\n  May seem to travel lone and long\\r\\n    While the world goes by with a merry song,\\r\\n  But the heart grows warm and sorrows flee\\r\\n    When I appreciate you and you appreciate me.\\r\\n\\r\\n  When I appreciate you and you appreciate me,\\r\\n    The road seems short to victory;\\r\\n  It buoys one up and calls \"Come on,\"\\r\\n    And days grow brighter with the dawn;\\r\\n  There is no doubt or mystery\\r\\n    When I appreciate you and you appreciate me.\\r\\n\\r\\n  It\\'s the greatest thought in heaven or earth--\\r\\n    It helps us know our fellow\\'s worth;\\r\\n  There\\'d be no wars or bitterness,\\r\\n    No fear, no hate, no grasping; yes,\\r\\n  It makes work play, and the careworn free\\r\\n    When I appreciate you and you appreciate me.\\r\\n\\r\\n\\r\\n_William Judson Kibby,_\\r\\n\\r\\n\\r\\n\\r\\n\\r\\nKEEP SWEET\\r\\n\\r\\n\\r\\nEven the direst catastrophes may be softened by our attitude to them.\\r\\nCharles II said to those who had gathered about his deathbed: \"You\\'ll\\r\\npardon any little lapses, gentlemen. I\\'ve never done this thing before.\"\\r\\n\\r\\n\\r\\n  Don\\'t be foolish and get sour when things don\\'t just come your way--\\r\\n  Don\\'t you be a pampered baby and declare, \"Now I won\\'t play!\"\\r\\n      Just go grinning on and bear it;\\r\\n      Have you heartache? Millions share it,\\r\\n      If you earn a crown, you\\'ll wear it--\\r\\n                  Keep sweet.\\r\\n\\r\\n  Don\\'t go handing out your troubles to your busy fellow-men--\\r\\n  If you whine around they\\'ll try to keep from meeting you again;\\r\\n      Don\\'t declare the world\\'s \"agin\" you,\\r\\n      Don\\'t let pessimism win you,\\r\\n      Prove there\\'s lots of good stuff in you--\\r\\n                  Keep sweet.\\r\\n\\r\\n  If your dearest hopes seem blighted and despair looms into view,\\r\\n  Set your jaw and whisper grimly, \"Though they\\'re false, yet I\\'ll be true.\"\\r\\n      Never let your heart grow bitter;\\r\\n      With your lips to Hope\\'s transmitter,\\r\\n      Hear Love\\'s songbirds bravely twitter,\\r\\n                  \"Keep sweet.\"\\r\\n\\r\\n  Bless your heart, this world\\'s a good one, and will always help a man;\\r\\n  Hate, misanthropy, and malice have no place in Nature\\'s plan.\\r\\n      Help your brother there who\\'s sighing.\\r\\n      Keep his flag of courage flying;\\r\\n      Help him try--\\'twill keep you trying--\\r\\n                  Keep sweet.\\r\\n\\r\\n\\r\\n_Strickland W. Gillilan._\\r\\n\\r\\n\\r\\n\\r\\n\\r\\nMORALITY\\r\\n\\r\\n\\r\\nWe can\\'t always, even when accomplishing, have the ardor of\\r\\naccomplishment; we can only hold to the purpose formed in more inspired\\r\\nhours. After a work is finished, even though it be a good work which our\\r\\nfinal judgment will approve, we are likely to be oppressed for a time by\\r\\nthe anxieties we have passed through; the comfort of effort has left us,\\r\\nand we recall our dreams, our intentions, beside which our actual\\r\\nachievement seems small. In such moments we should remember that just\\r\\nafter the delivery of the Gettysburg Address Lincoln believed it an\\r\\nutter failure. Yet the address was a masterpiece of commemorative\\r\\noratory.\\r\\n\\r\\n\\r\\n  We cannot kindle when we will\\r\\n    The fire which in the heart resides;\\r\\n  The', mimetype='text/plain', start_char_idx=320968, end_char_idx=324613, text_template='{metadata_str}\\n\\n{content}', metadata_template='{key}: {value}', metadata_seperator='\\n'), score=0.39260787)], metadata={'9ce1f065-6287-41d8-9179-13390b67bbdb': {'file_path': '../02_Fundamental_Concepts_in_LlamaIndex/data/pg10763.txt', 'file_name': 'pg10763.txt', 'file_type': 'text/plain', 'file_size': 405245, 'creation_date': '2025-02-02', 'last_modified_date': '2024-11-05'}, 'a7ac26a8-e21e-428a-a3d4-5778dc6069a9': {'file_path': '../02_Fundamental_Concepts_in_LlamaIndex/data/pg10763.txt', 'file_name': 'pg10763.txt', 'file_type': 'text/plain', 'file_size': 405245, 'creation_date': '2025-02-02', 'last_modified_date': '2024-11-05'}})})}"
      ]
     },
     "execution_count": 105,
     "metadata": {},
     "output_type": "execute_result"
    }
   ],
   "source": [
    "intermediates"
   ]
  },
  {
   "cell_type": "code",
   "execution_count": 106,
   "metadata": {},
   "outputs": [
    {
     "name": "stdout",
     "output_type": "stream",
     "text": [
      "Keep your head, stay calm,\n",
      "Blame is not yours to bear,\n",
      "Cool heads will prevail.\n"
     ]
    }
   ],
   "source": [
    "print(response)"
   ]
  },
  {
   "cell_type": "markdown",
   "metadata": {},
   "source": [
    "# Response Synthesizers\n",
    "\n",
    "The Llama Index [documentation](https://docs.llamaindex.ai/en/stable/module_guides/querying/response_synthesizers/) has a lot of detail regarding each of the response sythensizers. "
   ]
  },
  {
   "cell_type": "code",
   "execution_count": 82,
   "metadata": {},
   "outputs": [],
   "source": [
    "from llama_index.core.response_synthesizers import ResponseMode"
   ]
  },
  {
   "cell_type": "code",
   "execution_count": 83,
   "metadata": {},
   "outputs": [
    {
     "data": {
      "text/plain": [
       "['ACCUMULATE',\n",
       " 'COMPACT',\n",
       " 'COMPACT_ACCUMULATE',\n",
       " 'CONTEXT_ONLY',\n",
       " 'GENERATION',\n",
       " 'NO_TEXT',\n",
       " 'REFINE',\n",
       " 'SIMPLE_SUMMARIZE',\n",
       " 'TREE_SUMMARIZE',\n",
       " '__add__',\n",
       " '__class__',\n",
       " '__contains__',\n",
       " '__delattr__',\n",
       " '__dir__',\n",
       " '__doc__',\n",
       " '__eq__',\n",
       " '__format__',\n",
       " '__ge__',\n",
       " '__getattribute__',\n",
       " '__getitem__',\n",
       " '__getnewargs__',\n",
       " '__getstate__',\n",
       " '__gt__',\n",
       " '__hash__',\n",
       " '__init__',\n",
       " '__init_subclass__',\n",
       " '__iter__',\n",
       " '__le__',\n",
       " '__len__',\n",
       " '__lt__',\n",
       " '__members__',\n",
       " '__mod__',\n",
       " '__module__',\n",
       " '__mul__',\n",
       " '__name__',\n",
       " '__ne__',\n",
       " '__new__',\n",
       " '__qualname__',\n",
       " '__reduce__',\n",
       " '__reduce_ex__',\n",
       " '__repr__',\n",
       " '__rmod__',\n",
       " '__rmul__',\n",
       " '__setattr__',\n",
       " '__sizeof__',\n",
       " '__str__',\n",
       " '__subclasshook__',\n",
       " 'capitalize',\n",
       " 'casefold',\n",
       " 'center',\n",
       " 'count',\n",
       " 'encode',\n",
       " 'endswith',\n",
       " 'expandtabs',\n",
       " 'find',\n",
       " 'format',\n",
       " 'format_map',\n",
       " 'index',\n",
       " 'isalnum',\n",
       " 'isalpha',\n",
       " 'isascii',\n",
       " 'isdecimal',\n",
       " 'isdigit',\n",
       " 'isidentifier',\n",
       " 'islower',\n",
       " 'isnumeric',\n",
       " 'isprintable',\n",
       " 'isspace',\n",
       " 'istitle',\n",
       " 'isupper',\n",
       " 'join',\n",
       " 'ljust',\n",
       " 'lower',\n",
       " 'lstrip',\n",
       " 'maketrans',\n",
       " 'partition',\n",
       " 'removeprefix',\n",
       " 'removesuffix',\n",
       " 'replace',\n",
       " 'rfind',\n",
       " 'rindex',\n",
       " 'rjust',\n",
       " 'rpartition',\n",
       " 'rsplit',\n",
       " 'rstrip',\n",
       " 'split',\n",
       " 'splitlines',\n",
       " 'startswith',\n",
       " 'strip',\n",
       " 'swapcase',\n",
       " 'title',\n",
       " 'translate',\n",
       " 'upper',\n",
       " 'zfill']"
      ]
     },
     "execution_count": 83,
     "metadata": {},
     "output_type": "execute_result"
    }
   ],
   "source": [
    "dir(ResponseMode)"
   ]
  },
  {
   "cell_type": "markdown",
   "metadata": {},
   "source": [
    "# Response modes\n",
    "\n",
    "In LlamaIndex, [response modes](https://docs.llamaindex.ai/en/stable/module_guides/deploying/query_engine/response_modes/) are used to determine how the system should process and return the results of a query.  Each response mode is designed to handle different types of queries and use cases, providing flexibility and customization in how you interact with your data.\n",
    "\n",
    "\n",
    "\n",
    "#### ⚗️ Refine \n",
    "\n",
    "Refine is an iterative method to generate a response. \n",
    "\n",
    "Initially, we use the context in the first node and the query to create a basic answer. Then, we refine this answer by inputting it, along with the query and context of the second node, into a \"refine prompt\" to generate an improved answer. \n",
    "\n",
    "This refinement process continues through N-1 nodes, with N being the total number of nodes. It makes a separate LLM call per Node/retrieved chunk. This mode is good for generating more detailed answers.\n",
    "\n",
    "#### 🤏 Compact\n",
    "\n",
    "Compact and refine mode first combine text chunks into larger consolidated chunks that more fully utilize the available context window, then refine answers across them. This mode is faster than refine since we make fewer calls to the LLM. \n",
    "\n",
    "This mode is useful when you want to reduce the number of LLM calls while still refining the answer.\n",
    "\n",
    "\n",
    "#### 📝 Simple summarize\n",
    "\n",
    "Merge all text chunks into one and make a large language model call. The call will fail if the merged text chunk exceeds the context window size.\n",
    "\n",
    "It's good for quick summarization purposes, but may lose detail due to truncation.\n",
    "\n",
    "#### 🌴 Tree summarize\n",
    "\n",
    "Construct a tree index for the candidate nodes in a bottom-up manner then use a summary prompt based on the query. Return the root node as the final response. When this mode is set, the system is instructed to iterate through many, if not all, documents in order to synthesize an answer, which can lead to better summarization results. \n",
    "\n",
    "This mode is particularly useful for summarization queries, where the goal is to provide a comprehensive summary of a collection of text or a specific topic.\n",
    "\n",
    "#### 🤖 Generation\n",
    "\n",
    "Ignore context, just use LLM to generate a response.\n",
    "\n",
    "#### ❌ No text\n",
    "\n",
    "This mode only runs the retriever to fetch the nodes that would have been sent to the LLM, without actually synthesizing a final response. The nodes can then be inspected by checking `response.source_nodes`.\n",
    "\n",
    "#### 📏 Accumulate\n",
    "\n",
    "This mode applies the query to each text chunk while accumulating the responses into an array. It returns a concatenated string of all responses. \n",
    "\n",
    "This mode is good for when you need to run the same query separately against each text chunk.\n",
    "\n",
    "#### Compact accumulate\n",
    "\n",
    "In the compact and accumulate mode, text chunks are combined into larger chunks to utilize the context window better. Answers are then accumulated for each chunk and returned as a concatenation. This mode is faster than accumulate as it reduces calls to the LLM."
   ]
  },
  {
   "cell_type": "code",
   "execution_count": 85,
   "metadata": {},
   "outputs": [
    {
     "name": "stdout",
     "output_type": "stream",
     "text": [
      "\u001b[1;3;38;2;155;135;227m> Running module 6aa44991-3e07-4bba-a81b-6f3a4b0b8ac8 with input: \n",
      "input: What do the poems teach about one should think about success and failure?\n",
      "\n",
      "\u001b[0m\u001b[1;3;38;2;155;135;227m> Running module a9633f85-46fd-4b2f-9b25-135cc51a60eb with input: \n",
      "input: What do the poems teach about one should think about success and failure?\n",
      "\n",
      "\u001b[0m"
     ]
    },
    {
     "data": {
      "text/plain": [
       "Response(response='The poems teach that it is not failure itself that defines a person, but how they respond to it. It is important to get back up and keep trying, even when faced with setbacks or challenges. Success is not the only thing that matters; the struggle and effort put forth are also valuable. It is important to learn from failures and to keep fighting for what you believe in.', source_nodes=[NodeWithScore(node=TextNode(id_='e33e4bd0-d5b9-482e-813e-8d11709cd8c1', embedding=None, metadata={'file_path': '../02_Fundamental_Concepts_in_LlamaIndex/data/pg10763.txt', 'file_name': 'pg10763.txt', 'file_type': 'text/plain', 'file_size': 405245, 'creation_date': '2025-02-02', 'last_modified_date': '2024-11-05'}, excluded_embed_metadata_keys=['file_name', 'file_type', 'file_size', 'creation_date', 'last_modified_date', 'last_accessed_date'], excluded_llm_metadata_keys=['file_name', 'file_type', 'file_size', 'creation_date', 'last_modified_date', 'last_accessed_date'], relationships={<NodeRelationship.SOURCE: '1'>: RelatedNodeInfo(node_id='../02_Fundamental_Concepts_in_LlamaIndex/data/pg10763.txt', node_type=<ObjectType.DOCUMENT: '4'>, metadata={'file_path': '../02_Fundamental_Concepts_in_LlamaIndex/data/pg10763.txt', 'file_name': 'pg10763.txt', 'file_type': 'text/plain', 'file_size': 405245, 'creation_date': '2025-02-02', 'last_modified_date': '2024-11-05'}, hash='7ed8c6d21497c7614e40a55a120dca129c90f1a385c21a5c9e8c1c26e753f43d'), <NodeRelationship.PREVIOUS: '2'>: RelatedNodeInfo(node_id='36a0db5e-790a-47cd-aeb0-7b7ed73254de', node_type=<ObjectType.TEXT: '1'>, metadata={'file_path': '../02_Fundamental_Concepts_in_LlamaIndex/data/pg10763.txt', 'file_name': 'pg10763.txt', 'file_type': 'text/plain', 'file_size': 405245, 'creation_date': '2025-02-02', 'last_modified_date': '2024-11-05'}, hash='f6d8487e917c9a6561f530afda75392a0105946c0923385a2e0334e28e4539ba'), <NodeRelationship.NEXT: '3'>: RelatedNodeInfo(node_id='4445fcd5-f9ec-4df4-8d56-2c9762964dad', node_type=<ObjectType.TEXT: '1'>, metadata={}, hash='82294eeeca588991e1863cfc8ab141adeed3f45325f022a5ec9bafc1ace0f6a5')}, text='He also taught a great lesson. No honor can be too great for\\r\\nthe man, be he even our foe, who has steadily and uncomplainingly done\\r\\nhis very best--and has failed.\\r\\n\\r\\n\\r\\n  Did you tackle that trouble that came your way\\r\\n    With a resolute heart and cheerful?\\r\\n  Or hide your face from the light of day\\r\\n    With a craven soul and fearful?\\r\\n  Oh, a trouble\\'s a ton, or a trouble\\'s an ounce,\\r\\n    Or a trouble is what you make it,\\r\\n  And it isn\\'t the fact that you\\'re hurt that counts,\\r\\n    But only how did you take it?\\r\\n\\r\\n  You are beaten to earth? Well, well, what\\'s that!\\r\\n    Come up with a smiling face.\\r\\n  It\\'s nothing against you to fall down flat,\\r\\n    But to lie there--that\\'s disgrace.\\r\\n  The harder you\\'re thrown, why the higher you bounce\\r\\n    Be proud of your blackened eye!\\r\\n  It isn\\'t the fact that you\\'re licked that counts;\\r\\n    It\\'s how did you fight--and why?\\r\\n\\r\\n  And though you be done to the death, what then?\\r\\n    If you battled the best you could,\\r\\n  If you played your part in the world of men,\\r\\n    Why, the Critic will call it good.\\r\\n  Death comes with a crawl, or comes with a pounce,\\r\\n    And whether he\\'s slow or spry,\\r\\n  It isn\\'t the fact that you\\'re dead that counts,\\r\\n    But only how did you die?\\r\\n\\r\\n\\r\\n_Edmund Vance Cooke._\\r\\n\\r\\nFrom \"Impertinent Poems.\"\\r\\n\\r\\n\\r\\n\\r\\n\\r\\nA LESSON FROM HISTORY\\r\\n\\r\\n\\r\\nTo break the ice of an undertaking is difficult. To cross on broken ice,\\r\\nas Eliza did to freedom, or to row amid floating ice, as Washington did\\r\\nto victory, is harder still. This poem applies especially to those who\\r\\nare discouraged in a struggle to which they are already committed.\\r\\n\\r\\n\\r\\n  Everything\\'s easy after it\\'s done;\\r\\n  Every battle\\'s a \"cinch\" that\\'s won;\\r\\n  Every problem is clear that\\'s solved--\\r\\n  The earth was round when it _revolved!_\\r\\n  But Washington stood amid grave doubt\\r\\n  With enemy forces camped about;\\r\\n  He could not know how he would fare\\r\\n  Till _after_ he\\'d crossed the Delaware.\\r\\n\\r\\n  Though the river was full of ice\\r\\n  He did not think about it twice,\\r\\n  But started across in the dead of night,\\r\\n  The enemy waiting to open the fight.\\r\\n  Likely feeling pretty blue,\\r\\n  Being human, same as you,\\r\\n  But he was brave amid despair,\\r\\n  And Washington crossed the Delaware!\\r\\n\\r\\n  So when you\\'re with trouble beset,\\r\\n  And your spirits are soaking wet,\\r\\n  When all the sky with clouds is black,\\r\\n  Don\\'t lie down upon your back\\r\\n  And look at _them_. Just do the thing;\\r\\n  Though you are choked, still try to sing.\\r\\n  If times are dark, believe them fair,\\r\\n  And you will cross the Delaware!\\r\\n\\r\\n\\r\\n_Joseph Morris._\\r\\n\\r\\n\\r\\n\\r\\n\\r\\nRABBI BEN EZRA\\r\\n\\r\\n(SELECTED VERSES)\\r\\n\\r\\n\\r\\nTo some people success is everything, and the easier it is gained the\\r\\nbetter. To Browning success is nothing unless it is won by painful\\r\\neffort. What Browning values is struggle. Throes, rebuffs, even failure\\r\\nto achieve what we wish, are to be welcomed, for the effects of vigorous\\r\\nendeavor inweave themselves into our characters; moreover through\\r\\nstruggle we lift ourselves from the degradation into which the indolent\\r\\nfall. In the intervals of strife we may look back dispassionately upon\\r\\nwhat we have gone through, see where we erred and where we did wisely,\\r\\nwatch the workings of universal laws, and resolve to apply hereafter\\r\\nwhat we have hitherto learned.\\r\\n\\r\\n\\r\\n  Then, welcome each rebuff\\r\\n  That turns earth\\'s smoothness rough,\\r\\n  Each sting that bids nor sit nor stand but go!\\r\\n  Be our joys three-parts pain!\\r\\n  Strive, and hold cheap the strain;\\r\\n  Learn, nor account the pang; dare, never grudge the throe!\\r\\n\\r\\n  For thence,--a paradox\\r\\n  Which comforts while it mocks,--\\r\\n  Shall life succeed in that it seems to fail:\\r\\n  What I aspired to be,\\r\\n  And was not, comforts me:\\r\\n  A brute I might have been, but would not sink i\\' the scale.\\r\\n\\r\\n  So, still within this life,\\r\\n  Though lifted o\\'er its strife,\\r\\n  Let me discern, compare, pronounce at last,\\r\\n  \"This rage was right i\\' the main,\\r\\n  That acquiescence vain:\\r\\n  The Future I may face now I have proved', mimetype='text/plain', start_char_idx=45651, end_char_idx=49641, text_template='{metadata_str}\\n\\n{content}', metadata_template='{key}: {value}', metadata_seperator='\\n'), score=0.5216547)], metadata={'e33e4bd0-d5b9-482e-813e-8d11709cd8c1': {'file_path': '../02_Fundamental_Concepts_in_LlamaIndex/data/pg10763.txt', 'file_name': 'pg10763.txt', 'file_type': 'text/plain', 'file_size': 405245, 'creation_date': '2025-02-02', 'last_modified_date': '2024-11-05'}})"
      ]
     },
     "execution_count": 85,
     "metadata": {},
     "output_type": "execute_result"
    }
   ],
   "source": [
    "from llama_index.core import get_response_synthesizer\n",
    "\n",
    "response_synthesizer = get_response_synthesizer(response_mode=\"compact\")\n",
    "\n",
    "query_engine = create_query_engine(\n",
    "    index,\n",
    "    mode=\"query\",\n",
    "    response_synthesizer = response_synthesizer\n",
    "    )\n",
    "\n",
    "input_component = InputComponent()\n",
    "\n",
    "chain = [input_component, query_engine]\n",
    "\n",
    "query_pipeline = create_query_pipeline(chain)\n",
    "\n",
    "query_pipeline.run(input=\"What do the poems teach about one should think about success and failure?\")"
   ]
  }
 ],
 "metadata": {
  "kernelspec": {
   "display_name": "llama",
   "language": "python",
   "name": "python3"
  },
  "language_info": {
   "codemirror_mode": {
    "name": "ipython",
    "version": 3
   },
   "file_extension": ".py",
   "mimetype": "text/x-python",
   "name": "python",
   "nbconvert_exporter": "python",
   "pygments_lexer": "ipython3",
   "version": "3.13.1"
  }
 },
 "nbformat": 4,
 "nbformat_minor": 2
}
