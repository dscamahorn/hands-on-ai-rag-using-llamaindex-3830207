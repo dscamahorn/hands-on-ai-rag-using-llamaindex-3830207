{
 "cells": [
  {
   "cell_type": "code",
   "execution_count": 1,
   "metadata": {},
   "outputs": [],
   "source": [
    "%%capture\n",
    "%pip install llama-index qdrant-client llama-index-vector-stores-qdrant llama-index-llms-cohere llama-index-embeddings-cohere"
   ]
  },
  {
   "cell_type": "code",
   "execution_count": 2,
   "metadata": {},
   "outputs": [
    {
     "data": {
      "text/plain": [
       "True"
      ]
     },
     "execution_count": 2,
     "metadata": {},
     "output_type": "execute_result"
    }
   ],
   "source": [
    "import os\n",
    "from dotenv import load_dotenv\n",
    "from getpass import getpass\n",
    "\n",
    "import nest_asyncio\n",
    "\n",
    "nest_asyncio.apply()\n",
    "load_dotenv()"
   ]
  },
  {
   "cell_type": "code",
   "execution_count": 3,
   "metadata": {},
   "outputs": [],
   "source": [
    "CO_API_KEY = os.environ['CO_API_KEY'] or getpass(\"Enter your Cohere API key: \")"
   ]
  },
  {
   "cell_type": "code",
   "execution_count": null,
   "metadata": {},
   "outputs": [],
   "source": [
    "#OPENAI_API_KEY = os.environ['OPENAI_API_KEY'] or getpass(\"Enter your OpenAI API key: \")"
   ]
  },
  {
   "cell_type": "code",
   "execution_count": 4,
   "metadata": {},
   "outputs": [],
   "source": [
    "QDRANT_URL = os.environ['QDRANT_URL'] or getpass(\"Enter your Qdrant URL:\")"
   ]
  },
  {
   "cell_type": "code",
   "execution_count": 5,
   "metadata": {},
   "outputs": [],
   "source": [
    "QDRANT_API_KEY = os.environ['QDRANT_API_KEY'] or  getpass(\"Enter your Qdrant API Key:\")"
   ]
  },
  {
   "cell_type": "code",
   "execution_count": 6,
   "metadata": {},
   "outputs": [
    {
     "name": "stderr",
     "output_type": "stream",
     "text": [
      "[nltk_data] Downloading package punkt_tab to\n",
      "[nltk_data]     /opt/conda/envs/llama/lib/python3.13/site-\n",
      "[nltk_data]     packages/llama_index/core/_static/nltk_cache...\n",
      "[nltk_data]   Package punkt_tab is already up-to-date!\n"
     ]
    }
   ],
   "source": [
    "from llama_index.core.settings import Settings\n",
    "from llama_index.llms.cohere import Cohere\n",
    "#from llama_index.embeddings.openai import OpenAIEmbedding\n",
    "from llama_index.embeddings.cohere import CohereEmbedding\n",
    "\n",
    "Settings.llm = Cohere(model=\"command-r-plus\", api_key=CO_API_KEY)\n",
    "\n",
    "#Settings.embed_model = OpenAIEmbedding(model_name=\"text-embedding-3-small\")\n",
    "Settings.embed_model = CohereEmbedding(model_name=\"embed-english-v3.0\", api_key=CO_API_KEY)"
   ]
  },
  {
   "cell_type": "markdown",
   "metadata": {},
   "source": [
    "# Ingestion Pipeline\n",
    "\n",
    "- 🔄 **IngestionPipeline Overview**: Utilizes `Transformations` applied to input data, modifying data into nodes, which are returned or inserted to a vector database.\n",
    "\n",
    "- 💾 **Caching Mechanism**: Each node+transformation pair is cached, enhancing efficiency for identical subsequent operations by utilizing cached results.\n",
    "\n",
    "\n",
    "### Using an `IngestionPipeline`\n",
    "\n",
    "First, let's read in some data. "
   ]
  },
  {
   "cell_type": "code",
   "execution_count": 7,
   "metadata": {},
   "outputs": [],
   "source": [
    "from llama_index.core import SimpleDirectoryReader\n",
    "\n",
    "documents = SimpleDirectoryReader(\n",
    "    input_files = [\"../02_Fundamental_Concepts_in_LlamaIndex/data/pg10763.txt\"], \n",
    "    filename_as_id=True).load_data()"
   ]
  },
  {
   "cell_type": "markdown",
   "metadata": {},
   "source": [
    "# Ingestion Pipeline with Document Management\n",
    "\n",
    "\n",
    " •  💾 **Caching in IngestionPipeline**: Hashes and stores each node + transformation combination to speed up future processes with identical data.\n",
    "\n",
    " •  📁 **Local Cache Management**: The input nodes list and transformation pair are cached in the pipeline. When we apply the same transformation to that list of nodes again, the output nodes are retrieved from the cache.\n",
    "\n",
    " •  📚 **Docstore Attachment**:  Enables document management in the ingestion pipeline, using `doc_id` or `node.ref_doc_id` for identification. Prevents running a transformation on the same document multiple times by using the document ID and the hash of the document content to manage duplicates.\n",
    "\n",
    " •  🗂️ **Duplicate Handling**:\n",
    "  - Maintains a `doc_id` to `document_hash` map to identify duplicates.\n",
    "\n",
    "  - Re-processes documents if the same `doc_id` is found with a changed hash.\n",
    "\n",
    "  - Skips documents if the same `doc_id` is found but the hash remains unchanged.\n",
    "\n",
    " •  🚫 **Without Vector Store**:\n",
    "  - Limited to checking and removing duplicate inputs.\n",
    "\n",
    " •  ✨ **With Vector Store**:\n",
    "  - Enables handling of upserts for updated documents, offering advanced management capabilities."
   ]
  },
  {
   "cell_type": "code",
   "execution_count": 20,
   "metadata": {},
   "outputs": [],
   "source": [
    "from qdrant_client import QdrantClient\n",
    "\n",
    "from llama_index.core import StorageContext, VectorStoreIndex\n",
    "from llama_index.core.ingestion import IngestionCache, IngestionPipeline\n",
    "from llama_index.core.node_parser import TokenTextSplitter\n",
    "from llama_index.core.storage.docstore import SimpleDocumentStore\n",
    "from llama_index.vector_stores.qdrant import QdrantVectorStore\n",
    "\n",
    "client = QdrantClient(\n",
    "    url=QDRANT_URL, \n",
    "    api_key=QDRANT_API_KEY,\n",
    ")\n",
    "\n",
    "vector_store = QdrantVectorStore(\n",
    "    client=client, \n",
    "    collection_name=\"it_can_be_done\")\n",
    "\n",
    "ingest_cache = IngestionCache(\n",
    "    collection=\"it_can_be_done\",\n",
    ")\n",
    "\n",
    "# create pipeline with transformations\n",
    "pipeline = IngestionPipeline(\n",
    "    transformations=[\n",
    "        TokenTextSplitter(chunk_size=1024, chunk_overlap=16),# Had to change from 256 to work with token limits of free tier\n",
    "        Settings.embed_model\n",
    "    ],\n",
    "    docstore=SimpleDocumentStore(),\n",
    "    vector_store=vector_store,\n",
    "    cache=ingest_cache,\n",
    ")\n",
    "\n",
    "# run the pipeline\n",
    "nodes = pipeline.run(documents = documents)"
   ]
  },
  {
   "cell_type": "code",
   "execution_count": 12,
   "metadata": {},
   "outputs": [
    {
     "data": {
      "text/plain": [
       "dict_keys(['id_', 'embedding', 'metadata', 'excluded_embed_metadata_keys', 'excluded_llm_metadata_keys', 'relationships', 'text', 'mimetype', 'start_char_idx', 'end_char_idx', 'text_template', 'metadata_template', 'metadata_seperator'])"
      ]
     },
     "execution_count": 12,
     "metadata": {},
     "output_type": "execute_result"
    }
   ],
   "source": [
    "nodes[0].__dict__.keys()"
   ]
  },
  {
   "cell_type": "code",
   "execution_count": 13,
   "metadata": {},
   "outputs": [],
   "source": [
    "index = VectorStoreIndex.from_vector_store(vector_store=vector_store)"
   ]
  },
  {
   "cell_type": "code",
   "execution_count": 14,
   "metadata": {},
   "outputs": [],
   "source": [
    "retriever = index.as_retriever(\n",
    "    similarity_top_k=7, \n",
    "    return_sources=True\n",
    "    )"
   ]
  },
  {
   "cell_type": "code",
   "execution_count": 15,
   "metadata": {},
   "outputs": [],
   "source": [
    "retrieved_nodes = retriever.retrieve(\"Poems about starting where you stand, and not making dreams your master\")"
   ]
  },
  {
   "cell_type": "code",
   "execution_count": 16,
   "metadata": {},
   "outputs": [
    {
     "data": {
      "text/plain": [
       "[NodeWithScore(node=TextNode(id_='dde8063b-0a48-4f1e-a96f-86b85123b615', embedding=None, metadata={'file_path': '../02_Fundamental_Concepts_in_LlamaIndex/data/pg10763.txt', 'file_name': 'pg10763.txt', 'file_type': 'text/plain', 'file_size': 405245, 'creation_date': '2025-02-02', 'last_modified_date': '2024-11-05'}, excluded_embed_metadata_keys=['file_name', 'file_type', 'file_size', 'creation_date', 'last_modified_date', 'last_accessed_date'], excluded_llm_metadata_keys=['file_name', 'file_type', 'file_size', 'creation_date', 'last_modified_date', 'last_accessed_date'], relationships={<NodeRelationship.SOURCE: '1'>: RelatedNodeInfo(node_id='../02_Fundamental_Concepts_in_LlamaIndex/data/pg10763.txt', node_type=<ObjectType.DOCUMENT: '4'>, metadata={'file_path': '../02_Fundamental_Concepts_in_LlamaIndex/data/pg10763.txt', 'file_name': 'pg10763.txt', 'file_type': 'text/plain', 'file_size': 405245, 'creation_date': '2025-02-02', 'last_modified_date': '2024-11-05'}, hash='7ed8c6d21497c7614e40a55a120dca129c90f1a385c21a5c9e8c1c26e753f43d'), <NodeRelationship.PREVIOUS: '2'>: RelatedNodeInfo(node_id='f76d60e1-475e-41b3-a296-efc68c487153', node_type=<ObjectType.TEXT: '1'>, metadata={'file_path': '../02_Fundamental_Concepts_in_LlamaIndex/data/pg10763.txt', 'file_name': 'pg10763.txt', 'file_type': 'text/plain', 'file_size': 405245, 'creation_date': '2025-02-02', 'last_modified_date': '2024-11-05'}, hash='6d4509df77d99402dcb88d9457bf792a8158ef84f41d8f7b5e4bae23ca60ffb9'), <NodeRelationship.NEXT: '3'>: RelatedNodeInfo(node_id='dccfbe80-efac-4930-98f1-c1dd4b301657', node_type=<ObjectType.TEXT: '1'>, metadata={}, hash='c1132fcd92f0063105a52ea26cd3c28ba951f163f9a1fe7c1db9fc4f32778e55')}, text='To serve your turn long after they are gone,\\r\\n  And so hold on when there is nothing in you\\r\\n    Except the Will which says to them; \"Hold on!\"\\r\\n\\r\\n  If you can talk with crowds and keep your virtue,\\r\\n    Or walk with Kings--nor lose the common touch,\\r\\n  If neither foes nor loving friends can hurt you,\\r\\n    If all men count with you, but none too much;\\r\\n  If you can fill the unforgiving minute\\r\\n    With sixty seconds\\' worth of distance run,\\r\\n  Yours is the Earth and everything that\\'s in it,\\r\\n    And--which is more--you\\'ll be a Man, my son!\\r\\n\\r\\n\\r\\n_Rudyard Kipling._\\r\\n\\r\\nFrom \"Rudyard Kipling\\'s Verse, 1885-1918.\"\\r\\n\\r\\n\\r\\n\\r\\n\\r\\nINVICTUS\\r\\n\\r\\n\\r\\nTriumph in spirit over adverse conditions is the keynote of this poem of\\r\\ncourage undismayed. It rings with the power of the individual to guide\\r\\nhis own destiny.\\r\\n\\r\\n\\r\\n  Out of the night that covers me,\\r\\n    Black as the Pit from pole to pole,\\r\\n  I thank whatever gods may be\\r\\n    For my unconquerable soul.\\r\\n\\r\\n  In the fell clutch of circumstance\\r\\n    I have not winced nor cried aloud.\\r\\n  Under the bludgeonings of chance\\r\\n    My head is bloody, but unbowed.\\r\\n\\r\\n  Beyond this place of wrath and tears\\r\\n    Looms but the Horror of the shade,\\r\\n  And yet the menace of the years\\r\\n    Finds, and shall find, me unafraid.\\r\\n\\r\\n  It matters not how strait the gate,\\r\\n    How charged with punishments the scroll,\\r\\n  I am the master of my fate:\\r\\n    I am the captain of my soul.\\r\\n\\r\\n\\r\\n_William Ernest Henley._\\r\\n\\r\\n\\r\\n\\r\\n\\r\\nIT COULDN\\'T BE DONE\\r\\n\\r\\n\\r\\nAfter a thing has been done, everybody is ready to declare it easy. But\\r\\nbefore it has been done, it is called impossible. One reason why people\\r\\nfear to embark upon great enterprises is that they see all the\\r\\ndifficulties at once. They know they could succeed in the initial tasks,\\r\\nbut they shrink from what is to follow. Yet \"a thing begun is half\\r\\ndone.\" Moreover the surmounting of the first barrier gives strength and\\r\\ningenuity for the harder ones beyond. Mountains viewed from a distance\\r\\nseem to be unscalable. But they can be climbed, and the way to begin is\\r\\nto take the first upward step. From that moment the mountains are less\\r\\nhigh. As Hannibal led his army across the foothills, then among the\\r\\nupper ranges, and finally over the loftiest peaks and passes of the\\r\\nAlps, or as Peary pushed farther and farther into the solitudes that\\r\\nencompass the North Pole, so can you achieve any purpose whatsoever if\\r\\nyou heed not the doubters, meet each problem as it arises, and keep ever\\r\\nwith you the assurance _It Can Be Done_.\\r\\n\\r\\n\\r\\n  Somebody said that it couldn\\'t be done,\\r\\n    But he with a chuckle replied\\r\\n  That \"maybe it couldn\\'t,\" but he would be one\\r\\n    Who wouldn\\'t say so till he\\'d tried.\\r\\n  So he buckled right in with the trace of a grin\\r\\n    On his face. If he worried he hid it.\\r\\n  He started to sing as he tackled the thing\\r\\n    That couldn\\'t be done, and he did it.\\r\\n\\r\\n  Somebody scoffed: \"Oh, you\\'ll never do that;\\r\\n    At least no one ever has done it\";\\r\\n  But he took off his coat and he took off his hat,\\r\\n    And the first thing we knew he\\'d begun it.\\r\\n  With a lift of his chin and a bit of a grin,\\r\\n    Without any doubting or quiddit,\\r\\n  He started to sing as he tackled the thing\\r\\n    That couldn\\'t be done, and he did it.\\r\\n\\r\\n  There are thousands to tell you it cannot be done,\\r\\n    There are thousands to prophesy failure;\\r\\n  There are thousands to point out to you one by one,\\r\\n    The dangers that wait to assail you.\\r\\n  But just buckle in with a bit of a grin,\\r\\n    Just take off your coat and go to it;\\r\\n  Just start to sing as you tackle the thing\\r\\n    That \"cannot be done,\" and you\\'ll do it.\\r\\n\\r\\n\\r\\n_Edgar A. Guest._\\r\\n\\r\\nFrom \"The Path to Home.\"\\r\\n\\r\\n\\r\\n\\r\\n\\r\\nTHE WELCOME MAN\\r\\n\\r\\n\\r\\n  There\\'s a man in the world who is never turned down, wherever\\r\\n  he chances to stray; he gets the glad hand in the populous\\r\\n  town, or out where the', mimetype='text/plain', start_char_idx=23668, end_char_idx=27510, text_template='{metadata_str}\\n\\n{content}', metadata_template='{key}: {value}', metadata_seperator='\\n'), score=0.4767366),\n",
       " NodeWithScore(node=TextNode(id_='31f673fa-51a8-4f22-bc36-74c616db7a23', embedding=None, metadata={'file_path': '../02_Fundamental_Concepts_in_LlamaIndex/data/pg10763.txt', 'file_name': 'pg10763.txt', 'file_type': 'text/plain', 'file_size': 405245, 'creation_date': '2025-02-02', 'last_modified_date': '2024-11-05'}, excluded_embed_metadata_keys=['file_name', 'file_type', 'file_size', 'creation_date', 'last_modified_date', 'last_accessed_date'], excluded_llm_metadata_keys=['file_name', 'file_type', 'file_size', 'creation_date', 'last_modified_date', 'last_accessed_date'], relationships={<NodeRelationship.SOURCE: '1'>: RelatedNodeInfo(node_id='../02_Fundamental_Concepts_in_LlamaIndex/data/pg10763.txt', node_type=<ObjectType.DOCUMENT: '4'>, metadata={'file_path': '../02_Fundamental_Concepts_in_LlamaIndex/data/pg10763.txt', 'file_name': 'pg10763.txt', 'file_type': 'text/plain', 'file_size': 405245, 'creation_date': '2025-02-02', 'last_modified_date': '2024-11-05'}, hash='7ed8c6d21497c7614e40a55a120dca129c90f1a385c21a5c9e8c1c26e753f43d'), <NodeRelationship.PREVIOUS: '2'>: RelatedNodeInfo(node_id='7bb37a47-2200-49cc-b5ff-0a7999a2a09a', node_type=<ObjectType.TEXT: '1'>, metadata={'file_path': '../02_Fundamental_Concepts_in_LlamaIndex/data/pg10763.txt', 'file_name': 'pg10763.txt', 'file_type': 'text/plain', 'file_size': 405245, 'creation_date': '2025-02-02', 'last_modified_date': '2024-11-05'}, hash='f1a26828d6821c22093485b227743de61ccc27345bd3a748fbbbc4e6ad610b47'), <NodeRelationship.NEXT: '3'>: RelatedNodeInfo(node_id='8198e887-179e-4851-a2d4-c9a030809998', node_type=<ObjectType.TEXT: '1'>, metadata={}, hash='0fa16843e8100295f88334a6e9aaa898347ad6d2c5aa0946076a98c59b9c198b')}, text='they come to fame;\\r\\n    But as the red star guides across the night,\\r\\n  I train the stalwart for a better game;\\r\\n    I drive the brave into a harder fight.\\r\\n\\r\\n  My name is Hard Luck--the wrecker of rare dreams--\\r\\n    I follow all who seek the open fray;\\r\\n  I am the shadow where the far light gleams\\r\\n    For those who seek to know the open way;\\r\\n  Quitters I break before they reach the crest,\\r\\n    But where the red field echoes with the drums,\\r\\n  I build the fighter for the final test\\r\\n    And mold the brave for any drive that comes.\\r\\n\\r\\n  My name is Sorrow--I shall come to all\\r\\n    To block the surfeit of an endless joy;\\r\\n  Along the Sable Road I pay my call\\r\\n    Before the sweetness of success can cloy;\\r\\n  And weaker souls shall weep amid the throng\\r\\n    And fall before me, broken and dismayed;\\r\\n  But braver hearts shall know that I belong\\r\\n    And take me in, serene and unafraid.\\r\\n\\r\\n  My name\\'s Defeat--but through the bitter fight,\\r\\n    To those who know, I\\'m something more than friend;\\r\\n  For I can build beyond the wrath of might\\r\\n    And drive away all yellow from the blend;\\r\\n  For those who quit, I am the final blow,\\r\\n    But for the brave who seek their chance to learn,\\r\\n  I show the way, at last, beyond the foe,\\r\\n    To where the scarlet flames of triumph burn.\\r\\n\\r\\n\\r\\n_Grantland Rice._\\r\\n\\r\\nFrom \"The Sportlight.\"\\r\\n\\r\\n\\r\\n\\r\\n\\r\\nLIFE\\r\\n\\r\\n\\r\\nMost of us have failed or gone astray in one fashion or another, at one\\r\\ntime or another. But we need not become despondent at such times. We\\r\\nshould resolve to reap the full benefit of the discovery of our\\r\\nweakness, our folly.\\r\\n\\r\\n\\r\\n  All in the dark we grope along,\\r\\n    And if we go amiss\\r\\n  We learn at least which path is wrong,\\r\\n    And there is gain in this.\\r\\n\\r\\n  We do not always win the race\\r\\n    By only running right,\\r\\n  We have to tread the mountain\\'s base\\r\\n    Before we reach its height.\\r\\n\\r\\n       *       *       *       *       *\\r\\n\\r\\n  But he who loves himself the last\\r\\n    And knows the use of pain,\\r\\n  Though strewn with errors all his past,\\r\\n    He surely shall attain.\\r\\n\\r\\n  Some souls there are that needs must taste\\r\\n    Of wrong, ere choosing right;\\r\\n  We should not call those years a waste\\r\\n    Which led us to the light.\\r\\n\\r\\n\\r\\n_Etta Wheeler Wilcox._\\r\\n\\r\\nFrom \"Poems of Power.\"\\r\\n\\r\\n\\r\\n\\r\\n\\r\\nA TOAST TO MERRIMENT\\r\\n\\r\\n\\r\\nA lady said to Whistler that there were but two painters--himself and\\r\\nVelazquez. He replied: \"Madam, why drag in Velazquez?\" So it is with\\r\\nJoyousness and Gloom. Both exist,--but why drag in Gloom?\\r\\n\\r\\n\\r\\n  Make merry! Though the day be gray\\r\\n  Forget the clouds and let\\'s be gay!\\r\\n    How short the days we linger here:\\r\\n    A birth, a breath, and then--the bier!\\r\\n  Make merry, you and I, for when\\r\\n  We part we may not meet again!\\r\\n\\r\\n  What tonic is there in a frown?\\r\\n  You may go up and I go down,\\r\\n    Or I go up and you--who knows\\r\\n    The way that either of us goes?\\r\\n  Make merry! Here\\'s a laugh, for when\\r\\n  We part we may not meet again!\\r\\n\\r\\n  Make merry! What of frets and fears?\\r\\n  There is no happiness in tears.\\r\\n    You tremble at the cloud and lo!\\r\\n    \\'Tis gone--and so \\'tis with our woe,\\r\\n  Full half of it but fancied ills.\\r\\n  Make merry! \\'Tis the gloom that kills.\\r\\n\\r\\n  Make merry! There is sunshine yet,\\r\\n  The gloom that promised, let\\'s forget,\\r\\n    The quip and jest are on the wing,\\r\\n    Why sorrow when we ought to sing?\\r\\n  Refill the cup of joy, for then\\r\\n  We part and may not meet again.\\r\\n\\r\\n  A smile, a jest, a joke--alas!\\r\\n  We come, we wonder, and we pass.\\r\\n    The shadow falls; so long we rest\\r\\n    In graves,', mimetype='text/plain', start_char_idx=212750, end_char_idx=216282, text_template='{metadata_str}\\n\\n{content}', metadata_template='{key}: {value}', metadata_seperator='\\n'), score=0.43723935),\n",
       " NodeWithScore(node=TextNode(id_='a221b645-bcff-413b-a07e-ec412845a32d', embedding=None, metadata={'file_path': '../02_Fundamental_Concepts_in_LlamaIndex/data/pg10763.txt', 'file_name': 'pg10763.txt', 'file_type': 'text/plain', 'file_size': 405245, 'creation_date': '2025-02-02', 'last_modified_date': '2024-11-05'}, excluded_embed_metadata_keys=['file_name', 'file_type', 'file_size', 'creation_date', 'last_modified_date', 'last_accessed_date'], excluded_llm_metadata_keys=['file_name', 'file_type', 'file_size', 'creation_date', 'last_modified_date', 'last_accessed_date'], relationships={<NodeRelationship.SOURCE: '1'>: RelatedNodeInfo(node_id='../02_Fundamental_Concepts_in_LlamaIndex/data/pg10763.txt', node_type=<ObjectType.DOCUMENT: '4'>, metadata={'file_path': '../02_Fundamental_Concepts_in_LlamaIndex/data/pg10763.txt', 'file_name': 'pg10763.txt', 'file_type': 'text/plain', 'file_size': 405245, 'creation_date': '2025-02-02', 'last_modified_date': '2024-11-05'}, hash='7ed8c6d21497c7614e40a55a120dca129c90f1a385c21a5c9e8c1c26e753f43d'), <NodeRelationship.PREVIOUS: '2'>: RelatedNodeInfo(node_id='afe4ea3f-e01c-40c2-89cf-5f6970364eff', node_type=<ObjectType.TEXT: '1'>, metadata={'file_path': '../02_Fundamental_Concepts_in_LlamaIndex/data/pg10763.txt', 'file_name': 'pg10763.txt', 'file_type': 'text/plain', 'file_size': 405245, 'creation_date': '2025-02-02', 'last_modified_date': '2024-11-05'}, hash='ae84ce9c7a70ab034bf862bf64badec1614184cea85fabe12de7dd579d9914d0'), <NodeRelationship.NEXT: '3'>: RelatedNodeInfo(node_id='0c343bbb-8508-4cc3-84e1-232766fbda39', node_type=<ObjectType.TEXT: '1'>, metadata={}, hash='e5a13db320290f6ddca374bcc46481729d59cbff54b495e948cbf642ef060c8c')}, text='any fact\\r\\n  My wish that failed to act.\\r\\n\\r\\n  Others shall sing the song,\\r\\n  Others shall right the wrong,--\\r\\n  Finish what I begin,\\r\\n  And all I fail of win.\\r\\n\\r\\n  What matter, I or they?\\r\\n  Mine or another\\'s day,\\r\\n  So the right word be said\\r\\n  And life the sweeter made?\\r\\n\\r\\n  Hail to the coming singers!\\r\\n  Hail to the brave light-bringers!\\r\\n  Forward I reach and share\\r\\n  All that they sing and dare.\\r\\n\\r\\n  The airs of heaven blow o\\'er me;\\r\\n  A glory shines before me\\r\\n  Of what mankind shall be,--\\r\\n  Pure, generous, brave, and free.\\r\\n\\r\\n  A dream of man and woman\\r\\n  Diviner but still human,\\r\\n  Solving the riddle old,\\r\\n  Shaping the Age of Gold!\\r\\n\\r\\n  The love of God and neighbor;\\r\\n  An equal-handed labor;\\r\\n  The richer life, where beauty\\r\\n  Walks hand in hand with duty.\\r\\n\\r\\n  Ring, bells in unreared steeples,\\r\\n  The joy of unborn peoples!\\r\\n  Sound, trumpets far off blown,\\r\\n  Your triumph is my own.\\r\\n\\r\\n  Parcel and part of all,\\r\\n  I keep the festival,\\r\\n  Fore-reach the good to be,\\r\\n  And share the victory.\\r\\n\\r\\n  I feel the earth move sunward,\\r\\n  I join the great march onward,\\r\\n  And take, by faith, while living,\\r\\n  My freehold of thanksgiving.\\r\\n\\r\\n\\r\\n_John Green leaf Whittier._\\r\\n\\r\\n\\r\\n\\r\\n\\r\\nTO ALTHEA FROM PRISON\\r\\n\\r\\n\\r\\nIn the great Civil War in England between the Puritans and Charles the\\r\\nFirst the author of this poem sacrificed everything in the royal cause.\\r\\nThat cause was defeated and Lovelace was imprisoned. In these stanzas he\\r\\nmakes the most of his gloomy situation and sings the joys of various\\r\\nkinds of freedom. First is the freedom brought by love, when his\\r\\nsweetheart speaks to him through the grate of the dungeon. Second is the\\r\\nfreedom brought by the recollection of good fellowship, when tried and\\r\\ntrue comrades took their wine straight--\"with no allaying Thames.\" Third\\r\\nis the freedom brought by remembrance of the king for whom he was\\r\\nsuffering. Finally comes the passionate and heroic assertion that though\\r\\nthe body of a man may be confined, nevertheless his spirit can remain\\r\\nfree and chainless.\\r\\n\\r\\n\\r\\n  When Love with unconfinéd wings\\r\\n    Hovers within my gates,\\r\\n  And my divine Althea brings\\r\\n    To whisper at the grates;\\r\\n  When I lie tangled in her hair\\r\\n    And fetter\\'d to her eye,\\r\\n  The Gods that wanton in the air\\r\\n    Know no such liberty.\\r\\n\\r\\n  When flowing cups run swiftly round\\r\\n    With no allaying Thames,\\r\\n  Our careless heads with roses bound,\\r\\n    Our hearts with loyal flames;\\r\\n  When thirsty grief in wine we steep,\\r\\n    When healths and draughts go free--\\r\\n  Fishes that tipple in the deep\\r\\n    Know no such liberty.\\r\\n\\r\\n  When (like committed linnets) I\\r\\n    With shriller throat shall sing\\r\\n  The sweetness, mercy, majesty\\r\\n    And glories of my King;\\r\\n  When I shall voice aloud how good\\r\\n    He is, how great should be,\\r\\n  Enlarged winds, that curl the flood,\\r\\n    Know no such liberty.\\r\\n\\r\\n  Stone walls do not a prison make,\\r\\n    Nor iron bars a cage;\\r\\n  Minds innocent and quiet take\\r\\n    That for an hermitage;\\r\\n  If I have freedom in my love\\r\\n    And in my soul am free,\\r\\n  Angels alone, that soar above,\\r\\n    Enjoy such liberty.\\r\\n\\r\\n\\r\\n_Richard Lovelace._\\r\\n\\r\\n\\r\\n\\r\\n\\r\\nGRIEF\\r\\n\\r\\n\\r\\nShakespeare says: \"I can easier teach twenty what were good to be done,\\r\\nthan be one of the twenty to follow mine own teaching.\" This is\\r\\nespecially true regarding grief or affliction. \"Man was born unto\\r\\ntrouble, as the sparks fly upward,\" but we bid other people bear their\\r\\nsorrows manfully; we should therefore bear ours with equal courage.\\r\\n\\r\\n\\r\\n  Upon this trouble shall I whet my life\\r\\n  As \\'twere a dulling knife;\\r\\n  Bade I my friend be brave?\\r\\n  I shall still braver be.\\r\\n  No man shall say of me,\\r\\n  \"Others he saved, himself he cannot save.\"\\r\\n  But swift and fair\\r\\n  As the Primeval word that smote the night--\\r\\n  \"Let there be light!\"\\r\\n  Courage shall leap from me, a gallant sword\\r\\n  To rout the enemy and all his horde,\\r\\n  Cleaving a kingly pathway through despair.\\r\\n\\r\\n\\r\\n_Angela', mimetype='text/plain', start_char_idx=147020, end_char_idx=150950, text_template='{metadata_str}\\n\\n{content}', metadata_template='{key}: {value}', metadata_seperator='\\n'), score=0.43520242),\n",
       " NodeWithScore(node=TextNode(id_='9ce1f065-6287-41d8-9179-13390b67bbdb', embedding=None, metadata={'file_path': '../02_Fundamental_Concepts_in_LlamaIndex/data/pg10763.txt', 'file_name': 'pg10763.txt', 'file_type': 'text/plain', 'file_size': 405245, 'creation_date': '2025-02-02', 'last_modified_date': '2024-11-05'}, excluded_embed_metadata_keys=['file_name', 'file_type', 'file_size', 'creation_date', 'last_modified_date', 'last_accessed_date'], excluded_llm_metadata_keys=['file_name', 'file_type', 'file_size', 'creation_date', 'last_modified_date', 'last_accessed_date'], relationships={<NodeRelationship.SOURCE: '1'>: RelatedNodeInfo(node_id='../02_Fundamental_Concepts_in_LlamaIndex/data/pg10763.txt', node_type=<ObjectType.DOCUMENT: '4'>, metadata={'file_path': '../02_Fundamental_Concepts_in_LlamaIndex/data/pg10763.txt', 'file_name': 'pg10763.txt', 'file_type': 'text/plain', 'file_size': 405245, 'creation_date': '2025-02-02', 'last_modified_date': '2024-11-05'}, hash='7ed8c6d21497c7614e40a55a120dca129c90f1a385c21a5c9e8c1c26e753f43d'), <NodeRelationship.PREVIOUS: '2'>: RelatedNodeInfo(node_id='16140cc9-46db-4858-85df-558489240d9b', node_type=<ObjectType.TEXT: '1'>, metadata={'file_path': '../02_Fundamental_Concepts_in_LlamaIndex/data/pg10763.txt', 'file_name': 'pg10763.txt', 'file_type': 'text/plain', 'file_size': 405245, 'creation_date': '2025-02-02', 'last_modified_date': '2024-11-05'}, hash='424094929ed52d224afcb5a59256cd5771041771128aa7a31368b18880faef8e'), <NodeRelationship.NEXT: '3'>: RelatedNodeInfo(node_id='ca1560b7-13e6-42a0-8fe5-a27ebfae5b28', node_type=<ObjectType.TEXT: '1'>, metadata={}, hash='8b0f57fd1cac1273d21ce4eb382158a0cbcf245e8507566e1670252c9cbb1974')}, text='kind\\r\\n    Should try to be a peacock;\\r\\n  And the peacocks were mad that one with their tail\\r\\n    Should belong to a common fowl flock.\\r\\n  So the chickens beset him most cruelly behind,\\r\\n    And yanked his whole tail out together;\\r\\n  The peacocks attacked him madly before,\\r\\n    And pulled out each chicken feather.\\r\\n  And when he stood stripped clean down to the skin,\\r\\n    A horrible thing to the rest,\\r\\n  He learned this sad lesson when it was too late--\\r\\n    As his own simple self he was best.\\r\\n\\r\\n\\r\\n_Joseph Morris._\\r\\n\\r\\n\\r\\n\\r\\n\\r\\nKEEP ON KEEPIN\\' ON\\r\\n\\r\\n\\r\\nThe author of these homely stanzas has caught perfectly the spirit which\\r\\nsucceeds in the rough-and-tumble of actual life.\\r\\n\\r\\n\\r\\n  If the day looks kinder gloomy\\r\\n  And your chances kinder slim,\\r\\n  If the situation\\'s puzzlin\\'\\r\\n  And the prospect\\'s awful grim,\\r\\n  If perplexities keep pressin\\'\\r\\n  Till hope is nearly gone,\\r\\n  Just bristle up and grit your teeth\\r\\n  And keep on keepin\\' on.\\r\\n\\r\\n  Frettin\\' never wins a fight\\r\\n  And fumin\\' never pays;\\r\\n  There ain\\'t no use in broodin\\'\\r\\n  In these pessimistic ways;\\r\\n  Smile just kinder cheerfully\\r\\n  Though hope is nearly gone,\\r\\n  And bristle up and grit your teeth\\r\\n  And keep on keepin\\' on.\\r\\n\\r\\n  There ain\\'t no use in growlin\\'\\r\\n  And grumblin\\' all the time,\\r\\n  When music\\'s ringin\\' everywhere\\r\\n  And everything\\'s a rhyme.\\r\\n  Just keep on smilin\\' cheerfully\\r\\n  If hope is nearly gone,\\r\\n  And bristle up and grit your teeth\\r\\n  And keep on keepin\\' on.\\r\\n\\r\\n\\r\\n_Anonymous._\\r\\n\\r\\n\\r\\n\\r\\n\\r\\nTHE DISAPPOINTED\\r\\n\\r\\n\\r\\nThose who have striven nobly and failed deserve sympathy. Sometimes they\\r\\ndeserve also praise unreserved, in that they have refused to do\\r\\nsomething ignoble which would have led to what the world calls success.\\r\\nThey have lived the idea which Macbeth merely proclaimed:\\r\\n\\r\\n  \"I dare do all that may become a man;\\r\\n  Who dares do more is none.\"\\r\\n\\r\\n\\r\\n  There are songs enough for the hero\\r\\n    Who dwells on the heights of fame;\\r\\n  I sing of the disappointed--\\r\\n    For those who have missed their aim.\\r\\n\\r\\n  I sing with a tearful cadence\\r\\n    For one who stands in the dark,\\r\\n  And knows that his last, best arrow\\r\\n    Has bounded back from the mark.\\r\\n\\r\\n  I sing for the breathless runner,\\r\\n    The eager, anxious soul,\\r\\n  Who falls with his strength exhausted.\\r\\n    Almost in sight of the goal;\\r\\n\\r\\n  For the hearts that break in silence,\\r\\n    With a sorrow all unknown,\\r\\n  For those who need companions,\\r\\n    Yet walk their ways alone.\\r\\n\\r\\n  There are songs enough for the lovers\\r\\n    Who share love\\'s tender pain,\\r\\n  I sing for the one whose passion\\r\\n    Is given all in vain.\\r\\n\\r\\n  For those whose spirit comrades\\r\\n    Have missed them on their way,\\r\\n  I sing, with a heart o\\'erflowing,\\r\\n    This minor strain to-day.\\r\\n\\r\\n  And I know the Solar system\\r\\n    Must somewhere keep in space\\r\\n  A prize for that spent runner\\r\\n    Who barely lost the race.\\r\\n\\r\\n  For the plan would be imperfect\\r\\n    Unless it held some sphere\\r\\n  That paid for the toil and talent\\r\\n    And love that are wasted here.\\r\\n\\r\\n\\r\\n_Ella Wheeler Wilcox._\\r\\n\\r\\nFrom \"Picked Poems.\"\\r\\n\\r\\n\\r\\n\\r\\n\\r\\nLET ME LIVE OUT MY YEARS\\r\\n\\r\\n\\r\\nWe speak of the comforts and ease of old age, but our noblest selves do\\r\\nnot really desire them. We want to do more than exist. We want to be\\r\\nalive to the very last.\\r\\n\\r\\n\\r\\n  Let me live out my years in heat of blood!\\r\\n  Let me die drunken with the dreamer\\'s wine!\\r\\n  Let me not see this soul-house built of mud\\r\\n  Go toppling to the dust--a vacant shrine!\\r\\n\\r\\n  Let me go quickly like a candle light\\r\\n  Snuffed out just at the heyday of its glow!\\r\\n  Give me high noon--and let it then be night!\\r\\n      Thus would I go.\\r\\n\\r\\n  And grant that when I face the grisly Thing,\\r\\n  My song may triumph down the gray Perhaps!\\r\\n  Let me be as a tuneswept fiddlestring\\r\\n  That feels the Master Melody--and snaps.\\r\\n\\r\\n\\r\\n_John G. Neihardt_\\r\\n\\r\\nFrom \"The Quest\" (collected', mimetype='text/plain', start_char_idx=194603, end_char_idx=198435, text_template='{metadata_str}\\n\\n{content}', metadata_template='{key}: {value}', metadata_seperator='\\n'), score=0.4290609),\n",
       " NodeWithScore(node=TextNode(id_='c0d1f751-6c30-44fb-9f07-5f3169a6fa67', embedding=None, metadata={'file_path': '../02_Fundamental_Concepts_in_LlamaIndex/data/pg10763.txt', 'file_name': 'pg10763.txt', 'file_type': 'text/plain', 'file_size': 405245, 'creation_date': '2025-02-02', 'last_modified_date': '2024-11-05'}, excluded_embed_metadata_keys=['file_name', 'file_type', 'file_size', 'creation_date', 'last_modified_date', 'last_accessed_date'], excluded_llm_metadata_keys=['file_name', 'file_type', 'file_size', 'creation_date', 'last_modified_date', 'last_accessed_date'], relationships={<NodeRelationship.SOURCE: '1'>: RelatedNodeInfo(node_id='../02_Fundamental_Concepts_in_LlamaIndex/data/pg10763.txt', node_type=<ObjectType.DOCUMENT: '4'>, metadata={'file_path': '../02_Fundamental_Concepts_in_LlamaIndex/data/pg10763.txt', 'file_name': 'pg10763.txt', 'file_type': 'text/plain', 'file_size': 405245, 'creation_date': '2025-02-02', 'last_modified_date': '2024-11-05'}, hash='7ed8c6d21497c7614e40a55a120dca129c90f1a385c21a5c9e8c1c26e753f43d'), <NodeRelationship.PREVIOUS: '2'>: RelatedNodeInfo(node_id='ccfb6235-352a-4f09-a555-305729c3093c', node_type=<ObjectType.TEXT: '1'>, metadata={'file_path': '../02_Fundamental_Concepts_in_LlamaIndex/data/pg10763.txt', 'file_name': 'pg10763.txt', 'file_type': 'text/plain', 'file_size': 405245, 'creation_date': '2025-02-02', 'last_modified_date': '2024-11-05'}, hash='073965c7cba1ba400241e5af6695bfee0cc637d6ee28ff4d5a078b79e913e5fb'), <NodeRelationship.NEXT: '3'>: RelatedNodeInfo(node_id='4659c577-4e1b-4bc3-ab89-b2b925aa5141', node_type=<ObjectType.TEXT: '1'>, metadata={}, hash='a633b126107c17482840979c2893c321e6038c66622afa6a1aba970fec61ad70')}, text='other forms of life than ours,\\r\\n  What know we greater than the soul?\\r\\n  On God and Godlike men we build our trust.\\r\\n\\r\\n\\r\\n  _Alfred Tennyson_.\\r\\n\\r\\n\\r\\n\\r\\n\\r\\nHEINELET\\r\\n\\r\\n\\r\\nWhat sheer perseverance can accomplish, even in matters of the heart, is\\r\\nrevealed in this little poem written in Heine\\'s mood of mingled\\r\\nseriousness and gayety.\\r\\n\\r\\n\\r\\n  He asked if she ever could love him.\\r\\n    She answered him, no, on the spot.\\r\\n  He asked if she ever could love him.\\r\\n    She assured him again she could not.\\r\\n\\r\\n  He asked if she ever could love him.\\r\\n    She laughed till his blushes he hid.\\r\\n  He asked if she ever could love him.\\r\\n    By God, she admitted she did.\\r\\n\\r\\n\\r\\n_Gamaliel Bradford_.\\r\\n\\r\\nFrom \"Shadow Verses.\"\\r\\n\\r\\n\\r\\n\\r\\n\\r\\nSTAND FORTH!\\r\\n\\r\\n\\r\\nThe human spirit can triumph over difficulties, as flowers bloom along\\r\\nthe edge of the Alpine snow.\\r\\n\\r\\n\\r\\n  Stand forth, my soul, and grip thy woe,\\r\\n  Buckle the sword and face thy foe.\\r\\n  What right hast thou to be afraid\\r\\n  When all the universe will aid?\\r\\n  Ten thousand rally to thy name,\\r\\n  Horses and chariots of flame.\\r\\n  Do others fear? Do others fail?\\r\\n  _My soul must grapple and prevail_.\\r\\n  My soul must scale the mountainside\\r\\n  And with the conquering army ride--\\r\\n  Stand forth, my soul!\\r\\n\\r\\n  Stand forth, my soul, and take command.\\r\\n  \\'Tis I, thy master, bid thee stand.\\r\\n  Claim thou thy ground and thrust thy foe,\\r\\n  Plead not thine enemy should go.\\r\\n  Let others cringe! My soul is free,\\r\\n  No hostile host can conquer me.\\r\\n  There lives no circumstance so great\\r\\n  Can make me yield, or doubt my fate.\\r\\n  My soul must know what kings have known.\\r\\n  Must reach and claim its rightful throne--\\r\\n  Stand forth, my soul!\\r\\n\\r\\n  I ask no truce, I have no qualms,\\r\\n  I seek no quarter and no alms.\\r\\n  Let those who will obey the sod,\\r\\n  My soul sprang from the living God.\\r\\n  \\'Tis I, the king, who bid thee stand;\\r\\n  Grasp with thy hand my royal hand--\\r\\n  Stand forth!\\r\\n\\r\\n\\r\\n_Angela Morgan_.\\r\\n\\r\\nFrom \"The Hour Has Struck.\"\\r\\n\\r\\n\\r\\n\\r\\n\\r\\n[Illustration: WALT MASON]\\r\\n\\r\\n\\r\\n\\r\\n\\r\\nLIONS AND ANTS\\r\\n\\r\\n\\r\\n  Once a hunter met a lion near the hungry critter\\'s lair, and the\\r\\n  way that lion mauled him was decidedly unfair; but the hunter\\r\\n  never whimpered when the surgeons, with their thread, sewed up\\r\\n  forty-seven gashes in his mutilated head; and he showed the\\r\\n  scars in triumph, and they gave him pleasant fame, and he\\r\\n  always blessed the lion that had camped upon his frame. Once\\r\\n  that hunter, absent minded, sat upon a hill of ants, and about\\r\\n  a million bit him, and you should have seen him dance! And he\\r\\n  used up lots of language of a deep magenta tint, and\\r\\n  apostrophized the insects in a style unfit to print. And it\\'s\\r\\n  thus with worldly troubles; when the big ones come along, we\\r\\n  serenely go to meet them, feeling valiant, bold and strong, but\\r\\n  the weary little worries with their poisoned stings and smarts,\\r\\n  put the lid upon our courage, make us gray, and break our\\r\\n  hearts.\\r\\n\\r\\n\\r\\n_Walt Mason_.\\r\\n\\r\\nFrom \"Walt Mason, His Book.\"\\r\\n\\r\\n\\r\\n\\r\\n\\r\\nLIFE, NOT DEATH\\r\\n\\r\\n\\r\\nSometimes life is so unsatisfying that we think we should like to be rid\\r\\nof it. But we really are not longing for death; we are longing for more\\r\\nlife.\\r\\n\\r\\n\\r\\n    Whatever crazy sorrow saith,\\r\\n  No life that breathes with human breath\\r\\n  Has ever truly longed for death.\\r\\n\\r\\n    \\'Tis life, whereof our nerves are scant,\\r\\n  Oh life, not death, for which we pant;\\r\\n  More life, and fuller, that I want.\\r\\n\\r\\n\\r\\n_Alfred Tennyson_.\\r\\n\\r\\n\\r\\n\\r\\n\\r\\nTHE UNMUSICAL SOLOIST\\r\\n\\r\\n\\r\\nIn any sort of athletic contest a man who individually is good--perhaps\\r\\neven of the very best--may be a poor member of the team because he\\r\\nwishes to do all the playing himself and will not co-operate with his\\r\\nfellows. Every coach knows how such a man hashes the game. The same\\r\\nthing is true in business or in anything else where many people work\\r\\ntogether; a really capable man often fails because he hogs the center of\\r\\nthe stage', mimetype='text/plain', start_char_idx=253596, end_char_idx=257508, text_template='{metadata_str}\\n\\n{content}', metadata_template='{key}: {value}', metadata_seperator='\\n'), score=0.42620903),\n",
       " NodeWithScore(node=TextNode(id_='e8557972-26c7-4a4b-97d1-3613be828887', embedding=None, metadata={'file_path': '../02_Fundamental_Concepts_in_LlamaIndex/data/pg10763.txt', 'file_name': 'pg10763.txt', 'file_type': 'text/plain', 'file_size': 405245, 'creation_date': '2025-02-02', 'last_modified_date': '2024-11-05'}, excluded_embed_metadata_keys=['file_name', 'file_type', 'file_size', 'creation_date', 'last_modified_date', 'last_accessed_date'], excluded_llm_metadata_keys=['file_name', 'file_type', 'file_size', 'creation_date', 'last_modified_date', 'last_accessed_date'], relationships={<NodeRelationship.SOURCE: '1'>: RelatedNodeInfo(node_id='../02_Fundamental_Concepts_in_LlamaIndex/data/pg10763.txt', node_type=<ObjectType.DOCUMENT: '4'>, metadata={'file_path': '../02_Fundamental_Concepts_in_LlamaIndex/data/pg10763.txt', 'file_name': 'pg10763.txt', 'file_type': 'text/plain', 'file_size': 405245, 'creation_date': '2025-02-02', 'last_modified_date': '2024-11-05'}, hash='7ed8c6d21497c7614e40a55a120dca129c90f1a385c21a5c9e8c1c26e753f43d'), <NodeRelationship.PREVIOUS: '2'>: RelatedNodeInfo(node_id='1099425c-290f-4067-98ea-edbf565ce55d', node_type=<ObjectType.TEXT: '1'>, metadata={'file_path': '../02_Fundamental_Concepts_in_LlamaIndex/data/pg10763.txt', 'file_name': 'pg10763.txt', 'file_type': 'text/plain', 'file_size': 405245, 'creation_date': '2025-02-02', 'last_modified_date': '2024-11-05'}, hash='f324d2a4f87e886aff08bcae056bfd9325d0b37e2743f3a32b139d05204344e2'), <NodeRelationship.NEXT: '3'>: RelatedNodeInfo(node_id='b7ef40e1-cf61-478b-8b7c-783971705b29', node_type=<ObjectType.TEXT: '1'>, metadata={}, hash='b8013d043e9bbe4b19455b7f56d9aefa6334acc748c2c1cdacc59eef0949815c')}, text='Writes a daily prose poem which is\\r\\n  syndicated in over two hundred newspapers, and is believed to have the\\r\\n  largest audience of any living writer. Among his books are \"Rhymes of\\r\\n  the Range,\" \"Uncle Walt,\" \"Walt Mason\\'s Business Prose Poems,\"\\r\\n  \"Rippling Rhymes,\" \"Horse Sense,\" \"Terse Verse,\" and \"Walt Mason, His\\r\\n  Book.\" _Lions and Ants; The Has-Beens; The Welcome Man_.\\r\\n\\r\\nMILLER, JOAQUIN. Born in Indiana, Nov. 11, 1841; died Feb. 17, 1913. He\\r\\n  went to Oregon 1854; was afterwards a miner in California; studied\\r\\n  law; was a judge in Grant County, Oregon, 1866-70. For a while he was\\r\\n  a journalist in Washington, D.C.; returned to California 1887. He is\\r\\n  the author of various books of verse, and is called \"The Poet of the\\r\\n  Sierras.\" _Columbus; To Those Who Fail_.\\r\\n\\r\\nMILTON, JOHN. Born at London, Dec. 9, 1608; died there Nov. 8, 1674.\\r\\n  Attended St. Paul\\'s School; at Cambridge 1625-32. At Horton, writing\\r\\n  and studying, 1632-38. In 1638 went to Italy; met Galileo in Florence.\\r\\n  During the great Civil War wrote pamphlets against the Royalists; was\\r\\n  made Latin Secretary to the new Commonwealth 1649; became totally\\r\\n  blind 1652. Until his third marriage in 1663, his domestic life had\\r\\n  been rendered unhappy by the undutifulness of his three daughters.\\r\\n  Among his works are \"L\\'Allegro,\" \"Il Penseroso,\" \"Comus,\" \"Lycidas,\"\\r\\n  \"Paradise Lost,\" \"Paradise Regained,\" and \"Samson Agonistes.\" _The\\r\\n  Inner Light_.\\r\\n\\r\\nMORGAN, ANGELA. Born at Washington, D.C. Educated under private tutors\\r\\n  and at public schools; took special work at Columbia University. Began\\r\\n  early as a newspaper writer, first with the Chicago _American_; then\\r\\n  with the Chicago _Journal_, and New York and Boston papers. She is a\\r\\n  member of the Poetry Society of America, The MacDowell Club, Three\\r\\n  Arts, and the League of American Pen Women. She is one of the most\\r\\n  eloquent readers before the public to-day; was a delegate to the\\r\\n  Congress of Women at The Hague 1915, at which she read her poem\\r\\n  \"Battle Cry of the Mothers.\" Her four books of poems are \"The Hour Has\\r\\n  Struck,\" \"Utterance, and Other Poems,\" \"Forward, March!\" and \"Hail,\\r\\n  Man!\" and a fifth is soon to be published. Her book of fiction \"The\\r\\n  Imprisoned Splendor\" contains well-known stories (\"What Shall We Do\\r\\n  with Mother?\" \"The Craving,\" \"Such Is the Love of Woman,\" and \"The\\r\\n  Making of a Man\"), some of which appeared previously in magazines. A\\r\\n  novel is shortly to be published. _A Song of Life; A Song of\\r\\n  Thanksgiving; Grief; Know Thyself; Stand Forth!; When Nature Wants a\\r\\n  Man; Work_.\\r\\n\\r\\nMORRIS, JOSEPH. Born in Ohio 1889. College and university education;\\r\\n  professor of English and lecturer on literary subjects; newspaper and\\r\\n  magazine contributor; connected with publishing houses since 1917 in\\r\\n  various editorial capacities. _A Lesson from History; Borrowed\\r\\n  Feathers; Can You Sing a Song?; If You Can\\'t Go Over or Under, Go\\r\\n  Round; Philosophy for Croakers; Swellitis; The Glad Song; The\\r\\n  Unmusical Soloist; Two Raindrops_.\\r\\n\\r\\n\\r\\n\\r\\nN\\r\\n\\r\\nNEIHARDT, JOHN GNEISENAU. Born near Sharpsburg, Ill., Jan. 8, 1881.\\r\\n  Completed the scientific course at the Nebraska Normal College 1897;\\r\\n  received the degree of Litt.D. from the University of Nebraska 1917.\\r\\n  Declared Poet Laureate of Nebraska by a joint resolution of the\\r\\n  Legislature, Apr. 1921, in recognition of the significance of the\\r\\n  American epic cycle upon which he has been working for eight years.\\r\\n  Winner of the prize of five hundred dollars offered by the Poetry\\r\\n  Society of America for the best volume of poetry (\"The Song of Three\\r\\n  Friends\") published by an American in', mimetype='text/plain', start_char_idx=366006, end_char_idx=369667, text_template='{metadata_str}\\n\\n{content}', metadata_template='{key}: {value}', metadata_seperator='\\n'), score=0.41970152),\n",
       " NodeWithScore(node=TextNode(id_='794fe458-66e3-4455-9dbd-7ec8d9466f3a', embedding=None, metadata={'file_path': '../02_Fundamental_Concepts_in_LlamaIndex/data/pg10763.txt', 'file_name': 'pg10763.txt', 'file_type': 'text/plain', 'file_size': 405245, 'creation_date': '2025-02-02', 'last_modified_date': '2024-11-05'}, excluded_embed_metadata_keys=['file_name', 'file_type', 'file_size', 'creation_date', 'last_modified_date', 'last_accessed_date'], excluded_llm_metadata_keys=['file_name', 'file_type', 'file_size', 'creation_date', 'last_modified_date', 'last_accessed_date'], relationships={<NodeRelationship.SOURCE: '1'>: RelatedNodeInfo(node_id='../02_Fundamental_Concepts_in_LlamaIndex/data/pg10763.txt', node_type=<ObjectType.DOCUMENT: '4'>, metadata={'file_path': '../02_Fundamental_Concepts_in_LlamaIndex/data/pg10763.txt', 'file_name': 'pg10763.txt', 'file_type': 'text/plain', 'file_size': 405245, 'creation_date': '2025-02-02', 'last_modified_date': '2024-11-05'}, hash='7ed8c6d21497c7614e40a55a120dca129c90f1a385c21a5c9e8c1c26e753f43d'), <NodeRelationship.PREVIOUS: '2'>: RelatedNodeInfo(node_id='1ba16a70-fddb-4cb8-97d8-ac3033d95f70', node_type=<ObjectType.TEXT: '1'>, metadata={'file_path': '../02_Fundamental_Concepts_in_LlamaIndex/data/pg10763.txt', 'file_name': 'pg10763.txt', 'file_type': 'text/plain', 'file_size': 405245, 'creation_date': '2025-02-02', 'last_modified_date': '2024-11-05'}, hash='74b533d10312ab514727f2e9bfbf845bcea80118b3ffa73af4d93c27073d4b11'), <NodeRelationship.NEXT: '3'>: RelatedNodeInfo(node_id='2b801cd5-1b23-4f0b-9454-920780f8e8c2', node_type=<ObjectType.TEXT: '1'>, metadata={}, hash='abc9fe958f221c718affcfde3f3493861a96fbfa8f4a1f26f7a11e37a75470e4')}, text='\"The Unknown\\r\\n  Quantity.\" _Four Things, 3; Work_, 65.\\r\\n\\r\\n\\r\\n\\r\\nW\\r\\n\\r\\nWHITTIER, JOHN GREENLEAF. Born at Haverhill, Mass., Dec. 17, 1807; died\\r\\n  at Hampton Falls, N.H., Sept. 7, 1892. Of Quaker ancestory; father a\\r\\n  poor farmer; as a boy he injured his health by hard work on the farm.\\r\\n  Taught school; attended Haverhill Academy for two terms 1827-8; edited\\r\\n  Haverhill _Gazette_ 1830; returned to the farm in broken health 1832.\\r\\n  Member of Massachusetts Legislature 1835-6. An ardent opponent of\\r\\n  slavery; edited the Pennsylvania _Freeman_ 1838-40; several times\\r\\n  attacked by mobs because of his views on slavery. Leading writer for\\r\\n  the Washington _National Era _1847-57; contributed to the _Atlantic\\r\\n  Monthly_ 1857. Some of his well-known poems are \"Maud Muller,\" \"The\\r\\n  Barefoot Boy,\" \"Barbara Freitchie,\" \"Snow-Bound,\" and \"The Eternal\\r\\n  Goodness.\" _My Triumph_, 90.\\r\\n\\r\\nWIDDEMER, MARGARET. Born at Doylestown, Pa.; educated at home; graduated\\r\\n  at the Drexel Institute Library School 1909. Began writing in\\r\\n  childhood; her first published poem \"The Factories\" was widely quoted;\\r\\n  married Robert Haven Schauffler 1919. Among her books are \"The\\r\\n  Rose-Garden Husband,\" \"Winona of the Camp Fire,\" \"Factories, with\\r\\n  Other Lyrics,\" \"Why Not?\" \"The Wishing-Ring Man,\" \"The Old Road to\\r\\n  Paradise,\" and \"The Board Walk.\" _To Youth After Pain_, 103.\\r\\n\\r\\nWILCOX, ELLA WHEELER. Born at Johnston Centre, Wis., 1855; died at her\\r\\n  home in Connecticut, Oct. 31, 1919. Educated \"Poems of Pleasure,\"\\r\\n  \"Kingdom of Love,\" \"Poems of Passion,\" \"Poems of Progress,\" \"Poems of\\r\\n  Sentiment,\" \"New Thought Common Sense,\" \"Picked Poems,\" \"Gems from\\r\\n  Wilcox,\" \"Faith,\" \"Love,\" \"Hope,\" \"Cheer,\" and \"The World and I.\"\\r\\n  _Life_, 139; _Smiles_, 226; _Solitude_, 16; _The Disappointed_, 126;\\r\\n  _Will_, 107; _Wishing_, 86; _Worth While_, 28.\\r\\n\\r\\nWORDSWORTH, WILLIAM. Born at Cockermouth, Cumberland, Eng., Apr. 7, 1770;\\r\\n  died at Rydal Mount, Apr. 23, 1850. Educated at Hawkshead grammar\\r\\n  school and Cambridge University, where he graduated 1791. Traveled on\\r\\n  Continent 1790; in France 1791-2, where he sympathized with the French\\r\\n  republicans. Received £900 legacy 1795, and settled with his sister\\r\\n  Dorothy at Racedown, Dorsetshire; to be near Coleridge he removed to\\r\\n  Alfoxden 1797; went to Continent 1798; returned to England 1799, and\\r\\n  settled at Grasmere in the lake district; married Mary Hutchison 1802;\\r\\n  settled at Allan Bank 1808; removed to Grasmere 1811. Appointed\\r\\n  distributer of stamps 1813, and settled at Rydal Mount; traveled in\\r\\n  Scotland 1814 and 1832; on the Continent 1820 and 1837. Given a\\r\\n  pension of £300 by Peel 1842; became poet laureate 1843. Some of his\\r\\n  well-known poems are \"The Excursion,\" \"Tintern Abbey,\" \"Yarrow\\r\\n  Revisited,\" \"The Prelude,\" \"Intimations of Immortality,\" and \"We Are\\r\\n  Seven.\" _Ode to Duty_, 190; _The Daffodils_, 180; _The Rainbow_, 117.\\r\\n\\r\\nWOTTON, SIR HENRY. Born at Bocton Malherbe, Kent, Eng., 1568; died at\\r\\n  Eton, 1639. Educated at Winchester and Oxford; on the Continent\\r\\n  1588-95; became the secretary of the Earl of Essex 1595; English\\r\\n  ambassador to Venice, Germany, etc.; became provost of Eton College\\r\\n  1624. _Character of a Happy Life_, 214.\\r\\n\\r\\n\\r\\n\\r\\n\\r\\n\\r\\n\\r\\n\\r\\n*** END OF', mimetype='text/plain', start_char_idx=382957, end_char_idx=386220, text_template='{metadata_str}\\n\\n{content}', metadata_template='{key}: {value}', metadata_seperator='\\n'), score=0.4165601)]"
      ]
     },
     "execution_count": 16,
     "metadata": {},
     "output_type": "execute_result"
    }
   ],
   "source": [
    "retrieved_nodes"
   ]
  },
  {
   "cell_type": "code",
   "execution_count": 17,
   "metadata": {},
   "outputs": [
    {
     "name": "stdout",
     "output_type": "stream",
     "text": [
      "To serve your turn long after they are gone,\n",
      "  And so hold on when there is nothing in you\n",
      "    Except the Will which says to them; \"Hold on!\"\n",
      "\n",
      "  If you can talk with crowds and keep your virtue,\n",
      "    Or walk with Kings--nor lose the common touch,\n",
      "  If neither foes nor loving friends can hurt you,\n",
      "    If all men count with you, but none too much;\n",
      "  If you can fill the unforgiving minute\n",
      "    With sixty seconds' worth of distance run,\n",
      "  Yours is the Earth and everything that's in it,\n",
      "    And--which is more--you'll be a Man, my son!\n",
      "\n",
      "\n",
      "_Rudyard Kipling._\n",
      "\n",
      "From \"Rudyard Kipling's Verse, 1885-1918.\"\n",
      "\n",
      "\n",
      "\n",
      "\n",
      "INVICTUS\n",
      "\n",
      "\n",
      "Triumph in spirit over adverse conditions is the keynote of this poem of\n",
      "courage undismayed. It rings with the power of the individual to guide\n",
      "his own destiny.\n",
      "\n",
      "\n",
      "  Out of the night that covers me,\n",
      "    Black as the Pit from pole to pole,\n",
      "  I thank whatever gods may be\n",
      "    For my unconquerable soul.\n",
      "\n",
      "  In the fell clutch of circumstance\n",
      "    I have not winced nor cried aloud.\n",
      "  Under the bludgeonings of chance\n",
      "    My head is bloody, but unbowed.\n",
      "\n",
      "  Beyond this place of wrath and tears\n",
      "    Looms but the Horror of the shade,\n",
      "  And yet the menace of the years\n",
      "    Finds, and shall find, me unafraid.\n",
      "\n",
      "  It matters not how strait the gate,\n",
      "    How charged with punishments the scroll,\n",
      "  I am the master of my fate:\n",
      "    I am the captain of my soul.\n",
      "\n",
      "\n",
      "_William Ernest Henley._\n",
      "\n",
      "\n",
      "\n",
      "\n",
      "IT COULDN'T BE DONE\n",
      "\n",
      "\n",
      "After a thing has been done, everybody is ready to declare it easy. But\n",
      "before it has been done, it is called impossible. One reason why people\n",
      "fear to embark upon great enterprises is that they see all the\n",
      "difficulties at once. They know they could succeed in the initial tasks,\n",
      "but they shrink from what is to follow. Yet \"a thing begun is half\n",
      "done.\" Moreover the surmounting of the first barrier gives strength and\n",
      "ingenuity for the harder ones beyond. Mountains viewed from a distance\n",
      "seem to be unscalable. But they can be climbed, and the way to begin is\n",
      "to take the first upward step. From that moment the mountains are less\n",
      "high. As Hannibal led his army across the foothills, then among the\n",
      "upper ranges, and finally over the loftiest peaks and passes of the\n",
      "Alps, or as Peary pushed farther and farther into the solitudes that\n",
      "encompass the North Pole, so can you achieve any purpose whatsoever if\n",
      "you heed not the doubters, meet each problem as it arises, and keep ever\n",
      "with you the assurance _It Can Be Done_.\n",
      "\n",
      "\n",
      "  Somebody said that it couldn't be done,\n",
      "    But he with a chuckle replied\n",
      "  That \"maybe it couldn't,\" but he would be one\n",
      "    Who wouldn't say so till he'd tried.\n",
      "  So he buckled right in with the trace of a grin\n",
      "    On his face. If he worried he hid it.\n",
      "  He started to sing as he tackled the thing\n",
      "    That couldn't be done, and he did it.\n",
      "\n",
      "  Somebody scoffed: \"Oh, you'll never do that;\n",
      "    At least no one ever has done it\";\n",
      "  But he took off his coat and he took off his hat,\n",
      "    And the first thing we knew he'd begun it.\n",
      "  With a lift of his chin and a bit of a grin,\n",
      "    Without any doubting or quiddit,\n",
      "  He started to sing as he tackled the thing\n",
      "    That couldn't be done, and he did it.\n",
      "\n",
      "  There are thousands to tell you it cannot be done,\n",
      "    There are thousands to prophesy failure;\n",
      "  There are thousands to point out to you one by one,\n",
      "    The dangers that wait to assail you.\n",
      "  But just buckle in with a bit of a grin,\n",
      "    Just take off your coat and go to it;\n",
      "  Just start to sing as you tackle the thing\n",
      "    That \"cannot be done,\" and you'll do it.\n",
      "\n",
      "\n",
      "_Edgar A. Guest._\n",
      "\n",
      "From \"The Path to Home.\"\n",
      "\n",
      "\n",
      "\n",
      "\n",
      "THE WELCOME MAN\n",
      "\n",
      "\n",
      "  There's a man in the world who is never turned down, wherever\n",
      "  he chances to stray; he gets the glad hand in the populous\n",
      "  town, or out where the\n"
     ]
    }
   ],
   "source": [
    "print(retrieved_nodes[0].get_text())"
   ]
  },
  {
   "cell_type": "code",
   "execution_count": 18,
   "metadata": {},
   "outputs": [
    {
     "name": "stdout",
     "output_type": "stream",
     "text": [
      "0.4767366\n"
     ]
    }
   ],
   "source": [
    "print(retrieved_nodes[0].get_score())"
   ]
  },
  {
   "cell_type": "markdown",
   "metadata": {},
   "source": [
    "The ingestion pipeline allows for saves the cache and docstore to a default folder `(./pipeline_storage)`. \n",
    "\n",
    "When running the pipeline, it reuses the cache, skips duplicate documents in the docstore.\n",
    "\n"
   ]
  },
  {
   "cell_type": "code",
   "execution_count": 19,
   "metadata": {},
   "outputs": [],
   "source": [
    "pipeline.persist('./pipeline_storage')"
   ]
  }
 ],
 "metadata": {
  "kernelspec": {
   "display_name": "llama",
   "language": "python",
   "name": "python3"
  },
  "language_info": {
   "codemirror_mode": {
    "name": "ipython",
    "version": 3
   },
   "file_extension": ".py",
   "mimetype": "text/x-python",
   "name": "python",
   "nbconvert_exporter": "python",
   "pygments_lexer": "ipython3",
   "version": "3.13.1"
  }
 },
 "nbformat": 4,
 "nbformat_minor": 2
}
