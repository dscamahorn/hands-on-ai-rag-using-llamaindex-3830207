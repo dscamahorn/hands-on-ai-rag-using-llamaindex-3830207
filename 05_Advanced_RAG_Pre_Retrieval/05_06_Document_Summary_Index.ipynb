{
 "cells": [
  {
   "cell_type": "code",
   "execution_count": 4,
   "metadata": {},
   "outputs": [],
   "source": [
    "%%capture\n",
    "#%pip install llama-index llama-index-embeddings-openai llama-index-embeddings-cohere==0.1.9 qdrant-client llama-index-vector-stores-qdrant llama-index-llms-openai llama-index-llms-cohere==0.1.19\n",
    "%pip install llama-index mistralai llama-index-embeddings-mistralai qdrant-client llama-index-vector-stores-qdrant llama-index-llms-mistralai"
   ]
  },
  {
   "cell_type": "code",
   "execution_count": 5,
   "metadata": {},
   "outputs": [],
   "source": [
    "import os\n",
    "import sys\n",
    "from getpass import getpass\n",
    "import nest_asyncio\n",
    "\n",
    "from IPython.display import Markdown, display\n",
    "\n",
    "from dotenv import load_dotenv\n",
    "\n",
    "nest_asyncio.apply()\n",
    "\n",
    "load_dotenv(\"\")\n",
    "\n",
    "sys.path.append('../helpers')\n",
    "\n",
    "from utils import setup_llm, setup_embed_model, setup_vector_store"
   ]
  },
  {
   "cell_type": "code",
   "execution_count": 6,
   "metadata": {},
   "outputs": [],
   "source": [
    "#OPENAI_API_KEY = os.environ['OPENAI_API_KEY'] or getpass(\"Enter your OPENAI_API_KEY key: \")\n",
    "MISTRAL_API_KEY = os.environ['MISTRAL_API_KEY']"
   ]
  },
  {
   "cell_type": "code",
   "execution_count": 7,
   "metadata": {},
   "outputs": [],
   "source": [
    "QDRANT_URL = \":memory:\""
   ]
  },
  {
   "cell_type": "code",
   "execution_count": 8,
   "metadata": {},
   "outputs": [],
   "source": [
    "QDRANT_API_KEY = os.environ['QDRANT_API_KEY'] or  getpass(\"Enter your Qdrant API Key:\")"
   ]
  },
  {
   "cell_type": "code",
   "execution_count": 9,
   "metadata": {},
   "outputs": [],
   "source": [
    "from llama_index.core.settings import Settings\n",
    "from utils import setup_llm, setup_embed_model\n",
    "\n",
    "setup_llm(\n",
    "    provider=\"mistral\", \n",
    "    model=\"mistral-small-latest\", \n",
    "    api_key=MISTRAL_API_KEY, \n",
    "    temperature=0.75, \n",
    "    system_prompt=\"\"\"Use ONLY the provided context and generate a complete, coherent answer to the user's query. \n",
    "    Your response must be grounded in the provided context and relevant to the essence of the user's query.\n",
    "    \"\"\"\n",
    "    )\n",
    "\n",
    "setup_embed_model(\n",
    "    provider=\"mistral\",\n",
    "    api_key=MISTRAL_API_KEY\n",
    "    )"
   ]
  },
  {
   "cell_type": "code",
   "execution_count": 10,
   "metadata": {},
   "outputs": [],
   "source": [
    "import random\n",
    "from utils import get_documents_from_docstore, group_documents_by_author, sample_documents\n",
    "\n",
    "documents = get_documents_from_docstore(\"../data/words-of-the-senpais\")\n",
    "\n",
    "random.seed(42)\n",
    "\n",
    "documents_by_author = group_documents_by_author(documents)\n",
    "\n",
    "senpai_documents = sample_documents(documents_by_author, num_samples=10)"
   ]
  },
  {
   "cell_type": "markdown",
   "metadata": {},
   "source": [
    "# Document Summary Index\n",
    "\n",
    "<img src=\"https://docs.llamaindex.ai/en/stable/_static/production_rag/decouple_chunks.png\" style=\"width:50%; height:5`0%\">\n",
    "\n",
    "Source: [LlamaIndex Documentation](https://docs.llamaindex.ai/en/stable/optimizing/production_rag/#decoupling-chunks-used-for-retrieval-vs-chunks-used-for-synthesis)\n",
    "\n",
    "This method extracts summaries for each document to improve retrieval performance over traditional semantic search on text chunks alone. It uses concise summaries and LLM reasoning capabilities to enhance retrieval before synthesis over retrieved chunks.\n",
    "\n",
    "### 🚫 Limitations of chunk-based retrieval\n",
    "\n",
    "- Chunks lack global context \n",
    "\n",
    "- Careful tuning of similarity thresholds required\n",
    "\n",
    "- Embeddings may not capture relevance well\n",
    "\n",
    "- Keyword filtering has its own challenges\n",
    "\n",
    "#### 📝 The Document Summary Index stores\n",
    "\n",
    "- A summary extracted by an LLM for each document\n",
    "\n",
    "- The document split into text chunks \n",
    "\n",
    "- Mapping between summaries and source documents/chunks\n",
    "\n",
    "#### 🔍 Retrieval approaches\n",
    "\n",
    "1. 🤖 LLM-based: LLM scores relevance of document summaries \n",
    "\n",
    "2. 📐 Embedding-based: Retrieve based on summary embedding similarity\n",
    "\n",
    "### ⚖️ Advantages\n",
    "\n",
    "- Summaries provide more context than chunks alone\n",
    "\n",
    "- LLM can reason over summaries before full documents\n",
    "\n",
    "- Different optimal representations for retrieval vs. synthesis\n",
    "\n",
    "### 🚀 Key techniques\n",
    "\n",
    "1. Embed summaries linked to document chunks\n",
    "\n",
    "2. Retrieve summaries, replace with full document content\n",
    "\n"
   ]
  },
  {
   "cell_type": "markdown",
   "metadata": {},
   "source": [
    "## Setup Vector Store"
   ]
  },
  {
   "cell_type": "code",
   "execution_count": 11,
   "metadata": {},
   "outputs": [
    {
     "name": "stderr",
     "output_type": "stream",
     "text": [
      "Both client and aclient are provided. If using `:memory:` mode, the data between clients is not synced.\n"
     ]
    }
   ],
   "source": [
    "from llama_index.core import StorageContext\n",
    "from llama_index.core.settings import Settings\n",
    "\n",
    "from utils import create_index, create_query_engine, ingest, setup_vector_store\n",
    "\n",
    "COLLECTION_NAME = \"words-of-the-senpai-document-summary-index\"\n",
    "\n",
    "doc_summary_vector_store = setup_vector_store(QDRANT_URL, QDRANT_API_KEY, COLLECTION_NAME)"
   ]
  },
  {
   "cell_type": "markdown",
   "metadata": {},
   "source": [
    "## Ingest using [`DocumentSummaryIndex`](https://github.com/run-llama/llama_index/blob/main/llama-index-core/llama_index/core/indices/document_summary/base.py)\n",
    "\n",
    "The `DocumentSummaryIndex`:\n",
    "\n",
    "- 📝 Builds an index from a set of documents\n",
    "\n",
    "- 🎯 Generates a summary for each document using a response synthesizer\n",
    "\n",
    "- 💾 Stores the summaries and their corresponding document nodes in the index\n",
    "\n",
    "#### 🌐 Retrieval\n",
    "\n",
    "- Supports two retrieval modes: embedding-based and LLM-based\n",
    "- 🪢 Embedding-based retrieval:\n",
    "  - Embeds the summaries using an embedding model\n",
    "  - Retrieves relevant summaries based on similarity to a query embedding\n",
    "\n",
    "- 🧠 LLM-based retrieval:\n",
    "  - Uses a LLM to retrieve relevant summaries based on a query\n",
    "\n",
    "It focuses on indexing documents, generating summaries, and providing efficient retrieval methods based on either embeddings or LLMs. The retriever also supports document management operations like adding and deleting documents from the index.\n",
    "\n",
    "#### The high-level API uses embedding based retrieval by default."
   ]
  },
  {
   "cell_type": "code",
   "execution_count": 12,
   "metadata": {},
   "outputs": [
    {
     "name": "stderr",
     "output_type": "stream",
     "text": [
      "Parsing nodes: 100%|██████████| 60/60 [00:00<00:00, 2576.38it/s]\n",
      "Summarizing documents:   0%|          | 0/60 [00:00<?, ?it/s]"
     ]
    },
    {
     "name": "stdout",
     "output_type": "stream",
     "text": [
      "current doc id: d36d46fd-8ab8-4e68-bd7e-af1fc8d63411\n"
     ]
    },
    {
     "name": "stderr",
     "output_type": "stream",
     "text": [
      "Summarizing documents:   2%|▏         | 1/60 [00:01<01:33,  1.59s/it]"
     ]
    },
    {
     "name": "stdout",
     "output_type": "stream",
     "text": [
      "current doc id: 9b0ac60d-9a94-468b-b4f6-e4890b0b3cde\n"
     ]
    },
    {
     "name": "stderr",
     "output_type": "stream",
     "text": [
      "Summarizing documents:   3%|▎         | 2/60 [00:03<01:30,  1.56s/it]"
     ]
    },
    {
     "name": "stdout",
     "output_type": "stream",
     "text": [
      "current doc id: a3522937-338d-4afb-8263-d000502b1fd7\n"
     ]
    },
    {
     "name": "stderr",
     "output_type": "stream",
     "text": [
      "Summarizing documents:   5%|▌         | 3/60 [00:04<01:24,  1.48s/it]"
     ]
    },
    {
     "name": "stdout",
     "output_type": "stream",
     "text": [
      "current doc id: 36f7f78d-ac35-4003-8320-aa0656ce586a\n"
     ]
    },
    {
     "name": "stderr",
     "output_type": "stream",
     "text": [
      "Summarizing documents:   7%|▋         | 4/60 [00:07<01:49,  1.95s/it]"
     ]
    },
    {
     "name": "stdout",
     "output_type": "stream",
     "text": [
      "current doc id: 7c1ff5ad-034b-4d0a-849b-a03aeeab9ce5\n"
     ]
    },
    {
     "name": "stderr",
     "output_type": "stream",
     "text": [
      "Summarizing documents:   8%|▊         | 5/60 [00:08<01:33,  1.70s/it]"
     ]
    },
    {
     "name": "stdout",
     "output_type": "stream",
     "text": [
      "current doc id: aa0c7c26-d7e2-4ceb-9473-0d03c04284a0\n"
     ]
    },
    {
     "name": "stderr",
     "output_type": "stream",
     "text": [
      "Summarizing documents:  10%|█         | 6/60 [00:10<01:37,  1.81s/it]"
     ]
    },
    {
     "name": "stdout",
     "output_type": "stream",
     "text": [
      "current doc id: 40016c1e-a8c4-480e-abc6-5e318da2defc\n"
     ]
    },
    {
     "name": "stderr",
     "output_type": "stream",
     "text": [
      "Summarizing documents:  12%|█▏        | 7/60 [00:11<01:28,  1.68s/it]"
     ]
    },
    {
     "name": "stdout",
     "output_type": "stream",
     "text": [
      "current doc id: 7fee8969-6eaa-4ac9-a8fc-d16440b94aa6\n"
     ]
    },
    {
     "name": "stderr",
     "output_type": "stream",
     "text": [
      "Summarizing documents:  13%|█▎        | 8/60 [00:13<01:18,  1.51s/it]"
     ]
    },
    {
     "name": "stdout",
     "output_type": "stream",
     "text": [
      "current doc id: b9999cbf-86e6-4f0d-ba91-3e1f7da4a9a5\n"
     ]
    },
    {
     "name": "stderr",
     "output_type": "stream",
     "text": [
      "Summarizing documents:  15%|█▌        | 9/60 [00:14<01:18,  1.55s/it]"
     ]
    },
    {
     "name": "stdout",
     "output_type": "stream",
     "text": [
      "current doc id: 0874bc48-699a-4f02-8125-136d9c733317\n"
     ]
    },
    {
     "name": "stderr",
     "output_type": "stream",
     "text": [
      "Summarizing documents:  17%|█▋        | 10/60 [00:15<01:11,  1.43s/it]"
     ]
    },
    {
     "name": "stdout",
     "output_type": "stream",
     "text": [
      "current doc id: c52c0431-dd4f-434c-a999-38833b114bf4\n"
     ]
    },
    {
     "name": "stderr",
     "output_type": "stream",
     "text": [
      "Summarizing documents:  18%|█▊        | 11/60 [00:17<01:18,  1.61s/it]"
     ]
    },
    {
     "name": "stdout",
     "output_type": "stream",
     "text": [
      "current doc id: 70268c98-aaa0-4927-8ebe-99e9a9ec74cc\n"
     ]
    },
    {
     "name": "stderr",
     "output_type": "stream",
     "text": [
      "Summarizing documents:  20%|██        | 12/60 [00:19<01:14,  1.55s/it]"
     ]
    },
    {
     "name": "stdout",
     "output_type": "stream",
     "text": [
      "current doc id: be747858-4bd8-426a-9a16-1dd9d7dabf9a\n"
     ]
    },
    {
     "name": "stderr",
     "output_type": "stream",
     "text": [
      "Summarizing documents:  22%|██▏       | 13/60 [00:21<01:23,  1.78s/it]"
     ]
    },
    {
     "name": "stdout",
     "output_type": "stream",
     "text": [
      "current doc id: f4b21043-21d0-4a7c-a238-97fc7cce4c97\n"
     ]
    },
    {
     "name": "stderr",
     "output_type": "stream",
     "text": [
      "Summarizing documents:  23%|██▎       | 14/60 [00:22<01:14,  1.63s/it]"
     ]
    },
    {
     "name": "stdout",
     "output_type": "stream",
     "text": [
      "current doc id: 4c8cc62e-54bb-481d-89ae-8ec2f08fed28\n"
     ]
    },
    {
     "name": "stderr",
     "output_type": "stream",
     "text": [
      "Summarizing documents:  25%|██▌       | 15/60 [00:25<01:22,  1.84s/it]"
     ]
    },
    {
     "name": "stdout",
     "output_type": "stream",
     "text": [
      "current doc id: e8ed4ed5-de80-4a9a-9ca0-8654021e69f8\n"
     ]
    },
    {
     "name": "stderr",
     "output_type": "stream",
     "text": [
      "Summarizing documents:  27%|██▋       | 16/60 [00:26<01:15,  1.72s/it]"
     ]
    },
    {
     "name": "stdout",
     "output_type": "stream",
     "text": [
      "current doc id: 91b67ff2-6e1c-4c5c-951f-7b22bd376ff8\n"
     ]
    },
    {
     "name": "stderr",
     "output_type": "stream",
     "text": [
      "Summarizing documents:  28%|██▊       | 17/60 [00:28<01:18,  1.82s/it]"
     ]
    },
    {
     "name": "stdout",
     "output_type": "stream",
     "text": [
      "current doc id: 86aee733-bd5b-46d4-bb8f-d0e33d2b5777\n"
     ]
    },
    {
     "name": "stderr",
     "output_type": "stream",
     "text": [
      "Summarizing documents:  30%|███       | 18/60 [00:30<01:11,  1.71s/it]"
     ]
    },
    {
     "name": "stdout",
     "output_type": "stream",
     "text": [
      "current doc id: ec2d431c-ca6e-4382-86ea-f83a2f53e593\n"
     ]
    },
    {
     "name": "stderr",
     "output_type": "stream",
     "text": [
      "Summarizing documents:  32%|███▏      | 19/60 [00:31<01:06,  1.62s/it]"
     ]
    },
    {
     "name": "stdout",
     "output_type": "stream",
     "text": [
      "current doc id: cb3f44c9-0c6b-48f0-8937-f3def37681de\n"
     ]
    },
    {
     "name": "stderr",
     "output_type": "stream",
     "text": [
      "Summarizing documents:  33%|███▎      | 20/60 [00:32<01:01,  1.54s/it]"
     ]
    },
    {
     "name": "stdout",
     "output_type": "stream",
     "text": [
      "current doc id: acd2b2fa-316e-42e9-bf7e-3833a4545916\n"
     ]
    },
    {
     "name": "stderr",
     "output_type": "stream",
     "text": [
      "Summarizing documents:  35%|███▌      | 21/60 [00:34<01:00,  1.55s/it]"
     ]
    },
    {
     "name": "stdout",
     "output_type": "stream",
     "text": [
      "current doc id: ad36838b-a84f-4d7c-9271-69b1306499d9\n"
     ]
    },
    {
     "name": "stderr",
     "output_type": "stream",
     "text": [
      "Summarizing documents:  37%|███▋      | 22/60 [00:36<00:59,  1.57s/it]"
     ]
    },
    {
     "name": "stdout",
     "output_type": "stream",
     "text": [
      "current doc id: 46df7bd0-37a6-4223-850e-f104cc221015\n"
     ]
    },
    {
     "name": "stderr",
     "output_type": "stream",
     "text": [
      "Summarizing documents:  38%|███▊      | 23/60 [00:37<01:01,  1.66s/it]"
     ]
    },
    {
     "name": "stdout",
     "output_type": "stream",
     "text": [
      "current doc id: cb2fc289-829a-4250-b9c9-3eaa56a7ec47\n"
     ]
    },
    {
     "name": "stderr",
     "output_type": "stream",
     "text": [
      "Summarizing documents:  40%|████      | 24/60 [00:39<00:55,  1.55s/it]"
     ]
    },
    {
     "name": "stdout",
     "output_type": "stream",
     "text": [
      "current doc id: 79f454a0-67c4-44b6-a920-7c57d0958dff\n"
     ]
    },
    {
     "name": "stderr",
     "output_type": "stream",
     "text": [
      "Summarizing documents:  42%|████▏     | 25/60 [00:40<00:54,  1.56s/it]"
     ]
    },
    {
     "name": "stdout",
     "output_type": "stream",
     "text": [
      "current doc id: 71c79774-9bd5-45c6-93e7-1283c14f28c9\n"
     ]
    },
    {
     "name": "stderr",
     "output_type": "stream",
     "text": [
      "Summarizing documents:  43%|████▎     | 26/60 [00:42<00:53,  1.57s/it]"
     ]
    },
    {
     "name": "stdout",
     "output_type": "stream",
     "text": [
      "current doc id: 51de7608-b06a-4c58-bccb-6ac6688dc919\n"
     ]
    },
    {
     "name": "stderr",
     "output_type": "stream",
     "text": [
      "Summarizing documents:  45%|████▌     | 27/60 [00:43<00:49,  1.51s/it]"
     ]
    },
    {
     "name": "stdout",
     "output_type": "stream",
     "text": [
      "current doc id: f5856316-e6d7-4b35-a972-10cec17d1054\n"
     ]
    },
    {
     "name": "stderr",
     "output_type": "stream",
     "text": [
      "Summarizing documents:  47%|████▋     | 28/60 [00:44<00:45,  1.43s/it]"
     ]
    },
    {
     "name": "stdout",
     "output_type": "stream",
     "text": [
      "current doc id: 10864ca0-042c-45ae-9cb9-cbfa21470537\n"
     ]
    },
    {
     "name": "stderr",
     "output_type": "stream",
     "text": [
      "Summarizing documents:  48%|████▊     | 29/60 [00:46<00:43,  1.39s/it]"
     ]
    },
    {
     "name": "stdout",
     "output_type": "stream",
     "text": [
      "current doc id: acd730d2-2210-4f21-8850-b8f9f713ea82\n"
     ]
    },
    {
     "name": "stderr",
     "output_type": "stream",
     "text": [
      "Summarizing documents:  50%|█████     | 30/60 [00:48<00:48,  1.62s/it]"
     ]
    },
    {
     "name": "stdout",
     "output_type": "stream",
     "text": [
      "current doc id: 9cbc2335-2d30-45b5-9773-60d367760ce3\n"
     ]
    },
    {
     "name": "stderr",
     "output_type": "stream",
     "text": [
      "Summarizing documents:  52%|█████▏    | 31/60 [00:49<00:46,  1.59s/it]"
     ]
    },
    {
     "name": "stdout",
     "output_type": "stream",
     "text": [
      "current doc id: 7fe41b4e-a39e-4cbf-897b-4c5b7e7ba3f6\n"
     ]
    },
    {
     "name": "stderr",
     "output_type": "stream",
     "text": [
      "Summarizing documents:  53%|█████▎    | 32/60 [00:52<00:48,  1.74s/it]"
     ]
    },
    {
     "name": "stdout",
     "output_type": "stream",
     "text": [
      "current doc id: ceb8685b-f0a4-4c29-ae51-1f574b6d5195\n"
     ]
    },
    {
     "name": "stderr",
     "output_type": "stream",
     "text": [
      "Summarizing documents:  55%|█████▌    | 33/60 [00:53<00:46,  1.74s/it]"
     ]
    },
    {
     "name": "stdout",
     "output_type": "stream",
     "text": [
      "current doc id: 724eb0c3-3470-406d-b0e4-92b0bdd68772\n"
     ]
    },
    {
     "name": "stderr",
     "output_type": "stream",
     "text": [
      "Summarizing documents:  57%|█████▋    | 34/60 [00:55<00:44,  1.73s/it]"
     ]
    },
    {
     "name": "stdout",
     "output_type": "stream",
     "text": [
      "current doc id: a682f6f1-634c-4bf0-bd0d-a5dc6e59a09a\n"
     ]
    },
    {
     "name": "stderr",
     "output_type": "stream",
     "text": [
      "Summarizing documents:  58%|█████▊    | 35/60 [00:58<00:52,  2.10s/it]"
     ]
    },
    {
     "name": "stdout",
     "output_type": "stream",
     "text": [
      "current doc id: ba63b8de-9287-4bb9-86de-2128f109f293\n"
     ]
    },
    {
     "name": "stderr",
     "output_type": "stream",
     "text": [
      "Summarizing documents:  60%|██████    | 36/60 [01:00<00:48,  2.03s/it]"
     ]
    },
    {
     "name": "stdout",
     "output_type": "stream",
     "text": [
      "current doc id: 773d7b1b-6742-45d6-b497-67f8709cf6bc\n"
     ]
    },
    {
     "name": "stderr",
     "output_type": "stream",
     "text": [
      "Summarizing documents:  62%|██████▏   | 37/60 [01:02<00:44,  1.96s/it]"
     ]
    },
    {
     "name": "stdout",
     "output_type": "stream",
     "text": [
      "current doc id: 8cec78d3-7ab1-40ff-82b4-c06e29315188\n"
     ]
    },
    {
     "name": "stderr",
     "output_type": "stream",
     "text": [
      "Summarizing documents:  63%|██████▎   | 38/60 [01:04<00:42,  1.94s/it]"
     ]
    },
    {
     "name": "stdout",
     "output_type": "stream",
     "text": [
      "current doc id: 12cb9ca1-ba25-4c5b-a956-5b47357b62aa\n"
     ]
    },
    {
     "name": "stderr",
     "output_type": "stream",
     "text": [
      "Summarizing documents:  65%|██████▌   | 39/60 [01:05<00:38,  1.84s/it]"
     ]
    },
    {
     "name": "stdout",
     "output_type": "stream",
     "text": [
      "current doc id: 6e4de25f-708b-4970-8f72-3155ec2f0ceb\n"
     ]
    },
    {
     "name": "stderr",
     "output_type": "stream",
     "text": [
      "Summarizing documents:  67%|██████▋   | 40/60 [01:08<00:43,  2.19s/it]"
     ]
    },
    {
     "name": "stdout",
     "output_type": "stream",
     "text": [
      "current doc id: f52109ac-518e-44c7-97b8-470c779f58cc\n"
     ]
    },
    {
     "name": "stderr",
     "output_type": "stream",
     "text": [
      "Summarizing documents:  68%|██████▊   | 41/60 [01:09<00:34,  1.81s/it]"
     ]
    },
    {
     "name": "stdout",
     "output_type": "stream",
     "text": [
      "current doc id: b7c643a9-2a92-417e-a519-57e2196a5d18\n"
     ]
    },
    {
     "name": "stderr",
     "output_type": "stream",
     "text": [
      "Summarizing documents:  70%|███████   | 42/60 [01:11<00:31,  1.77s/it]"
     ]
    },
    {
     "name": "stdout",
     "output_type": "stream",
     "text": [
      "current doc id: 9ce2c45b-359c-4493-8d41-02dae91684ed\n"
     ]
    },
    {
     "name": "stderr",
     "output_type": "stream",
     "text": [
      "Summarizing documents:  72%|███████▏  | 43/60 [01:12<00:28,  1.68s/it]"
     ]
    },
    {
     "name": "stdout",
     "output_type": "stream",
     "text": [
      "current doc id: 3e5ead90-9187-42a0-8afc-6acf841065f3\n"
     ]
    },
    {
     "name": "stderr",
     "output_type": "stream",
     "text": [
      "Summarizing documents:  73%|███████▎  | 44/60 [01:14<00:25,  1.61s/it]"
     ]
    },
    {
     "name": "stdout",
     "output_type": "stream",
     "text": [
      "current doc id: 1166c31f-8718-4113-847f-fa1b8733f3c3\n"
     ]
    },
    {
     "name": "stderr",
     "output_type": "stream",
     "text": [
      "Summarizing documents:  75%|███████▌  | 45/60 [01:15<00:21,  1.43s/it]"
     ]
    },
    {
     "name": "stdout",
     "output_type": "stream",
     "text": [
      "current doc id: f3e199c5-bb7f-471d-a31d-3cc7713daeaa\n"
     ]
    },
    {
     "name": "stderr",
     "output_type": "stream",
     "text": [
      "Summarizing documents:  77%|███████▋  | 46/60 [01:16<00:20,  1.43s/it]"
     ]
    },
    {
     "name": "stdout",
     "output_type": "stream",
     "text": [
      "current doc id: 5cfa555f-17f3-413d-a565-596bf51cb8dc\n"
     ]
    },
    {
     "name": "stderr",
     "output_type": "stream",
     "text": [
      "Summarizing documents:  78%|███████▊  | 47/60 [01:17<00:17,  1.35s/it]"
     ]
    },
    {
     "name": "stdout",
     "output_type": "stream",
     "text": [
      "current doc id: 732e470f-a4b5-489a-825e-678704d76d75\n"
     ]
    },
    {
     "name": "stderr",
     "output_type": "stream",
     "text": [
      "Summarizing documents:  80%|████████  | 48/60 [01:19<00:16,  1.41s/it]"
     ]
    },
    {
     "name": "stdout",
     "output_type": "stream",
     "text": [
      "current doc id: 43c55f8a-8a65-4e0e-9e4d-a5f9551298c1\n"
     ]
    },
    {
     "name": "stderr",
     "output_type": "stream",
     "text": [
      "Summarizing documents:  82%|████████▏ | 49/60 [01:20<00:14,  1.35s/it]"
     ]
    },
    {
     "name": "stdout",
     "output_type": "stream",
     "text": [
      "current doc id: fb5c99aa-6697-4695-8c98-f93a1964e8e9\n"
     ]
    },
    {
     "name": "stderr",
     "output_type": "stream",
     "text": [
      "Summarizing documents:  83%|████████▎ | 50/60 [01:22<00:14,  1.46s/it]"
     ]
    },
    {
     "name": "stdout",
     "output_type": "stream",
     "text": [
      "current doc id: fe262c40-b887-49c3-b110-a4effd4e8c97\n"
     ]
    },
    {
     "name": "stderr",
     "output_type": "stream",
     "text": [
      "Summarizing documents:  85%|████████▌ | 51/60 [01:23<00:12,  1.42s/it]"
     ]
    },
    {
     "name": "stdout",
     "output_type": "stream",
     "text": [
      "current doc id: dfee4b24-1366-4e06-aed8-e2e5d593b786\n"
     ]
    },
    {
     "name": "stderr",
     "output_type": "stream",
     "text": [
      "Summarizing documents:  87%|████████▋ | 52/60 [01:24<00:10,  1.36s/it]"
     ]
    },
    {
     "name": "stdout",
     "output_type": "stream",
     "text": [
      "current doc id: 6eaf9fd3-27c4-4582-a97b-6eb7cbce243e\n"
     ]
    },
    {
     "name": "stderr",
     "output_type": "stream",
     "text": [
      "Summarizing documents:  88%|████████▊ | 53/60 [01:26<00:10,  1.50s/it]"
     ]
    },
    {
     "name": "stdout",
     "output_type": "stream",
     "text": [
      "current doc id: 498877c8-1580-4ae0-ac4f-a58d7fdceb88\n"
     ]
    },
    {
     "name": "stderr",
     "output_type": "stream",
     "text": [
      "Summarizing documents:  90%|█████████ | 54/60 [01:29<00:10,  1.78s/it]"
     ]
    },
    {
     "name": "stdout",
     "output_type": "stream",
     "text": [
      "current doc id: aa8b937b-061a-4ff2-96d9-eca05a76f00a\n"
     ]
    },
    {
     "name": "stderr",
     "output_type": "stream",
     "text": [
      "Summarizing documents:  92%|█████████▏| 55/60 [01:30<00:08,  1.65s/it]"
     ]
    },
    {
     "name": "stdout",
     "output_type": "stream",
     "text": [
      "current doc id: e3a76c14-1584-4efc-95c4-c7fdfdcb0b7b\n"
     ]
    },
    {
     "name": "stderr",
     "output_type": "stream",
     "text": [
      "Summarizing documents:  93%|█████████▎| 56/60 [01:31<00:06,  1.58s/it]"
     ]
    },
    {
     "name": "stdout",
     "output_type": "stream",
     "text": [
      "current doc id: 5d862cf1-277c-469c-8b8e-9217ef1247ee\n"
     ]
    },
    {
     "name": "stderr",
     "output_type": "stream",
     "text": [
      "Summarizing documents:  95%|█████████▌| 57/60 [01:33<00:04,  1.54s/it]"
     ]
    },
    {
     "name": "stdout",
     "output_type": "stream",
     "text": [
      "current doc id: b62bed19-3fe8-4925-9e58-dc51db3e65b3\n"
     ]
    },
    {
     "name": "stderr",
     "output_type": "stream",
     "text": [
      "Summarizing documents:  97%|█████████▋| 58/60 [01:34<00:02,  1.48s/it]"
     ]
    },
    {
     "name": "stdout",
     "output_type": "stream",
     "text": [
      "current doc id: b15cc6ba-5005-44a6-883f-be411b030e9e\n"
     ]
    },
    {
     "name": "stderr",
     "output_type": "stream",
     "text": [
      "Summarizing documents:  98%|█████████▊| 59/60 [01:35<00:01,  1.38s/it]"
     ]
    },
    {
     "name": "stdout",
     "output_type": "stream",
     "text": [
      "current doc id: ea4c1e20-6297-45f7-8046-b40ea497671c\n"
     ]
    },
    {
     "name": "stderr",
     "output_type": "stream",
     "text": [
      "Summarizing documents: 100%|██████████| 60/60 [01:37<00:00,  1.62s/it]\n",
      "Generating embeddings: 100%|██████████| 60/60 [00:02<00:00, 23.48it/s]\n"
     ]
    }
   ],
   "source": [
    "from llama_index.core import DocumentSummaryIndex, get_response_synthesizer\n",
    "from llama_index.core.node_parser import TokenTextSplitter\n",
    "\n",
    "splitter = TokenTextSplitter(chunk_size=1024, chunk_overlap=16)\n",
    "\n",
    "response_synthesizer = get_response_synthesizer(\n",
    "    response_mode=\"tree_summarize\", use_async=True\n",
    ")\n",
    "\n",
    "doc_summary_index = DocumentSummaryIndex.from_documents(\n",
    "    senpai_documents,\n",
    "    llm=Settings.llm,\n",
    "    embed_model=Settings.embed_model,\n",
    "    transformations=[splitter],\n",
    "    response_synthesizer=response_synthesizer,\n",
    "    show_progress=True,\n",
    "    vector_store=doc_summary_vector_store\n",
    ")"
   ]
  },
  {
   "cell_type": "markdown",
   "metadata": {},
   "source": [
    "### 🔧 Setup Query Engine and Pipeline\n"
   ]
  },
  {
   "cell_type": "code",
   "execution_count": 13,
   "metadata": {},
   "outputs": [],
   "source": [
    "from llama_index.core import PromptTemplate\n",
    "from utils import create_query_engine\n",
    "from prompts import HYPE_ANSWER_GEN_PROMPT\n",
    "\n",
    "HYPE_ANSWER_GEN_PROMPT_TEMPLATE = PromptTemplate(HYPE_ANSWER_GEN_PROMPT)\n",
    "\n",
    "doc_summaries_query_engine = create_query_engine(\n",
    "    index=doc_summary_index, \n",
    "    mode=\"query\",\n",
    "    response_mode=\"compact\",\n",
    "    similiarty_top_k=5,\n",
    "    vector_store_query_mode=\"mmr\", \n",
    "    vector_store_kwargs={\"mmr_threshold\": 0.42},\n",
    "    )\n",
    "\n",
    "doc_summaries_query_engine.update_prompts({'response_synthesizer:text_qa_template':HYPE_ANSWER_GEN_PROMPT_TEMPLATE})"
   ]
  },
  {
   "cell_type": "markdown",
   "metadata": {},
   "source": [
    "Note: We won't run inference using the above as I want to show you the low-level API for embedding based retrieval as well. We'll use that for generation."
   ]
  },
  {
   "cell_type": "markdown",
   "metadata": {},
   "source": [
    "## 📜 [Document Summary Retrievers](https://github.com/run-llama/llama_index/blob/main/llama-index-core/llama_index/core/indices/document_summary/retrievers.py)\n",
    "\n",
    "\n",
    "<img src=\"https://www.llamaindex.ai/_next/image?url=https%3A%2F%2Fcdn.sanity.io%2Fimages%2F7m9jw85w%2Fproduction%2F6d78d199badf9b45f5637d2a87aee0b12b9a335c-2099x1134.png%3Ffit%3Dmax%26auto%3Dformat&w=1920&q=75\" style=\"width:70%; height:70%\">\n",
    "\n",
    "Source: [LlamaIndex Blog](https://www.llamaindex.ai/blog/a-new-document-summary-index-for-llm-powered-qa-systems-9a32ece2f9ec)\n",
    "\n",
    "- 📂 Contains two types of retrievers:\n",
    "  1. 🧠 LLM-based retriever (`DocumentSummaryIndexLLMRetriever`)\n",
    "  2. 🎨 Embedding-based retriever (`DocumentSummaryIndexEmbeddingRetriever`)\n",
    "\n",
    "These document summary retrievers  efficiently retrieve relevant summaries from a document summary index. \n",
    "\n",
    "The LLM-based retriever uses language models to select relevant summaries based on a query, while the embedding-based retriever uses embedding similarity to find relevant summaries. \n",
    "\n",
    "\n",
    "#### 🧠 [`DocumentSummaryIndexLLMRetriever`](https://github.com/run-llama/llama_index/blob/99984eb87afb2e7feda65d5246ad166b0042f6fe/llama-index-core/llama_index/core/indices/document_summary/retrievers.py#L28)\n",
    "\n",
    "- 📜 Retrieves relevant summaries from the index using LLM calls\n",
    "\n",
    "- 🎛️ Customizable prompt for selecting relevant summaries\n",
    "\n",
    "- 🍰 Processes summary nodes in batches\n",
    "\n",
    "- 🔝 Retrieves top-k summary nodes based on LLM's relevance scoring\n",
    "\n",
    "- 🤖 Uses an LLM to select relevant summaries\n",
    "\n",
    "##### Arguments you need to know:\n",
    "\n",
    "- `index`:  The index to retrieve from.\n",
    "\n",
    "- `choice_select_prompt`: The prompt to use for selecting relevant summaries. The default prompt can be found [here](https://github.com/run-llama/llama_index/blob/99984eb87afb2e7feda65d5246ad166b0042f6fe/llama-index-core/llama_index/core/prompts/default_prompts.py#L392)\n",
    "\n",
    "- `choice_batch_size`: The number of summary nodes to send to LLM at a time. The default value is 10\n",
    "\n",
    "- `choice_top_k`: The number of summary nodes to retrieve. The default value is 1.\n",
    "\n",
    "- `format_node_batch_fn`: Function to format a batch of nodes for LLM. This defaults to `default_format_node_batch_fn`, which formats a batch of summary nodes by assigning each node a number and joining their contents with a separator.\n",
    "\n",
    "- `parse_choice_select_answer_fn`: Function to parse LLM response. It defaults to `default_parse_choice_select_answer_fn`, which parses the answer string from the LLM, extracting the selected answer numbers and their corresponding relevance scores, and returns them as lists.\n",
    "\n",
    "- `llm` (LLM): The llm to use."
   ]
  },
  {
   "cell_type": "code",
   "execution_count": 14,
   "metadata": {},
   "outputs": [],
   "source": [
    "from llama_index.core.indices.document_summary import DocumentSummaryIndexLLMRetriever\n",
    "from llama_index.core.query_engine import RetrieverQueryEngine\n",
    "\n",
    "response_synthesizer = get_response_synthesizer(response_mode=\"tree_summarize\")"
   ]
  },
  {
   "cell_type": "code",
   "execution_count": 15,
   "metadata": {},
   "outputs": [],
   "source": [
    "doc_llm_retriever = DocumentSummaryIndexLLMRetriever(\n",
    "    doc_summary_index,\n",
    "    choice_top_k=5,\n",
    "    llm=Settings.llm,\n",
    "    # choice_select_prompt=None,\n",
    "    # choice_batch_size=10,\n",
    "    # format_node_batch_fn=None,\n",
    "    # parse_choice_select_answer_fn=None,\n",
    ")\n",
    "\n",
    "doc_llm_query_engine = RetrieverQueryEngine(\n",
    "    retriever=doc_llm_retriever,\n",
    "    response_synthesizer=response_synthesizer,\n",
    ")\n",
    "\n",
    "doc_llm_query_engine.update_prompts({'response_synthesizer:text_qa_template':HYPE_ANSWER_GEN_PROMPT_TEMPLATE})"
   ]
  },
  {
   "cell_type": "code",
   "execution_count": 16,
   "metadata": {},
   "outputs": [
    {
     "data": {
      "text/plain": [
       "Response(response='To stop overanalyzing your own moods and feelings, it is important to focus on the present moment and avoid getting attached to your thoughts and emotions. One approach is to cultivate a state of detachment, where you observe your feelings without judgment. This involves seeing things as they are, without becoming overly attached to any particular emotion or thought. By doing so, you can achieve a state of emptiness or fluidity, where your mind is free from psychic hindrances and can remain unobstructed.\\n\\nAnother helpful strategy is to avoid dwelling on the past or future, as these are absent and do not cause actual pain. Instead, focus on the present and accept that suffering and joy are often self-manufactured through our thoughts. By recognizing that defeat or failure is merely a state of mind, you can reframe negative experiences as temporary setbacks that can lead to greater effort and success.', source_nodes=[NodeWithScore(node=TextNode(id_='c7fcd63f-b363-4c71-924e-0b27a421303f', embedding=None, metadata={'page_number': 78, 'file_name': '../data/taoofseneca_vol2.pdf', 'title': 'Letters From a Stoic Volume 2', 'author': 'Seneca'}, excluded_embed_metadata_keys=[], excluded_llm_metadata_keys=[], relationships={<NodeRelationship.SOURCE: '1'>: RelatedNodeInfo(node_id='9ce2c45b-359c-4493-8d41-02dae91684ed', node_type='4', metadata={'page_number': 78, 'file_name': '../data/taoofseneca_vol2.pdf', 'title': 'Letters From a Stoic Volume 2', 'author': 'Seneca'}, hash='e7566376863c0068d160c6d0e4584cd159a00dec5ee70d2ead975aa02dc2bbcb')}, metadata_template='{key}: {value}', metadata_separator='\\n', text='them, and totters before its time. But what is greater madness than to be tortured by the future and not to save your strength for the actual suffering, but to invite and bring on wretchedness? If you cannot be rid of it, you ought at least to postpone it. Will you not understand that no man should be tormented by the future? The man who has been told that he will have to endure torture fifty years from now is not disturbed thereby, unless he has leaped over the intervening years, and has projected himself into the trouble that is destined to arrive a generation later. In the same way, souls that enjoy being sick and that seize upon excuses for sorrow are saddened by events long past and effaced from the records. Past and future are both absent; we feel neither of them. But there can be no pain except as the result of what you feel. Farewell. Footnotes 1. A doctrine often expressed in the letters; cf., for example, lxxi. 4. 2. Cf. Horace, Carm. iii. 16. 28 magnas inter opes inops. 3. For the same thought cf. Ep. iv. 7 Neminem eo fortuna provexit, ut non tantum illi minaretur, quantum permiserat. Noli huic tranquillitati confidere; momento mare evertitur. Eodem die ubi luserunt navigia, sorbentur. 4. i.e., engaged upon something else. Cf. Ep. i. 1. 5. A distribution of coins, etc., at the public games. Food was also doled out to the populace on similar occasions. 6. This figure of the dole as applied to Fortune is sustained to an extent which is unusual in Seneca. 7. This phrase recalls the title of one of Senecas philosophical essays: De Providentia, or Quare Bonis Viris Mala Accidant cum sit Providentia. 8. Cf. Ep. lxxiii. 14 Iuppiter uti illis non potest. 9. Producta is a translation of the Stoic term . For a clear exposition of this topic see Cicero, De Fin. iii. 52 ff. 10. See Ep. lxvi. 6. The Stoics, unlike the Academics and the Peripatetics, maintained that the good must have an unconditional value (Zeller). 11. Cf. Itane in geometriae pulvere haerebo?, Ep. lxxxviii. 39 and note. 12. See the argument in Ep. xii. 6 f., and often elsewhere.', mimetype='text/plain', start_char_idx=0, end_char_idx=2080, metadata_seperator='\\n', text_template='{metadata_str}\\n\\n{content}'), score=8.0), NodeWithScore(node=TextNode(id_='52b97986-2a59-48ed-8cd4-d9c5f901f6c1', embedding=None, metadata={'page_number': 151, 'file_name': '../data/striking-thoughts.pdf', 'title': 'Striking Thoughts', 'author': 'Bruce Lee'}, excluded_embed_metadata_keys=[], excluded_llm_metadata_keys=[], relationships={<NodeRelationship.SOURCE: '1'>: RelatedNodeInfo(node_id='6eaf9fd3-27c4-4582-a97b-6eb7cbce243e', node_type='4', metadata={'page_number': 151, 'file_name': '../data/striking-thoughts.pdf', 'title': 'Striking Thoughts', 'author': 'Bruce Lee'}, hash='695e1119e8695d906702b1324e3aa53bbdbe02b53a4017cf853cff58d0f221a2')}, metadata_template='{key}: {value}', metadata_separator='\\n', text='Detachment Float in emptiness without obstruction. - The knowledge and kill you have achieved are after all meant to be \"forgotten\" so you can float in emptiness without obstruction and comfortably. It is to see things as they are. - It is to see things as they are and not to become attached to anything - to be unconscious means to be innocent of the working of a relative (empirical) mind - when there is no abiding of thought anywhere on anything - this is being unbound. This not abiding anywhere is the root of our life. Remove all psychic hindrances. - One can never be the master of his technical. knowledge unless all his psychic hindrances are removed and he can keep the mind in the state of emptiness (fluidity), even purged of whatever technique he has obtained-with no conscious effort. Emptiness cannot be confined.- You cannot hurt that which is formless. The softest thing cannot be snapped and emptiness cannot be confined. To be detached is to be free of positive and negative. - \"To desire\" is an attachment. \"To desire not to desire\" is also an attachment. To be unattached then means to be free at once from both statements, positive and negative. In other words, this is to be simultaneously both \"yes\" and \"no,\" which is intellectually absurd. The art of detachment. - Give up thinking as though not giving it up. Observe the', mimetype='text/plain', start_char_idx=0, end_char_idx=1349, metadata_seperator='\\n', text_template='{metadata_str}\\n\\n{content}'), score=8.0), NodeWithScore(node=TextNode(id_='928e6205-db5e-44c7-93bd-f9d77adf17d1', embedding=None, metadata={'page_number': 109, 'file_name': '../data/taoofseneca_vol1-1.pdf', 'title': 'Letters From a Stoic Volume 1', 'author': 'Seneca'}, excluded_embed_metadata_keys=[], excluded_llm_metadata_keys=[], relationships={<NodeRelationship.SOURCE: '1'>: RelatedNodeInfo(node_id='5cfa555f-17f3-413d-a565-596bf51cb8dc', node_type='4', metadata={'page_number': 109, 'file_name': '../data/taoofseneca_vol1-1.pdf', 'title': 'Letters From a Stoic Volume 1', 'author': 'Seneca'}, hash='a1ed9d5d7b5c7a56f54ec53dad87f3f888675e9c0f26122546b2cbeb00981104')}, metadata_template='{key}: {value}', metadata_separator='\\n', text='machines for tearing a man apart piecemeal? Away with all such stuff, which makes us numb with terror! And thou, silence the groans the cries, and the bitter shrieks ground out of the victim as he is torn on the rack! Forsooth thou are naught but Pain, scorned by yonder gout-ridden wretch, endured by yonder dyspeptic in the midst of his dainties, borne bravely by the girl in travail. Slight thou art, if I can bear thee; short thou art if I cannot bear thee! Ponder these words which you have often heard and often uttered. Moreover, prove by the result whether that which you have heard and uttered is true. For there is a very disgraceful charge often brought against our schoolthat we deal with the words, and not with the deeds, of philosophy. What, have you only at this moment learned that death is hanging over your head, at this moment exile, at this moment grief? You were born to these perils. Let us think of everything that can happen as something which will happen. I know that you have really done what I advise you to do; I now warn you not to drown your soul in these petty anxieties of yours; if you do, the soul will be dulled and will have too little vigour left when the time comes for it to arise. Remove the mind from this case of yours to the case of men in general. Say to yourself that our petty bodies are mortal and frail; pain can reach them from other sources than from wrong or the might of the stronger. Our pleasures themselves become torments; banquets bring indigestion, carousals paralysis of the muscles and palsy, sensual habits affect the feet, the hands, and every joint of the body. I may become a poor man; I shall then be one among many. I may be exiled; I shall then regard myself as born in the place to which I shall be sent. They may put me in chains. What then? Am I free from bonds now? Behold this clogging burden of a body, to which nature has fettered me! I shall die, you say; you mean to', mimetype='text/plain', start_char_idx=0, end_char_idx=1943, metadata_seperator='\\n', text_template='{metadata_str}\\n\\n{content}'), score=7.0), NodeWithScore(node=TextNode(id_='5c9ca2e3-bb2b-421f-b651-ad9f0cc9b2bc', embedding=None, metadata={'page_number': 43, 'file_name': '../data/striking-thoughts.pdf', 'title': 'Striking Thoughts', 'author': 'Bruce Lee'}, excluded_embed_metadata_keys=[], excluded_llm_metadata_keys=[], relationships={<NodeRelationship.SOURCE: '1'>: RelatedNodeInfo(node_id='aa8b937b-061a-4ff2-96d9-eca05a76f00a', node_type='4', metadata={'page_number': 43, 'file_name': '../data/striking-thoughts.pdf', 'title': 'Striking Thoughts', 'author': 'Bruce Lee'}, hash='1c606a8fdca4092832a6dff68bb69eee1d015d3455b92b80ae41ccb54d7ead2c')}, metadata_template='{key}: {value}', metadata_separator='\\n', text=\"Mind is the dynamic aspect of emptiness. - All movements come out of emptiness and that the mind is the name given to this dynamic aspect of emptiness, and further that here is no crookedness, no ego-centered motivation, as the emptiness is sincerity, genuineness, and straight-forwardness allowing nothing between itself and its movements. Dont direct the mind. - Stand at the neutral point between negative and positive, no longer directing one's mind to anything. The mind is without activity. - The mind is originally without activity; the Way is always without thought. The unconditioned mind intuits truth. - [To] bring the mind into sharp focus and to make it alert so that it can immediately intuit truth, which is everywhere, the mind must be emancipated from old habits, prejudices, restrictive thought process, and even ordinary thought itself. Cultivate an alert mind. - To be on the alert means to be deadly serious; to be deadly serious means to be sincere to oneself, and it is sincerity that finally leads to the Way. Knowledge is of the mind. - By knowledge is meant knowing the emptiness and tranquillity of the mind. Insight means realising the one's original nature is not created. Knowledge is of the past. - Knowledge is of the past; learning is in the present, a constant movement, in relationship with the outward things, without the past.\", mimetype='text/plain', start_char_idx=0, end_char_idx=1363, metadata_seperator='\\n', text_template='{metadata_str}\\n\\n{content}'), score=7.0), NodeWithScore(node=TextNode(id_='3e50bd3b-387c-4534-929e-970951b94d15', embedding=None, metadata={'page_number': 119, 'file_name': '../data/striking-thoughts.pdf', 'title': 'Striking Thoughts', 'author': 'Bruce Lee'}, excluded_embed_metadata_keys=[], excluded_llm_metadata_keys=[], relationships={<NodeRelationship.SOURCE: '1'>: RelatedNodeInfo(node_id='ea4c1e20-6297-45f7-8046-b40ea497671c', node_type='4', metadata={'page_number': 119, 'file_name': '../data/striking-thoughts.pdf', 'title': 'Striking Thoughts', 'author': 'Bruce Lee'}, hash='9fb4864ca1b82194771fb5d6b10a32480bfb51f9533d7edb774af8e18bec6535')}, metadata_template='{key}: {value}', metadata_separator='\\n', text=\"Motivation Your mind determines the effect. - Everyone - no matter who he is or where - must know from childhood that whatever occurs, does not happen if the occurrence isn't allowed to come into the mind. It is not what happens in our life that is important, it's how we react to what happens. Failure is what your mind acknowledges. Suffering is mostly self-manufactured. -Joy and suffering are the fruit of right and wrong thinking. Suffering, especially, is mostly self-manufactured; we are never so happy or so unhappy as we suppose. To go one step beyond, according to Taosim, suffering and joy are one! Defeat is a state of mind. - Defeat is a state of mind; no one is ever defeated until defeat has been accepted as a reality. Defeat is temporary. -To me, defeat in anything is merely temporary, and its punishment is but an urge for me to greater effort to achieve my goal. Defeat simply tells me that something is wrong in my doing; it is a path leading to success and truth. Dont choose to waste energy. -Never waste energy on worries or negative thoughts. All problems are brought into existence - drop them. To be discouraged is to be defeated. - It is not what happens that is success or failure, but what it does to the heart of man. No man is defeated unless he is discouraged.\", mimetype='text/plain', start_char_idx=0, end_char_idx=1293, metadata_seperator='\\n', text_template='{metadata_str}\\n\\n{content}'), score=6.0)], metadata={'c7fcd63f-b363-4c71-924e-0b27a421303f': {'page_number': 78, 'file_name': '../data/taoofseneca_vol2.pdf', 'title': 'Letters From a Stoic Volume 2', 'author': 'Seneca'}, '52b97986-2a59-48ed-8cd4-d9c5f901f6c1': {'page_number': 151, 'file_name': '../data/striking-thoughts.pdf', 'title': 'Striking Thoughts', 'author': 'Bruce Lee'}, '928e6205-db5e-44c7-93bd-f9d77adf17d1': {'page_number': 109, 'file_name': '../data/taoofseneca_vol1-1.pdf', 'title': 'Letters From a Stoic Volume 1', 'author': 'Seneca'}, '5c9ca2e3-bb2b-421f-b651-ad9f0cc9b2bc': {'page_number': 43, 'file_name': '../data/striking-thoughts.pdf', 'title': 'Striking Thoughts', 'author': 'Bruce Lee'}, '3e50bd3b-387c-4534-929e-970951b94d15': {'page_number': 119, 'file_name': '../data/striking-thoughts.pdf', 'title': 'Striking Thoughts', 'author': 'Bruce Lee'}})"
      ]
     },
     "execution_count": 16,
     "metadata": {},
     "output_type": "execute_result"
    }
   ],
   "source": [
    "doc_llm_query_engine.query(\"How can I stop overanalyzing my own moods and feelings?\")"
   ]
  },
  {
   "cell_type": "code",
   "execution_count": 17,
   "metadata": {},
   "outputs": [],
   "source": [
    "from utils import create_query_pipeline\n",
    "\n",
    "from llama_index.core.query_pipeline import InputComponent\n",
    "\n",
    "input_component = InputComponent()\n",
    "\n",
    "doc_llm__chain = [input_component, doc_llm_query_engine]\n",
    "\n",
    "doc_llm_query_pipeline = create_query_pipeline(doc_llm__chain)"
   ]
  },
  {
   "cell_type": "code",
   "execution_count": 18,
   "metadata": {},
   "outputs": [
    {
     "name": "stdout",
     "output_type": "stream",
     "text": [
      "\u001b[1;3;38;2;155;135;227m> Running module d02d091a-52f7-47b1-bc01-30e6b08f8f9b with input: \n",
      "input: How can I stop overanalyzing my own moods and feelings?\n",
      "\n",
      "\u001b[0m\u001b[1;3;38;2;155;135;227m> Running module 66e311fa-0f9c-48d3-b96b-b0b959fcb489 with input: \n",
      "input: How can I stop overanalyzing my own moods and feelings?\n",
      "\n",
      "\u001b[0m"
     ]
    },
    {
     "data": {
      "text/plain": [
       "Response(response=\"To stop overanalyzing your moods and feelings, it's important to focus on the present moment and avoid dwelling on the past or future. This involves cultivating a mind that is alert and sincere to itself, allowing it to intuit truth without being hindered by old habits or restrictive thought processes.\\n\\nOne approach is to practice detachment, which means being free from both positive and negative attachments. This involves seeing things as they are without becoming attached to any particular outcome or emotion. By doing so, you can achieve a state of emptiness or fluidity, where the mind is without activity and can respond to the present moment without being clouded by past experiences or future anxieties.\\n\\nAdditionally, it's helpful to understand that suffering and joy are often self-manufactured and are the result of our own thinking. By recognizing this, you can choose to let go of negative thoughts and worries, focusing instead on the present moment and the tasks at hand. This can help you avoid becoming discouraged or defeated, and instead, use any challenges as opportunities for growth and learning.\", source_nodes=[NodeWithScore(node=TextNode(id_='c7fcd63f-b363-4c71-924e-0b27a421303f', embedding=None, metadata={'page_number': 78, 'file_name': '../data/taoofseneca_vol2.pdf', 'title': 'Letters From a Stoic Volume 2', 'author': 'Seneca'}, excluded_embed_metadata_keys=[], excluded_llm_metadata_keys=[], relationships={<NodeRelationship.SOURCE: '1'>: RelatedNodeInfo(node_id='9ce2c45b-359c-4493-8d41-02dae91684ed', node_type='4', metadata={'page_number': 78, 'file_name': '../data/taoofseneca_vol2.pdf', 'title': 'Letters From a Stoic Volume 2', 'author': 'Seneca'}, hash='e7566376863c0068d160c6d0e4584cd159a00dec5ee70d2ead975aa02dc2bbcb')}, metadata_template='{key}: {value}', metadata_separator='\\n', text='them, and totters before its time. But what is greater madness than to be tortured by the future and not to save your strength for the actual suffering, but to invite and bring on wretchedness? If you cannot be rid of it, you ought at least to postpone it. Will you not understand that no man should be tormented by the future? The man who has been told that he will have to endure torture fifty years from now is not disturbed thereby, unless he has leaped over the intervening years, and has projected himself into the trouble that is destined to arrive a generation later. In the same way, souls that enjoy being sick and that seize upon excuses for sorrow are saddened by events long past and effaced from the records. Past and future are both absent; we feel neither of them. But there can be no pain except as the result of what you feel. Farewell. Footnotes 1. A doctrine often expressed in the letters; cf., for example, lxxi. 4. 2. Cf. Horace, Carm. iii. 16. 28 magnas inter opes inops. 3. For the same thought cf. Ep. iv. 7 Neminem eo fortuna provexit, ut non tantum illi minaretur, quantum permiserat. Noli huic tranquillitati confidere; momento mare evertitur. Eodem die ubi luserunt navigia, sorbentur. 4. i.e., engaged upon something else. Cf. Ep. i. 1. 5. A distribution of coins, etc., at the public games. Food was also doled out to the populace on similar occasions. 6. This figure of the dole as applied to Fortune is sustained to an extent which is unusual in Seneca. 7. This phrase recalls the title of one of Senecas philosophical essays: De Providentia, or Quare Bonis Viris Mala Accidant cum sit Providentia. 8. Cf. Ep. lxxiii. 14 Iuppiter uti illis non potest. 9. Producta is a translation of the Stoic term . For a clear exposition of this topic see Cicero, De Fin. iii. 52 ff. 10. See Ep. lxvi. 6. The Stoics, unlike the Academics and the Peripatetics, maintained that the good must have an unconditional value (Zeller). 11. Cf. Itane in geometriae pulvere haerebo?, Ep. lxxxviii. 39 and note. 12. See the argument in Ep. xii. 6 f., and often elsewhere.', mimetype='text/plain', start_char_idx=0, end_char_idx=2080, metadata_seperator='\\n', text_template='{metadata_str}\\n\\n{content}'), score=8.0), NodeWithScore(node=TextNode(id_='52b97986-2a59-48ed-8cd4-d9c5f901f6c1', embedding=None, metadata={'page_number': 151, 'file_name': '../data/striking-thoughts.pdf', 'title': 'Striking Thoughts', 'author': 'Bruce Lee'}, excluded_embed_metadata_keys=[], excluded_llm_metadata_keys=[], relationships={<NodeRelationship.SOURCE: '1'>: RelatedNodeInfo(node_id='6eaf9fd3-27c4-4582-a97b-6eb7cbce243e', node_type='4', metadata={'page_number': 151, 'file_name': '../data/striking-thoughts.pdf', 'title': 'Striking Thoughts', 'author': 'Bruce Lee'}, hash='695e1119e8695d906702b1324e3aa53bbdbe02b53a4017cf853cff58d0f221a2')}, metadata_template='{key}: {value}', metadata_separator='\\n', text='Detachment Float in emptiness without obstruction. - The knowledge and kill you have achieved are after all meant to be \"forgotten\" so you can float in emptiness without obstruction and comfortably. It is to see things as they are. - It is to see things as they are and not to become attached to anything - to be unconscious means to be innocent of the working of a relative (empirical) mind - when there is no abiding of thought anywhere on anything - this is being unbound. This not abiding anywhere is the root of our life. Remove all psychic hindrances. - One can never be the master of his technical. knowledge unless all his psychic hindrances are removed and he can keep the mind in the state of emptiness (fluidity), even purged of whatever technique he has obtained-with no conscious effort. Emptiness cannot be confined.- You cannot hurt that which is formless. The softest thing cannot be snapped and emptiness cannot be confined. To be detached is to be free of positive and negative. - \"To desire\" is an attachment. \"To desire not to desire\" is also an attachment. To be unattached then means to be free at once from both statements, positive and negative. In other words, this is to be simultaneously both \"yes\" and \"no,\" which is intellectually absurd. The art of detachment. - Give up thinking as though not giving it up. Observe the', mimetype='text/plain', start_char_idx=0, end_char_idx=1349, metadata_seperator='\\n', text_template='{metadata_str}\\n\\n{content}'), score=8.0), NodeWithScore(node=TextNode(id_='5c9ca2e3-bb2b-421f-b651-ad9f0cc9b2bc', embedding=None, metadata={'page_number': 43, 'file_name': '../data/striking-thoughts.pdf', 'title': 'Striking Thoughts', 'author': 'Bruce Lee'}, excluded_embed_metadata_keys=[], excluded_llm_metadata_keys=[], relationships={<NodeRelationship.SOURCE: '1'>: RelatedNodeInfo(node_id='aa8b937b-061a-4ff2-96d9-eca05a76f00a', node_type='4', metadata={'page_number': 43, 'file_name': '../data/striking-thoughts.pdf', 'title': 'Striking Thoughts', 'author': 'Bruce Lee'}, hash='1c606a8fdca4092832a6dff68bb69eee1d015d3455b92b80ae41ccb54d7ead2c')}, metadata_template='{key}: {value}', metadata_separator='\\n', text=\"Mind is the dynamic aspect of emptiness. - All movements come out of emptiness and that the mind is the name given to this dynamic aspect of emptiness, and further that here is no crookedness, no ego-centered motivation, as the emptiness is sincerity, genuineness, and straight-forwardness allowing nothing between itself and its movements. Dont direct the mind. - Stand at the neutral point between negative and positive, no longer directing one's mind to anything. The mind is without activity. - The mind is originally without activity; the Way is always without thought. The unconditioned mind intuits truth. - [To] bring the mind into sharp focus and to make it alert so that it can immediately intuit truth, which is everywhere, the mind must be emancipated from old habits, prejudices, restrictive thought process, and even ordinary thought itself. Cultivate an alert mind. - To be on the alert means to be deadly serious; to be deadly serious means to be sincere to oneself, and it is sincerity that finally leads to the Way. Knowledge is of the mind. - By knowledge is meant knowing the emptiness and tranquillity of the mind. Insight means realising the one's original nature is not created. Knowledge is of the past. - Knowledge is of the past; learning is in the present, a constant movement, in relationship with the outward things, without the past.\", mimetype='text/plain', start_char_idx=0, end_char_idx=1363, metadata_seperator='\\n', text_template='{metadata_str}\\n\\n{content}'), score=7.0), NodeWithScore(node=TextNode(id_='928e6205-db5e-44c7-93bd-f9d77adf17d1', embedding=None, metadata={'page_number': 109, 'file_name': '../data/taoofseneca_vol1-1.pdf', 'title': 'Letters From a Stoic Volume 1', 'author': 'Seneca'}, excluded_embed_metadata_keys=[], excluded_llm_metadata_keys=[], relationships={<NodeRelationship.SOURCE: '1'>: RelatedNodeInfo(node_id='5cfa555f-17f3-413d-a565-596bf51cb8dc', node_type='4', metadata={'page_number': 109, 'file_name': '../data/taoofseneca_vol1-1.pdf', 'title': 'Letters From a Stoic Volume 1', 'author': 'Seneca'}, hash='a1ed9d5d7b5c7a56f54ec53dad87f3f888675e9c0f26122546b2cbeb00981104')}, metadata_template='{key}: {value}', metadata_separator='\\n', text='machines for tearing a man apart piecemeal? Away with all such stuff, which makes us numb with terror! And thou, silence the groans the cries, and the bitter shrieks ground out of the victim as he is torn on the rack! Forsooth thou are naught but Pain, scorned by yonder gout-ridden wretch, endured by yonder dyspeptic in the midst of his dainties, borne bravely by the girl in travail. Slight thou art, if I can bear thee; short thou art if I cannot bear thee! Ponder these words which you have often heard and often uttered. Moreover, prove by the result whether that which you have heard and uttered is true. For there is a very disgraceful charge often brought against our schoolthat we deal with the words, and not with the deeds, of philosophy. What, have you only at this moment learned that death is hanging over your head, at this moment exile, at this moment grief? You were born to these perils. Let us think of everything that can happen as something which will happen. I know that you have really done what I advise you to do; I now warn you not to drown your soul in these petty anxieties of yours; if you do, the soul will be dulled and will have too little vigour left when the time comes for it to arise. Remove the mind from this case of yours to the case of men in general. Say to yourself that our petty bodies are mortal and frail; pain can reach them from other sources than from wrong or the might of the stronger. Our pleasures themselves become torments; banquets bring indigestion, carousals paralysis of the muscles and palsy, sensual habits affect the feet, the hands, and every joint of the body. I may become a poor man; I shall then be one among many. I may be exiled; I shall then regard myself as born in the place to which I shall be sent. They may put me in chains. What then? Am I free from bonds now? Behold this clogging burden of a body, to which nature has fettered me! I shall die, you say; you mean to', mimetype='text/plain', start_char_idx=0, end_char_idx=1943, metadata_seperator='\\n', text_template='{metadata_str}\\n\\n{content}'), score=6.0), NodeWithScore(node=TextNode(id_='3e50bd3b-387c-4534-929e-970951b94d15', embedding=None, metadata={'page_number': 119, 'file_name': '../data/striking-thoughts.pdf', 'title': 'Striking Thoughts', 'author': 'Bruce Lee'}, excluded_embed_metadata_keys=[], excluded_llm_metadata_keys=[], relationships={<NodeRelationship.SOURCE: '1'>: RelatedNodeInfo(node_id='ea4c1e20-6297-45f7-8046-b40ea497671c', node_type='4', metadata={'page_number': 119, 'file_name': '../data/striking-thoughts.pdf', 'title': 'Striking Thoughts', 'author': 'Bruce Lee'}, hash='9fb4864ca1b82194771fb5d6b10a32480bfb51f9533d7edb774af8e18bec6535')}, metadata_template='{key}: {value}', metadata_separator='\\n', text=\"Motivation Your mind determines the effect. - Everyone - no matter who he is or where - must know from childhood that whatever occurs, does not happen if the occurrence isn't allowed to come into the mind. It is not what happens in our life that is important, it's how we react to what happens. Failure is what your mind acknowledges. Suffering is mostly self-manufactured. -Joy and suffering are the fruit of right and wrong thinking. Suffering, especially, is mostly self-manufactured; we are never so happy or so unhappy as we suppose. To go one step beyond, according to Taosim, suffering and joy are one! Defeat is a state of mind. - Defeat is a state of mind; no one is ever defeated until defeat has been accepted as a reality. Defeat is temporary. -To me, defeat in anything is merely temporary, and its punishment is but an urge for me to greater effort to achieve my goal. Defeat simply tells me that something is wrong in my doing; it is a path leading to success and truth. Dont choose to waste energy. -Never waste energy on worries or negative thoughts. All problems are brought into existence - drop them. To be discouraged is to be defeated. - It is not what happens that is success or failure, but what it does to the heart of man. No man is defeated unless he is discouraged.\", mimetype='text/plain', start_char_idx=0, end_char_idx=1293, metadata_seperator='\\n', text_template='{metadata_str}\\n\\n{content}'), score=5.0)], metadata={'c7fcd63f-b363-4c71-924e-0b27a421303f': {'page_number': 78, 'file_name': '../data/taoofseneca_vol2.pdf', 'title': 'Letters From a Stoic Volume 2', 'author': 'Seneca'}, '52b97986-2a59-48ed-8cd4-d9c5f901f6c1': {'page_number': 151, 'file_name': '../data/striking-thoughts.pdf', 'title': 'Striking Thoughts', 'author': 'Bruce Lee'}, '5c9ca2e3-bb2b-421f-b651-ad9f0cc9b2bc': {'page_number': 43, 'file_name': '../data/striking-thoughts.pdf', 'title': 'Striking Thoughts', 'author': 'Bruce Lee'}, '928e6205-db5e-44c7-93bd-f9d77adf17d1': {'page_number': 109, 'file_name': '../data/taoofseneca_vol1-1.pdf', 'title': 'Letters From a Stoic Volume 1', 'author': 'Seneca'}, '3e50bd3b-387c-4534-929e-970951b94d15': {'page_number': 119, 'file_name': '../data/striking-thoughts.pdf', 'title': 'Striking Thoughts', 'author': 'Bruce Lee'}})"
      ]
     },
     "execution_count": 18,
     "metadata": {},
     "output_type": "execute_result"
    }
   ],
   "source": [
    "doc_llm_query_pipeline.run(input=\"How can I stop overanalyzing my own moods and feelings?\")"
   ]
  },
  {
   "cell_type": "markdown",
   "metadata": {},
   "source": [
    "#### 🎨 [`DocumentSummaryIndexEmbeddingRetriever`](https://github.com/run-llama/llama_index/blob/aad4a6fb94c8fcaf1b7dfac56b88b9e277886bfe/llama-index-core/llama_index/core/indices/document_summary/retrievers.py#L121)\n",
    "\n",
    "- 📜 Retrieves relevant summaries from the index using embedding similarity\n",
    "\n",
    "- 🔢 Retrieves top-k summary nodes based on embedding similarity\n",
    "\n",
    "- 🪢 Uses an embedding model to embed the query\n",
    "\n",
    "- 📏 Queries the vector store to find similar summaries\n",
    "\n",
    "##### Arguments you need to know\n",
    "\n",
    "- `index`: The index to retrieve from.\n",
    "\n",
    "- `similarity_top_k`: The number of summary nodes to retrieve.\n"
   ]
  },
  {
   "cell_type": "code",
   "execution_count": 19,
   "metadata": {},
   "outputs": [],
   "source": [
    "from llama_index.core.indices.document_summary import DocumentSummaryIndexEmbeddingRetriever\n",
    "\n",
    "doc_embed_retriever = DocumentSummaryIndexEmbeddingRetriever(\n",
    "    doc_summary_index,\n",
    "    # similarity_top_k=1,\n",
    ")\n",
    "\n",
    "doc_embed_query_engine = RetrieverQueryEngine(\n",
    "    retriever=doc_embed_retriever,\n",
    "    response_synthesizer=response_synthesizer,\n",
    ")"
   ]
  },
  {
   "cell_type": "code",
   "execution_count": 20,
   "metadata": {},
   "outputs": [],
   "source": [
    "doc_embed__chain = [input_component, doc_embed_query_engine]\n",
    "\n",
    "doc_embed_query_pipeline = create_query_pipeline(doc_embed__chain)"
   ]
  },
  {
   "cell_type": "code",
   "execution_count": 21,
   "metadata": {},
   "outputs": [
    {
     "name": "stdout",
     "output_type": "stream",
     "text": [
      "\u001b[1;3;38;2;155;135;227m> Running module f9227c23-a977-4ecf-bccd-c5631ea11f90 with input: \n",
      "input: How can I stop overanalyzing my own moods and feelings?\n",
      "\n",
      "\u001b[0m\u001b[1;3;38;2;155;135;227m> Running module 26a309bd-5120-4bcf-bb8d-b09786c93108 with input: \n",
      "input: How can I stop overanalyzing my own moods and feelings?\n",
      "\n",
      "\u001b[0m"
     ]
    },
    {
     "data": {
      "text/plain": [
       "Response(response=\"To stop overanalyzing your own moods and feelings, it's important to focus on the present moment. Often, people torment themselves by dwelling on future events or past experiences that are no longer relevant. By concentrating on what is happening right now, you can avoid unnecessary suffering. It's also helpful to understand that pain is a result of what you feel, so try to accept your emotions without judgment. Additionally, engaging in activities that distract you from your thoughts can be beneficial.\", source_nodes=[NodeWithScore(node=TextNode(id_='c7fcd63f-b363-4c71-924e-0b27a421303f', embedding=None, metadata={'page_number': 78, 'file_name': '../data/taoofseneca_vol2.pdf', 'title': 'Letters From a Stoic Volume 2', 'author': 'Seneca'}, excluded_embed_metadata_keys=[], excluded_llm_metadata_keys=[], relationships={<NodeRelationship.SOURCE: '1'>: RelatedNodeInfo(node_id='9ce2c45b-359c-4493-8d41-02dae91684ed', node_type='4', metadata={'page_number': 78, 'file_name': '../data/taoofseneca_vol2.pdf', 'title': 'Letters From a Stoic Volume 2', 'author': 'Seneca'}, hash='e7566376863c0068d160c6d0e4584cd159a00dec5ee70d2ead975aa02dc2bbcb')}, metadata_template='{key}: {value}', metadata_separator='\\n', text='them, and totters before its time. But what is greater madness than to be tortured by the future and not to save your strength for the actual suffering, but to invite and bring on wretchedness? If you cannot be rid of it, you ought at least to postpone it. Will you not understand that no man should be tormented by the future? The man who has been told that he will have to endure torture fifty years from now is not disturbed thereby, unless he has leaped over the intervening years, and has projected himself into the trouble that is destined to arrive a generation later. In the same way, souls that enjoy being sick and that seize upon excuses for sorrow are saddened by events long past and effaced from the records. Past and future are both absent; we feel neither of them. But there can be no pain except as the result of what you feel. Farewell. Footnotes 1. A doctrine often expressed in the letters; cf., for example, lxxi. 4. 2. Cf. Horace, Carm. iii. 16. 28 magnas inter opes inops. 3. For the same thought cf. Ep. iv. 7 Neminem eo fortuna provexit, ut non tantum illi minaretur, quantum permiserat. Noli huic tranquillitati confidere; momento mare evertitur. Eodem die ubi luserunt navigia, sorbentur. 4. i.e., engaged upon something else. Cf. Ep. i. 1. 5. A distribution of coins, etc., at the public games. Food was also doled out to the populace on similar occasions. 6. This figure of the dole as applied to Fortune is sustained to an extent which is unusual in Seneca. 7. This phrase recalls the title of one of Senecas philosophical essays: De Providentia, or Quare Bonis Viris Mala Accidant cum sit Providentia. 8. Cf. Ep. lxxiii. 14 Iuppiter uti illis non potest. 9. Producta is a translation of the Stoic term . For a clear exposition of this topic see Cicero, De Fin. iii. 52 ff. 10. See Ep. lxvi. 6. The Stoics, unlike the Academics and the Peripatetics, maintained that the good must have an unconditional value (Zeller). 11. Cf. Itane in geometriae pulvere haerebo?, Ep. lxxxviii. 39 and note. 12. See the argument in Ep. xii. 6 f., and often elsewhere.', mimetype='text/plain', start_char_idx=0, end_char_idx=2080, metadata_seperator='\\n', text_template='{metadata_str}\\n\\n{content}'), score=None)], metadata={'c7fcd63f-b363-4c71-924e-0b27a421303f': {'page_number': 78, 'file_name': '../data/taoofseneca_vol2.pdf', 'title': 'Letters From a Stoic Volume 2', 'author': 'Seneca'}})"
      ]
     },
     "execution_count": 21,
     "metadata": {},
     "output_type": "execute_result"
    }
   ],
   "source": [
    "doc_embed_query_pipeline.run(input=\"How can I stop overanalyzing my own moods and feelings?\")"
   ]
  },
  {
   "cell_type": "code",
   "execution_count": null,
   "metadata": {},
   "outputs": [],
   "source": []
  },
  {
   "cell_type": "code",
   "execution_count": null,
   "metadata": {},
   "outputs": [],
   "source": []
  }
 ],
 "metadata": {
  "kernelspec": {
   "display_name": "llama_index",
   "language": "python",
   "name": "python3"
  },
  "language_info": {
   "codemirror_mode": {
    "name": "ipython",
    "version": 3
   },
   "file_extension": ".py",
   "mimetype": "text/x-python",
   "name": "python",
   "nbconvert_exporter": "python",
   "pygments_lexer": "ipython3",
   "version": "3.13.1"
  }
 },
 "nbformat": 4,
 "nbformat_minor": 2
}
