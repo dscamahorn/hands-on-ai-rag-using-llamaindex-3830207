{
 "cells": [
  {
   "cell_type": "code",
   "execution_count": 1,
   "metadata": {},
   "outputs": [],
   "source": [
    "%%capture\n",
    "#%pip install llama-index openai==1.30.1 llama-index-embeddings-openai llama-index-embeddings-cohere==0.1.9 qdrant-client llama-index-vector-stores-qdrant llama-index-llms-openai llama-index-llms-cohere==0.1.19\n",
    "%pip install llama-index mistralai llama-index-embeddings-mistralai qdrant-client llama-index-vector-stores-qdrant llama-index-llms-mistralai"
   ]
  },
  {
   "cell_type": "code",
   "execution_count": 2,
   "metadata": {},
   "outputs": [
    {
     "name": "stderr",
     "output_type": "stream",
     "text": [
      "[nltk_data] Downloading package punkt_tab to\n",
      "[nltk_data]     /opt/conda/envs/llama/lib/python3.13/site-\n",
      "[nltk_data]     packages/llama_index/core/_static/nltk_cache...\n",
      "[nltk_data]   Package punkt_tab is already up-to-date!\n"
     ]
    }
   ],
   "source": [
    "import os\n",
    "import sys\n",
    "from getpass import getpass\n",
    "import nest_asyncio\n",
    "\n",
    "from IPython.display import Markdown, display\n",
    "\n",
    "from dotenv import load_dotenv\n",
    "\n",
    "nest_asyncio.apply()\n",
    "\n",
    "load_dotenv(\"\")\n",
    "\n",
    "sys.path.append('../helpers')\n",
    "\n",
    "from utils import setup_llm, setup_embed_model, setup_vector_store"
   ]
  },
  {
   "cell_type": "code",
   "execution_count": 3,
   "metadata": {},
   "outputs": [],
   "source": [
    "MISTRAL_API_KEY = os.environ['MISTRAL_API_KEY']"
   ]
  },
  {
   "cell_type": "code",
   "execution_count": 4,
   "metadata": {},
   "outputs": [],
   "source": [
    "QDRANT_URL = os.environ['QDRANT_URL'] or getpass(\"Enter your Qdrant URL:\")"
   ]
  },
  {
   "cell_type": "code",
   "execution_count": 5,
   "metadata": {},
   "outputs": [],
   "source": [
    "QDRANT_API_KEY = os.environ['QDRANT_API_KEY'] or  getpass(\"Enter your Qdrant API Key:\")"
   ]
  },
  {
   "cell_type": "code",
   "execution_count": 6,
   "metadata": {},
   "outputs": [],
   "source": [
    "from llama_index.core.settings import Settings\n",
    "from utils import setup_llm, setup_embed_model\n",
    "\n",
    "setup_llm(\n",
    "    provider=\"mistral\", \n",
    "    model=\"mistral-small-latest\", \n",
    "    api_key=MISTRAL_API_KEY, \n",
    "    temperature=0.75, \n",
    "    system_prompt=\"\"\"Use ONLY the provided context and generate a complete, coherent answer to the user's query. \n",
    "    Your response must be grounded in the provided context and relevant to the essence of the user's query.\n",
    "    \"\"\"\n",
    "    )\n",
    "\n",
    "setup_embed_model(\n",
    "    provider=\"mistral\",\n",
    "    api_key=MISTRAL_API_KEY\n",
    "    )"
   ]
  },
  {
   "cell_type": "code",
   "execution_count": 7,
   "metadata": {},
   "outputs": [],
   "source": [
    "from utils import get_documents_from_docstore\n",
    "\n",
    "senpai_documents = get_documents_from_docstore(\"../data/words-of-the-senpais\")"
   ]
  },
  {
   "cell_type": "code",
   "execution_count": 8,
   "metadata": {},
   "outputs": [
    {
     "name": "stdout",
     "output_type": "stream",
     "text": [
      "Set a very high hourly aspirational rate for yourself and stick to it. It should seem and feel absurdly high. If it doesnt, its not high enough. Whatever you picked, my advice to you would be to raise it. Like I said, for myself, even before I had money, for the longest time I used $5,000 an hour. And if you extrapolate that out into what it looks like as an annual salary, its multiple millions of dollars per year. Ironically, I actually think Ive beaten it. Im not the hardest working personIm actually a lazy person. I work through bursts of energy where Im really motivated with something. If I actually look at how much Ive earned per actual hour that Ive put in, its probably quite a bit higher than that. Can you expand on your statement, If you secretly despise wealth, it will elude you? If you get into a relative mindset, youre always going to hate people who do better than you, youre always going to be jealous or envious of them. Theyll sense those feelings when you try and do business with them. When you try and do business with somebody, if you have any bad thoughts or any judgments about them, they will feel it. Humans are wired to feel what the other person deep down inside feels. You have to get out of a relative mindset. Literally, being anti-wealth will prevent you from becoming wealthy, because you will not have the right mindset for it, you wont have the right spirit, and you wont be dealing with people on the right level. Be optimistic, be positive. Its important. Optimists actually do better in the long run.\n"
     ]
    }
   ],
   "source": [
    "print(senpai_documents[42].text)"
   ]
  },
  {
   "cell_type": "markdown",
   "metadata": {},
   "source": [
    "# 🔹→🔷 Small to Big Retrieval ◾️ → ⬛️\n",
    "\n",
    "The concept of small to big retrieval, also known as recursive retrieval, is a key part of LlamaIndex. And, in order to use this, we need to define how to efficiently retrieve relevant context from an index based on a query. That means defining a recursive retrieval strategy, post processing the nodes once they've been retrieved and synthsizing the responses. \n",
    "\n",
    " 1) 🔄 **Recursive Retrieval**\n",
    "\n",
    "  - **Small Chunks (Child Chunks)**: Initially retrieves smaller, query-specific chunks of data.\n",
    "\n",
    "  - **Big Chunks (Parent Chunks)**: Follows references to larger, contextual chunks related to the smaller chunks. Retains context within each chunk.\n",
    "\n",
    "  2) 🛠️ **Node Postprocessing:** Apply transformations, filtering, or re-ranking to the retrieved nodes to enhance data quality and relevance.\n",
    "  \n",
    "  3) 📝 **Response Synthesizer:** Use the retrieved text chunks along with the user query to generate a response\n",
    "\n",
    "\n",
    "## [🪟`SentenceWindowNodeParser`](https://github.com/run-llama/llama_index/blob/main/llama-index-core/llama_index/core/node_parser/text/sentence_window.py)\n",
    "\n",
    "The `SentenceWindowNodeParser` is unique in that it focuses on individual sentences while also capturing the surrounding context.  This is particularly useful for tasks where understanding the broader context of a sentence is useful.\n",
    "\n",
    "### How it Works\n",
    "\n",
    "1. **Sentence Splitting:** \n",
    "\n",
    "    *   Similar to `SentenceSplitter`, it first divides the document into individual sentences using a sentence tokenizer (defaults to [`PunktSentenceTokenizer`](https://www.nltk.org/api/nltk.tokenize.PunktSentenceTokenizer.html) from the `nltk` library).\n",
    "\n",
    "2. **Window Creation:**\n",
    "\n",
    "    *   For each sentence (node), it gathers a \"window\" of surrounding sentences based on the specified `window_size`. \n",
    "\n",
    "    *   This window is stored in the node's metadata under the `window_metadata_key`.\n",
    "\n",
    "3. **Metadata Management:**\n",
    "\n",
    "    *   The original sentence text is also stored in the metadata under `original_text_metadata_key`.\n",
    "\n",
    "    *   Importantly, both the window and original text are excluded from being seen by the embedding model and LLM.\n",
    "\n",
    "### Arguments you need to know\n",
    "\n",
    "*   **`window_size`**: Controls the number of sentences to include before and after the central sentence in the window.\n",
    "\n",
    "*   **`window_metadata_key`**: The key used to store the window text in the node's metadata.\n",
    "\n",
    "*   **`original_text_metadata_key`**: The key used to store the original sentence text in the metadata.\n",
    "\n",
    "*   **`sentence_splitter`**: The text splitter to use when splitting documents (defaults to [`PunktSentenceTokenizer`](https://www.nltk.org/api/nltk.tokenize.PunktSentenceTokenizer.html) from the `nltk` library).\n",
    "\n",
    "### Usage Example\n",
    "\n",
    "```python\n",
    "from llama_index.core.node_parser import SentenceWindowNodeParser\n",
    "\n",
    "parser = SentenceWindowNodeParser(window_size=2)\n",
    "\n",
    "nodes = parser.get_nodes_from_documents(documents)\n",
    "```\n",
    "\n",
    "### When to Use `SentenceWindowNodeParser`\n",
    "\n",
    "*   **Tasks requiring sentence-level understanding with context:** \n",
    "    *   Question answering, summarization, or sentiment analysis where the surrounding sentences provide valuable context.\n",
    "\n",
    "*   **Fine-grained control over embedding scope:** \n",
    "    *   Creating embeddings that focus on the specific meaning of a sentence within its local context.\n",
    "    \n",
    "*   **Combining with MetadataReplacementNodePostProcessor:**\n",
    "    *   Replacing the original sentence with its surrounding window before sending it to the LLM, allowing the model to consider the broader context.\n"
   ]
  },
  {
   "cell_type": "code",
   "execution_count": 9,
   "metadata": {},
   "outputs": [
    {
     "data": {
      "text/plain": [
       "{'id_': '0bd19825-4d4f-48e3-a267-c3d0dff337ec',\n",
       " 'embedding': None,\n",
       " 'metadata': {'page_number': 42,\n",
       "  'file_name': '../data/almanack_of_naval_ravikant.pdf',\n",
       "  'title': 'The Almanack of Naval Ravikant',\n",
       "  'author': 'Naval Ravikant'},\n",
       " 'excluded_embed_metadata_keys': [],\n",
       " 'excluded_llm_metadata_keys': [],\n",
       " 'relationships': {},\n",
       " 'text': 'Set a very high hourly aspirational rate for yourself and stick to it. It should seem and feel absurdly high. If it doesnt, its not high enough. Whatever you picked, my advice to you would be to raise it. Like I said, for myself, even before I had money, for the longest time I used $5,000 an hour. And if you extrapolate that out into what it looks like as an annual salary, its multiple millions of dollars per year. Ironically, I actually think Ive beaten it. Im not the hardest working personIm actually a lazy person. I work through bursts of energy where Im really motivated with something. If I actually look at how much Ive earned per actual hour that Ive put in, its probably quite a bit higher than that. Can you expand on your statement, If you secretly despise wealth, it will elude you? If you get into a relative mindset, youre always going to hate people who do better than you, youre always going to be jealous or envious of them. Theyll sense those feelings when you try and do business with them. When you try and do business with somebody, if you have any bad thoughts or any judgments about them, they will feel it. Humans are wired to feel what the other person deep down inside feels. You have to get out of a relative mindset. Literally, being anti-wealth will prevent you from becoming wealthy, because you will not have the right mindset for it, you wont have the right spirit, and you wont be dealing with people on the right level. Be optimistic, be positive. Its important. Optimists actually do better in the long run.',\n",
       " 'mimetype': 'text/plain',\n",
       " 'start_char_idx': None,\n",
       " 'end_char_idx': None,\n",
       " 'text_template': '{metadata_str}\\n\\n{content}',\n",
       " 'metadata_template': '{key}: {value}',\n",
       " 'metadata_seperator': '\\n'}"
      ]
     },
     "execution_count": 9,
     "metadata": {},
     "output_type": "execute_result"
    }
   ],
   "source": [
    "senpai_documents[42].__dict__"
   ]
  },
  {
   "cell_type": "code",
   "execution_count": 10,
   "metadata": {},
   "outputs": [],
   "source": [
    "from llama_index.core.node_parser import SentenceWindowNodeParser\n",
    "\n",
    "example_parsed = SentenceWindowNodeParser(window_size=2).build_window_nodes_from_documents([senpai_documents[42]])"
   ]
  },
  {
   "cell_type": "code",
   "execution_count": 11,
   "metadata": {},
   "outputs": [
    {
     "data": {
      "text/plain": [
       "{'id_': '62ac20b9-4417-4223-bd2d-b5deaf710e09',\n",
       " 'embedding': None,\n",
       " 'metadata': {'window': 'It should seem and feel absurdly high.  If it doesnt, its not high enough.  Whatever you picked, my advice to you would be to raise it.  Like I said, for myself, even before I had money, for the longest time I used $5,000 an hour.  And if you extrapolate that out into what it looks like as an annual salary, its multiple millions of dollars per year. ',\n",
       "  'original_text': 'Whatever you picked, my advice to you would be to raise it. '},\n",
       " 'excluded_embed_metadata_keys': ['window', 'original_text'],\n",
       " 'excluded_llm_metadata_keys': ['window', 'original_text'],\n",
       " 'relationships': {<NodeRelationship.SOURCE: '1'>: RelatedNodeInfo(node_id='0bd19825-4d4f-48e3-a267-c3d0dff337ec', node_type=<ObjectType.DOCUMENT: '4'>, metadata={'page_number': 42, 'file_name': '../data/almanack_of_naval_ravikant.pdf', 'title': 'The Almanack of Naval Ravikant', 'author': 'Naval Ravikant'}, hash='2e2f878162e5f6eed661de1bfce1d9eedd015bc248366d751d1d89e86741fdff')},\n",
       " 'text': 'Whatever you picked, my advice to you would be to raise it. ',\n",
       " 'mimetype': 'text/plain',\n",
       " 'start_char_idx': None,\n",
       " 'end_char_idx': None,\n",
       " 'text_template': '{metadata_str}\\n\\n{content}',\n",
       " 'metadata_template': '{key}: {value}',\n",
       " 'metadata_seperator': '\\n'}"
      ]
     },
     "execution_count": 11,
     "metadata": {},
     "output_type": "execute_result"
    }
   ],
   "source": [
    "example_parsed[3].__dict__"
   ]
  },
  {
   "cell_type": "code",
   "execution_count": 12,
   "metadata": {},
   "outputs": [],
   "source": [
    "example_parsed_2 = SentenceWindowNodeParser(window_size=3).get_nodes_from_documents([senpai_documents[42]])"
   ]
  },
  {
   "cell_type": "code",
   "execution_count": 13,
   "metadata": {},
   "outputs": [
    {
     "data": {
      "text/plain": [
       "{'id_': 'd2a3cf83-7dfe-4c37-bf05-466f30e5f103',\n",
       " 'embedding': None,\n",
       " 'metadata': {'page_number': 42,\n",
       "  'file_name': '../data/almanack_of_naval_ravikant.pdf',\n",
       "  'title': 'The Almanack of Naval Ravikant',\n",
       "  'author': 'Naval Ravikant',\n",
       "  'window': 'Set a very high hourly aspirational rate for yourself and stick to it.  It should seem and feel absurdly high.  If it doesnt, its not high enough.  Whatever you picked, my advice to you would be to raise it.  Like I said, for myself, even before I had money, for the longest time I used $5,000 an hour.  And if you extrapolate that out into what it looks like as an annual salary, its multiple millions of dollars per year.  Ironically, I actually think Ive beaten it. ',\n",
       "  'original_text': 'Whatever you picked, my advice to you would be to raise it. '},\n",
       " 'excluded_embed_metadata_keys': ['window', 'original_text'],\n",
       " 'excluded_llm_metadata_keys': ['window', 'original_text'],\n",
       " 'relationships': {<NodeRelationship.SOURCE: '1'>: RelatedNodeInfo(node_id='0bd19825-4d4f-48e3-a267-c3d0dff337ec', node_type=<ObjectType.DOCUMENT: '4'>, metadata={'page_number': 42, 'file_name': '../data/almanack_of_naval_ravikant.pdf', 'title': 'The Almanack of Naval Ravikant', 'author': 'Naval Ravikant'}, hash='2e2f878162e5f6eed661de1bfce1d9eedd015bc248366d751d1d89e86741fdff'),\n",
       "  <NodeRelationship.PREVIOUS: '2'>: RelatedNodeInfo(node_id='1475e423-fc6d-4460-8a81-1b4742e97882', node_type=<ObjectType.TEXT: '1'>, metadata={'page_number': 42, 'file_name': '../data/almanack_of_naval_ravikant.pdf', 'title': 'The Almanack of Naval Ravikant', 'author': 'Naval Ravikant', 'window': 'Set a very high hourly aspirational rate for yourself and stick to it.  It should seem and feel absurdly high.  If it doesnt, its not high enough.  Whatever you picked, my advice to you would be to raise it.  Like I said, for myself, even before I had money, for the longest time I used $5,000 an hour.  And if you extrapolate that out into what it looks like as an annual salary, its multiple millions of dollars per year. ', 'original_text': 'If it doesnt, its not high enough. '}, hash='c877364a85a4823e815d9b87123100b04317be3fa6cbe55f1cbfac1829137a26'),\n",
       "  <NodeRelationship.NEXT: '3'>: RelatedNodeInfo(node_id='e0321792-223d-45b1-af01-7164d270d837', node_type=<ObjectType.TEXT: '1'>, metadata={'window': 'It should seem and feel absurdly high.  If it doesnt, its not high enough.  Whatever you picked, my advice to you would be to raise it.  Like I said, for myself, even before I had money, for the longest time I used $5,000 an hour.  And if you extrapolate that out into what it looks like as an annual salary, its multiple millions of dollars per year.  Ironically, I actually think Ive beaten it.  Im not the hardest working personIm actually a lazy person. ', 'original_text': 'Like I said, for myself, even before I had money, for the longest time I used $5,000 an hour. '}, hash='511da925606dc662fd5c4132a0a99c75879825e52ecb567672b02305bb6a6bc3')},\n",
       " 'text': 'Whatever you picked, my advice to you would be to raise it. ',\n",
       " 'mimetype': 'text/plain',\n",
       " 'start_char_idx': 145,\n",
       " 'end_char_idx': 205,\n",
       " 'text_template': '{metadata_str}\\n\\n{content}',\n",
       " 'metadata_template': '{key}: {value}',\n",
       " 'metadata_seperator': '\\n'}"
      ]
     },
     "execution_count": 13,
     "metadata": {},
     "output_type": "execute_result"
    }
   ],
   "source": [
    "example_parsed_2[3].__dict__"
   ]
  },
  {
   "cell_type": "markdown",
   "metadata": {},
   "source": [
    "### 🔄 **Understanding the `MetadataReplacementPostProcessor` and `SentenceWindowNodeParser`**\n",
    "\n",
    "- 📝 **`SentenceWindowNodeParser` Review**\n",
    "\n",
    "  - **Single Sentence Parsing**: Parses documents into nodes, each containing a single sentence.\n",
    "\n",
    "  - **Contextual Window**: Each node includes a \"window\" of sentences surrounding the core sentence for added context.\n",
    "\n",
    "- 🔄 **[`MetadataReplacementPostProcessor`](https://github.com/run-llama/llama_index/blob/main/llama-index-core/llama_index/core/postprocessor/metadata_replacement.py)**\n",
    "\n",
    "  - **Context Enhancement**: Replaces the sentence in each node with its surrounding window of sentences during retrieval.\n",
    "\n",
    "  - **Used in Conjunction**: Often paired with the `SentenceWindowNodeParser` to maximize contextual data provided to the LLM (Language Learning Model).\n",
    "\n",
    "### Query and Response Process\n",
    "\n",
    "- 🔍 **Query Handling**\n",
    "\n",
    "  - **Sentence Retrieval**: Retrieves the most relevant sentences based on the query.\n",
    "\n",
    "  - **Context Injection**: Instead of merely returning these sentences, the post-processor injects the surrounding context from the window.\n",
    "\n",
    "- 📊 **Benefits of Enhanced Context**\n",
    "\n",
    "  - **Improved Understanding**: More context helps the LLM understand queries better, leading to more accurate responses.\n",
    "\n",
    "  - **Detailed Responses**: The additional context allows for responses that are both detailed and relevant.\n",
    "\n",
    "- 🌟 **Ideal for Large Documents**\n",
    "\n",
    "  - **Fine-Grained Retrieval**: Especially useful for large documents or indexes, enabling more precise information extraction.\n",
    "\n",
    "<img src=\"https://miro.medium.com/v2/resize:fit:2000/0*JKZ9m_c6jyIKqCWu.png\">\n",
    "\n",
    "Image Source: [Ivan Ilin](https://pub.towardsai.net/advanced-rag-techniques-an-illustrated-overview-04d193d8fec6)"
   ]
  },
  {
   "cell_type": "code",
   "execution_count": 14,
   "metadata": {},
   "outputs": [],
   "source": [
    "from llama_index.core.node_parser import SentenceWindowNodeParser\n",
    "\n",
    "def sentence_window_splitter(window_size, documents):\n",
    "    splitter = SentenceWindowNodeParser(\n",
    "        window_size=window_size,\n",
    "        window_metadata_key=\"window_size\",\n",
    "        original_text_metadata_key=\"original_text\",\n",
    "        )\n",
    "    nodes = splitter.get_nodes_from_documents(documents)\n",
    "    return nodes"
   ]
  },
  {
   "cell_type": "code",
   "execution_count": 15,
   "metadata": {},
   "outputs": [],
   "source": [
    "nodes = sentence_window_splitter(window_size=5, documents=senpai_documents)"
   ]
  },
  {
   "cell_type": "code",
   "execution_count": 16,
   "metadata": {},
   "outputs": [
    {
     "data": {
      "text/plain": [
       "{'id_': 'f08f52f4-ad24-41c0-a8ba-87d5fb1ca82d',\n",
       " 'embedding': None,\n",
       " 'metadata': {'page_number': 0,\n",
       "  'file_name': '../data/almanack_of_naval_ravikant.pdf',\n",
       "  'title': 'The Almanack of Naval Ravikant',\n",
       "  'author': 'Naval Ravikant',\n",
       "  'window_size': 'UNDERSTAND HOW WEALTH IS CREATED I like to think that if I lost all my money and you dropped me on a random street in any English-speaking country, within five or ten years Id be wealthy again because its just a skillset Ive developed that anyone can develop.  Its not really about hard work.  You can work in a restaurant eighty hours a week, and youre not going to get rich.  Getting rich is about knowing what to do, who to do it with, and when to do it.  It is much more about understanding than purely hard work.  Yes, hard work matters, and you cant skimp on it.  But it has to be directed in the right way.  If you dont know yet what you should work on, the most important thing is to figure it out.  You should not grind at a lot of hard work until you figure out what you should be working on.  I came up with the principles in my tweetstorm (below) for myself when I was really young, around thirteen or fourteen.  Ive been carrying them in my head for thirty years, and Ive been living them. ',\n",
       "  'original_text': 'Yes, hard work matters, and you cant skimp on it. '},\n",
       " 'excluded_embed_metadata_keys': ['window_size', 'original_text'],\n",
       " 'excluded_llm_metadata_keys': ['window_size', 'original_text'],\n",
       " 'relationships': {<NodeRelationship.SOURCE: '1'>: RelatedNodeInfo(node_id='68e7881a-d87e-4cda-845f-7eb5e88d84c8', node_type=<ObjectType.DOCUMENT: '4'>, metadata={'page_number': 0, 'file_name': '../data/almanack_of_naval_ravikant.pdf', 'title': 'The Almanack of Naval Ravikant', 'author': 'Naval Ravikant'}, hash='b00d124eb1a97f077d33a4231c4fe920705ea86d2e44ac22c4447d7d6944668a'),\n",
       "  <NodeRelationship.PREVIOUS: '2'>: RelatedNodeInfo(node_id='145ef94e-57c4-4f05-86b1-c076a062fb7f', node_type=<ObjectType.TEXT: '1'>, metadata={'page_number': 0, 'file_name': '../data/almanack_of_naval_ravikant.pdf', 'title': 'The Almanack of Naval Ravikant', 'author': 'Naval Ravikant', 'window_size': 'UNDERSTAND HOW WEALTH IS CREATED I like to think that if I lost all my money and you dropped me on a random street in any English-speaking country, within five or ten years Id be wealthy again because its just a skillset Ive developed that anyone can develop.  Its not really about hard work.  You can work in a restaurant eighty hours a week, and youre not going to get rich.  Getting rich is about knowing what to do, who to do it with, and when to do it.  It is much more about understanding than purely hard work.  Yes, hard work matters, and you cant skimp on it.  But it has to be directed in the right way.  If you dont know yet what you should work on, the most important thing is to figure it out.  You should not grind at a lot of hard work until you figure out what you should be working on.  I came up with the principles in my tweetstorm (below) for myself when I was really young, around thirteen or fourteen. ', 'original_text': 'It is much more about understanding than purely hard work. '}, hash='28bf960118a1be9432af7ee8c40b13e27bcd3d672dd598088ba067e1cd89db4b'),\n",
       "  <NodeRelationship.NEXT: '3'>: RelatedNodeInfo(node_id='d51d1237-9637-4cda-a8da-1385867233b1', node_type=<ObjectType.TEXT: '1'>, metadata={'window_size': 'Its not really about hard work.  You can work in a restaurant eighty hours a week, and youre not going to get rich.  Getting rich is about knowing what to do, who to do it with, and when to do it.  It is much more about understanding than purely hard work.  Yes, hard work matters, and you cant skimp on it.  But it has to be directed in the right way.  If you dont know yet what you should work on, the most important thing is to figure it out.  You should not grind at a lot of hard work until you figure out what you should be working on.  I came up with the principles in my tweetstorm (below) for myself when I was really young, around thirteen or fourteen.  Ive been carrying them in my head for thirty years, and Ive been living them.  Over time (sadly or fortunately), the thing I got really good at was looking at businesses and figuring out the point of maximum leverage to actually create wealth and capture some of that created wealth. ', 'original_text': 'But it has to be directed in the right way. '}, hash='5e8fe548d2de1f8ae4bede50079ddd24d881f1775a6b97c182130672ff1a540e')},\n",
       " 'text': 'Yes, hard work matters, and you cant skimp on it. ',\n",
       " 'mimetype': 'text/plain',\n",
       " 'start_char_idx': 514,\n",
       " 'end_char_idx': 564,\n",
       " 'text_template': '{metadata_str}\\n\\n{content}',\n",
       " 'metadata_template': '{key}: {value}',\n",
       " 'metadata_seperator': '\\n'}"
      ]
     },
     "execution_count": 16,
     "metadata": {},
     "output_type": "execute_result"
    }
   ],
   "source": [
    "nodes[5].__dict__"
   ]
  },
  {
   "cell_type": "code",
   "execution_count": 17,
   "metadata": {},
   "outputs": [
    {
     "name": "stdout",
     "output_type": "stream",
     "text": [
      "page_number: 0\n",
      "file_name: ../data/almanack_of_naval_ravikant.pdf\n",
      "title: The Almanack of Naval Ravikant\n",
      "author: Naval Ravikant\n",
      "window_size: UNDERSTAND HOW WEALTH IS CREATED I like to think that if I lost all my money and you dropped me on a random street in any English-speaking country, within five or ten years Id be wealthy again because its just a skillset Ive developed that anyone can develop.  Its not really about hard work.  You can work in a restaurant eighty hours a week, and youre not going to get rich.  Getting rich is about knowing what to do, who to do it with, and when to do it.  It is much more about understanding than purely hard work.  Yes, hard work matters, and you cant skimp on it.  But it has to be directed in the right way.  If you dont know yet what you should work on, the most important thing is to figure it out.  You should not grind at a lot of hard work until you figure out what you should be working on.  I came up with the principles in my tweetstorm (below) for myself when I was really young, around thirteen or fourteen.  Ive been carrying them in my head for thirty years, and Ive been living them. \n",
      "original_text: Yes, hard work matters, and you cant skimp on it.\n",
      "\n",
      "Yes, hard work matters, and you cant skimp on it.\n"
     ]
    }
   ],
   "source": [
    "print(nodes[5].get_content(metadata_mode=\"all\"))"
   ]
  },
  {
   "cell_type": "code",
   "execution_count": 18,
   "metadata": {},
   "outputs": [
    {
     "name": "stdout",
     "output_type": "stream",
     "text": [
      "page_number: 0\n",
      "file_name: ../data/almanack_of_naval_ravikant.pdf\n",
      "title: The Almanack of Naval Ravikant\n",
      "author: Naval Ravikant\n",
      "\n",
      "Yes, hard work matters, and you cant skimp on it.\n"
     ]
    }
   ],
   "source": [
    "print(nodes[5].get_content(metadata_mode=\"llm\"))"
   ]
  },
  {
   "cell_type": "markdown",
   "metadata": {},
   "source": [
    "## 👷🏽‍♂️ 🗂️ Ingest to Qdrant And Build the Index"
   ]
  },
  {
   "cell_type": "code",
   "execution_count": 19,
   "metadata": {},
   "outputs": [
    {
     "name": "stderr",
     "output_type": "stream",
     "text": [
      "Both client and aclient are provided. If using `:memory:` mode, the data between clients is not synced.\n"
     ]
    }
   ],
   "source": [
    "from llama_index.core import StorageContext\n",
    "from llama_index.core.settings import Settings\n",
    "\n",
    "from utils import create_index, create_query_engine\n",
    "from utils import setup_vector_store\n",
    "\n",
    "COLLECTION_NAME = \"wots-small-to-big-sentence-window\"\n",
    "\n",
    "sentence_window_vector_store = setup_vector_store(QDRANT_URL, QDRANT_API_KEY, COLLECTION_NAME)\n"
   ]
  },
  {
   "cell_type": "code",
   "execution_count": 20,
   "metadata": {},
   "outputs": [],
   "source": [
    "from utils import ingest\n",
    "\n",
    "transforms = [Settings.embed_model]\n",
    "\n",
    "split_nodes = ingest(\n",
    "    documents=nodes,\n",
    "    transformations=transforms,\n",
    "    vector_store=sentence_window_vector_store\n",
    ")"
   ]
  },
  {
   "cell_type": "markdown",
   "metadata": {},
   "source": [
    "### 🛠️ Setup Query Engine"
   ]
  },
  {
   "cell_type": "code",
   "execution_count": 22,
   "metadata": {},
   "outputs": [],
   "source": [
    "from llama_index.core import PromptTemplate\n",
    "from llama_index.core.postprocessor import MetadataReplacementPostProcessor\n",
    "\n",
    "from utils import create_query_engine\n",
    "from prompts import HYPE_ANSWER_GEN_PROMPT\n",
    "\n",
    "HYPE_ANSWER_GEN_PROMPT_TEMPLATE = PromptTemplate(HYPE_ANSWER_GEN_PROMPT)\n",
    "\n",
    "node_postprocessors = [MetadataReplacementPostProcessor(target_metadata_key=\"window\")]\n",
    "\n",
    "sentence_window_index = create_index(\n",
    "    from_where=\"vector_store\",\n",
    "    vector_store=sentence_window_vector_store,\n",
    "    embed_model=Settings.embed_model,\n",
    "    )\n",
    "\n",
    "sentence_window_query_engine = create_query_engine(\n",
    "    index=sentence_window_index, \n",
    "    mode=\"query\",\n",
    "    response_mode=\"compact\",\n",
    "    similiarty_top_k=5,\n",
    "    vector_store_query_mode=\"mmr\", \n",
    "    vector_store_kwargs={\"mmr_threshold\": 0.42},\n",
    "    node_postprocessors=node_postprocessors\n",
    "    )\n",
    "\n",
    "sentence_window_query_engine.update_prompts({'response_synthesizer:text_qa_template':HYPE_ANSWER_GEN_PROMPT_TEMPLATE})"
   ]
  },
  {
   "cell_type": "markdown",
   "metadata": {},
   "source": [
    "### 🔧 Setup Query Pipeline"
   ]
  },
  {
   "cell_type": "code",
   "execution_count": 23,
   "metadata": {},
   "outputs": [],
   "source": [
    "from utils import create_query_pipeline\n",
    "\n",
    "from llama_index.core.query_pipeline import InputComponent\n",
    "\n",
    "input_component = InputComponent()\n",
    "\n",
    "sentence_window_chain = [input_component, sentence_window_query_engine]\n",
    "\n",
    "sentence_window_query_pipeline = create_query_pipeline(sentence_window_chain)"
   ]
  },
  {
   "cell_type": "code",
   "execution_count": 24,
   "metadata": {},
   "outputs": [
    {
     "name": "stdout",
     "output_type": "stream",
     "text": [
      "\u001b[1;3;38;2;155;135;227m> Running module 2813bfd5-6659-4ead-9924-86abc4954102 with input: \n",
      "input: How can I effectively build strength across multiple facets of real life without relying on complicated machines?\n",
      "\n",
      "\u001b[0m\u001b[1;3;38;2;155;135;227m> Running module 0ef8b507-0272-4d7a-b7fb-cce3b5ac0150 with input: \n",
      "input: How can I effectively build strength across multiple facets of real life without relying on complicated machines?\n",
      "\n",
      "\u001b[0m"
     ]
    },
    {
     "data": {
      "text/plain": [
       "Response(response=\"Listen up, you've got everything you need to build strength in all areas of life. Nature's given you the tools, now it's time to use them. Concentrate your powers, focus your energy, and don't let anything hold you back. You've got the strength, now unleash it. Find that one exercise, that one practice, that one routine that you can stick to. Go back to it time and again. Make it a habit. Make it a part of you. That's how you build strength. That's how you become unstoppable.\", source_nodes=[NodeWithScore(node=TextNode(id_='c9edf171-9786-4d5b-ad38-049fb5a6d981', embedding=None, metadata={'page_number': 191, 'file_name': '../data/taoofseneca_vol3.pdf', 'title': 'Letters From a Stoic Volume 3', 'author': 'Seneca', 'window_size': 'We are mere manikins, unable to deny ourselves everything.  We shall sorrow, but not to any great extent; we shall feel desires, but in moderation; we shall give way to anger, but we shall be appeased.  And do you know why we have not the power to attain this Stoic ideal?  It is because we refuse to believe in our power.  Nay, of a surety, there is something else which plays a part: it is because we are in love with our vices; we uphold them and prefer to make excuses for them rather than shake them off.  We mortals have been endowed with sufficient strength by nature, if only we use this strength, if only we concentrate our powers and rouse them all to help us or at least not to hinder us.  The reason is unwilling ness, the excuse, inability.  Farewell.  Footnotes 1.  For a discussion of see Epp.  ix. ', 'original_text': 'We mortals have been endowed with sufficient strength by nature, if only we use this strength, if only we concentrate our powers and rouse them all to help us or at least not to hinder us. '}, excluded_embed_metadata_keys=['window_size', 'original_text'], excluded_llm_metadata_keys=['window_size', 'original_text'], relationships={<NodeRelationship.SOURCE: '1'>: RelatedNodeInfo(node_id='f30b35d8-d370-408b-9485-19ba38780b01', node_type=<ObjectType.DOCUMENT: '4'>, metadata={'page_number': 191, 'file_name': '../data/taoofseneca_vol3.pdf', 'title': 'Letters From a Stoic Volume 3', 'author': 'Seneca'}, hash='54a3bc2dc29299bc09235d24f09e2a7ba1b438f1ff5ad8c24ce2326627ab47b7'), <NodeRelationship.PREVIOUS: '2'>: RelatedNodeInfo(node_id='aec8372d-766c-48a9-abc0-97c945d87cef', node_type=<ObjectType.TEXT: '1'>, metadata={'page_number': 191, 'file_name': '../data/taoofseneca_vol3.pdf', 'title': 'Letters From a Stoic Volume 3', 'author': 'Seneca', 'window_size': 'At this point, I know, you will confront me with that common complaint against the Stoics: Your promises are too great, and your counsels too hard.  We are mere manikins, unable to deny ourselves everything.  We shall sorrow, but not to any great extent; we shall feel desires, but in moderation; we shall give way to anger, but we shall be appeased.  And do you know why we have not the power to attain this Stoic ideal?  It is because we refuse to believe in our power.  Nay, of a surety, there is something else which plays a part: it is because we are in love with our vices; we uphold them and prefer to make excuses for them rather than shake them off.  We mortals have been endowed with sufficient strength by nature, if only we use this strength, if only we concentrate our powers and rouse them all to help us or at least not to hinder us.  The reason is unwilling ness, the excuse, inability.  Farewell.  Footnotes 1.  For a discussion of see Epp. ', 'original_text': 'Nay, of a surety, there is something else which plays a part: it is because we are in love with our vices; we uphold them and prefer to make excuses for them rather than shake them off. '}, hash='d8c83dd625d415621b78ebb9d280400abcd4393355b08ef3e94d1bbe56234f47'), <NodeRelationship.NEXT: '3'>: RelatedNodeInfo(node_id='a51a6564-f199-49a9-ad84-7b98c0e7f44c', node_type=<ObjectType.TEXT: '1'>, metadata={'window_size': 'We shall sorrow, but not to any great extent; we shall feel desires, but in moderation; we shall give way to anger, but we shall be appeased.  And do you know why we have not the power to attain this Stoic ideal?  It is because we refuse to believe in our power.  Nay, of a surety, there is something else which plays a part: it is because we are in love with our vices; we uphold them and prefer to make excuses for them rather than shake them off.  We mortals have been endowed with sufficient strength by nature, if only we use this strength, if only we concentrate our powers and rouse them all to help us or at least not to hinder us.  The reason is unwilling ness, the excuse, inability.  Farewell.  Footnotes 1.  For a discussion of see Epp.  ix.  2 ff. ', 'original_text': 'The reason is unwilling ness, the excuse, inability. '}, hash='d81b3eaccdcfd652186b5e9e19b372a76e6c26a209d40a97996f36bfb85dd6f4')}, text='We mortals have been endowed with sufficient strength by nature, if only we use this strength, if only we concentrate our powers and rouse them all to help us or at least not to hinder us. ', mimetype='text/plain', start_char_idx=986, end_char_idx=1175, text_template='{metadata_str}\\n\\n{content}', metadata_template='{key}: {value}', metadata_seperator='\\n'), score=0.72830796), NodeWithScore(node=TextNode(id_='ba384eef-5268-4de0-8966-e6043d0602b7', embedding=None, metadata={'page_number': 280, 'file_name': '../data/taoofseneca_vol1-1.pdf', 'title': 'Letters From a Stoic Volume 1', 'author': 'Seneca', 'window_size': 'Theres not really a common strategy in modern therapy thats equivalent to the View from Above, unlike most other Stoic techniques.  However, people love doing it, and they find it very powerful.  Ive created scripted versions of that technique and used it in workshops with hundreds of participants over the years.  What we lack, therefore, is strong empirical evidence from controlled trials showing its benefits.  This is a question we like to ask everyone: Do you have a favor ite Stoic quote?  Is there an exercise you find yourself going back to time and again?  That changes but at the moment I like a story about Zeno of Citium, the founder of Stoicism, told by Diogenes Laertius.  One', 'original_text': 'Is there an exercise you find yourself going back to time and again? '}, excluded_embed_metadata_keys=['window_size', 'original_text'], excluded_llm_metadata_keys=['window_size', 'original_text'], relationships={<NodeRelationship.SOURCE: '1'>: RelatedNodeInfo(node_id='d1faf369-9429-4c18-ab03-b6db4b2c5aa6', node_type=<ObjectType.DOCUMENT: '4'>, metadata={'page_number': 280, 'file_name': '../data/taoofseneca_vol1-1.pdf', 'title': 'Letters From a Stoic Volume 1', 'author': 'Seneca'}, hash='672f2818693fc1a04d83b0a1e28c59f3164ab4e2287eda8d0a13dbe657223012'), <NodeRelationship.PREVIOUS: '2'>: RelatedNodeInfo(node_id='497d2f1b-3e9e-48e1-bf97-e5eccc334441', node_type=<ObjectType.TEXT: '1'>, metadata={'page_number': 280, 'file_name': '../data/taoofseneca_vol1-1.pdf', 'title': 'Letters From a Stoic Volume 1', 'author': 'Seneca', 'window_size': 'Thats what Hadot called the practice of contemplating life as if it were being viewed from an Olympian perspective, high above, or viewing the present moment from a cosmological point of view, as very small and transient.  Theres not really a common strategy in modern therapy thats equivalent to the View from Above, unlike most other Stoic techniques.  However, people love doing it, and they find it very powerful.  Ive created scripted versions of that technique and used it in workshops with hundreds of participants over the years.  What we lack, therefore, is strong empirical evidence from controlled trials showing its benefits.  This is a question we like to ask everyone: Do you have a favor ite Stoic quote?  Is there an exercise you find yourself going back to time and again?  That changes but at the moment I like a story about Zeno of Citium, the founder of Stoicism, told by Diogenes Laertius.  One', 'original_text': 'This is a question we like to ask everyone: Do you have a favor ite Stoic quote? '}, hash='3c8bf7b8300e43523c3be52ed47895ab6e20725652edf855ad91e0f693aefde0'), <NodeRelationship.NEXT: '3'>: RelatedNodeInfo(node_id='d3f718c8-750a-4c6a-a094-050e7bab4743', node_type=<ObjectType.TEXT: '1'>, metadata={'window_size': 'However, people love doing it, and they find it very powerful.  Ive created scripted versions of that technique and used it in workshops with hundreds of participants over the years.  What we lack, therefore, is strong empirical evidence from controlled trials showing its benefits.  This is a question we like to ask everyone: Do you have a favor ite Stoic quote?  Is there an exercise you find yourself going back to time and again?  That changes but at the moment I like a story about Zeno of Citium, the founder of Stoicism, told by Diogenes Laertius.  One', 'original_text': 'That changes but at the moment I like a story about Zeno of Citium, the founder of Stoicism, told by Diogenes Laertius. '}, hash='5760a73502dd2c623a3130d49927a386bd5fb53a0756613162a911f0097de92f')}, text='Is there an exercise you find yourself going back to time and again? ', mimetype='text/plain', start_char_idx=1585, end_char_idx=1654, text_template='{metadata_str}\\n\\n{content}', metadata_template='{key}: {value}', metadata_seperator='\\n'), score=0.7278236)], metadata={'c9edf171-9786-4d5b-ad38-049fb5a6d981': {'page_number': 191, 'file_name': '../data/taoofseneca_vol3.pdf', 'title': 'Letters From a Stoic Volume 3', 'author': 'Seneca', 'window_size': 'We are mere manikins, unable to deny ourselves everything.  We shall sorrow, but not to any great extent; we shall feel desires, but in moderation; we shall give way to anger, but we shall be appeased.  And do you know why we have not the power to attain this Stoic ideal?  It is because we refuse to believe in our power.  Nay, of a surety, there is something else which plays a part: it is because we are in love with our vices; we uphold them and prefer to make excuses for them rather than shake them off.  We mortals have been endowed with sufficient strength by nature, if only we use this strength, if only we concentrate our powers and rouse them all to help us or at least not to hinder us.  The reason is unwilling ness, the excuse, inability.  Farewell.  Footnotes 1.  For a discussion of see Epp.  ix. ', 'original_text': 'We mortals have been endowed with sufficient strength by nature, if only we use this strength, if only we concentrate our powers and rouse them all to help us or at least not to hinder us. '}, 'ba384eef-5268-4de0-8966-e6043d0602b7': {'page_number': 280, 'file_name': '../data/taoofseneca_vol1-1.pdf', 'title': 'Letters From a Stoic Volume 1', 'author': 'Seneca', 'window_size': 'Theres not really a common strategy in modern therapy thats equivalent to the View from Above, unlike most other Stoic techniques.  However, people love doing it, and they find it very powerful.  Ive created scripted versions of that technique and used it in workshops with hundreds of participants over the years.  What we lack, therefore, is strong empirical evidence from controlled trials showing its benefits.  This is a question we like to ask everyone: Do you have a favor ite Stoic quote?  Is there an exercise you find yourself going back to time and again?  That changes but at the moment I like a story about Zeno of Citium, the founder of Stoicism, told by Diogenes Laertius.  One', 'original_text': 'Is there an exercise you find yourself going back to time and again? '}})"
      ]
     },
     "execution_count": 24,
     "metadata": {},
     "output_type": "execute_result"
    }
   ],
   "source": [
    "sentence_window_query_pipeline.run(input=\"How can I effectively build strength across multiple facets of real life without relying on complicated machines?\")"
   ]
  },
  {
   "cell_type": "code",
   "execution_count": 25,
   "metadata": {},
   "outputs": [
    {
     "name": "stdout",
     "output_type": "stream",
     "text": [
      "\u001b[1;3;38;2;155;135;227m> Running module 2813bfd5-6659-4ead-9924-86abc4954102 with input: \n",
      "input: How can I set rules and speak honestly without worrying about hurting someone's feelings?\n",
      "\n",
      "\u001b[0m\u001b[1;3;38;2;155;135;227m> Running module 0ef8b507-0272-4d7a-b7fb-cce3b5ac0150 with input: \n",
      "input: How can I set rules and speak honestly without worrying about hurting someone's feelings?\n",
      "\n",
      "\u001b[0m"
     ]
    },
    {
     "data": {
      "text/plain": [
       "Response(response='Listen up, you\\'re not here to make everyone happy, you\\'re here to help. Seneca said it straight up, \"Our words should aim not to please, but to help.\" So, set your rules and speak your truth. Don\\'t worry about hurting feelings. If you\\'re honest, you\\'re helping. People might say, \"That\\'s just how I feel, that\\'s not true or false.\" But you know what? Feelings aren\\'t facts. You\\'re doing this to help, not to please. So, be honest, set those rules, and help others grow. This is your time to shine, to be the beacon of truth and honesty.', source_nodes=[NodeWithScore(node=TextNode(id_='59968f21-a76e-4023-be4c-39428b3d847e', embedding=None, metadata={'page_number': 278, 'file_name': '../data/taoofseneca_vol1-1.pdf', 'title': 'Letters From a Stoic Volume 1', 'author': 'Seneca', 'window_size': 'because at some level we believe were about to be harmed.  Thats virtually identical to the Stoic theory of fear, recorded over two thousand years earlier.  This was an important innovation in modern psychotherapy because people tend to dismiss their problematic emotions as irrational and involuntary.  People say thats just how I feel, that its not true or false.  However, if we focus instead on the beliefs underlying feelings such as fear, well, those are obviously true or false.  Im frightened people will think Im an idiot; well, what if it turns out they actually dont?  So we can help people to articulate those beliefs better, and bring them into awareness.  Then we can help them question how helpful they are, to evaluate how rational they are in terms of the evidence, and to carry out experiments in daily life to test out whether theyre true or false in practice.  For instance, people with panic attacks very often (but not always) believe the sensations of pain and tightness in their chest, etc., are symptoms of an impending heart attack. ', 'original_text': 'People say thats just how I feel, that its not true or false. '}, excluded_embed_metadata_keys=['window_size', 'original_text'], excluded_llm_metadata_keys=['window_size', 'original_text'], relationships={<NodeRelationship.SOURCE: '1'>: RelatedNodeInfo(node_id='6e987eaf-96c1-43a2-b6a5-b43bda7b4974', node_type=<ObjectType.DOCUMENT: '4'>, metadata={'page_number': 278, 'file_name': '../data/taoofseneca_vol1-1.pdf', 'title': 'Letters From a Stoic Volume 1', 'author': 'Seneca'}, hash='06f09e587ebf2cb78a0c800d8941366d01ee638456bdaefa98d4f2c77df51705'), <NodeRelationship.PREVIOUS: '2'>: RelatedNodeInfo(node_id='427cd5db-da17-4320-81a3-c706db5be8c9', node_type=<ObjectType.TEXT: '1'>, metadata={'page_number': 278, 'file_name': '../data/taoofseneca_vol1-1.pdf', 'title': 'Letters From a Stoic Volume 1', 'author': 'Seneca', 'window_size': 'because at some level we believe were about to be harmed.  Thats virtually identical to the Stoic theory of fear, recorded over two thousand years earlier.  This was an important innovation in modern psychotherapy because people tend to dismiss their problematic emotions as irrational and involuntary.  People say thats just how I feel, that its not true or false.  However, if we focus instead on the beliefs underlying feelings such as fear, well, those are obviously true or false.  Im frightened people will think Im an idiot; well, what if it turns out they actually dont?  So we can help people to articulate those beliefs better, and bring them into awareness.  Then we can help them question how helpful they are, to evaluate how rational they are in terms of the evidence, and to carry out experiments in daily life to test out whether theyre true or false in practice. ', 'original_text': 'This was an important innovation in modern psychotherapy because people tend to dismiss their problematic emotions as irrational and involuntary. '}, hash='3d0556a196625295bad61ec1f3ad8620f36cfe1d3d9f8a2ea3e3bd9ef4e0aa96'), <NodeRelationship.NEXT: '3'>: RelatedNodeInfo(node_id='2af4c49c-494b-48e6-9483-99c7501e1923', node_type=<ObjectType.TEXT: '1'>, metadata={'window_size': 'because at some level we believe were about to be harmed.  Thats virtually identical to the Stoic theory of fear, recorded over two thousand years earlier.  This was an important innovation in modern psychotherapy because people tend to dismiss their problematic emotions as irrational and involuntary.  People say thats just how I feel, that its not true or false.  However, if we focus instead on the beliefs underlying feelings such as fear, well, those are obviously true or false.  Im frightened people will think Im an idiot; well, what if it turns out they actually dont?  So we can help people to articulate those beliefs better, and bring them into awareness.  Then we can help them question how helpful they are, to evaluate how rational they are in terms of the evidence, and to carry out experiments in daily life to test out whether theyre true or false in practice.  For instance, people with panic attacks very often (but not always) believe the sensations of pain and tightness in their chest, etc., are symptoms of an impending heart attack.  Therapists nowadays will construct tests to prove to them that theyre mistaken: its just harmless anxiety, muscle tension, and nothing to do with having a heart attack. ', 'original_text': 'However, if we focus instead on the beliefs underlying feelings such as fear, well, those are obviously true or false. '}, hash='12a5f549a70141e3ad26dcb0aa0fa2e7e06776520c22de3654f501d4633f9fe5')}, text='People say thats just how I feel, that its not true or false. ', mimetype='text/plain', start_char_idx=301, end_char_idx=363, text_template='{metadata_str}\\n\\n{content}', metadata_template='{key}: {value}', metadata_seperator='\\n'), score=0.7149959), NodeWithScore(node=TextNode(id_='8f820632-a00a-451c-9604-f9c905c73dfa', embedding=None, metadata={'page_number': 81, 'file_name': '../data/taoofseneca_vol2.pdf', 'title': 'Letters From a Stoic Volume 2', 'author': 'Seneca', 'window_size': 'feel what we say; let speech harmonize with life.  That man has fulfilled his promise who is the same person both when you see him and when you hear him.  We shall not fail to see what sort of man he is and how large a man he is, if only he is one and the same.  Our words should aim not to please, but to help.  If, however, you can attain eloquence without painstaking, and if you either are naturally gifted or can gain eloquence at slight cost, make the most of it and apply it to the noblest uses.  But let it be of such a kind that it displays facts rather than itself.  It and the other arts are wholly concerned with cleverness; but our business here is the soul.  A sick man does not call in a physician who is eloquent; but if it so happens that the physician who can cure him likewise dis courses elegantly about the treatment which is to be followed, the patient will take it in good part.  For all that, he will not find any reason to congratulate himself on having discovered a physician who is eloquent. ', 'original_text': 'Our words should aim not to please, but to help. '}, excluded_embed_metadata_keys=['window_size', 'original_text'], excluded_llm_metadata_keys=['window_size', 'original_text'], relationships={<NodeRelationship.SOURCE: '1'>: RelatedNodeInfo(node_id='5e117e26-2014-475a-8027-84952b3a9a86', node_type=<ObjectType.DOCUMENT: '4'>, metadata={'page_number': 81, 'file_name': '../data/taoofseneca_vol2.pdf', 'title': 'Letters From a Stoic Volume 2', 'author': 'Seneca'}, hash='54a60ddf47737f9569cd87e0e871a77f60e96cd8eaa9e90dbdf0c89cae2fbd92'), <NodeRelationship.PREVIOUS: '2'>: RelatedNodeInfo(node_id='36377a2a-4857-48e1-b1ce-728a386c7223', node_type=<ObjectType.TEXT: '1'>, metadata={'page_number': 81, 'file_name': '../data/taoofseneca_vol2.pdf', 'title': 'Letters From a Stoic Volume 2', 'author': 'Seneca', 'window_size': 'feel what we say; let speech harmonize with life.  That man has fulfilled his promise who is the same person both when you see him and when you hear him.  We shall not fail to see what sort of man he is and how large a man he is, if only he is one and the same.  Our words should aim not to please, but to help.  If, however, you can attain eloquence without painstaking, and if you either are naturally gifted or can gain eloquence at slight cost, make the most of it and apply it to the noblest uses.  But let it be of such a kind that it displays facts rather than itself.  It and the other arts are wholly concerned with cleverness; but our business here is the soul.  A sick man does not call in a physician who is eloquent; but if it so happens that the physician who can cure him likewise dis courses elegantly about the treatment which is to be followed, the patient will take it in good part. ', 'original_text': 'We shall not fail to see what sort of man he is and how large a man he is, if only he is one and the same. '}, hash='b7b9037d99a058d72797b23767e2816394039511706390ae51bb38661e097d45'), <NodeRelationship.NEXT: '3'>: RelatedNodeInfo(node_id='f780c97f-a30f-4b57-954d-a96a2650259e', node_type=<ObjectType.TEXT: '1'>, metadata={'window_size': 'feel what we say; let speech harmonize with life.  That man has fulfilled his promise who is the same person both when you see him and when you hear him.  We shall not fail to see what sort of man he is and how large a man he is, if only he is one and the same.  Our words should aim not to please, but to help.  If, however, you can attain eloquence without painstaking, and if you either are naturally gifted or can gain eloquence at slight cost, make the most of it and apply it to the noblest uses.  But let it be of such a kind that it displays facts rather than itself.  It and the other arts are wholly concerned with cleverness; but our business here is the soul.  A sick man does not call in a physician who is eloquent; but if it so happens that the physician who can cure him likewise dis courses elegantly about the treatment which is to be followed, the patient will take it in good part.  For all that, he will not find any reason to congratulate himself on having discovered a physician who is eloquent.  For the case is no different from that of a skilled pilot who is also handsome. ', 'original_text': 'If, however, you can attain eloquence without painstaking, and if you either are naturally gifted or can gain eloquence at slight cost, make the most of it and apply it to the noblest uses. '}, hash='262f4cc3220708e1eb1f11173af2ef0a91f28b68d3166379dc09a72f2229cf65')}, text='Our words should aim not to please, but to help. ', mimetype='text/plain', start_char_idx=260, end_char_idx=309, text_template='{metadata_str}\\n\\n{content}', metadata_template='{key}: {value}', metadata_seperator='\\n'), score=0.71490705)], metadata={'59968f21-a76e-4023-be4c-39428b3d847e': {'page_number': 278, 'file_name': '../data/taoofseneca_vol1-1.pdf', 'title': 'Letters From a Stoic Volume 1', 'author': 'Seneca', 'window_size': 'because at some level we believe were about to be harmed.  Thats virtually identical to the Stoic theory of fear, recorded over two thousand years earlier.  This was an important innovation in modern psychotherapy because people tend to dismiss their problematic emotions as irrational and involuntary.  People say thats just how I feel, that its not true or false.  However, if we focus instead on the beliefs underlying feelings such as fear, well, those are obviously true or false.  Im frightened people will think Im an idiot; well, what if it turns out they actually dont?  So we can help people to articulate those beliefs better, and bring them into awareness.  Then we can help them question how helpful they are, to evaluate how rational they are in terms of the evidence, and to carry out experiments in daily life to test out whether theyre true or false in practice.  For instance, people with panic attacks very often (but not always) believe the sensations of pain and tightness in their chest, etc., are symptoms of an impending heart attack. ', 'original_text': 'People say thats just how I feel, that its not true or false. '}, '8f820632-a00a-451c-9604-f9c905c73dfa': {'page_number': 81, 'file_name': '../data/taoofseneca_vol2.pdf', 'title': 'Letters From a Stoic Volume 2', 'author': 'Seneca', 'window_size': 'feel what we say; let speech harmonize with life.  That man has fulfilled his promise who is the same person both when you see him and when you hear him.  We shall not fail to see what sort of man he is and how large a man he is, if only he is one and the same.  Our words should aim not to please, but to help.  If, however, you can attain eloquence without painstaking, and if you either are naturally gifted or can gain eloquence at slight cost, make the most of it and apply it to the noblest uses.  But let it be of such a kind that it displays facts rather than itself.  It and the other arts are wholly concerned with cleverness; but our business here is the soul.  A sick man does not call in a physician who is eloquent; but if it so happens that the physician who can cure him likewise dis courses elegantly about the treatment which is to be followed, the patient will take it in good part.  For all that, he will not find any reason to congratulate himself on having discovered a physician who is eloquent. ', 'original_text': 'Our words should aim not to please, but to help. '}})"
      ]
     },
     "execution_count": 25,
     "metadata": {},
     "output_type": "execute_result"
    }
   ],
   "source": [
    "sentence_window_query_pipeline.run(input=\"How can I set rules and speak honestly without worrying about hurting someone's feelings?\")"
   ]
  },
  {
   "cell_type": "markdown",
   "metadata": {},
   "source": [
    "# 👨‍👦 Smaller Child Chunks Referring to Bigger Parent Chunk\n",
    "\n",
    "<img src=\"https://miro.medium.com/v2/resize:fit:2000/0*x4rMd50GP99OSDuo.png\"  width=\"70%\">\n",
    "\n",
    "Source: [Ivan Ilin](https://pub.towardsai.net/advanced-rag-techniques-an-illustrated-overview-04d193d8fec6)\n",
    "\n",
    "🔗 **Chunk References Explained:**\n",
    "\n",
    "- 🧩 **Concept**: Chunk References involve smaller chunks of data pointing to larger parent chunks, forming a hierarchical graph structure.\n",
    "  \n",
    "- 🌐 **Purpose**: This method is utilized in recursive retrieval to efficiently manage and access data in a structured manner.\n",
    "\n",
    "### Process During Query\n",
    "\n",
    "- 🔍 **During Query-Time**:\n",
    "\n",
    "  - **Small Chunk Retrieval**: Initially, smaller chunks relevant to the query are retrieved.\n",
    "\n",
    "  - **Following References**: The system then follows references to retrieve the larger parent chunks associated with these smaller chunks.\n",
    "\n",
    "- 📈 **Benefits of Contextual Retrieval**:\n",
    "\n",
    "  - **Enhanced Context**: Retrieving larger chunks along with the smaller ones provides additional context.\n",
    "  \n",
    "  - **Improved Responses**: This deeper context allows for more accurate and comprehensive responses to queries.\n",
    "\n",
    "This structured approach ensures that data retrieval is both efficient and context-rich, enhancing the overall synthesis and response accuracy.\n",
    "\n",
    " The code below is creating a system where smaller chunks of text refer to the larger chunks they were created from. This allows for more context to be provided when retrieving chunks of text based on a query."
   ]
  },
  {
   "cell_type": "code",
   "execution_count": 26,
   "metadata": {},
   "outputs": [],
   "source": [
    "# Import the SentenceSplitter class from the llama_index.core.node_parser module\n",
    "from llama_index.core.node_parser import SentenceSplitter\n",
    "from llama_index.core.schema import IndexNode\n",
    "\n",
    "# Define the sizes of chunks for sentence splitting\n",
    "sub_chunk_sizes = [128, 256, 512]\n",
    "\n",
    "# Create a list of SentenceSplitter instances with different chunk sizes\n",
    "sub_node_parsers = [SentenceSplitter(chunk_size=c, chunk_overlap=16) for c in sub_chunk_sizes]\n",
    "\n",
    "# Initialize an empty list to store all index nodes\n",
    "all_nodes = []\n",
    "\n",
    "# Iterate over each base node in senpai_documents\n",
    "for base_node in senpai_documents:\n",
    "    # Process each base node with every SentenceSplitter in the list\n",
    "    for n in sub_node_parsers:\n",
    "        # Get sub-nodes by splitting the base node document into smaller parts\n",
    "        sub_nodes = n.get_nodes_from_documents([base_node])\n",
    "        # Convert each sub-node into an IndexNode and link it to the base node's ID\n",
    "        sub_inodes = [\n",
    "            IndexNode.from_text_node(sn, base_node.node_id) for sn in sub_nodes\n",
    "        ]\n",
    "        # Add the newly created index nodes to the all_nodes list\n",
    "        all_nodes.extend(sub_inodes)\n",
    "\n",
    "    # Also add the original base node to the list of all nodes as an IndexNode\n",
    "    original_node = IndexNode.from_text_node(base_node, base_node.node_id)\n",
    "    all_nodes.append(original_node)"
   ]
  },
  {
   "cell_type": "code",
   "execution_count": 27,
   "metadata": {},
   "outputs": [],
   "source": [
    "all_nodes_dict = {n.node_id: n for n in all_nodes}"
   ]
  },
  {
   "cell_type": "code",
   "execution_count": 28,
   "metadata": {},
   "outputs": [
    {
     "data": {
      "text/plain": [
       "{'id_': '33b3ee22-5a2c-4857-8d26-38803665a1b2',\n",
       " 'embedding': None,\n",
       " 'metadata': {'page_number': 0,\n",
       "  'file_name': '../data/almanack_of_naval_ravikant.pdf',\n",
       "  'title': 'The Almanack of Naval Ravikant',\n",
       "  'author': 'Naval Ravikant'},\n",
       " 'excluded_embed_metadata_keys': [],\n",
       " 'excluded_llm_metadata_keys': [],\n",
       " 'relationships': {<NodeRelationship.SOURCE: '1'>: RelatedNodeInfo(node_id='68e7881a-d87e-4cda-845f-7eb5e88d84c8', node_type=<ObjectType.DOCUMENT: '4'>, metadata={'page_number': 0, 'file_name': '../data/almanack_of_naval_ravikant.pdf', 'title': 'The Almanack of Naval Ravikant', 'author': 'Naval Ravikant'}, hash='b00d124eb1a97f077d33a4231c4fe920705ea86d2e44ac22c4447d7d6944668a'),\n",
       "  <NodeRelationship.NEXT: '3'>: RelatedNodeInfo(node_id='4c7411b7-d6d9-43b0-ab64-b29c8bb5bcc8', node_type=<ObjectType.TEXT: '1'>, metadata={}, hash='5721476dc71bf63412e749cca4609c6bc48ac29d87eef20661c268042c0f3064')},\n",
       " 'text': 'UNDERSTAND HOW WEALTH IS CREATED I like to think that if I lost all my money and you dropped me on a random street in any English-speaking country, within five or ten years Id be wealthy again because its just a skillset Ive developed that anyone can develop. Its not really about hard work. You can work in a restaurant eighty hours a week, and youre not going to get rich. Getting rich is about knowing what to do, who to do it with, and when to do it. It is much more about understanding than purely hard work. Yes, hard work matters, and you cant skimp on it. But it has to be directed in the right way. If you dont know yet what you should work on, the most important thing is to figure it out. You should not grind at a lot of hard work until you figure out what you should be working on.',\n",
       " 'mimetype': 'text/plain',\n",
       " 'start_char_idx': 0,\n",
       " 'end_char_idx': 794,\n",
       " 'text_template': '{metadata_str}\\n\\n{content}',\n",
       " 'metadata_template': '{key}: {value}',\n",
       " 'metadata_seperator': '\\n',\n",
       " 'index_id': '68e7881a-d87e-4cda-845f-7eb5e88d84c8',\n",
       " 'obj': None}"
      ]
     },
     "execution_count": 28,
     "metadata": {},
     "output_type": "execute_result"
    }
   ],
   "source": [
    "all_nodes[5].__dict__"
   ]
  },
  {
   "cell_type": "markdown",
   "metadata": {},
   "source": [
    "### 👷🏽‍♂️ 🗂️  Ingest to Qdrant and Build the Index "
   ]
  },
  {
   "cell_type": "code",
   "execution_count": 29,
   "metadata": {},
   "outputs": [
    {
     "name": "stderr",
     "output_type": "stream",
     "text": [
      "Both client and aclient are provided. If using `:memory:` mode, the data between clients is not synced.\n"
     ]
    }
   ],
   "source": [
    "from utils import ingest\n",
    "\n",
    "COLLECTION_NAME = \"words-of-the-senpai-small-to-big-parent-child\"\n",
    "\n",
    "parent_child_vector_store = setup_vector_store(QDRANT_URL, QDRANT_API_KEY, COLLECTION_NAME)\n",
    "\n",
    "transforms = [Settings.embed_model]\n",
    "\n",
    "parent_child_nodes = ingest(\n",
    "    documents=all_nodes,\n",
    "    transformations=transforms,\n",
    "    vector_store=parent_child_vector_store\n",
    ")\n",
    "\n",
    "parent_child_index = create_index(\n",
    "    from_where=\"vector_store\", \n",
    "    embed_model=Settings.embed_model,\n",
    "    vector_store=parent_child_vector_store)"
   ]
  },
  {
   "cell_type": "markdown",
   "metadata": {},
   "source": [
    "### 🛠️ Setup Query Engine for Parent Child Chunks\n",
    "\n",
    "We're making use of the `RecursiveRetriever` and the `RetrieverQueryEngine`.\n",
    "\n",
    "`RecursiveRetriever` is a separate class that is not directly associated with an index. It is uses multiple retrievers and query engines to recursively retrieve and query nodes.\n",
    "\n",
    "But, we can't directly use a `RecursiveRetriever` with the `index.as_retriever()` pattern we've seen before. The `index.as_retriever()` pattern is used to create a retriever from an index, and the type of retriever it creates depends on the `retriever_mode` argument you pass to it. `RecursiveRetriever` requires a dictionary of retrievers, and optionally a dictionary of query engines and a dictionary of node. There aren't required when creating a retriever using `index.as_retriever()`.\n",
    "\n",
    "So, we need to build the `RecursiveRetriever` and the `RetrieverQueryEngine` to accomplish this.\n",
    "\n",
    "  - `RecursiveRetriever` queries a graph of retrievers and query engines, following links between them to fetch relevant information for a given query. It recursively traverses the graph, deduplicates nodes, and returns the retrieved nodes along with any additional source nodes.\n",
    "\n",
    "  - `RetrieverQueryEngine` is a component that uses a retriever to fetch relevant documents or nodes based on a given query and then *synthesizes a response from the retrieved nodes using a `ResponseSynthesizer`*. It retrieves relevant nodes, applies postprocessing, synthesizes a response, and returns the result.\n",
    "\n",
    "\n",
    "More details are below.\n",
    "\n",
    "#### [`RecursiveRetriever`](https://github.com/run-llama/llama_index/blob/main/llama-index-core/llama_index/core/retrievers/recursive_retriever.py)\n",
    "\n",
    "##### 🌿 Initialization\n",
    "\n",
    "   - Takes a root ID, retriever dict, and optional query engine & node dicts\n",
    "\n",
    "   - Validates root ID and checks for overlapping keys\n",
    "\n",
    "##### 🔄 Recursive Retrieval\n",
    "\n",
    "   - Starts from the root ID when `retrieve` is called with a query bundle\n",
    "\n",
    "   - Fetches the object (retriever, query engine, or node) for the current ID\n",
    "\n",
    "   - If it's a node, adds it to the list of nodes to return\n",
    "\n",
    "   - If it's a retriever, retrieves nodes and recursively queries them\n",
    "\n",
    "   - If it's a query engine, queries it and adds the response as a text node\n",
    "\n",
    "##### 🔗 Querying Retrieved Nodes\n",
    "\n",
    "   - For each retrieved IndexNode, recursively retrieves from the referenced ID\n",
    "\n",
    "   - For each TextNode, simply adds it to the list of nodes to return\n",
    "\n",
    "   - Avoids querying the same ID multiple times\n",
    "\n",
    "##### 🧹 Deduplication\n",
    "\n",
    "   - Deduplicates nodes based on their node ID\n",
    "\n",
    "   - Keeps the node with the highest score or the first one returned\n",
    "\n",
    "##### 📚 Retrieving All Nodes\n",
    "\n",
    "   - `retrieve_all` method retrieves all nodes, including additional source nodes\n",
    "\n",
    "   - Calls the recursive retrieval process and returns both retrieved and additional nodes\n",
    "\n",
    "\n",
    "#### [`RetrieverQueryEngine`](https://github.com/run-llama/llama_index/blob/main/llama-index-core/llama_index/core/query_engine/retriever_query_engine.py)\n",
    "\n",
    "The `index.as_retriever()` pattern creates a retriever from an index. The type of retriever it creates depends on the `retriever_mode` argument you pass to it. \n",
    "\n",
    "So, while `index.as_retriever()` is used to create a retriever from an index, a `RetrieverQueryEngine` uses a retriever to fetch relevant nodes and a `ResponseSynthesizer` to synthesize a response.\n",
    "\n",
    "##### 🌿 Initialization\n",
    "   - Takes a retriever, an optional response synthesizer, and node postprocessors\n",
    "\n",
    "   - Creates a default response synthesizer if not provided\n",
    "   \n",
    "   - Sets up callback manager for the query engine and node postprocessors\n",
    "\n",
    "##### 🔧 Customization\n",
    "\n",
    "   - Can be initialized with various arguments using the `from_args` method\n",
    "\n",
    "   - Allows customization of response mode, prompt templates, async usage, etc.\n",
    "\n",
    "##### 🔄 Retrieval\n",
    "\n",
    "   - Retrieves nodes using the provided retriever when `retrieve` or `aretrieve` is called\n",
    "\n",
    "   - Applies node postprocessors to the retrieved nodes\n",
    "\n",
    "   - Returns the processed nodes\n",
    "\n",
    "##### 🔀 Retriever Swapping\n",
    "\n",
    "   - Allows swapping the retriever using the `with_retriever` method\n",
    "\n",
    "   - Creates a new RetrieverQueryEngine instance with the new retriever\n",
    "\n",
    "##### 🧩 Node Postprocessing\n",
    "   \n",
    "   - Applies a list of node postprocessors to the retrieved nodes\n",
    "\n",
    "   - Postprocessors can modify or filter the nodes based on the query bundle\n",
    "\n",
    "##### 🎨 Response Synthesis\n",
    "\n",
    "   - Synthesizes a response using the response synthesizer\n",
    "   - Takes the query bundle, retrieved nodes, and additional source nodes as input\n",
    "   - Generates a response based on the configured response mode and templates\n",
    "\n",
    "##### ❓ Querying\n",
    "\n",
    "   - Handles a query using the `_query` or `_aquery` method\n",
    "\n",
    "   - Retrieves nodes, synthesizes a response, and returns the response\n",
    "\n",
    "   - Triggers callback events for query start and end\n",
    "\n",
    "##### 🏃 Async Support\n",
    "\n",
    "   - Provides async versions of retrieval, synthesis, and querying methods\n",
    "\n",
    "   - Allows for asynchronous processing of queries\n"
   ]
  },
  {
   "cell_type": "code",
   "execution_count": 30,
   "metadata": {},
   "outputs": [],
   "source": [
    "from llama_index.core.query_engine import RetrieverQueryEngine\n",
    "from llama_index.core.retrievers import RecursiveRetriever\n",
    "\n",
    "parent_child_retriever = parent_child_index.as_retriever(\n",
    "    response_mode=\"compact\",\n",
    "    similiarty_top_k=5,\n",
    "    vector_store_query_mode=\"mmr\", \n",
    "    vector_store_kwargs={\"mmr_threshold\": 0.42},\n",
    "    )\n",
    "\n",
    "retriever_chunk = RecursiveRetriever(\n",
    "    \"vector\",\n",
    "    retriever_dict={\"vector\": parent_child_retriever},\n",
    "    node_dict=all_nodes_dict,\n",
    "    verbose=True,\n",
    ")\n",
    "\n",
    "parent_child_query_engine = RetrieverQueryEngine.from_args(retriever_chunk, llm=Settings.llm)\n",
    "\n",
    "parent_child_query_engine.update_prompts({'response_synthesizer:text_qa_template':HYPE_ANSWER_GEN_PROMPT_TEMPLATE})"
   ]
  },
  {
   "cell_type": "markdown",
   "metadata": {},
   "source": [
    "### 🔧Setup Query Pipline for Parent Child Chunks"
   ]
  },
  {
   "cell_type": "code",
   "execution_count": 31,
   "metadata": {},
   "outputs": [],
   "source": [
    "from utils import create_query_pipeline\n",
    "\n",
    "from llama_index.core.query_pipeline import InputComponent\n",
    "\n",
    "input_component = InputComponent()\n",
    "\n",
    "parent_child_chain = [input_component, parent_child_query_engine]\n",
    "\n",
    "parent_child_query_pipeline = create_query_pipeline(parent_child_chain)"
   ]
  },
  {
   "cell_type": "code",
   "execution_count": 32,
   "metadata": {},
   "outputs": [
    {
     "name": "stdout",
     "output_type": "stream",
     "text": [
      "\u001b[1;3;38;2;155;135;227m> Running module 3cb61b58-ce2f-4eb0-9fa7-bc55219f6805 with input: \n",
      "input: How can I effectively build strength across multiple facets of real life without relying on complicated machines?\n",
      "\n",
      "\u001b[0m\u001b[1;3;38;2;155;135;227m> Running module 2f356138-a1fd-409b-b232-78ee06c20690 with input: \n",
      "input: How can I effectively build strength across multiple facets of real life without relying on complicated machines?\n",
      "\n",
      "\u001b[0m\u001b[1;3;34mRetrieving with query id None: How can I effectively build strength across multiple facets of real life without relying on complicated machines?\n",
      "\u001b[0m\u001b[1;3;38;5;200mRetrieved node with id, entering: 5acad8f0-19f8-4e28-8ff7-f2c4a46e7d04\n",
      "\u001b[0m\u001b[1;3;34mRetrieving with query id 5acad8f0-19f8-4e28-8ff7-f2c4a46e7d04: How can I effectively build strength across multiple facets of real life without relying on complicated machines?\n",
      "\u001b[0m\u001b[1;3;38;5;200mRetrieved node with id, entering: 4a4c5d5f-c4f8-499d-a88f-d2a2811822bd\n",
      "\u001b[0m\u001b[1;3;34mRetrieving with query id 4a4c5d5f-c4f8-499d-a88f-d2a2811822bd: How can I effectively build strength across multiple facets of real life without relying on complicated machines?\n",
      "\u001b[0m"
     ]
    },
    {
     "data": {
      "text/plain": [
       "Response(response=\"Listen up, you're not a machine, you're a human being with an incredible capacity to adapt and grow. You don't need complicated machines to build strength. Embrace the power of your own body and mind. You've got to be willing to learn and adapt, just like those who resist new tools or technologies. You've got to be willing to step out of your comfort zone and try new things. You've got to be willing to fail and learn from your mistakes. You've got to be willing to redesign yourself, just like Facebook or Twitter. You've got to be willing to accept that there are no permanent solutions in a dynamic system. You've got to be willing to make decisions that optimize for the long term, not just the short term. You've got to be willing to accept that tension is who you think you should be, and relaxation is who you are. You've got to be willing to learn the skills of decision-making. You've got to be willing to forge a new identity, just like Bruce Lee. You've got to be willing to accept that being an athlete is not your entire identity. You've got to be willing to accept that you can build strength across multiple facets of real life without relying on complicated machines. You've got to be willing to accept that you can do this. You can do this. You will do this. Now get out there and make it happen.\", source_nodes=[NodeWithScore(node=IndexNode(id_='5acad8f0-19f8-4e28-8ff7-f2c4a46e7d04', embedding=[-0.012847900390625, 0.049346923828125, 0.023529052734375, -0.0236358642578125, 0.038787841796875, 0.0263519287109375, 0.03387451171875, -0.0246124267578125, 0.00586700439453125, 0.02679443359375, -0.0312347412109375, 0.0650634765625, -0.0136566162109375, -0.006134033203125, -0.060791015625, 0.0175933837890625, 0.0222625732421875, 0.004085540771484375, 0.04608154296875, -0.0033626556396484375, -0.06463623046875, -0.01325225830078125, -0.024658203125, -0.0164337158203125, -0.01384735107421875, 0.00829315185546875, -0.017242431640625, -0.058349609375, -0.0083465576171875, -0.025634765625, 0.0119476318359375, -0.01293182373046875, 0.01523590087890625, 0.0226898193359375, 0.004276275634765625, -0.0133056640625, -0.0204010009765625, -0.03448486328125, 0.01102447509765625, 0.001377105712890625, -0.01148223876953125, -0.013885498046875, 0.0001914501190185547, -0.0242156982421875, 0.00933074951171875, -0.042999267578125, 0.014617919921875, -0.00027108192443847656, -0.0036945343017578125, -0.01383209228515625, -0.0240631103515625, 0.042144775390625, 0.003490447998046875, -0.006195068359375, -0.03302001953125, 0.03472900390625, 0.023468017578125, -0.014129638671875, -0.05712890625, 0.00531768798828125, -0.036895751953125, -0.0113983154296875, -0.0037746429443359375, 0.01361846923828125, 0.0219268798828125, 0.011138916015625, -0.0048065185546875, -0.019500732421875, -0.0009522438049316406, -0.0023326873779296875, 0.0311279296875, 0.01983642578125, -0.006038665771484375, 0.0204315185546875, -0.005645751953125, -0.036773681640625, 0.00949859619140625, 0.04669189453125, 0.00968170166015625, -0.0014829635620117188, -0.060333251953125, 0.01270294189453125, 0.0380859375, -0.04229736328125, -0.01861572265625, 0.01488494873046875, 0.005481719970703125, -0.00040340423583984375, -0.0115203857421875, 0.0011816024780273438, 0.03857421875, -0.0167999267578125, -0.02716064453125, 0.0072021484375, 0.045867919921875, 0.02978515625, -0.01543426513671875, -0.00917816162109375, 0.0044708251953125, 0.034759521484375, 0.0400390625, -0.030609130859375, 0.0753173828125, 0.018341064453125, 0.0267486572265625, -0.021453857421875, 0.06097412109375, -0.03118896484375, -0.00806427001953125, -0.0226593017578125, -0.08575439453125, -5.811452865600586e-05, 0.01148223876953125, -0.05596923828125, 0.0009608268737792969, 0.024566650390625, -0.0194549560546875, 0.04107666015625, -0.03961181640625, -0.01111602783203125, 0.0587158203125, 0.03778076171875, 0.0142974853515625, 0.0200958251953125, -0.032867431640625, -0.0269012451171875, -0.0129241943359375, 0.0643310546875, -0.0232086181640625, -0.0404052734375, -0.01557159423828125, -0.0310211181640625, -0.0280914306640625, -0.050750732421875, -0.026824951171875, -0.05023193359375, 0.036956787109375, -0.044281005859375, -0.01439666748046875, -0.0177764892578125, 0.0180206298828125, -0.0203857421875, -0.039764404296875, 0.0011491775512695312, -0.018035888671875, -0.006969451904296875, -0.0158538818359375, 0.0482177734375, -0.045379638671875, 0.0012884140014648438, 0.0086517333984375, 0.03253173828125, 0.06549072265625, 0.0029449462890625, -0.0236358642578125, -0.0225982666015625, -0.0148162841796875, -0.027496337890625, 0.0279388427734375, -0.00858306884765625, -0.00861358642578125, 0.0273284912109375, -0.01178741455078125, 0.03436279296875, -0.0266876220703125, -0.03582763671875, -0.00499725341796875, 0.0282745361328125, -0.05364990234375, 0.0270538330078125, 0.052032470703125, -0.03607177734375, 0.03143310546875, 0.0631103515625, -0.0269927978515625, 0.0147247314453125, 0.00649261474609375, -0.01505279541015625, 0.05291748046875, 0.024505615234375, -0.0179901123046875, -0.01309967041015625, 0.039825439453125, -0.01172637939453125, 0.0020351409912109375, -0.006183624267578125, -0.020233154296875, -0.0197601318359375, -0.021942138671875, 0.0430908203125, -0.0234222412109375, -0.0309906005859375, -0.0126800537109375, 0.024078369140625, -0.027374267578125, 0.0097808837890625, 0.0474853515625, -0.04833984375, 0.012298583984375, -0.00586700439453125, 0.008026123046875, 0.01092529296875, -0.0045928955078125, 0.10107421875, 0.014068603515625, -0.00879669189453125, -0.01922607421875, 0.0049896240234375, 0.043426513671875, 0.01464080810546875, -0.00914764404296875, 0.0162353515625, -0.01512908935546875, -0.0171051025390625, -0.0171356201171875, -0.0216217041015625, -0.0016393661499023438, -0.00562286376953125, -0.00882720947265625, -0.0183563232421875, -0.00608062744140625, -0.03466796875, 0.0158538818359375, -0.017974853515625, -0.001483917236328125, 0.062469482421875, 0.0229034423828125, -0.0062103271484375, 0.01297760009765625, -0.00799560546875, 0.029571533203125, 0.07666015625, 0.01512908935546875, 0.0145416259765625, 0.0133209228515625, -0.03680419921875, 0.06695556640625, 0.0271148681640625, -0.005283355712890625, 0.025146484375, -0.020294189453125, 0.042633056640625, 0.006679534912109375, 0.0587158203125, 0.034088134765625, -0.0259246826171875, 0.003559112548828125, -0.01023101806640625, 0.005645751953125, 0.0242919921875, -0.07342529296875, -0.017791748046875, -0.02667236328125, 0.0026111602783203125, -0.05206298828125, -0.0171661376953125, -0.0170135498046875, -0.02520751953125, 0.0606689453125, -0.02716064453125, 0.00804901123046875, -0.007801055908203125, 0.01556396484375, -0.0265655517578125, -0.00801849365234375, 0.031829833984375, -0.061553955078125, 0.012847900390625, 0.0908203125, -0.0078582763671875, -0.0002453327178955078, -0.007282257080078125, 0.0257110595703125, -0.0292816162109375, 0.018310546875, -0.0245361328125, -0.032318115234375, 0.039459228515625, -0.0006976127624511719, 0.0184783935546875, -0.0165557861328125, 0.0021038055419921875, -0.0206756591796875, 0.04876708984375, -0.0269927978515625, 0.010833740234375, -0.0007677078247070312, 0.005767822265625, -0.00687408447265625, -0.053131103515625, 0.035186767578125, 0.048858642578125, 0.0223236083984375, -0.0015344619750976562, 0.003387451171875, -0.051727294921875, 0.026031494140625, 0.0333251953125, 0.0112152099609375, 0.0211334228515625, 0.053253173828125, -0.0301513671875, 0.0233001708984375, 0.00884246826171875, 0.020355224609375, -0.03369140625, -0.029449462890625, -0.043060302734375, -0.0216522216796875, -0.07470703125, -0.0120849609375, -0.0211639404296875, -0.0241851806640625, 0.0114288330078125, -0.031585693359375, 0.00878143310546875, -0.0341796875, -0.0126495361328125, -0.004039764404296875, -0.047454833984375, -0.0208282470703125, -0.0165863037109375, 0.050048828125, -0.0106353759765625, -0.018280029296875, -0.0210113525390625, 0.0208892822265625, -0.035675048828125, 0.0253753662109375, 0.0166778564453125, 0.0322265625, 0.0020427703857421875, 0.04608154296875, 0.0163726806640625, 0.02130126953125, 0.01409149169921875, 0.06268310546875, 0.0246734619140625, -0.02935791015625, 0.00022280216217041016, 0.004283905029296875, 0.004108428955078125, 0.0018033981323242188, 0.0207366943359375, -0.0244903564453125, -0.027099609375, -0.02728271484375, -0.016265869140625, 0.042572021484375, 0.018707275390625, 0.0277557373046875, -0.0204315185546875, -0.010040283203125, 0.04486083984375, 0.0094451904296875, 0.12310791015625, -0.052581787109375, -0.03302001953125, -0.0035915374755859375, 0.036346435546875, -0.05181884765625, 0.00102996826171875, 0.0194091796875, 0.034210205078125, 0.00804901123046875, 0.0217742919921875, -0.033355712890625, 0.03509521484375, -0.00562286376953125, -0.0197601318359375, 0.01355743408203125, 0.0169525146484375, 0.01557159423828125, 0.037353515625, 0.0203094482421875, 0.020660400390625, 0.0126800537109375, -0.032196044921875, 0.0236968994140625, -0.03997802734375, -0.052734375, 0.01436614990234375, 0.056915283203125, -0.01335906982421875, 0.0186614990234375, 0.00809478759765625, -0.027557373046875, -0.0144805908203125, -0.01153564453125, 0.07977294921875, 0.07025146484375, 0.029388427734375, 0.015411376953125, -0.0180206298828125, 0.0038776397705078125, 0.0035247802734375, 0.0017213821411132812, 0.051727294921875, 0.03875732421875, 0.0272369384765625, 0.00032401084899902344, -0.0303802490234375, 0.03448486328125, 0.034271240234375, 0.03424072265625, 0.01666259765625, 0.0277557373046875, 0.018310546875, 0.026123046875, -0.05169677734375, 0.038055419921875, -0.00799560546875, -0.0048828125, 0.025543212890625, 0.0199127197265625, -0.00864410400390625, -0.038421630859375, 0.0081024169921875, -0.00818634033203125, -0.0135650634765625, 0.0036220550537109375, 0.004638671875, -0.04998779296875, -0.006610870361328125, 0.04248046875, -0.0198822021484375, -0.008148193359375, -0.0133056640625, -0.031951904296875, 0.039794921875, -0.0202789306640625, -0.048583984375, 0.058349609375, -0.0576171875, -0.031036376953125, 0.007965087890625, 0.0241241455078125, -0.019989013671875, 0.0047607421875, -0.041900634765625, -0.0206451416015625, -0.00959014892578125, -0.027008056640625, 0.0020160675048828125, -0.011871337890625, 0.0142974853515625, 0.0249786376953125, 0.045074462890625, -0.007358551025390625, -0.022369384765625, 0.0565185546875, -0.042755126953125, -0.044219970703125, 0.00841522216796875, 0.033203125, -0.006195068359375, -0.042572021484375, -0.032073974609375, 0.006397247314453125, -0.0105438232421875, 0.00701141357421875, 0.045074462890625, -0.0298919677734375, -0.0582275390625, -0.034454345703125, 0.033905029296875, 0.037506103515625, 0.06488037109375, 0.01192474365234375, -0.053131103515625, 0.044403076171875, -0.056304931640625, -0.0169830322265625, -0.021240234375, 0.0235137939453125, -0.035308837890625, 0.06463623046875, -0.0187530517578125, -0.0154571533203125, -0.01009368896484375, 0.04302978515625, 0.0106201171875, 0.01071929931640625, -0.0213775634765625, 0.05767822265625, 0.02667236328125, -0.059417724609375, -0.0355224609375, -0.006153106689453125, 0.0065155029296875, 0.021881103515625, -0.0643310546875, -0.0233612060546875, 0.005462646484375, -0.07220458984375, -0.01198577880859375, 0.0007181167602539062, -0.00882720947265625, -0.017333984375, -0.0142669677734375, 0.0335693359375, -0.0063018798828125, 0.0178985595703125, -0.0140228271484375, -0.011016845703125, 0.0330810546875, -0.0071868896484375, -0.04412841796875, 0.0096282958984375, -0.06439208984375, -0.00907135009765625, -0.01546478271484375, 0.002384185791015625, -0.00011944770812988281, 0.01184844970703125, -0.01134490966796875, -0.034393310546875, 0.01499176025390625, -0.0238037109375, 0.0193634033203125, 0.01169586181640625, -0.01181793212890625, -0.0648193359375, -0.01325225830078125, 0.034698486328125, 0.01788330078125, -0.00795745849609375, -0.017822265625, 0.0345458984375, -0.040740966796875, 0.0166168212890625, 0.0044708251953125, -0.00994873046875, 0.006000518798828125, 0.0226287841796875, 0.0048828125, 0.00672149658203125, 0.0182952880859375, -0.051605224609375, -0.00868988037109375, -0.06817626953125, 0.0214691162109375, 0.0037708282470703125, -0.006134033203125, -0.03704833984375, -0.0265655517578125, -0.051513671875, 0.01206207275390625, 0.0167236328125, -0.0127716064453125, 0.019256591796875, -0.043792724609375, -0.0042724609375, -0.01172637939453125, 0.0089111328125, 0.0277099609375, -0.00806427001953125, 0.0163726806640625, 0.007659912109375, -0.00868988037109375, 0.041168212890625, -0.011260986328125, 0.0256805419921875, 0.0162353515625, 0.03656005859375, -0.03204345703125, 0.012298583984375, -0.00760650634765625, -0.0161285400390625, 0.0009565353393554688, -0.00365447998046875, 0.0340576171875, 0.0010442733764648438, -0.02886962890625, 0.0214385986328125, 0.01483917236328125, 0.0226287841796875, 0.01018524169921875, -0.02203369140625, 0.04058837890625, -0.02813720703125, 0.02984619140625, -0.033905029296875, 0.00911712646484375, 0.0032062530517578125, 0.013824462890625, 0.059234619140625, 0.0465087890625, 0.0189971923828125, -0.05426025390625, 0.01873779296875, 0.043426513671875, -0.0145263671875, -0.0310821533203125, -0.0401611328125, -0.004058837890625, -0.02789306640625, 0.047821044921875, 0.04443359375, 0.0782470703125, -0.0004887580871582031, -0.03662109375, 0.01151275634765625, 0.0665283203125, 0.02813720703125, -0.026519775390625, -0.0266265869140625, -0.0019989013671875, -0.002292633056640625, -0.0452880859375, -0.056060791015625, 0.02935791015625, 0.0291290283203125, -0.0660400390625, -0.01030731201171875, -0.0163421630859375, 0.0010747909545898438, 0.021453857421875, 0.007511138916015625, 0.013824462890625, 0.03729248046875, 0.031463623046875, -0.054107666015625, -0.0164947509765625, 0.003971099853515625, -0.00827789306640625, 0.03460693359375, -0.0038166046142578125, -0.005672454833984375, -0.0104217529296875, -0.01556396484375, 0.0084075927734375, -0.0022106170654296875, 0.03131103515625, 0.01435089111328125, 0.0303802490234375, 0.03192138671875, 0.0556640625, -0.0155792236328125, -0.019256591796875, -0.01861572265625, 0.08966064453125, 0.051727294921875, 0.04180908203125, -0.038482666015625, 0.003559112548828125, 0.00623321533203125, -0.027801513671875, -0.012939453125, 0.034698486328125, -0.0111846923828125, -0.0090789794921875, -0.058807373046875, 0.0161590576171875, -0.0218963623046875, 0.0205078125, 0.02862548828125, -0.008392333984375, -0.0025157928466796875, 0.0230712890625, -0.032012939453125, -0.0596923828125, -0.005077362060546875, -0.0299530029296875, -0.02508544921875, -0.035675048828125, -0.031402587890625, 0.06536865234375, -0.0252227783203125, -0.08819580078125, -0.040191650390625, 0.07232666015625, 0.0002104043960571289, -0.04779052734375, -0.01035308837890625, -0.01025390625, -0.00443267822265625, 0.0007061958312988281, -0.036712646484375, -0.040130615234375, 0.030853271484375, -0.00983428955078125, 0.006256103515625, 0.0075225830078125, -0.024078369140625, -0.00897979736328125, -0.01849365234375, -0.004665374755859375, 0.02435302734375, -0.05999755859375, 0.01435089111328125, -0.0011892318725585938, -0.0161285400390625, 0.023529052734375, 0.06964111328125, 0.01088714599609375, 0.0029544830322265625, 0.0008440017700195312, -0.036956787109375, 0.01175689697265625, -0.01483917236328125, 0.00968170166015625, -0.048919677734375, 0.0157470703125, 0.031707763671875, -0.02734375, 5.167722702026367e-05, -0.024566650390625, 0.044891357421875, 0.00013327598571777344, 0.0111083984375, -0.0021038055419921875, -0.003009796142578125, 0.059051513671875, -2.4020671844482422e-05, -0.026824951171875, 0.007198333740234375, -0.0615234375, 0.06915283203125, 0.0078887939453125, -0.0009646415710449219, -0.0307769775390625, 0.00502777099609375, 0.0369873046875, -0.026641845703125, -0.0167236328125, -0.1065673828125, 0.0122528076171875, 0.0390625, 0.01045989990234375, 0.01132965087890625, 0.006969451904296875, 0.0028858184814453125, -0.007335662841796875, -0.0222320556640625, -0.01148223876953125, -0.0016813278198242188, 0.016021728515625, -0.03704833984375, 0.0162811279296875, -0.06121826171875, -0.035400390625, -0.033660888671875, -0.022796630859375, 0.0292816162109375, 0.014801025390625, -0.01120758056640625, 0.0213775634765625, 0.0262908935546875, 0.0271759033203125, 0.006465911865234375, 0.053497314453125, -0.00978851318359375, 0.0178680419921875, -0.0101318359375, 0.034210205078125, -0.0010547637939453125, -0.0028705596923828125, 0.0053863525390625, 0.0196075439453125, 0.020172119140625, -0.009918212890625, 0.037322998046875, 0.05029296875, -0.034454345703125, -0.04345703125, -0.03839111328125, -0.032196044921875, 0.0244598388671875, -0.0091400146484375, 0.03375244140625, 0.0018482208251953125, 0.0186309814453125, -0.1024169921875, 0.08551025390625, -0.037872314453125, 0.0304718017578125, -0.0169219970703125, -0.01177978515625, -0.05523681640625, -0.04486083984375, -0.054840087890625, -0.0010862350463867188, -0.031707763671875, 0.0312347412109375, -0.00720977783203125, -0.00882720947265625, -0.0194549560546875, 0.0196380615234375, -0.001880645751953125, 0.027130126953125, 0.0234222412109375, -0.006183624267578125, 0.090087890625, -0.01107025146484375, -0.017303466796875, -0.00901031494140625, 0.01806640625, 0.021636962890625, -0.01140594482421875, -0.005550384521484375, -0.00940704345703125, 0.03179931640625, 0.01129913330078125, -0.033172607421875, 0.0288543701171875, 0.011871337890625, 0.01056671142578125, 0.02508544921875, -0.0199127197265625, -0.01168060302734375, -7.873773574829102e-05, -0.01922607421875, -0.01467132568359375, -0.046630859375, -0.07965087890625, -0.01372528076171875, -0.041717529296875, -0.022705078125, -0.004360198974609375, -0.01549530029296875, 0.0253753662109375, -0.044647216796875, 0.012908935546875, -0.008209228515625, -0.002162933349609375, -0.0100555419921875, -0.006435394287109375, -0.043212890625, 0.050811767578125, 0.004962921142578125, -0.050811767578125, 0.04705810546875, 0.0311279296875, -0.01366424560546875, -0.01776123046875, 0.051361083984375, -0.029327392578125, 0.04180908203125, -0.04364013671875, -0.0211944580078125, 0.007144927978515625, 0.02935791015625, 0.021514892578125, 0.0124359130859375, 0.00826263427734375, 0.0107574462890625, -0.05413818359375, 0.04443359375, 0.00940704345703125, -0.049285888671875, 0.0155487060546875, 0.0021514892578125, 0.013916015625, 0.0254364013671875, 0.006679534912109375, 0.003978729248046875, 0.04583740234375, 0.00489044189453125, 0.00360107421875, -0.043426513671875, 0.020538330078125, 0.044952392578125, 0.01206207275390625, 0.03759765625, 0.0267333984375, 0.009735107421875, -0.029052734375, -0.07110595703125, 0.01873779296875, -0.0124359130859375, -0.0804443359375, -0.005496978759765625, 0.05682373046875, 0.0517578125, 0.01189422607421875, 0.022430419921875, 0.0287017822265625, 0.044342041015625, 0.011016845703125, -0.037139892578125, -0.0374755859375, -0.0139923095703125, 0.01044464111328125, -0.0297088623046875, -0.0535888671875, 0.06109619140625, 0.062469482421875, 0.00919342041015625, 0.0008521080017089844, 0.002803802490234375, -0.0228118896484375, 0.06109619140625, 0.03326416015625, 0.0178985595703125, -0.08758544921875, 0.0192108154296875, 0.026397705078125, 0.0190887451171875, 0.00016999244689941406, 0.0083465576171875, -0.0253143310546875, 0.036834716796875, -0.0665283203125, 0.007526397705078125, -0.0214385986328125, 0.070068359375, -0.03021240234375, -0.0248870849609375, -0.01210784912109375, 0.0521240234375, 0.01181793212890625, -0.0251007080078125, -0.0023956298828125, 0.005279541015625, -0.0198822021484375, -0.0216522216796875, 0.0236358642578125, 0.021881103515625, 0.0814208984375, 0.03076171875, -0.043853759765625, 0.033477783203125, -0.002475738525390625, 0.0038738250732421875, -0.005275726318359375, -0.052825927734375, -0.012939453125, -0.0863037109375, 0.06365966796875, 0.031951904296875, 0.0246734619140625, 0.011016845703125, -0.0312347412109375, -0.0174713134765625, -0.0082855224609375, 0.027557373046875, 0.003177642822265625, 0.0189056396484375, 0.0205841064453125, -0.01409149169921875, 0.01334381103515625, 0.0120849609375, 0.035369873046875, 0.0181427001953125, -0.04693603515625, 0.01261138916015625, -0.06085205078125, 0.0027217864990234375, -0.00518798828125, -0.01334381103515625, -0.001605987548828125, 0.0003345012664794922, -0.00550079345703125, -0.01102447509765625, -0.03985595703125, -0.034912109375, 0.0267333984375, -0.0221710205078125, 0.0092010498046875, 0.006938934326171875, -0.0004787445068359375, 0.0088653564453125, -0.051422119140625, 0.028656005859375, 0.0124969482421875, 0.052520751953125, 0.00035572052001953125, 0.036468505859375, 0.0655517578125, -0.0031147003173828125, 0.015869140625, 0.024566650390625, 0.0157318115234375, 0.04638671875, 0.040313720703125, 0.02716064453125, -0.023040771484375, 0.0234222412109375, -0.004673004150390625, -0.056427001953125, 0.01568603515625, 0.038726806640625, 0.02227783203125, 0.01512908935546875, -0.01438140869140625, -0.004161834716796875, -0.03814697265625, 0.036346435546875, 0.0010204315185546875, -0.0060272216796875, 0.03369140625, -0.05426025390625, 0.0142364501953125, 0.0045013427734375, 0.082275390625, -0.033721923828125, 0.01091766357421875, 0.0090484619140625, 0.036041259765625, -0.03717041015625, -0.0115966796875, -0.017181396484375, 0.04888916015625, -0.0214080810546875, 0.04620361328125, 0.0009617805480957031, -0.00909423828125, -0.07073974609375, -0.006626129150390625, 0.01021575927734375, -0.0007181167602539062, 0.03887939453125, -0.0221710205078125, -0.0219573974609375, 0.02410888671875, 0.035736083984375, 0.01361846923828125, -0.0088348388671875, 0.02972412109375, 0.0101776123046875, -0.0159149169921875, 0.004535675048828125, 0.00841522216796875], metadata={'page_number': 3, 'file_name': '../data/anthology_of_balaji.pdf', 'title': 'The Anthology of Balaji Srinivasan', 'author': 'Balaji Srinivasan'}, excluded_embed_metadata_keys=[], excluded_llm_metadata_keys=[], relationships={}, text='Often people dont want to use a new tool or technology. They want to do things the way they always have because learning how to use that lever is new. They are uncertain and afraid. What happens if the lever breaks? What are the risks in using the lever? Why dont we just lift it with our bodies like weve always done? I think it is ridiculously, obviously good to use the better technologies. That is still much more rare than you might think.', mimetype='text/plain', start_char_idx=None, end_char_idx=None, text_template='{metadata_str}\\n\\n{content}', metadata_template='{key}: {value}', metadata_seperator='\\n', index_id='5acad8f0-19f8-4e28-8ff7-f2c4a46e7d04', obj=None), score=0.73420626), NodeWithScore(node=IndexNode(id_='4a4c5d5f-c4f8-499d-a88f-d2a2811822bd', embedding=[-0.0306549072265625, 0.048919677734375, 0.05633544921875, -0.01175689697265625, 0.00925445556640625, 0.026885986328125, 0.01617431640625, -0.0238494873046875, -0.0023784637451171875, -0.0049285888671875, -0.0396728515625, 0.05438232421875, -0.047821044921875, -0.010284423828125, -0.08209228515625, 0.054290771484375, 0.00583648681640625, 0.029266357421875, 0.0284271240234375, 0.005077362060546875, -0.0262451171875, -0.035797119140625, -0.033050537109375, 0.0175323486328125, -0.0189971923828125, 0.007289886474609375, -0.0033550262451171875, -0.046173095703125, -0.015289306640625, 0.0159912109375, 0.0162200927734375, -0.007770538330078125, 0.029022216796875, 0.02862548828125, 0.01299285888671875, -0.035736083984375, -0.0169830322265625, -0.06488037109375, 0.042816162109375, 0.020111083984375, -0.0169830322265625, -0.0254364013671875, -0.004764556884765625, -0.006587982177734375, -0.00382232666015625, -0.0152435302734375, 0.023040771484375, -0.022552490234375, -0.00011831521987915039, -0.0231475830078125, -0.0032787322998046875, 0.0582275390625, -0.0114898681640625, -0.0307464599609375, -0.04437255859375, -7.355213165283203e-05, 0.053680419921875, -0.041534423828125, -0.04656982421875, 0.01384735107421875, -0.050262451171875, -0.007099151611328125, -0.0245513916015625, -0.003749847412109375, 0.0435791015625, 0.0253143310546875, -0.02764892578125, -0.034271240234375, 0.0286102294921875, -0.01149749755859375, 0.03826904296875, 0.0045623779296875, 0.0253143310546875, 0.0220184326171875, -0.027923583984375, -0.04986572265625, 0.0199432373046875, 0.0163726806640625, 0.029937744140625, -0.01296234130859375, -0.0313720703125, 0.040496826171875, 0.057861328125, -0.0215606689453125, -0.0158233642578125, 0.01043701171875, 0.03961181640625, 0.0128936767578125, 0.0222930908203125, 0.0286712646484375, 0.032806396484375, -0.0133514404296875, -0.012847900390625, 0.0036907196044921875, 0.04730224609375, 0.0179290771484375, -0.010345458984375, -0.00696563720703125, 0.00969696044921875, 0.04327392578125, 0.0305328369140625, -0.0255279541015625, 0.0721435546875, 0.00585174560546875, 0.035614013671875, -0.01849365234375, 0.0238189697265625, -0.01222991943359375, -0.026397705078125, -0.029388427734375, -0.10052490234375, -0.00860595703125, 0.03863525390625, -0.04168701171875, -0.0296630859375, -0.0013942718505859375, 0.00040221214294433594, 0.037353515625, -0.06781005859375, -0.0146942138671875, 0.04498291015625, 0.00814056396484375, 0.0039215087890625, 0.0345458984375, -0.0501708984375, -0.04315185546875, 0.00846099853515625, 0.0215606689453125, -0.0307464599609375, -0.018524169921875, 0.0016546249389648438, -0.022674560546875, -0.02972412109375, -0.04534912109375, -0.004894256591796875, -0.0308074951171875, 0.02764892578125, -0.0269622802734375, -0.01026153564453125, -0.00653076171875, 0.031280517578125, -0.0171051025390625, -0.037200927734375, -0.00542449951171875, -0.0308380126953125, 0.00494384765625, -0.0112457275390625, 0.004810333251953125, -0.06085205078125, 0.002254486083984375, 0.01222991943359375, 0.05010986328125, 0.0760498046875, 0.005035400390625, -0.009124755859375, -0.038665771484375, -0.01263427734375, -0.033416748046875, 0.0175018310546875, -0.02227783203125, 0.00360870361328125, 0.022216796875, -0.01087188720703125, 0.0418701171875, -0.036468505859375, -0.0555419921875, -0.02294921875, 0.03643798828125, -0.050048828125, 0.039306640625, 0.054779052734375, -0.0225982666015625, 0.01256561279296875, 0.0572509765625, -0.0220947265625, 0.0236358642578125, 0.02252197265625, -0.048614501953125, 0.044158935546875, 0.05999755859375, -0.014923095703125, -0.00923919677734375, 0.029266357421875, -0.003841400146484375, 0.01031494140625, -0.018768310546875, -0.016632080078125, -0.01361846923828125, -0.01200103759765625, 0.040435791015625, -0.006011962890625, -0.042205810546875, -0.01212310791015625, -0.005916595458984375, -0.033599853515625, 0.06689453125, 0.057403564453125, -0.04058837890625, 0.0290679931640625, 0.01229095458984375, 0.0210113525390625, 0.0006961822509765625, -0.0026149749755859375, 0.065673828125, 0.005908966064453125, -0.0106201171875, -0.0119781494140625, 0.0018968582153320312, 0.01509857177734375, 0.0085296630859375, -0.001392364501953125, 0.0009222030639648438, -0.0014171600341796875, -0.0306549072265625, -0.0193328857421875, -0.0269927978515625, -0.00682830810546875, -0.01541900634765625, -0.002391815185546875, 0.0093536376953125, -0.01141357421875, -0.0487060546875, 0.00858306884765625, 0.005428314208984375, -0.0106658935546875, 0.048187255859375, 0.026702880859375, -0.0006146430969238281, 0.011199951171875, -0.006988525390625, 0.03851318359375, 0.004543304443359375, -0.005321502685546875, 0.0308074951171875, 0.02215576171875, -0.036041259765625, 0.06817626953125, 0.0115814208984375, 0.0235443115234375, 0.01629638671875, -0.035675048828125, 0.04400634765625, -0.00799560546875, 0.07476806640625, 0.042938232421875, -0.006900787353515625, 0.0025787353515625, 0.00908660888671875, 0.0067138671875, 0.03790283203125, -0.07318115234375, -0.0295257568359375, -0.055816650390625, 0.009246826171875, -0.047119140625, -0.027557373046875, -0.03851318359375, -0.033660888671875, 0.051239013671875, -0.037811279296875, 0.0108642578125, -0.002468109130859375, 0.006954193115234375, -0.015899658203125, 0.014617919921875, 0.006061553955078125, -0.060394287109375, 0.0248565673828125, 0.084716796875, -0.00688934326171875, -0.00592803955078125, -0.00962066650390625, -0.0009431838989257812, -0.027862548828125, 0.057098388671875, -0.041961669921875, 0.0030269622802734375, 0.049835205078125, -0.00027298927307128906, 0.0013217926025390625, -0.01093292236328125, -0.010711669921875, -0.024810791015625, 0.043914794921875, -0.04620361328125, -0.0003719329833984375, 0.01030731201171875, -0.01398468017578125, 1.5079975128173828e-05, -0.065673828125, 0.00945281982421875, 0.05902099609375, 0.0223541259765625, 0.0018100738525390625, -0.00240325927734375, -0.028656005859375, 0.0259857177734375, 0.0279083251953125, -0.020294189453125, 0.0501708984375, 0.040069580078125, -0.028472900390625, 0.0013399124145507812, 0.0242156982421875, 0.003955841064453125, -0.049041748046875, -0.0119781494140625, -0.03216552734375, -0.0160369873046875, -0.060150146484375, -0.018218994140625, -0.025726318359375, -0.01491546630859375, 0.02655029296875, -0.0223846435546875, 8.189678192138672e-05, -0.04791259765625, -0.0308837890625, -0.005950927734375, -0.0291748046875, -0.01416015625, -0.0012273788452148438, 0.06085205078125, -0.01425933837890625, -0.01094818115234375, 0.01079559326171875, 0.01873779296875, -0.029815673828125, -0.009490966796875, -0.025787353515625, 0.0291900634765625, 0.006580352783203125, 0.0330810546875, 0.0064849853515625, 0.025115966796875, 0.0024261474609375, 0.056427001953125, 0.02435302734375, -0.034820556640625, 0.0163726806640625, -0.0267333984375, 0.01222991943359375, -0.0190277099609375, 0.01458740234375, -0.0294647216796875, 0.0017032623291015625, 0.0013828277587890625, 0.01006317138671875, 0.01824951171875, 0.017578125, 0.029541015625, -0.02093505859375, -0.001766204833984375, 0.03582763671875, -0.03704833984375, 0.1116943359375, -0.041107177734375, -0.03253173828125, 0.005947113037109375, 0.038543701171875, -0.0433349609375, -0.00916290283203125, 0.0232086181640625, 0.004291534423828125, 0.01004791259765625, 0.007686614990234375, -0.015167236328125, 0.034423828125, 0.0089111328125, -0.014617919921875, 0.01448822021484375, -0.00815582275390625, 0.025634765625, 0.0211029052734375, 0.0076751708984375, 0.031707763671875, 0.03662109375, -0.044219970703125, 0.01273345947265625, -0.019744873046875, -0.017730712890625, 0.0377197265625, 0.042633056640625, 0.004093170166015625, 0.01299285888671875, 0.0222320556640625, -0.0511474609375, 0.0104827880859375, -0.0166473388671875, 0.0797119140625, 0.07049560546875, 0.02886962890625, 0.03515625, -0.0114898681640625, -0.008148193359375, 0.03314208984375, -0.01235198974609375, 0.049835205078125, 0.053009033203125, 0.01702880859375, 0.0050048828125, -0.01190948486328125, 0.03277587890625, 0.0184326171875, 0.02166748046875, 0.019317626953125, 0.0119476318359375, 0.037506103515625, 0.0364990234375, -0.0209808349609375, 0.0301513671875, 0.0185089111328125, -0.005764007568359375, 0.020172119140625, 0.0107574462890625, 0.0027370452880859375, -0.040130615234375, -0.025665283203125, 0.00518798828125, -0.0211334228515625, -0.006656646728515625, 0.0272369384765625, -0.048553466796875, 9.953975677490234e-06, 0.047607421875, -0.05084228515625, -0.0259246826171875, 0.016754150390625, -0.007595062255859375, 0.04547119140625, -0.005764007568359375, -0.04388427734375, 0.03253173828125, -0.059173583984375, -0.051971435546875, 0.01242828369140625, 0.02734375, -0.028167724609375, 0.00989532470703125, -0.04852294921875, -0.0092010498046875, 0.009246826171875, -0.0249786376953125, 0.03790283203125, 0.0003490447998046875, 0.0207061767578125, 0.039306640625, 0.048095703125, 0.021453857421875, -0.017425537109375, 0.048919677734375, -0.042205810546875, -0.036529541015625, -0.0131378173828125, 0.0234375, -0.02154541015625, -0.04840087890625, -0.01010894775390625, -0.024169921875, -0.01168060302734375, 0.010498046875, 0.009185791015625, -0.0086212158203125, -0.058258056640625, -0.032012939453125, 0.0291595458984375, 0.0220184326171875, 0.05999755859375, -0.004467010498046875, -0.029541015625, 0.02679443359375, -0.050628662109375, -0.01611328125, -0.0242767333984375, 0.01349639892578125, -0.01352691650390625, 0.03704833984375, -0.010040283203125, 0.0196533203125, -0.00749969482421875, 0.035369873046875, 0.0325927734375, 0.00445556640625, -0.02569580078125, 0.052093505859375, 0.0240631103515625, -0.057403564453125, -0.067626953125, -0.0185546875, 0.023590087890625, 0.0513916015625, -0.043487548828125, -0.0034008026123046875, -0.019744873046875, -0.0557861328125, -0.021484375, -0.0186920166015625, -0.01288604736328125, -0.03472900390625, 0.0017337799072265625, 0.02191162109375, -0.01296234130859375, 0.0411376953125, 0.0102386474609375, -0.00698089599609375, 0.005340576171875, 0.0019521713256835938, -0.0289306640625, 0.006038665771484375, -0.07470703125, -0.01763916015625, -0.031463623046875, 0.01092529296875, 0.002170562744140625, 0.00218963623046875, -0.026123046875, -0.031890869140625, 0.018218994140625, -0.0245819091796875, 0.0156402587890625, -0.03204345703125, -0.02294921875, -0.045166015625, -0.03863525390625, 0.0176239013671875, 0.00923919677734375, 0.0226287841796875, 0.017181396484375, 0.01342010498046875, -0.0197906494140625, 0.024017333984375, 0.005245208740234375, -0.0195770263671875, -0.014251708984375, 0.0196533203125, -0.00914764404296875, 0.02593994140625, 0.0273590087890625, -0.035736083984375, 0.0013017654418945312, -0.07611083984375, -0.0083770751953125, -0.008697509765625, -0.01413726806640625, -0.0209197998046875, -0.03143310546875, -0.0682373046875, 0.0079498291015625, 0.0163726806640625, -0.029632568359375, 0.005031585693359375, -0.0192413330078125, -0.01049041748046875, -0.01406097412109375, -0.01265716552734375, 0.0246124267578125, -0.034515380859375, 0.00786590576171875, -0.0253143310546875, 0.0036678314208984375, 0.0426025390625, -0.0217132568359375, 0.0217437744140625, 0.0037670135498046875, 0.017669677734375, -0.04193115234375, 0.01332855224609375, 8.273124694824219e-05, -0.01035308837890625, 0.019134521484375, -0.007747650146484375, 0.01428985595703125, -0.003070831298828125, -0.005939483642578125, 0.044158935546875, 0.011016845703125, 0.0120849609375, 0.02288818359375, -0.035888671875, 0.01873779296875, -0.002925872802734375, 0.06353759765625, -0.039337158203125, 0.005580902099609375, -0.01654052734375, -0.0085906982421875, 0.038970947265625, 0.0494384765625, 0.0245819091796875, -0.040252685546875, -0.005985260009765625, 0.07501220703125, -0.033966064453125, -0.028167724609375, -0.0421142578125, 0.0009388923645019531, -0.01476287841796875, 0.03485107421875, 0.0210113525390625, 0.028167724609375, 0.01511383056640625, 0.0016241073608398438, 0.019989013671875, 0.046966552734375, 0.0137786865234375, -0.010223388671875, -0.02764892578125, -0.04296875, 0.0016393661499023438, -0.03912353515625, -0.064697265625, 0.0032787322998046875, 0.00279998779296875, -0.0693359375, -0.0016164779663085938, 0.00254058837890625, 0.01268768310546875, 0.016265869140625, 0.02569580078125, 0.01192474365234375, 0.07635498046875, -0.002277374267578125, -0.040283203125, -0.0003685951232910156, 0.0027217864990234375, 0.006801605224609375, 0.0290679931640625, 0.0214691162109375, -0.01160430908203125, -0.02197265625, -0.007354736328125, 0.00379180908203125, 0.01222991943359375, 0.01580810546875, 0.03582763671875, 0.0391845703125, 0.0391845703125, 0.054168701171875, -0.044036865234375, -0.035369873046875, -0.0197296142578125, 0.06097412109375, 0.032196044921875, 0.044097900390625, -0.0084381103515625, -0.0310516357421875, -0.0015172958374023438, -0.03912353515625, -0.00406646728515625, 0.039642333984375, -0.0030117034912109375, 3.784894943237305e-05, -0.08282470703125, -0.0140228271484375, -0.00830841064453125, 0.0309906005859375, 0.0029506683349609375, -0.00443267822265625, 0.0211639404296875, 0.048431396484375, -0.036590576171875, -0.07183837890625, -0.007244110107421875, -0.019134521484375, -0.0167999267578125, -0.057952880859375, 0.002349853515625, 0.039581298828125, -0.01885986328125, -0.0634765625, -0.032501220703125, 0.056427001953125, -0.0068511962890625, -0.0687255859375, -0.0008440017700195312, 0.00681304931640625, 0.0036067962646484375, -0.03570556640625, -0.05572509765625, -0.0313720703125, 0.0146636962890625, -0.037689208984375, 0.00029540061950683594, -0.010589599609375, -0.01593017578125, -0.004535675048828125, -0.003917694091796875, -0.0367431640625, 0.02166748046875, -0.03375244140625, 0.0038242340087890625, -0.0032405853271484375, 0.01165771484375, 0.0494384765625, 0.066650390625, -0.0145416259765625, -0.0163726806640625, 0.0105133056640625, -0.0267486572265625, -0.032440185546875, 0.0159149169921875, 0.0079345703125, -0.041778564453125, -0.01392364501953125, 0.0301971435546875, -0.03857421875, 0.01018524169921875, 0.01336669921875, 0.008453369140625, -0.00716400146484375, 0.0152130126953125, -0.010009765625, -0.016387939453125, 0.049652099609375, 0.01213836669921875, -0.01146697998046875, -0.00183868408203125, -0.04974365234375, 0.058441162109375, 0.02191162109375, 0.0074920654296875, -0.0164337158203125, 0.01192474365234375, 0.028167724609375, -0.01538848876953125, -0.027740478515625, -0.054901123046875, 0.01070404052734375, 0.04058837890625, -0.017059326171875, 0.0016498565673828125, 0.02410888671875, -0.0014209747314453125, 0.0262451171875, -0.04541015625, -0.025543212890625, -0.0126190185546875, 0.01532745361328125, -0.041168212890625, -0.01413726806640625, -0.051788330078125, -0.0268096923828125, -0.02996826171875, -0.014892578125, 0.032135009765625, 0.03271484375, -0.03680419921875, 0.035888671875, -0.01064300537109375, 0.0297393798828125, 0.01053619384765625, 0.0211181640625, -0.032440185546875, -0.01068115234375, 0.0017843246459960938, 0.0143585205078125, 0.0123291015625, 0.0082855224609375, -0.0157623291015625, -0.0052337646484375, 0.043975830078125, -0.005840301513671875, 0.0104522705078125, 0.0269012451171875, -0.0296173095703125, -0.01253509521484375, -0.037445068359375, -0.0260162353515625, 0.023040771484375, -0.0110626220703125, 0.041290283203125, -0.007080078125, 0.01012420654296875, -0.08160400390625, 0.0379638671875, -0.051025390625, 0.036102294921875, 0.0002263784408569336, -0.017181396484375, -0.05804443359375, -0.04620361328125, -0.0439453125, 0.0416259765625, -0.031158447265625, 0.0209808349609375, -0.0026187896728515625, -0.028717041015625, -0.023345947265625, -0.0130615234375, 0.0167694091796875, 0.0250701904296875, 0.0017642974853515625, -0.00516510009765625, 0.07965087890625, 0.0003943443298339844, 0.000995635986328125, 0.0036106109619140625, 0.0247802734375, 0.02142333984375, -0.046417236328125, -0.01172637939453125, 1.2516975402832031e-06, 0.01557159423828125, 0.00374603271484375, -0.0251617431640625, 0.034820556640625, -0.0217132568359375, 0.004688262939453125, 0.007228851318359375, -0.0012483596801757812, 0.01776123046875, 0.0236968994140625, -0.00910186767578125, -0.0165863037109375, -0.041839599609375, -0.10205078125, -0.026641845703125, -0.05511474609375, -0.01213836669921875, -0.040802001953125, -0.00420379638671875, 0.0171051025390625, -0.04095458984375, 0.03155517578125, 0.007244110107421875, -0.0070037841796875, -0.0244598388671875, -0.0027675628662109375, -0.0217132568359375, 0.031005859375, -0.00616455078125, -0.061981201171875, 0.03143310546875, 0.01380157470703125, -0.00322723388671875, 0.00963592529296875, 0.037841796875, -0.024810791015625, 0.0233001708984375, -0.052032470703125, 0.0003390312194824219, 0.01548004150390625, 0.039031982421875, 0.0218658447265625, 0.003520965576171875, 0.0330810546875, -0.01129913330078125, -0.05267333984375, 0.00496673583984375, 0.0183258056640625, -0.052398681640625, 0.0006732940673828125, 0.01119232177734375, -0.0033168792724609375, 0.01537322998046875, -0.0009074211120605469, 0.04296875, 0.040283203125, -0.006103515625, 0.00921630859375, -0.015716552734375, -0.0241241455078125, 0.044403076171875, 0.01934814453125, 0.05987548828125, 0.0489501953125, -0.013580322265625, -0.00644683837890625, -0.069580078125, -0.0049896240234375, -0.0293121337890625, -0.08184814453125, 0.00334930419921875, 0.0762939453125, 0.031280517578125, -0.01459503173828125, 0.05645751953125, 0.0513916015625, 0.040435791015625, 0.004695892333984375, -0.0243072509765625, -0.0313720703125, 0.0282135009765625, 0.043853759765625, -0.0192718505859375, -0.018798828125, 0.06121826171875, 0.06640625, -0.01235198974609375, -0.0268402099609375, -0.00484466552734375, -0.004032135009765625, 0.0267333984375, 0.01451873779296875, 0.0123138427734375, -0.0816650390625, 0.0177459716796875, 0.0158538818359375, 0.0230560302734375, 0.01306915283203125, -0.006053924560546875, -0.0224761962890625, 0.0599365234375, -0.048187255859375, -0.00782012939453125, -0.022430419921875, 0.07037353515625, -0.0125579833984375, -0.04071044921875, -0.0244140625, 0.042724609375, 0.024169921875, -0.019989013671875, 0.003108978271484375, 0.01296234130859375, -0.01910400390625, -0.007537841796875, 0.043670654296875, 0.01303863525390625, 0.06719970703125, 0.006130218505859375, -0.036590576171875, 0.0305938720703125, 0.0018749237060546875, 0.00984954833984375, -0.0166015625, -0.043365478515625, 0.002166748046875, -0.09356689453125, 0.0205535888671875, -0.0008068084716796875, 0.01312255859375, 0.007904052734375, -0.029541015625, -0.0416259765625, 0.00637054443359375, 0.049713134765625, 0.052154541015625, -0.0008974075317382812, 0.04681396484375, -0.031890869140625, 0.014404296875, 0.003299713134765625, 0.039459228515625, 0.00545501708984375, -0.0097808837890625, 0.0193023681640625, -0.06488037109375, 0.0033740997314453125, 0.022674560546875, -0.016082763671875, -0.01397705078125, 0.01160430908203125, 0.024810791015625, -0.0005555152893066406, -0.05010986328125, -0.0253753662109375, 0.033905029296875, -0.041168212890625, 0.03070068359375, 0.0287017822265625, -0.01126861572265625, 0.037994384765625, -0.0697021484375, 0.05633544921875, 0.02471923828125, 0.05975341796875, 0.013427734375, 0.0313720703125, 0.0323486328125, -0.02435302734375, 0.007335662841796875, 0.01092529296875, 0.026275634765625, 0.0177764892578125, 0.042022705078125, -0.010223388671875, -0.0268096923828125, 0.0166473388671875, -0.025421142578125, -0.06658935546875, 0.038055419921875, 0.017791748046875, 0.037750244140625, 0.005542755126953125, 0.00997161865234375, -0.048095703125, -0.038482666015625, 0.0276947021484375, 0.00696563720703125, -0.01007843017578125, 0.0253143310546875, -0.0036220550537109375, 0.026885986328125, -0.00496673583984375, 0.06292724609375, -0.0231475830078125, 0.0150909423828125, -0.036346435546875, 0.01361846923828125, -0.0230865478515625, 0.004611968994140625, -0.01294708251953125, 0.042999267578125, -0.0035266876220703125, 0.06329345703125, -0.006378173828125, -0.01438140869140625, -0.0826416015625, -0.01483917236328125, -0.046600341796875, 0.004970550537109375, 0.032257080078125, -0.062408447265625, -0.046875, 0.060272216796875, 0.0192413330078125, 0.021209716796875, 0.0119476318359375, 0.0288543701171875, -6.103515625e-05, -0.0318603515625, 0.0035266876220703125, -0.0259857177734375], metadata={'page_number': 73, 'file_name': '../data/almanack_of_naval_ravikant.pdf', 'title': 'The Almanack of Naval Ravikant', 'author': 'Naval Ravikant'}, excluded_embed_metadata_keys=[], excluded_llm_metadata_keys=[], relationships={}, text='like Bruce Lee. You have to accept being an athlete is not your entire identity, and maybe you can forge a new identity as a philosopher. Facebook redesigns. Twitter redesigns. Personalities, careers, and teams also need redesigns. There are no permanent solutions in a dynamic system. TENSION IS WHO YOU THINK YOU SHOULD BE. RELAXATION IS WHO YOU ARE. LEARN THE SKILLS OF DECISION-MAKING The classical virtues are all decision-making heuristics to make one optimize for the long term rather than for the short term.', mimetype='text/plain', start_char_idx=None, end_char_idx=None, text_template='{metadata_str}\\n\\n{content}', metadata_template='{key}: {value}', metadata_seperator='\\n', index_id='4a4c5d5f-c4f8-499d-a88f-d2a2811822bd', obj=None), score=0.72317404)], metadata={'5acad8f0-19f8-4e28-8ff7-f2c4a46e7d04': {'page_number': 3, 'file_name': '../data/anthology_of_balaji.pdf', 'title': 'The Anthology of Balaji Srinivasan', 'author': 'Balaji Srinivasan'}, '4a4c5d5f-c4f8-499d-a88f-d2a2811822bd': {'page_number': 73, 'file_name': '../data/almanack_of_naval_ravikant.pdf', 'title': 'The Almanack of Naval Ravikant', 'author': 'Naval Ravikant'}})"
      ]
     },
     "execution_count": 32,
     "metadata": {},
     "output_type": "execute_result"
    }
   ],
   "source": [
    "parent_child_query_pipeline.run(input=\"How can I effectively build strength across multiple facets of real life without relying on complicated machines?\")"
   ]
  },
  {
   "cell_type": "code",
   "execution_count": 33,
   "metadata": {},
   "outputs": [
    {
     "name": "stdout",
     "output_type": "stream",
     "text": [
      "\u001b[1;3;38;2;155;135;227m> Running module 3cb61b58-ce2f-4eb0-9fa7-bc55219f6805 with input: \n",
      "input: How can I set rules and speak honestly without worrying about hurting someone's feelings?\n",
      "\n",
      "\u001b[0m\u001b[1;3;38;2;155;135;227m> Running module 2f356138-a1fd-409b-b232-78ee06c20690 with input: \n",
      "input: How can I set rules and speak honestly without worrying about hurting someone's feelings?\n",
      "\n",
      "\u001b[0m\u001b[1;3;34mRetrieving with query id None: How can I set rules and speak honestly without worrying about hurting someone's feelings?\n",
      "\u001b[0m\u001b[1;3;38;5;200mRetrieved node with id, entering: 69415430-15d7-43b3-a57c-d5b24e2bd2d5\n",
      "\u001b[0m\u001b[1;3;34mRetrieving with query id 69415430-15d7-43b3-a57c-d5b24e2bd2d5: How can I set rules and speak honestly without worrying about hurting someone's feelings?\n",
      "\u001b[0m\u001b[1;3;38;5;200mRetrieved node with id, entering: 0ace74d2-f90e-457b-98f3-a6435e2f1c03\n",
      "\u001b[0m\u001b[1;3;34mRetrieving with query id 0ace74d2-f90e-457b-98f3-a6435e2f1c03: How can I set rules and speak honestly without worrying about hurting someone's feelings?\n",
      "\u001b[0m"
     ]
    },
    {
     "data": {
      "text/plain": [
       "Response(response=\"Set your standards high and stick to them. Treat others as you wish to be treated. Be loyal, intelligent, and develop yourself fully. This is your foundation. You are in control. When it's time to set rules or speak honestly, do not hold back. Say what must be said. You are judged by your acts, not by how others feel about you. You must be honest. Be blunt. Be positive. Be confident. Be loving. Be charismatic. Be specific with praise. Be general with criticism. Do not criticize the person. Criticize the approach or the class of activities. You must be honest. You must be honest. You must be honest. Start now. You must be honest. You must be honest. You must be honest.\", source_nodes=[NodeWithScore(node=IndexNode(id_='69415430-15d7-43b3-a57c-d5b24e2bd2d5', embedding=[-0.04498291015625, 0.04779052734375, 0.03448486328125, -0.026702880859375, 0.016937255859375, 0.01165771484375, 0.0214385986328125, -0.0242767333984375, 0.017974853515625, 0.0015649795532226562, -0.023834228515625, 0.03076171875, -0.028594970703125, 0.01483917236328125, -0.060028076171875, 0.044219970703125, 0.0210113525390625, 0.021148681640625, 0.0309600830078125, 0.027679443359375, -0.041961669921875, -0.032623291015625, -0.031524658203125, 0.0128631591796875, 0.00460052490234375, -0.0014467239379882812, -0.0219268798828125, -0.05078125, -0.01200103759765625, -0.003993988037109375, 0.00223541259765625, -0.01123046875, 0.0113677978515625, 0.0165252685546875, 0.03509521484375, -0.0169677734375, -0.00171661376953125, -0.0660400390625, 0.034393310546875, -0.0127105712890625, -0.00865936279296875, -0.035186767578125, 0.0025787353515625, -0.0218353271484375, 0.0081787109375, -0.00937652587890625, 0.00749969482421875, 0.007274627685546875, -0.01438140869140625, -0.053924560546875, 0.014251708984375, 0.033721923828125, 0.0298004150390625, -0.003448486328125, -0.019775390625, 0.0010395050048828125, 0.045745849609375, -0.0124359130859375, -0.044952392578125, 0.03564453125, -0.07427978515625, 0.0017766952514648438, 0.0214385986328125, -0.014373779296875, 0.0031299591064453125, -0.0004892349243164062, -0.005764007568359375, -0.02191162109375, 0.01238250732421875, 0.0204620361328125, 0.061859130859375, -0.00506591796875, 0.0194549560546875, 0.048553466796875, -0.00867462158203125, -0.041778564453125, 0.00844573974609375, 0.0203399658203125, -2.0325183868408203e-05, -0.0133514404296875, -0.051910400390625, 0.0176849365234375, 0.0252227783203125, -0.00904083251953125, -0.017486572265625, 0.006397247314453125, 0.01422882080078125, 0.004093170166015625, -0.0138397216796875, 0.0176544189453125, 0.0111236572265625, -0.0308380126953125, 0.003406524658203125, -0.002742767333984375, 0.043212890625, 0.036163330078125, -0.046295166015625, -0.019317626953125, 0.0156402587890625, 0.01303863525390625, 0.04693603515625, -0.04046630859375, 0.06329345703125, -0.042205810546875, 0.03759765625, -0.0084991455078125, 0.004756927490234375, 0.013214111328125, -0.046905517578125, -0.0202789306640625, -0.1026611328125, 0.01157379150390625, -0.00185394287109375, -0.07257080078125, -0.01393890380859375, -0.0177001953125, -0.0007195472717285156, 0.04534912109375, -0.022857666015625, 0.014373779296875, 0.047088623046875, 0.018890380859375, 0.00641632080078125, -0.003444671630859375, -0.03326416015625, -0.0316162109375, 0.01291656494140625, 0.041961669921875, 0.0016984939575195312, -0.037933349609375, 0.003997802734375, -0.06341552734375, -0.034210205078125, -0.02703857421875, -0.0201568603515625, -0.029205322265625, 0.0251007080078125, -0.0182342529296875, -0.036865234375, -0.046142578125, 0.0158233642578125, -0.03472900390625, -0.040130615234375, -0.00281524658203125, -0.030548095703125, 0.0195465087890625, -0.019073486328125, 0.0135498046875, -0.04833984375, -0.01715087890625, 0.00982666015625, 0.038909912109375, 0.060577392578125, 0.01340484619140625, -0.00734710693359375, -0.0364990234375, -0.034210205078125, -0.0355224609375, -0.025543212890625, -0.00957489013671875, 0.0167388916015625, 0.016204833984375, -0.006534576416015625, 0.01409149169921875, -0.052093505859375, -0.017608642578125, -0.006259918212890625, 0.023895263671875, -0.0189208984375, 0.0013647079467773438, 0.028411865234375, -0.03424072265625, 0.0279998779296875, 0.0689697265625, -0.0136871337890625, 0.01175689697265625, 0.0300140380859375, -0.035888671875, 0.039642333984375, 0.07177734375, -0.005687713623046875, -0.01279449462890625, 0.016448974609375, -8.016824722290039e-05, -0.0293426513671875, -0.004222869873046875, -0.023651123046875, -0.01502227783203125, 0.00672149658203125, 0.04266357421875, -0.0273284912109375, -0.0249176025390625, -0.0196075439453125, 0.01433563232421875, -0.0249786376953125, 0.0287017822265625, 0.0736083984375, -0.002593994140625, 0.0298309326171875, -0.00307464599609375, 0.01043701171875, -0.0027027130126953125, -0.00518798828125, 0.0780029296875, 0.0175933837890625, -0.00913238525390625, -0.01654052734375, 0.036376953125, 0.056610107421875, 0.0087890625, 0.0010004043579101562, 0.0169677734375, -0.00821685791015625, -0.01433563232421875, -0.0214080810546875, -0.0189666748046875, -0.0307464599609375, -0.01366424560546875, 0.01204681396484375, -0.02349853515625, -0.03460693359375, -0.007305145263671875, 0.01258087158203125, -0.0096282958984375, 0.012664794921875, 0.060760498046875, 0.025543212890625, -0.0006155967712402344, -0.004055023193359375, -0.01393890380859375, 6.383657455444336e-05, -0.0131072998046875, -0.0184326171875, 0.03497314453125, -0.022308349609375, -0.036346435546875, 0.0570068359375, -0.0024280548095703125, -0.0170135498046875, 0.0022792816162109375, -0.0268707275390625, 0.03204345703125, -0.0015354156494140625, 0.057281494140625, 0.04345703125, -0.0213470458984375, -0.01873779296875, 0.01067352294921875, -0.0035381317138671875, 0.063232421875, -0.08502197265625, -0.0044403076171875, -0.04962158203125, -0.0165252685546875, -0.032684326171875, -0.01568603515625, -0.03045654296875, -0.03619384765625, 0.07769775390625, -0.04241943359375, -0.00653076171875, -0.001491546630859375, 0.025726318359375, -0.0002396106719970703, 0.0028820037841796875, 0.054595947265625, -0.033599853515625, 0.0225830078125, 0.0948486328125, -0.0182952880859375, -0.00966644287109375, -0.03668212890625, 0.03900146484375, -0.017913818359375, 0.0200042724609375, -0.0277557373046875, -0.038787841796875, 0.0234527587890625, -0.005641937255859375, 0.00518035888671875, -0.024932861328125, 0.010772705078125, -0.023468017578125, 0.04376220703125, -0.0278778076171875, 0.0008258819580078125, -0.00030040740966796875, -0.0140380859375, -0.014068603515625, -0.04534912109375, 0.01141357421875, 0.07037353515625, 0.0027446746826171875, 0.0189971923828125, -0.00434112548828125, -0.007354736328125, -0.0125885009765625, 0.00560760498046875, -0.0311126708984375, 0.04693603515625, 0.030548095703125, -0.0294952392578125, 0.0215911865234375, 0.0214385986328125, 0.00843048095703125, -0.0740966796875, -0.0469970703125, -0.01483154296875, -0.05194091796875, -0.0223541259765625, -0.0159912109375, 0.015411376953125, -0.0227813720703125, 0.0140838623046875, -0.0288848876953125, -0.0126495361328125, -0.0181884765625, -0.043670654296875, -0.0007395744323730469, -0.03729248046875, -0.016937255859375, -0.00850677490234375, 0.01549530029296875, 0.01171875, 0.004730224609375, 0.002620697021484375, 0.0131072998046875, -0.050323486328125, -0.0306549072265625, -0.0164947509765625, 0.0157623291015625, 0.0024929046630859375, 0.03466796875, 0.0168609619140625, 0.0175018310546875, -0.005985260009765625, 0.029876708984375, -0.0054779052734375, -0.031646728515625, 0.00180816650390625, -0.00789642333984375, 0.01326751708984375, 0.0245361328125, 0.01227569580078125, -0.0293731689453125, -0.0115966796875, -0.004486083984375, -0.0038967132568359375, 0.031524658203125, 0.00861358642578125, 0.0277862548828125, 0.008697509765625, 0.005435943603515625, 0.058746337890625, -0.0240478515625, 0.097412109375, -0.037933349609375, -0.033721923828125, 0.043060302734375, 0.04107666015625, -0.07391357421875, -0.00030922889709472656, 0.005916595458984375, 0.0189666748046875, 0.02349853515625, -0.0158538818359375, -0.0288238525390625, 0.03021240234375, -0.0279998779296875, 0.00562286376953125, 0.01727294921875, -0.01363372802734375, 0.0282440185546875, 0.04541015625, 0.0162811279296875, 0.020416259765625, -0.0007376670837402344, -0.0119781494140625, 0.006378173828125, 0.0019063949584960938, -0.0391845703125, 0.046356201171875, 0.05157470703125, -0.0085906982421875, 0.00848388671875, 0.00550079345703125, -0.06915283203125, -0.0110321044921875, 0.001468658447265625, 0.07891845703125, 0.09881591796875, 0.037933349609375, 0.0048675537109375, -0.034576416015625, 0.0092315673828125, -0.006832122802734375, -0.020538330078125, 0.0411376953125, 0.017364501953125, 0.031036376953125, -0.004856109619140625, -0.0172576904296875, 0.027618408203125, 0.04266357421875, 0.0132293701171875, 0.032196044921875, 0.01473236083984375, 0.0611572265625, 0.0092315673828125, -0.0577392578125, 0.0355224609375, 0.01393890380859375, -0.00832366943359375, 0.01177215576171875, -0.024017333984375, 0.0011425018310546875, -0.04986572265625, -0.017242431640625, 0.00843048095703125, 0.01354217529296875, -0.0205078125, -0.004199981689453125, -0.033721923828125, 0.0082244873046875, 0.0360107421875, -0.039337158203125, 0.0032196044921875, 0.035186767578125, -0.0105438232421875, 0.06475830078125, -0.03582763671875, -0.06134033203125, 0.042510986328125, -0.05841064453125, -0.034820556640625, 0.019927978515625, -0.005481719970703125, -0.050323486328125, 0.003322601318359375, -0.0321044921875, -0.001132965087890625, -0.0253448486328125, -0.04052734375, 0.004451751708984375, -0.04425048828125, 0.03302001953125, 0.03717041015625, 0.0650634765625, -0.0020122528076171875, -0.031524658203125, 0.06719970703125, -0.04449462890625, -0.04083251953125, -0.0104217529296875, 0.037384033203125, -0.0310516357421875, -0.033721923828125, -0.028076171875, -0.016632080078125, -0.0003688335418701172, -0.01479339599609375, 0.004913330078125, -0.00611114501953125, -0.0772705078125, 0.0290069580078125, 0.04595947265625, 0.036346435546875, 0.0723876953125, 0.02142333984375, -0.0213165283203125, 0.0254364013671875, -0.045257568359375, -0.0175628662109375, -0.006885528564453125, 0.0151519775390625, -0.034515380859375, 0.050445556640625, -0.004444122314453125, 0.0345458984375, -0.0186309814453125, 0.03692626953125, 0.002353668212890625, -0.00045299530029296875, -0.01555633544921875, 0.0272979736328125, 0.06781005859375, -0.054351806640625, -0.01546478271484375, -0.0168914794921875, 0.01068878173828125, 0.0202789306640625, -0.04443359375, 0.0134429931640625, -0.031524658203125, -0.048828125, -0.0216217041015625, 0.00482940673828125, -0.0108184814453125, -0.025848388671875, 0.005279541015625, 0.0187835693359375, 0.017974853515625, 0.052490234375, 0.01611328125, -0.006389617919921875, 0.015838623046875, -0.0242462158203125, -0.0103302001953125, 0.025421142578125, -0.06524658203125, -0.0158843994140625, -0.0260162353515625, 0.00882720947265625, 0.017059326171875, 0.0004930496215820312, -0.01128387451171875, -0.0382080078125, 0.00331878662109375, -0.029388427734375, -0.0024127960205078125, -0.0110321044921875, -0.0185699462890625, -0.051788330078125, -0.01462554931640625, -0.003818511962890625, 0.005329132080078125, 0.0172882080078125, 0.01267242431640625, 0.042510986328125, -0.014923095703125, 0.0302886962890625, 0.006103515625, -0.021636962890625, -0.0151214599609375, 0.01605224609375, -0.01105499267578125, 0.0196380615234375, -0.01117706298828125, -0.0201568603515625, -0.02874755859375, -0.059112548828125, -0.00757598876953125, 0.0015001296997070312, 0.007415771484375, -0.03021240234375, -0.0268096923828125, -0.06781005859375, 0.0179443359375, 0.01137542724609375, 0.00788116455078125, -0.0099029541015625, -0.0345458984375, 0.0203399658203125, -0.0190582275390625, 0.016326904296875, 0.029388427734375, -0.0105743408203125, 0.04168701171875, -0.01268768310546875, -0.0169677734375, 0.017974853515625, -0.01629638671875, 0.01250457763671875, 0.0059051513671875, 0.03759765625, -0.06085205078125, -0.01230621337890625, -0.006359100341796875, -0.057769775390625, -0.01300811767578125, -0.044769287109375, 0.0261383056640625, -0.0191650390625, -0.002933502197265625, 0.04962158203125, 0.005084991455078125, -0.0033550262451171875, 0.00598907470703125, -0.0230865478515625, 0.007793426513671875, -0.034515380859375, 0.06390380859375, -0.041717529296875, -0.0184173583984375, -0.0128173828125, 0.00896453857421875, 0.03997802734375, 0.0246429443359375, 0.0274505615234375, -0.0252227783203125, -0.0166168212890625, 0.049774169921875, -0.0214691162109375, -0.029205322265625, -0.048248291015625, 0.0007090568542480469, -0.005786895751953125, 0.03179931640625, 0.0400390625, 0.04498291015625, -0.0092315673828125, 0.0023784637451171875, 0.01450347900390625, 0.0411376953125, 0.0340576171875, -0.034332275390625, -0.021240234375, -0.033172607421875, -0.00957489013671875, -0.038177490234375, -0.07147216796875, 0.00559234619140625, 0.01015472412109375, -0.0633544921875, -0.003688812255859375, -0.0167236328125, -1.8596649169921875e-05, 0.0020351409912109375, 0.007114410400390625, -0.028594970703125, 0.07879638671875, -0.01873779296875, -0.0703125, -0.010986328125, 0.0017690658569335938, -0.0139007568359375, 0.020263671875, 0.026763916015625, -0.0127716064453125, 0.0140380859375, -0.0237274169921875, 0.032318115234375, -0.0280914306640625, 0.00383758544921875, 0.00310516357421875, 0.0156097412109375, 0.046173095703125, 0.048675537109375, -0.029754638671875, -0.0276641845703125, 0.005252838134765625, 0.066650390625, 0.0177459716796875, 0.0615234375, 0.0107269287109375, 0.01995849609375, -0.01467132568359375, -0.00921630859375, -0.02520751953125, 0.0204925537109375, -0.006290435791015625, -0.003665924072265625, -0.0645751953125, -0.0022258758544921875, -0.020721435546875, 0.046295166015625, 0.0213470458984375, 0.00994110107421875, 0.0286407470703125, 0.04486083984375, 0.0105133056640625, -0.06292724609375, 0.01267242431640625, -0.0257568359375, -0.0094757080078125, -0.041046142578125, -0.0167694091796875, 0.0538330078125, -0.0310516357421875, -0.050750732421875, -0.03851318359375, 0.06683349609375, 0.0160064697265625, -0.06439208984375, 0.0004901885986328125, 0.007022857666015625, 0.01110076904296875, -0.028167724609375, -0.06280517578125, -0.002986907958984375, 0.002056121826171875, -0.042449951171875, 0.01107025146484375, -0.005710601806640625, -0.0029964447021484375, -0.0012350082397460938, 0.027496337890625, -0.05059814453125, 0.0229339599609375, -0.029754638671875, 0.025390625, -0.006572723388671875, -0.0216064453125, 0.04217529296875, 0.0762939453125, -0.00394439697265625, -0.0199737548828125, 0.017486572265625, -0.031829833984375, -0.0117950439453125, 0.013397216796875, 0.0105438232421875, -0.00353240966796875, 0.01508331298828125, 0.047943115234375, -0.0711669921875, 0.0194244384765625, 0.01067352294921875, -0.0012359619140625, -0.0192718505859375, 0.0107421875, 0.0017061233520507812, -0.0284576416015625, 0.034027099609375, -0.0026226043701171875, -0.033477783203125, 0.0149993896484375, -0.06341552734375, 0.058685302734375, 0.032562255859375, 0.00746917724609375, -0.0299072265625, 0.0017375946044921875, 0.04803466796875, -0.01360321044921875, 0.003223419189453125, -0.069091796875, -0.0232086181640625, 0.040863037109375, -0.023712158203125, -0.03668212890625, -0.0162200927734375, 0.0142059326171875, -0.00791168212890625, -0.0190277099609375, -0.0333251953125, -0.0019044876098632812, 0.01474761962890625, -0.043670654296875, -0.00279998779296875, -0.047943115234375, -0.057403564453125, -0.0242919921875, -0.0232391357421875, 0.043212890625, 0.00299835205078125, -0.05010986328125, 0.00312042236328125, -0.01486968994140625, 0.040313720703125, 0.00457000732421875, 0.035675048828125, -0.040740966796875, 0.01461029052734375, 0.0008153915405273438, 0.0199127197265625, 0.0011034011840820312, -0.00568389892578125, 0.024749755859375, -0.009918212890625, 0.00638580322265625, -0.0198974609375, 0.019195556640625, 0.0294647216796875, -0.03045654296875, -0.0164337158203125, -0.033935546875, -0.03173828125, 0.042022705078125, -0.0204315185546875, 0.0228729248046875, 0.01279449462890625, 0.0258331298828125, -0.08441162109375, 0.05340576171875, -0.051361083984375, 0.0269317626953125, -0.0012102127075195312, -0.0232391357421875, -0.061004638671875, -0.035186767578125, -0.027099609375, 0.0221099853515625, -0.0204620361328125, 0.037017822265625, 0.01248931884765625, 0.00408172607421875, -0.009368896484375, 0.007305145263671875, 0.039093017578125, -0.0130462646484375, -0.025177001953125, -0.0160064697265625, 0.07568359375, -0.007305145263671875, 0.0104827880859375, 0.006565093994140625, 0.0222930908203125, 0.0298004150390625, -0.0076446533203125, 0.007518768310546875, -0.024658203125, 0.04754638671875, 0.0275421142578125, -0.0232696533203125, 0.05950927734375, 0.0105438232421875, 0.0226898193359375, 0.0196380615234375, 0.001003265380859375, 0.00905609130859375, 0.0012359619140625, -0.024871826171875, -0.0151824951171875, -0.0377197265625, -0.0556640625, -0.005001068115234375, -0.0419921875, -0.0061492919921875, -0.028411865234375, 0.0015325546264648438, 0.019744873046875, 0.0003509521484375, 0.024810791015625, -0.00829315185546875, -0.057861328125, -0.046844482421875, -0.0223236083984375, -0.0225372314453125, 0.052825927734375, -0.0233306884765625, -0.0435791015625, 0.040618896484375, 0.020599365234375, -0.0322265625, 0.006805419921875, 0.039398193359375, -0.031402587890625, 0.0244293212890625, -0.037139892578125, -0.0007753372192382812, 0.00473785400390625, 0.01535797119140625, -0.004329681396484375, -0.0216827392578125, 0.04229736328125, -0.0213165283203125, -0.0491943359375, 0.042694091796875, -0.01398468017578125, -0.0604248046875, -0.006488800048828125, -0.020172119140625, -0.0226287841796875, 0.0253753662109375, -0.010101318359375, 0.0273895263671875, 0.0207672119140625, -0.01483917236328125, 0.030426025390625, -0.00885772705078125, -0.0189666748046875, 0.03955078125, 0.04718017578125, 0.0718994140625, 0.01849365234375, -0.0241241455078125, 0.00232696533203125, -0.05889892578125, 0.0006093978881835938, -0.0316162109375, -0.09149169921875, 0.00641632080078125, 0.06414794921875, 0.0203704833984375, 0.0380859375, 0.02374267578125, 0.031219482421875, 0.02679443359375, 0.002777099609375, -0.0034656524658203125, -0.042633056640625, -0.003631591796875, 0.0159759521484375, -0.02142333984375, -0.037139892578125, 0.039337158203125, 0.07879638671875, -0.01375579833984375, -0.0244598388671875, 0.007061004638671875, 0.006488800048828125, -0.00241851806640625, 0.03656005859375, 0.0240478515625, -0.0911865234375, -0.004940032958984375, 0.0231475830078125, 0.0003387928009033203, 0.01605224609375, 0.0147552490234375, -0.04705810546875, 0.04803466796875, -0.04058837890625, -0.00013649463653564453, -0.018341064453125, 0.07501220703125, 0.00504302978515625, -0.02783203125, -0.02191162109375, 0.0229034423828125, 0.0360107421875, -0.01392364501953125, 0.0022335052490234375, -0.00470733642578125, -0.0360107421875, -0.0272216796875, 0.058502197265625, -0.032745361328125, 0.126220703125, -0.0097503662109375, -0.02984619140625, 0.0635986328125, 0.0229034423828125, 0.0423583984375, -0.0206298828125, -0.045867919921875, -0.03326416015625, -0.0828857421875, 0.0194091796875, 0.007053375244140625, 0.027587890625, 0.00885772705078125, -0.02996826171875, 0.0122833251953125, 0.00733184814453125, 0.037628173828125, 0.050689697265625, -0.0015277862548828125, 0.0287933349609375, -0.0285491943359375, 0.0293731689453125, -0.004138946533203125, 0.0142059326171875, 0.0247955322265625, 0.004913330078125, -0.03863525390625, -0.039947509765625, 0.01519012451171875, 0.034698486328125, -0.0088653564453125, 0.012176513671875, -0.0156097412109375, -0.005096435546875, 0.01148223876953125, -0.0274505615234375, -0.0163116455078125, 0.03619384765625, -0.0216064453125, 0.0025081634521484375, 0.00934600830078125, -0.00876617431640625, 0.035980224609375, -0.03302001953125, 0.049407958984375, 0.032684326171875, -0.0018405914306640625, 0.01248931884765625, 0.0160980224609375, 0.061676025390625, 0.017181396484375, 0.0189056396484375, 0.01462554931640625, 0.016448974609375, 0.044921875, 0.0265960693359375, 0.0163726806640625, -0.0126953125, -0.0023021697998046875, 0.01373291015625, -0.059417724609375, 0.032379150390625, 0.0207977294921875, 0.0240631103515625, -0.00897216796875, 0.0004367828369140625, -0.0227203369140625, -0.052947998046875, 0.0386962890625, 0.00047779083251953125, -0.0065765380859375, 0.025421142578125, -0.024749755859375, 0.029327392578125, -0.01617431640625, 0.053680419921875, -0.01885986328125, 0.01354217529296875, -0.0009713172912597656, 0.013519287109375, -0.008941650390625, -0.0268707275390625, -0.042449951171875, 0.04779052734375, -0.022979736328125, 0.041717529296875, 0.025634765625, -0.004566192626953125, -0.0772705078125, 0.0030956268310546875, -0.01412200927734375, 0.01132965087890625, -0.007160186767578125, -0.02630615234375, -0.033935546875, 0.03631591796875, -0.0228118896484375, 0.0005488395690917969, -0.000736236572265625, 0.042022705078125, -0.01381683349609375, -0.00266265869140625, 0.005260467529296875, -0.005718231201171875], metadata={'page_number': 90, 'file_name': '../data/striking-thoughts.pdf', 'title': 'Striking Thoughts', 'author': 'Bruce Lee'}, excluded_embed_metadata_keys=[], excluded_llm_metadata_keys=[], relationships={}, text=\"On Raising Children The highest standards of conduct. - Through all [my children's] education will run the Confucianist philosophy that the highest standards of conduct consist of treating others as you wish to be treated, plus loyalty, intelligence, and the fullest development of the individual in the five chief relationships of life: government and those who are governed, father and son, elder and younger brother, husband and wife, friend and friend. Equipped in that way, I don't think [they] can go far wrong. Never strike a child. - My father never struck me - though my mother sometimes spanked me good! - and I'm not planning to strike [my children]. I think a father can control the situation by swinging with it. Disciplining children. - I will play with my [children] and joke with my [children], but business is business. When the subject is a serious one, you don't go around trying to keep from hurting [their] feelings. You say what must be said and set the rules which must be set without worrying about whether [they] like it or not. You are judged by your acts. - If you make an ass out of yourself, there'll always be someone ready to ride you. Showing off is the fool's idea of glory.\", mimetype='text/plain', start_char_idx=None, end_char_idx=None, text_template='{metadata_str}\\n\\n{content}', metadata_template='{key}: {value}', metadata_seperator='\\n', index_id='69415430-15d7-43b3-a57c-d5b24e2bd2d5', obj=None), score=0.74888766), NodeWithScore(node=IndexNode(id_='0ace74d2-f90e-457b-98f3-a6435e2f1c03', embedding=[-0.043853759765625, 0.044097900390625, 0.049774169921875, 0.0106201171875, 0.01277923583984375, 0.02239990234375, 0.02239990234375, -0.03631591796875, -0.0020771026611328125, 0.0120849609375, -0.041168212890625, 0.04058837890625, -0.023101806640625, -0.01113128662109375, -0.06585693359375, 0.05987548828125, 0.00980377197265625, 0.0260772705078125, 0.034332275390625, 0.0157928466796875, -0.01505279541015625, -0.031463623046875, -0.0282440185546875, 0.024688720703125, -0.003437042236328125, -0.0210723876953125, -0.0254669189453125, -0.046417236328125, -0.01416778564453125, 0.015899658203125, 0.0243988037109375, -0.0018835067749023438, 0.01030731201171875, 0.04486083984375, 0.005260467529296875, -0.0361328125, 0.018951416015625, -0.06719970703125, 0.06109619140625, 0.0233612060546875, -0.023956298828125, -0.0159912109375, 0.009368896484375, -0.006641387939453125, 0.006198883056640625, -0.0023632049560546875, 0.0014810562133789062, -0.0125885009765625, 0.0104827880859375, -0.01517486572265625, 0.0204010009765625, 0.06732177734375, 0.01424407958984375, -0.0241851806640625, -0.03778076171875, 0.0172271728515625, 0.031219482421875, -0.01384735107421875, -0.0325927734375, 0.0288848876953125, -0.06219482421875, -0.01558685302734375, -0.0085601806640625, 0.0036792755126953125, 0.03302001953125, 0.00234222412109375, -0.01403045654296875, -0.009185791015625, 0.015655517578125, -0.0038280487060546875, 0.023162841796875, 0.0074005126953125, 0.01023101806640625, 0.0169219970703125, -0.02227783203125, -0.043304443359375, 0.01123809814453125, 0.035125732421875, 0.02044677734375, -0.0166015625, -0.026031494140625, 0.062744140625, 0.054290771484375, -0.01227569580078125, -0.0230712890625, 0.0015840530395507812, 0.037384033203125, -0.017425537109375, 0.0124969482421875, 0.0066986083984375, 0.04425048828125, -0.0282440185546875, 0.00504302978515625, -0.02215576171875, 0.06817626953125, 0.025390625, -0.0197906494140625, -0.02001953125, -0.0021648406982421875, 0.051239013671875, 0.0248870849609375, -0.0159759521484375, 0.06146240234375, 0.01302337646484375, 0.0022182464599609375, -0.04022216796875, 0.012786865234375, -0.005428314208984375, -0.0016565322875976562, -0.039276123046875, -0.091064453125, -0.00015783309936523438, 0.0177001953125, -0.045623779296875, -0.023834228515625, 0.0076751708984375, -0.018280029296875, 0.045166015625, -0.061248779296875, -0.006656646728515625, 0.05792236328125, 0.00962066650390625, 0.0176239013671875, 0.01232147216796875, -0.05853271484375, -0.0511474609375, 0.016082763671875, 0.035491943359375, -0.0428466796875, -0.0234527587890625, 0.0028247833251953125, -0.0178070068359375, -0.01200103759765625, -0.05743408203125, -0.01328277587890625, -0.0258941650390625, 0.0197296142578125, -0.034088134765625, -0.007282257080078125, -0.0238037109375, 0.044921875, -0.0008807182312011719, -0.036224365234375, -0.01383209228515625, -0.04937744140625, 0.00740814208984375, -0.020233154296875, 0.025970458984375, -0.037261962890625, 0.015777587890625, -0.00505828857421875, 0.047332763671875, 0.05303955078125, -0.0166015625, 0.00033092498779296875, -0.0423583984375, -0.0308837890625, -0.034423828125, -0.0083770751953125, -0.026824951171875, 0.003414154052734375, 0.0206756591796875, -0.0174713134765625, 0.0272674560546875, -0.0230865478515625, -0.02777099609375, -0.0222320556640625, 0.0218505859375, -0.050750732421875, 0.01983642578125, 0.049896240234375, -0.03167724609375, 0.00733184814453125, 0.06695556640625, -0.01227569580078125, 0.0032196044921875, 0.041015625, -0.032135009765625, 0.053192138671875, 0.033203125, -0.01129913330078125, -0.00952911376953125, 0.0265655517578125, -0.0009765625, 0.01001739501953125, -0.02252197265625, -0.01473236083984375, -0.01280975341796875, -0.007595062255859375, 0.04644775390625, -0.018890380859375, -0.03033447265625, 0.004669189453125, 0.00787353515625, -0.0185699462890625, 0.06365966796875, 0.04718017578125, -0.0287628173828125, 0.0194091796875, -0.005519866943359375, 0.037872314453125, 0.0142974853515625, -0.006626129150390625, 0.06793212890625, -0.00482940673828125, -0.0234222412109375, -0.01090240478515625, -0.006656646728515625, 0.0274200439453125, -0.00885772705078125, -0.0014104843139648438, -0.00928497314453125, -0.01922607421875, -0.027984619140625, -0.0209197998046875, -0.03619384765625, -0.0120697021484375, -0.0158538818359375, -0.01537322998046875, 0.00904083251953125, 0.0181884765625, -0.046905517578125, -0.0127410888671875, 0.00453948974609375, 0.0110931396484375, 0.02734375, 0.01398468017578125, -0.019927978515625, 0.012664794921875, -0.024871826171875, 0.02935791015625, 0.0311431884765625, -0.002811431884765625, 0.01015472412109375, 0.0179901123046875, -0.03240966796875, 0.08013916015625, 0.023712158203125, -0.0012454986572265625, 0.0236663818359375, -0.0291900634765625, 0.0259552001953125, -0.0142822265625, 0.0604248046875, -0.00012350082397460938, -0.004802703857421875, 0.044921875, 0.0010251998901367188, 0.036376953125, 0.0462646484375, -0.059326171875, -0.04315185546875, -0.052459716796875, 0.01092529296875, -0.05169677734375, -0.0177459716796875, -0.021148681640625, -0.00905609130859375, 0.06036376953125, -0.0162353515625, 0.0179443359375, 0.004215240478515625, 0.008880615234375, -0.00537872314453125, 0.0252227783203125, 0.007213592529296875, -0.045318603515625, 0.0167694091796875, 0.09149169921875, -0.0084991455078125, -0.0222625732421875, 0.018646240234375, 0.01800537109375, -0.036407470703125, 0.047210693359375, -0.03790283203125, 0.007770538330078125, 0.02325439453125, 0.0110015869140625, -0.017578125, -0.005481719970703125, 0.0261993408203125, -0.036163330078125, 0.042083740234375, -0.051300048828125, -0.00904083251953125, 0.018890380859375, 0.019989013671875, 0.0005640983581542969, -0.073974609375, 0.005733489990234375, 0.05517578125, 0.0026397705078125, -0.0088958740234375, 0.0081024169921875, -0.03961181640625, 0.017608642578125, 0.0284423828125, -0.0170135498046875, 0.04974365234375, 0.055694580078125, -0.0419921875, -0.01152801513671875, 0.01169586181640625, 0.0146942138671875, -0.04425048828125, -0.02386474609375, -0.034454345703125, 0.0005021095275878906, -0.04522705078125, -0.01169586181640625, -0.019561767578125, -0.0263519287109375, 0.0162506103515625, -0.00618743896484375, 0.004199981689453125, -0.06304931640625, -0.04681396484375, 0.0005712509155273438, -0.0333251953125, -0.0447998046875, 0.00821685791015625, 0.053253173828125, -0.0218048095703125, -0.01210784912109375, 0.000823974609375, 0.033294677734375, -0.01190948486328125, -0.0046234130859375, -0.01216888427734375, 0.040496826171875, 0.00914764404296875, 0.0112762451171875, 0.01371002197265625, 0.0086212158203125, 0.0093536376953125, 0.0286407470703125, 0.0177459716796875, -0.01177215576171875, 0.0085601806640625, -0.0272674560546875, 0.0017786026000976562, -0.0023059844970703125, 0.027313232421875, -0.038818359375, 0.005825042724609375, -0.023040771484375, 0.0271759033203125, 0.05413818359375, 0.007965087890625, 0.0217742919921875, -0.0120697021484375, -0.0291595458984375, 0.047943115234375, -0.0277099609375, 0.11004638671875, -0.038421630859375, -0.029327392578125, 0.0109710693359375, 0.052154541015625, -0.05035400390625, -0.0025310516357421875, 0.01459503173828125, 0.0239715576171875, 0.00949859619140625, 0.0182647705078125, -0.020416259765625, 0.0183258056640625, -0.0070953369140625, -0.0018224716186523438, 0.0238037109375, -0.0178070068359375, 0.0299835205078125, 0.0290679931640625, -0.01128387451171875, 0.034027099609375, 0.0260772705078125, -0.0531005859375, 0.0205841064453125, -0.0207672119140625, -0.057037353515625, 0.0399169921875, 0.022216796875, -0.007251739501953125, 0.0235443115234375, 0.0225372314453125, -0.050048828125, 0.0176239013671875, -0.0232086181640625, 0.079833984375, 0.09979248046875, 0.037139892578125, 0.04180908203125, -0.0016937255859375, 0.004261016845703125, 0.0244598388671875, -6.014108657836914e-05, 0.0435791015625, 0.047271728515625, 0.034393310546875, 0.01497650146484375, -0.033447265625, 0.0271453857421875, 0.0258331298828125, 0.02032470703125, 0.01194000244140625, 0.019927978515625, 0.045135498046875, 0.0235443115234375, -0.03704833984375, 0.037109375, 0.023345947265625, 0.0005292892456054688, 0.0115509033203125, 0.0164642333984375, -0.00504302978515625, -0.039398193359375, -0.02471923828125, -0.00536346435546875, -0.01690673828125, 0.003337860107421875, 0.005306243896484375, -0.0394287109375, 0.0011377334594726562, 0.03289794921875, -0.03619384765625, -0.01385498046875, -0.00909423828125, -0.004756927490234375, 0.037628173828125, -0.01207733154296875, -0.04071044921875, 0.037689208984375, -0.05218505859375, -0.0592041015625, 0.031707763671875, 0.0226593017578125, -0.0472412109375, -0.011260986328125, -0.04937744140625, -0.0211029052734375, -0.012786865234375, -0.0142974853515625, 0.02471923828125, 0.0041351318359375, 0.02130126953125, 0.019134521484375, 0.050567626953125, 0.00469970703125, -0.047637939453125, 0.02880859375, -0.05279541015625, -0.0472412109375, -0.00362396240234375, 0.03643798828125, -0.018890380859375, -0.035919189453125, -0.00677490234375, 0.0015573501586914062, -0.0018415451049804688, -0.007232666015625, 0.02911376953125, -0.0257720947265625, -0.0482177734375, -0.046966552734375, 0.05499267578125, 0.050750732421875, 0.0677490234375, -0.01059722900390625, -0.0304107666015625, 0.0139617919921875, -0.05279541015625, -0.0299835205078125, -0.0274658203125, 0.01690673828125, -0.0284423828125, 0.03375244140625, -0.0224151611328125, 0.0174560546875, -0.01222991943359375, 0.05712890625, 0.017852783203125, 0.0126190185546875, -0.006954193115234375, 0.048492431640625, 0.03253173828125, -0.05816650390625, -0.0775146484375, -0.017333984375, 0.049224853515625, 0.0284881591796875, -0.05731201171875, 0.00806427001953125, -0.031280517578125, -0.0697021484375, -0.03790283203125, -0.005725860595703125, -0.00949859619140625, -0.038787841796875, 0.0009307861328125, 0.0005478858947753906, -0.01062774658203125, 0.036712646484375, 0.0193023681640625, 0.0006303787231445312, 0.0123748779296875, 0.01342010498046875, -0.04437255859375, 0.0220184326171875, -0.05609130859375, -0.02557373046875, -0.0238189697265625, 0.02203369140625, -0.0130615234375, 0.01065826416015625, -0.020751953125, -0.047821044921875, 0.00872802734375, -0.0159454345703125, 0.012603759765625, -0.0174560546875, 0.002178192138671875, -0.04766845703125, -0.039520263671875, 0.000782012939453125, 0.003383636474609375, 0.0311431884765625, 0.007320404052734375, 0.03729248046875, -0.0168304443359375, 0.0384521484375, 0.006687164306640625, -0.0231170654296875, 0.00257110595703125, -0.00261688232421875, 0.01194000244140625, 0.0123443603515625, 0.022796630859375, -0.01519012451171875, -0.006053924560546875, -0.04803466796875, 0.0038318634033203125, -0.0027179718017578125, 0.00213623046875, -0.01134490966796875, -0.035308837890625, -0.05865478515625, 0.01216888427734375, 0.02520751953125, 0.0160675048828125, 0.0118560791015625, -0.0489501953125, 0.02679443359375, -0.0157012939453125, 0.0016298294067382812, 0.02044677734375, -0.0229949951171875, 0.0035419464111328125, -0.037628173828125, -0.0110626220703125, 0.041015625, -0.01218414306640625, 0.04150390625, 0.00861358642578125, 0.02490234375, -0.0335693359375, 0.01552581787109375, 0.00727081298828125, -0.0233917236328125, 0.006816864013671875, -0.0247650146484375, 0.0257568359375, -0.0190582275390625, -0.01552581787109375, 0.055419921875, 0.0231781005859375, 0.00885772705078125, 0.0212860107421875, -0.0238494873046875, 0.0226287841796875, -0.009796142578125, 0.04620361328125, -0.059173583984375, -0.0013189315795898438, 0.002532958984375, -0.01131439208984375, 0.03216552734375, 0.041778564453125, 0.0185089111328125, -0.028167724609375, 0.007965087890625, 0.07012939453125, -0.0196075439453125, -0.0458984375, -0.03558349609375, -0.00909423828125, -0.0123291015625, 0.037628173828125, 0.03790283203125, 0.0304107666015625, 0.003902435302734375, -0.0064239501953125, 0.01273345947265625, 0.06036376953125, 0.01300048828125, -0.0225067138671875, -0.02435302734375, -0.040283203125, 0.018218994140625, -0.0411376953125, -0.059967041015625, -0.00014340877532958984, 0.003971099853515625, -0.07781982421875, -0.00885009765625, 0.00447845458984375, 0.028656005859375, 0.01837158203125, 0.0325927734375, -0.006206512451171875, 0.062255859375, 0.0146331787109375, -0.02325439453125, 0.01003265380859375, 0.0049591064453125, 0.01302337646484375, 0.040557861328125, 0.032867431640625, -0.002193450927734375, -0.007122039794921875, -0.0177764892578125, 0.004909515380859375, 0.009796142578125, 0.022552490234375, 0.03375244140625, 0.0391845703125, 0.03021240234375, 0.0455322265625, -0.0250244140625, -0.03692626953125, -0.0241241455078125, 0.035369873046875, 0.033477783203125, 0.04632568359375, -0.007396697998046875, -0.0213470458984375, -0.00908660888671875, -0.0257568359375, -0.0287322998046875, 0.04937744140625, -0.002956390380859375, -0.01392364501953125, -0.05413818359375, -0.0177001953125, -0.008544921875, 0.025390625, -0.0043487548828125, -0.025146484375, 0.005138397216796875, 0.054351806640625, -0.0162353515625, -0.06353759765625, 0.0117034912109375, -0.043426513671875, -0.040740966796875, -0.055633544921875, -0.020263671875, 0.055877685546875, -0.0144805908203125, -0.06005859375, -0.0167999267578125, 0.038909912109375, -0.0014200210571289062, -0.049774169921875, -0.02239990234375, 0.0167388916015625, -0.0007534027099609375, -0.0228424072265625, -0.06463623046875, -0.0389404296875, -0.00830841064453125, -0.05999755859375, -0.0066986083984375, -0.00799560546875, -0.03277587890625, -0.0024871826171875, -0.01047515869140625, -0.0193328857421875, 0.03338623046875, -0.01328277587890625, 0.01983642578125, -0.006893157958984375, -0.0022449493408203125, 0.049774169921875, 0.052490234375, -0.00785064697265625, -0.0111083984375, -0.01218414306640625, -0.0149993896484375, -0.018951416015625, 0.0018863677978515625, 0.0013885498046875, -0.055877685546875, -0.00937652587890625, 0.0230712890625, -0.0482177734375, 0.00223541259765625, -0.00421905517578125, 0.0176849365234375, -0.025115966796875, 0.0311737060546875, -0.01377105712890625, -0.01654052734375, 0.04693603515625, 0.018890380859375, -0.0235748291015625, 0.006011962890625, -0.04119873046875, 0.045745849609375, 0.010284423828125, 0.01483917236328125, -0.025390625, -0.005580902099609375, 0.0243682861328125, -0.0283203125, -0.0213775634765625, -0.07769775390625, 0.00737762451171875, 0.029998779296875, -0.03399658203125, -0.01363372802734375, -0.00047659873962402344, -0.01446533203125, 0.006916046142578125, -0.04736328125, -0.0283660888671875, -0.0150146484375, 0.018707275390625, -0.043914794921875, -0.00856781005859375, -0.04461669921875, -0.035858154296875, -0.039276123046875, -0.0015850067138671875, 0.03411865234375, 0.02349853515625, -0.040924072265625, 0.015411376953125, -0.0060882568359375, 0.044647216796875, 0.00919342041015625, 0.038665771484375, -0.03448486328125, 0.006744384765625, 0.00653076171875, 0.01898193359375, 0.01465606689453125, -0.01357269287109375, -0.0230712890625, -0.0160369873046875, 0.04119873046875, -0.0213623046875, 0.00904083251953125, 0.02435302734375, -0.03863525390625, -0.025054931640625, -0.03778076171875, -0.0195770263671875, 0.020751953125, -0.035247802734375, 0.0438232421875, 0.0224456787109375, 0.0242156982421875, -0.0933837890625, 0.06243896484375, -0.03643798828125, 0.0311431884765625, 0.00186920166015625, -0.035980224609375, -0.059112548828125, -0.05352783203125, -0.0139617919921875, 0.0048828125, -0.02288818359375, 0.0238037109375, -0.019378662109375, -0.03790283203125, -0.0161285400390625, -0.0250091552734375, 0.01363372802734375, 0.0243682861328125, 0.007297515869140625, 0.0030517578125, 0.07891845703125, -0.006961822509765625, 0.00328826904296875, 0.0188751220703125, 0.007965087890625, 0.0267181396484375, -0.04034423828125, -0.019989013671875, -0.002132415771484375, 0.027618408203125, 0.007358551025390625, -0.032806396484375, 0.007602691650390625, -0.016998291015625, 0.00749969482421875, -0.00698089599609375, 0.0130462646484375, -0.009307861328125, 0.0032196044921875, -0.003971099853515625, -0.0249481201171875, -0.03863525390625, -0.09661865234375, -0.038726806640625, -0.041717529296875, -0.01032257080078125, -0.04571533203125, -0.01361846923828125, 0.040313720703125, -0.038818359375, 0.042236328125, 0.0106658935546875, -0.004840850830078125, -0.04046630859375, -0.0160675048828125, -0.044586181640625, 0.046539306640625, 0.0014810562133789062, -0.049102783203125, 0.047637939453125, -0.0030689239501953125, -0.0162506103515625, 0.0032405853271484375, 0.0423583984375, 0.004993438720703125, 0.036285400390625, -0.0428466796875, -0.021484375, 0.0057220458984375, 0.034210205078125, 0.0187530517578125, -0.00787353515625, 0.0297088623046875, -0.00954437255859375, -0.04937744140625, 0.01617431640625, 0.0230865478515625, -0.054534912109375, -0.007415771484375, 0.0005779266357421875, -0.01371002197265625, 0.03375244140625, -0.01029205322265625, 0.0266265869140625, 0.04168701171875, -0.01038360595703125, 0.03265380859375, -0.01092529296875, -0.0228729248046875, 0.0511474609375, 0.0288543701171875, 0.0450439453125, 0.032989501953125, -0.005054473876953125, -0.01422882080078125, -0.07232666015625, 0.007396697998046875, -0.0206298828125, -0.0758056640625, -0.008514404296875, 0.0704345703125, 0.03448486328125, 0.020965576171875, 0.03515625, 0.05682373046875, 0.052642822265625, 0.0104217529296875, -0.0246124267578125, -0.033203125, -0.00411224365234375, 0.04571533203125, -0.0220947265625, -0.05413818359375, 0.0509033203125, 0.07000732421875, -0.031005859375, -0.01442718505859375, 0.019500732421875, -0.01120758056640625, 0.04302978515625, 0.02203369140625, 0.028656005859375, -0.1011962890625, 0.01049041748046875, 0.044036865234375, 0.00897216796875, 0.0084686279296875, 0.015899658203125, -0.0236663818359375, 0.040313720703125, -0.04168701171875, 0.00217437744140625, -0.008575439453125, 0.07623291015625, -0.0174102783203125, -0.038421630859375, -0.00909423828125, 0.037628173828125, 0.0056304931640625, -0.03912353515625, -0.0006260871887207031, -0.002834320068359375, -0.0262451171875, -0.0203704833984375, 0.040924072265625, 0.013336181640625, 0.0462646484375, 0.0259246826171875, -0.03485107421875, 0.0289306640625, -0.0255584716796875, 0.00505828857421875, -0.0249481201171875, -0.0264739990234375, -0.0094451904296875, -0.0858154296875, 0.0186309814453125, 0.0003528594970703125, 0.0285186767578125, 0.0196685791015625, -0.02691650390625, -0.0289154052734375, -0.004238128662109375, 0.04034423828125, 0.029510498046875, -0.00850677490234375, 0.0271148681640625, -0.0045318603515625, 0.026031494140625, 0.007564544677734375, 0.035430908203125, 0.0040130615234375, -0.00637054443359375, 0.004222869873046875, -0.06121826171875, -0.0052947998046875, 0.001674652099609375, -0.040679931640625, 0.00951385498046875, 0.0013408660888671875, 0.0082855224609375, -0.006404876708984375, -0.03070068359375, -0.0310821533203125, 0.0290679931640625, -0.050445556640625, 0.0253448486328125, 0.0269927978515625, -0.0306549072265625, 0.038848876953125, -0.050750732421875, 0.036285400390625, 0.00836944580078125, 0.045806884765625, -0.0038852691650390625, 0.0129852294921875, 0.03509521484375, -0.00605010986328125, 0.0212554931640625, 0.0046234130859375, 0.0013208389282226562, 0.00490570068359375, 0.02935791015625, -0.0030689239501953125, -0.029266357421875, 0.027618408203125, -0.0023708343505859375, -0.053497314453125, 0.027069091796875, 0.0245208740234375, 0.034271240234375, 0.00771331787109375, 0.005809783935546875, -0.0212249755859375, -0.03271484375, 0.0277862548828125, 0.039276123046875, 0.0014524459838867188, 0.01551055908203125, -0.02935791015625, 0.049652099609375, -0.0026702880859375, 0.0626220703125, -0.033538818359375, 0.021728515625, -0.029876708984375, 0.049560546875, -0.046661376953125, 0.0081634521484375, 0.0199737548828125, 0.051361083984375, 0.0117340087890625, 0.052459716796875, -0.01436614990234375, -0.01486968994140625, -0.07342529296875, -0.0265045166015625, -0.0408935546875, 0.020660400390625, 0.05926513671875, -0.0245361328125, -0.053009033203125, 0.051544189453125, 0.0171661376953125, -0.0003981590270996094, 0.00870513916015625, 0.035064697265625, 0.008697509765625, -0.01256561279296875, 0.00981903076171875, 0.0097198486328125], metadata={'page_number': 75, 'file_name': '../data/almanack_of_naval_ravikant.pdf', 'title': 'The Almanack of Naval Ravikant', 'author': 'Naval Ravikant'}, excluded_embed_metadata_keys=[], excluded_llm_metadata_keys=[], relationships={}, text='radical honesty with an old rule Warren Buffett has, which is praise specifically, criticize generally. I try to follow this. I dont always follow it, but I think I follow it enough to have made a difference in my life. If you have a criticism of someone, then dont criticize the personcriticize the general approach or criticize the class of activities. If you have to praise somebody, then always try and find the person who is the best example of what youre praising and praise the person, specifically. Then peoples egos and identities, which we all have, dont work against you. They work for you. Any advice on developing capacity for instinctual blunt honesty? Tell everyone. Start now. It doesnt have to be blunt. Charisma is the ability to project confidence and love at the same time. Its almost always possible to be honest and positive. As an investor and CEO of AngelList, youre paid to be right when other people are wrong. Do you have a process around how you make decisions? Yes. Decision-making is everything. In fact, someone who makes decisions right 80 percent of the time instead of 70 percent of the time will be valued and compensated in the market hundreds of times more. I think people have a hard time understanding a fundamental fact of leverage. If I manage $1 billion and Im right 10 percent more often than somebody else, my decision-making creates $100 million worth of value on a judgment call. With modern', mimetype='text/plain', start_char_idx=None, end_char_idx=None, text_template='{metadata_str}\\n\\n{content}', metadata_template='{key}: {value}', metadata_seperator='\\n', index_id='0ace74d2-f90e-457b-98f3-a6435e2f1c03', obj=None), score=0.7437634)], metadata={'69415430-15d7-43b3-a57c-d5b24e2bd2d5': {'page_number': 90, 'file_name': '../data/striking-thoughts.pdf', 'title': 'Striking Thoughts', 'author': 'Bruce Lee'}, '0ace74d2-f90e-457b-98f3-a6435e2f1c03': {'page_number': 75, 'file_name': '../data/almanack_of_naval_ravikant.pdf', 'title': 'The Almanack of Naval Ravikant', 'author': 'Naval Ravikant'}})"
      ]
     },
     "execution_count": 33,
     "metadata": {},
     "output_type": "execute_result"
    }
   ],
   "source": [
    "parent_child_query_pipeline.run(input=\"How can I set rules and speak honestly without worrying about hurting someone's feelings?\")"
   ]
  },
  {
   "cell_type": "code",
   "execution_count": null,
   "metadata": {},
   "outputs": [],
   "source": []
  }
 ],
 "metadata": {
  "kernelspec": {
   "display_name": "llama",
   "language": "python",
   "name": "python3"
  },
  "language_info": {
   "codemirror_mode": {
    "name": "ipython",
    "version": 3
   },
   "file_extension": ".py",
   "mimetype": "text/x-python",
   "name": "python",
   "nbconvert_exporter": "python",
   "pygments_lexer": "ipython3",
   "version": "3.13.1"
  }
 },
 "nbformat": 4,
 "nbformat_minor": 2
}
